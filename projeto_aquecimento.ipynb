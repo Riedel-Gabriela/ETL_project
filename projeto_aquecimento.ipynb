{
  "nbformat": 4,
  "nbformat_minor": 0,
  "metadata": {
    "colab": {
      "provenance": [],
      "collapsed_sections": [
        "Sj9hm1RINbsT",
        "bMGbJM9fSOTh",
        "Avwi9fK-iuNA",
        "TTowvHzFkkNk"
      ],
      "toc_visible": true,
      "include_colab_link": true
    },
    "kernelspec": {
      "name": "python3",
      "display_name": "Python 3"
    },
    "language_info": {
      "name": "python"
    }
  },
  "cells": [
    {
      "cell_type": "markdown",
      "metadata": {
        "id": "view-in-github",
        "colab_type": "text"
      },
      "source": [
        "<a href=\"https://colab.research.google.com/github/Riedel-Gabriela/Tratamento_de_Dados/blob/main/projeto_aquecimento.ipynb\" target=\"_parent\"><img src=\"https://colab.research.google.com/assets/colab-badge.svg\" alt=\"Open In Colab\"/></a>"
      ]
    },
    {
      "cell_type": "markdown",
      "source": [
        "## 🔥 PROJETO AQUECIMENTO:\n",
        "\n"
      ],
      "metadata": {
        "id": "WoRVv_ixPe44"
      }
    },
    {
      "cell_type": "markdown",
      "source": [
        "#Comentários"
      ],
      "metadata": {
        "id": "VX337MWh9xg0"
      }
    },
    {
      "cell_type": "markdown",
      "source": [
        "*   Ao final de cada reordenação de códigos, substituímos os pd.NA por np.nan pra poder modificar para dict.\n",
        "*   Este foi um caso visto somente no final e, pra não alterar o codigo todo e correr o risco de deixar passar algum NA despercebido, fizemos a modificação ao final, deixando os códigos com NA e colocando um fillna(np.nan) no fim de cada seção.\n",
        "\n",
        "\n",
        "\n",
        "\n",
        "\n",
        "\n"
      ],
      "metadata": {
        "id": "2zeNdUpSBwkC"
      }
    },
    {
      "cell_type": "markdown",
      "source": [
        "#EXECUÇÃO DO AMBIENTE DE TRABALHO"
      ],
      "metadata": {
        "id": "xaCFPGEgyiG9"
      }
    },
    {
      "cell_type": "code",
      "execution_count": null,
      "metadata": {
        "id": "76MAFZcx1EKC"
      },
      "outputs": [],
      "source": [
        "#Instalando pymongo e pandera\n",
        "!pip install pymongo[srv]\n",
        "!pip install pandera"
      ]
    },
    {
      "cell_type": "code",
      "source": [
        "#Importando as bibliotecas\n",
        "import pymongo\n",
        "import pandas as pd\n",
        "import numpy as np\n",
        "import pandera as pa"
      ],
      "metadata": {
        "id": "7GIdYh2G1Fdt"
      },
      "execution_count": null,
      "outputs": []
    },
    {
      "cell_type": "code",
      "source": [
        "from pymongo import MongoClient\n",
        "from datetime import date, timedelta, datetime"
      ],
      "metadata": {
        "id": "stu9jWjG1Oo1"
      },
      "execution_count": null,
      "outputs": []
    },
    {
      "cell_type": "code",
      "source": [
        "#Conectando com o MongoDB\n",
        "uri = \"mongodb+srv://cluster0.p4kvlxp.mongodb.net/?authSource=%24external&authMechanism=MONGODB-X509&retryWrites=true&w=majority\"\n",
        "client = MongoClient(uri,tls=True,tlsCertificateKeyFile='/content/X509-cert-5675635325549232105.pem')"
      ],
      "metadata": {
        "id": "xzOQBm3y1mf9"
      },
      "execution_count": null,
      "outputs": []
    },
    {
      "cell_type": "markdown",
      "source": [
        "#CRIANDO OS DATAFRAMES: pandas + gcloud\n",
        "\n"
      ],
      "metadata": {
        "id": "zDTdxGb1EODY"
      }
    },
    {
      "cell_type": "code",
      "source": [
        "#Criando o DataFrame com Pandas\n",
        "df = pd.read_csv('https://storage.googleapis.com/bc26-gabriela-bucket/projeto_aquecimento/original_1.csv',sep=';')\n",
        "df2 = pd.read_csv('https://storage.googleapis.com/bc26-gabriela-bucket/projeto_aquecimento/original_2.csv',sep=';')\n",
        "df3 = pd.read_csv('https://storage.googleapis.com/bc26-gabriela-bucket/projeto_aquecimento/original_3.csv',sep=';')"
      ],
      "metadata": {
        "id": "lwg0BYpd1pUA"
      },
      "execution_count": null,
      "outputs": []
    },
    {
      "cell_type": "markdown",
      "source": [
        "#MANDANDO OS ARQUIVOS ORIGINAIS: mongoDB"
      ],
      "metadata": {
        "id": "4r8nWHWcEg1s"
      }
    },
    {
      "cell_type": "code",
      "source": [
        "#Criando as coleções na plataforma mongoDB\n",
        "'''\n",
        "db = client['projeto_aquecimento']\n",
        "colecaooriginal1 = db['original1']\n",
        "colecaooriginal2 = db['original2']\n",
        "colecaooriginal3 = db['original3']'''"
      ],
      "metadata": {
        "id": "lklor342E9cc",
        "colab": {
          "base_uri": "https://localhost:8080/",
          "height": 36
        },
        "outputId": "5a96d4f2-eb17-4d6e-93c1-a87ce839adcc"
      },
      "execution_count": null,
      "outputs": [
        {
          "output_type": "execute_result",
          "data": {
            "text/plain": [
              "\"\\ndb = client['projeto_aquecimento']\\ncolecaooriginal1 = db['original1']\\ncolecaooriginal2 = db['original2']\\ncolecaooriginal3 = db['original3']\""
            ],
            "application/vnd.google.colaboratory.intrinsic+json": {
              "type": "string"
            }
          },
          "metadata": {},
          "execution_count": 6
        }
      ]
    },
    {
      "cell_type": "code",
      "source": [
        "#Mandar os DataBases originais para o mongoDB\n",
        "\n",
        "'''\n",
        "df.reset_index(inplace=True)\n",
        "df_dict = df.to_dict(\"records\")\n",
        "colecaooriginal1.insert_many(df_dict)\n",
        "\n",
        "df2.reset_index(inplace=True)\n",
        "df2_dict = df2.to_dict(\"records\")\n",
        "colecaooriginal2.insert_many(df2_dict)\n",
        "\n",
        "df3.reset_index(inplace=True)\n",
        "df3_dict = df3.to_dict(\"records\")\n",
        "colecaooriginal3.insert_many(df3_dict)'''"
      ],
      "metadata": {
        "colab": {
          "base_uri": "https://localhost:8080/",
          "height": 53
        },
        "id": "RgMZp5S0EYc1",
        "outputId": "fef28683-32bc-46c6-fa1b-5ed303b1d4cd"
      },
      "execution_count": null,
      "outputs": [
        {
          "output_type": "execute_result",
          "data": {
            "text/plain": [
              "'\\ndf.reset_index(inplace=True)\\ndf_dict = df.to_dict(\"records\")\\ncolecaooriginal1.insert_many(df_dict)\\n\\ndf2.reset_index(inplace=True)\\ndf2_dict = df2.to_dict(\"records\")\\ncolecaooriginal2.insert_many(df2_dict)\\n\\ndf3.reset_index(inplace=True)\\ndf3_dict = df3.to_dict(\"records\")\\ncolecaooriginal3.insert_many(df3_dict)'"
            ],
            "application/vnd.google.colaboratory.intrinsic+json": {
              "type": "string"
            }
          },
          "metadata": {},
          "execution_count": 7
        }
      ]
    },
    {
      "cell_type": "markdown",
      "source": [
        "#🐼 Pandas"
      ],
      "metadata": {
        "id": "svf2tNpPDz4Q"
      }
    },
    {
      "cell_type": "markdown",
      "source": [
        "#CODANDO OS DATAFRAMES:"
      ],
      "metadata": {
        "id": "feUCQI6fO8aB"
      }
    },
    {
      "cell_type": "code",
      "source": [
        "#Ampliando a visão das colunas\n",
        "pd.set_option('display.max_columns',100)"
      ],
      "metadata": {
        "id": "VDbj9StSAu5-"
      },
      "execution_count": null,
      "outputs": []
    },
    {
      "cell_type": "markdown",
      "source": [
        "#TRATAMENTO INICIAL: df"
      ],
      "metadata": {
        "id": "jLVJHUcqzAKS"
      }
    },
    {
      "cell_type": "code",
      "source": [
        "#Analisando o DataFrame\n",
        "df"
      ],
      "metadata": {
        "id": "HM_fQOfO1wvq"
      },
      "execution_count": null,
      "outputs": []
    },
    {
      "cell_type": "code",
      "source": [
        "#Renomeando Colunas\n",
        "df.dtypes"
      ],
      "metadata": {
        "id": "USnNxnHFBZZr"
      },
      "execution_count": null,
      "outputs": []
    },
    {
      "cell_type": "code",
      "source": [
        "df.rename(columns={'CBO':'cbo',\n",
        "                    'Agente  Causador  Acidente':'agt_causador',\n",
        "                    'Data Acidente':'dt_acidente',\n",
        "                    'CID-10':'cid',\n",
        "                    'CNAE2.0 Empregador':'cnae_cod',\n",
        "                    'CNAE2.0 Empregador.1':'cnae_desc',\n",
        "                    'Emitente CAT':'cat',\n",
        "                    'Espécie do benefício':'beneficio',\n",
        "                    'Filiação Segurado':'filiacao',\n",
        "                    'Indica Óbito Acidente':'obito',\n",
        "                    'Munic Empr':'municipio',\n",
        "                    'Natureza da Lesão':'lesao',\n",
        "                    'Origem de Cadastramento CAT':'origem_cad',\n",
        "                    'Parte Corpo Atingida':'local_lesao',\n",
        "                    'Sexo':'sexo',\n",
        "                    'Tipo do Acidente':'tipo_acidente',\n",
        "                    'UF  Munic.  Acidente':'uf_acidente',\n",
        "                    'UF Munic. Empregador':'uf_empregador',\n",
        "                    'Data Acidente.1':'mes_afastamento',\n",
        "                    'Data Despacho Benefício':'dt_despacho',\n",
        "                    'Data Acidente.2':'dt_acidente2',\n",
        "                    'Data Nascimento':'dt_nasc',\n",
        "                    'Data Emissão CAT':'dt_emissao_cat',\n",
        "                    'CNPJ/CEI Empregador,,,,,,,,,,,,':'cnpj_cei'\n",
        "                    }, inplace=True)"
      ],
      "metadata": {
        "id": "bpshxYc5BdxW"
      },
      "execution_count": null,
      "outputs": []
    },
    {
      "cell_type": "code",
      "source": [
        "#verificando se ficou tudo ok\n",
        "df.dtypes"
      ],
      "metadata": {
        "id": "HVKJgavvBrYv"
      },
      "execution_count": null,
      "outputs": []
    },
    {
      "cell_type": "code",
      "source": [
        "#Ajustando valores inconsistentes de primeira vista no df\n",
        "df.replace([',','-'],' ',regex=True, inplace=True)"
      ],
      "metadata": {
        "id": "HwuyNQEz_pOy"
      },
      "execution_count": null,
      "outputs": []
    },
    {
      "cell_type": "code",
      "source": [
        "#Substituindo valores inconsistentes de primeira vista no df por <NA>\n",
        "df.replace(['{ñ class}', '{ñ class', '{ñ'],pd.NA,regex=True, inplace=True)"
      ],
      "metadata": {
        "id": "rttG5DDOAPUU"
      },
      "execution_count": null,
      "outputs": []
    },
    {
      "cell_type": "code",
      "source": [
        "#Remoção de espaços em branco no df\n",
        "#Criar uma função que vai remover os espaços em branco no começo e fim dos dados usando dataframe como parâmetro:\n",
        "def remove_espaco(dataframe):\n",
        "   \n",
        "    # olhando os dados das colunas do df\n",
        "    for i in dataframe.columns:\n",
        "         \n",
        "        # checando os dados das colunas\n",
        "        if dataframe[i].dtype == 'object':\n",
        "             \n",
        "            # aplicando função strip nas colunas\n",
        "            dataframe[i] = dataframe[i].str.strip()\n",
        "        else:\n",
        "             \n",
        "            # se não for do tipo object, passar a diante\n",
        "            pass\n",
        " \n",
        "# aplicando a função removedora de espaços em branco\n",
        "remove_espaco(df)"
      ],
      "metadata": {
        "id": "wPplVSjRB1Jt"
      },
      "execution_count": null,
      "outputs": []
    },
    {
      "cell_type": "code",
      "source": [
        "#Verificando se ficou tudo ok\n",
        "df.head()"
      ],
      "metadata": {
        "id": "sXrgNiAFCimJ"
      },
      "execution_count": null,
      "outputs": []
    },
    {
      "cell_type": "markdown",
      "source": [
        "#TRATAMENTO DE COLUNAS: df"
      ],
      "metadata": {
        "id": "4zANT6NG5Q2M"
      }
    },
    {
      "cell_type": "markdown",
      "source": [
        "##df: Coluna agt_causador"
      ],
      "metadata": {
        "id": "cGFVfvfQ53ik"
      }
    },
    {
      "cell_type": "code",
      "source": [
        "df['agt_causador'].value_counts()"
      ],
      "metadata": {
        "id": "-B_X88IWC7QN"
      },
      "execution_count": null,
      "outputs": []
    },
    {
      "cell_type": "markdown",
      "source": [
        "##df: Coluna dt_acidente"
      ],
      "metadata": {
        "id": "-W9sNbXF93Fz"
      }
    },
    {
      "cell_type": "code",
      "source": [
        "df['dt_acidente'].value_counts()"
      ],
      "metadata": {
        "id": "LX7WZ39J9ZN9"
      },
      "execution_count": null,
      "outputs": []
    },
    {
      "cell_type": "markdown",
      "source": [
        "##df: Coluna cbo"
      ],
      "metadata": {
        "id": "HH_IRZy4-C8K"
      }
    },
    {
      "cell_type": "code",
      "source": [
        "df['cbo'].value_counts()"
      ],
      "metadata": {
        "id": "sm3wQ8lC-An-"
      },
      "execution_count": null,
      "outputs": []
    },
    {
      "cell_type": "code",
      "source": [
        "#separando o código do texto da coluna cbo (Código Brasileiro de Ocupação)\n",
        "df['cbo_cod'] = df['cbo'].str.slice(0, 7)"
      ],
      "metadata": {
        "id": "WsGqKP3lKlDa"
      },
      "execution_count": null,
      "outputs": []
    },
    {
      "cell_type": "code",
      "source": [
        "#Renomeando a coluna cbo para cbo_desc ('cbo descrição')\n",
        "df.rename(columns={'cbo':'cbo_desc'}, inplace=True)"
      ],
      "metadata": {
        "id": "GbGL-nBiLTpW"
      },
      "execution_count": null,
      "outputs": []
    },
    {
      "cell_type": "code",
      "source": [
        "#removendo os números da coluna cbo_desc\n",
        "df['cbo_desc'] = df['cbo_desc'].str.replace(r'\\d+','', regex=True)"
      ],
      "metadata": {
        "id": "fXtjBSIULErW"
      },
      "execution_count": null,
      "outputs": []
    },
    {
      "cell_type": "markdown",
      "source": [
        "##df: Coluna cbo_cod"
      ],
      "metadata": {
        "id": "Azss1rqrL1kr"
      }
    },
    {
      "cell_type": "code",
      "source": [
        "df['cbo_cod'].value_counts()"
      ],
      "metadata": {
        "id": "1Rb3c83nL7zU",
        "colab": {
          "base_uri": "https://localhost:8080/"
        },
        "outputId": "0e39e630-99b6-4163-e2d2-bba4230e7aaa"
      },
      "execution_count": null,
      "outputs": [
        {
          "output_type": "execute_result",
          "data": {
            "text/plain": [
              "000000     50940\n",
              "322205      7125\n",
              "784205      6490\n",
              "782510      2513\n",
              "717020      2266\n",
              "           ...  \n",
              "623120         1\n",
              "123110         1\n",
              "328105         1\n",
              "623410         1\n",
              "213150         1\n",
              "Name: cbo_cod, Length: 1522, dtype: int64"
            ]
          },
          "metadata": {},
          "execution_count": 23
        }
      ]
    },
    {
      "cell_type": "code",
      "source": [
        "#Valores '0000000' foram considerados inconsistencias, mudamos pra NA\n",
        "df['cbo_cod'].replace(['000000'], pd.NA, regex=True, inplace=True)"
      ],
      "metadata": {
        "id": "Ge5npUJ7MwQz"
      },
      "execution_count": null,
      "outputs": []
    },
    {
      "cell_type": "markdown",
      "source": [
        "##df: Coluna cbo_desc"
      ],
      "metadata": {
        "id": "WcS8_JiAL6EY"
      }
    },
    {
      "cell_type": "code",
      "source": [
        "df['cbo_desc'].value_counts()"
      ],
      "metadata": {
        "id": "d7JbTnJbMhpg",
        "colab": {
          "base_uri": "https://localhost:8080/"
        },
        "outputId": "8dfbcbd6-900c-4802-8419-d1917320a473"
      },
      "execution_count": null,
      "outputs": [
        {
          "output_type": "execute_result",
          "data": {
            "text/plain": [
              " Não Informado                             50940\n",
              " Tec. de Enfermagem                         7125\n",
              " Alimentador de Linha de Prod.              6490\n",
              " Motorista de Caminhão (Rotas Regionais     2513\n",
              " Servente de Obras                          2266\n",
              "                                           ...  \n",
              " Protético Dentário                            1\n",
              " Misturador de Chá ou Mate                     1\n",
              " Comentarista de Rádio e Televisão             1\n",
              " Decorador de Vidro                            1\n",
              " Físico (Medicina)                             1\n",
              "Name: cbo_desc, Length: 1521, dtype: int64"
            ]
          },
          "metadata": {},
          "execution_count": 25
        }
      ]
    },
    {
      "cell_type": "code",
      "source": [
        "#Valores 'Não informado' foram considerados inconsistencias, mudamos para NA\n",
        "df['cbo_desc'].replace(['Não Informado'], pd.NA, regex=True, inplace=True)"
      ],
      "metadata": {
        "id": "Q3VJfy2hNdOJ"
      },
      "execution_count": null,
      "outputs": []
    },
    {
      "cell_type": "markdown",
      "source": [
        "##df: Coluna cid"
      ],
      "metadata": {
        "id": "G6SdUPhU-OR8"
      }
    },
    {
      "cell_type": "code",
      "source": [
        "df['cid'].value_counts()"
      ],
      "metadata": {
        "id": "1QI53xq9-NCK",
        "colab": {
          "base_uri": "https://localhost:8080/"
        },
        "outputId": "e19ab441-1c10-4d6e-9388-0ed248f8db08"
      },
      "execution_count": null,
      "outputs": [
        {
          "output_type": "execute_result",
          "data": {
            "text/plain": [
              "S62.6 Frat de Outr Dedos                         6376\n",
              "S61.0 Ferim de Dedos s/Lesao da Unha             5502\n",
              "S61.1 Ferim de Dedos c/Lesao da Unha             4620\n",
              "S93.4 Entorse e Distensao do Tornozelo           4059\n",
              "S52.5 Frat da Extremidade Distal do Radio        2866\n",
              "                                                 ... \n",
              "W00.7 Fazenda                                       1\n",
              "T82.0 Complic Mecanica Protese Valvular Cardi       1\n",
              "V46.6 Passageiro Acid Trans                         1\n",
              "V24.1 Passageiro Acid N Trans                       1\n",
              "B50   Malaria p/Plasmodium Falciparum               1\n",
              "Name: cid, Length: 2931, dtype: int64"
            ]
          },
          "metadata": {},
          "execution_count": 27
        }
      ]
    },
    {
      "cell_type": "code",
      "source": [
        "#Separando os valores numéricos dos valores escritos da coluna cid\n",
        "df['cod_cid'] = df['cid'].str.slice(0,6)"
      ],
      "metadata": {
        "id": "c9M4NW0jRMgZ"
      },
      "execution_count": null,
      "outputs": []
    },
    {
      "cell_type": "code",
      "source": [
        "#removendo os números da coluna cid\n",
        "df['cid'] = df['cid'].str.replace(r'\\d+','', regex=True)"
      ],
      "metadata": {
        "id": "CICLy4bIR8GX"
      },
      "execution_count": null,
      "outputs": []
    },
    {
      "cell_type": "code",
      "source": [
        "#Renomenaod as colunas para melhor entendimento (cid_desc = cid descrição e cid_cod = cid código)\n",
        "df.rename(columns={'cid':'cid_desc', 'cod_cid':'cid_cod'}, inplace=True)"
      ],
      "metadata": {
        "id": "npzkYb7_SBal"
      },
      "execution_count": null,
      "outputs": []
    },
    {
      "cell_type": "markdown",
      "source": [
        "##df: Coluna cid_cod"
      ],
      "metadata": {
        "id": "DN5Vh2mrSeKh"
      }
    },
    {
      "cell_type": "code",
      "source": [
        "df['cid_cod'].value_counts()"
      ],
      "metadata": {
        "id": "dmGBjB00ShUd",
        "colab": {
          "base_uri": "https://localhost:8080/"
        },
        "outputId": "7e9c7c09-600b-4434-dad2-61de754ecc99"
      },
      "execution_count": null,
      "outputs": [
        {
          "output_type": "execute_result",
          "data": {
            "text/plain": [
              "S62.6     6376\n",
              "S61.0     5502\n",
              "S61.1     4620\n",
              "S93.4     4059\n",
              "S52.5     2866\n",
              "          ... \n",
              "W00.7        1\n",
              "T82.0        1\n",
              "V46.6        1\n",
              "V24.1        1\n",
              "B50          1\n",
              "Name: cid_cod, Length: 2931, dtype: int64"
            ]
          },
          "metadata": {},
          "execution_count": 31
        }
      ]
    },
    {
      "cell_type": "code",
      "source": [
        "#Retirando espaços em branco\n",
        "df['cid_cod'] = df['cid_cod'].str.strip()"
      ],
      "metadata": {
        "id": "pnfVko8yXxCh"
      },
      "execution_count": null,
      "outputs": []
    },
    {
      "cell_type": "markdown",
      "source": [
        "##df: Coluna cid_desc"
      ],
      "metadata": {
        "id": "OgQEpOLlUPoz"
      }
    },
    {
      "cell_type": "code",
      "source": [
        "df['cid_desc'].value_counts()"
      ],
      "metadata": {
        "id": "_0kxPTVdSuLG",
        "colab": {
          "base_uri": "https://localhost:8080/"
        },
        "outputId": "5caa26de-1d94-432d-bb06-0a127bb1f514"
      },
      "execution_count": null,
      "outputs": [
        {
          "output_type": "execute_result",
          "data": {
            "text/plain": [
              "S. Frat de Outr Dedos                         6376\n",
              "S. Ferim de Dedos s/Lesao da Unha             5502\n",
              "S. Ferim de Dedos c/Lesao da Unha             4620\n",
              "S. Entorse e Distensao do Tornozelo           4059\n",
              "S. Frat da Extremidade Distal do Radio        2866\n",
              "                                              ... \n",
              "T. Amput Traum Mult Ne                           1\n",
              "O. Infecc do Saco Amniotico e das Membrana       1\n",
              "H. Corpo Estranho Ret Intra Ocular Nat Nao       1\n",
              "N. Glomerulonefrite Prolifer Endocapilar D       1\n",
              "B   Malaria p/Plasmodium Falciparum              1\n",
              "Name: cid_desc, Length: 2354, dtype: int64"
            ]
          },
          "metadata": {},
          "execution_count": 33
        }
      ]
    },
    {
      "cell_type": "code",
      "source": [
        "#Removendo os valores não numéricos do código CID\n",
        "df['cid_desc'] = df['cid_desc'].str.replace(r'^..','', regex=True)"
      ],
      "metadata": {
        "id": "iN6PEn-dUadb"
      },
      "execution_count": null,
      "outputs": []
    },
    {
      "cell_type": "code",
      "source": [
        "#Verificando se deu certo o código com regex\n",
        "df['cid_desc'].value_counts()"
      ],
      "metadata": {
        "id": "9DK3LXmhVh-1",
        "colab": {
          "base_uri": "https://localhost:8080/"
        },
        "outputId": "24ef18c8-c744-4f48-8bda-943947e9bd5a"
      },
      "execution_count": null,
      "outputs": [
        {
          "output_type": "execute_result",
          "data": {
            "text/plain": [
              " Frat de Outr Dedos                     6376\n",
              " Ferim de Dedos s/Lesao da Unha         5502\n",
              " Ferim de Dedos c/Lesao da Unha         4620\n",
              " Entorse e Distensao do Tornozelo       4059\n",
              " Frat da Extremidade Distal do Radio    2866\n",
              "                                        ... \n",
              " Amput Traum do Tronco Nivel Ne            1\n",
              " Outr Inseticidas                          1\n",
              " Anomalias Geneticas dos Leucocitos        1\n",
              " Vacina Bcg                                1\n",
              "  Malaria p/Plasmodium Falciparum          1\n",
              "Name: cid_desc, Length: 2331, dtype: int64"
            ]
          },
          "metadata": {},
          "execution_count": 35
        }
      ]
    },
    {
      "cell_type": "code",
      "source": [
        "#Retirando os espaços que sobraram\n",
        "df['cid_desc'] = df['cid_desc'].str.strip()"
      ],
      "metadata": {
        "id": "U_blGpQaWRYp"
      },
      "execution_count": null,
      "outputs": []
    },
    {
      "cell_type": "code",
      "source": [
        "#Verificando os parametros da coluna cid_desc, tudo ok\n",
        "df['cid_desc'].value_counts()"
      ],
      "metadata": {
        "id": "4FbfgD4RWfu-",
        "colab": {
          "base_uri": "https://localhost:8080/"
        },
        "outputId": "f5c60717-1df3-47ea-da70-5cb66c20852a"
      },
      "execution_count": null,
      "outputs": [
        {
          "output_type": "execute_result",
          "data": {
            "text/plain": [
              "Frat de Outr Dedos                     6376\n",
              "Ferim de Dedos s/Lesao da Unha         5502\n",
              "Ferim de Dedos c/Lesao da Unha         4620\n",
              "Entorse e Distensao do Tornozelo       4059\n",
              "Frat da Extremidade Distal do Radio    2866\n",
              "                                       ... \n",
              "Transt da Acomodacao                      1\n",
              "Amput Traum do Tronco Nivel Ne            1\n",
              "Outr Inseticidas                          1\n",
              "Anomalias Geneticas dos Leucocitos        1\n",
              "Malaria p/Plasmodium Falciparum           1\n",
              "Name: cid_desc, Length: 2330, dtype: int64"
            ]
          },
          "metadata": {},
          "execution_count": 37
        }
      ]
    },
    {
      "cell_type": "markdown",
      "source": [
        "##df: Coluna cnae_cod"
      ],
      "metadata": {
        "id": "M6ApCvqt-chj"
      }
    },
    {
      "cell_type": "code",
      "source": [
        "df['cnae_cod'].value_counts()"
      ],
      "metadata": {
        "id": "rLj48yjb-qub",
        "colab": {
          "base_uri": "https://localhost:8080/"
        },
        "outputId": "6e503e3d-3886-4111-ef27-9ba137b0b245"
      },
      "execution_count": null,
      "outputs": [
        {
          "output_type": "execute_result",
          "data": {
            "text/plain": [
              "0       53399\n",
              "8610    11050\n",
              "4711     3746\n",
              "4930     2798\n",
              "8411     2767\n",
              "        ...  \n",
              "7416        1\n",
              "3199        1\n",
              "2652        1\n",
              "6130        1\n",
              "6023        1\n",
              "Name: cnae_cod, Length: 809, dtype: int64"
            ]
          },
          "metadata": {},
          "execution_count": 38
        }
      ]
    },
    {
      "cell_type": "code",
      "source": [
        "#O valor '0' foi considerado inconsistencia, substituímos por NA.\n",
        "df['cnae_cod'].replace([0],pd.NA,regex=True, inplace=True)"
      ],
      "metadata": {
        "id": "mYJIN2WlKNbl"
      },
      "execution_count": null,
      "outputs": []
    },
    {
      "cell_type": "markdown",
      "source": [
        "##df: Coluna cnae_desc"
      ],
      "metadata": {
        "id": "-kYJK_Z3-0Bw"
      }
    },
    {
      "cell_type": "code",
      "source": [
        "df['cnae_desc'].value_counts()"
      ],
      "metadata": {
        "id": "5K0fgXuJBcUd",
        "colab": {
          "base_uri": "https://localhost:8080/"
        },
        "outputId": "e37bc8c0-ee7a-4151-f6df-6d197aea23aa"
      },
      "execution_count": null,
      "outputs": [
        {
          "output_type": "execute_result",
          "data": {
            "text/plain": [
              "Atividades de Atendimento Hospitalar            11050\n",
              "Comercio Varejista de Mercadorias em Geral c     4128\n",
              "Transporte Rodoviario de Carga                   2798\n",
              "Administracao Publica em Geral                   2767\n",
              "Abate de Suinos Aves e Outros Pequenos Anima     2265\n",
              "                                                ...  \n",
              "Holdings de Instituicoes Financeiras                1\n",
              "Transporte Aereo de Carga                           1\n",
              "Atividades Auxiliares dos Seguros da Previde        1\n",
              "Extracao de Minerio de Estanho                      1\n",
              "Comercio Varejista de Discos Cds Dvds e Fit         1\n",
              "Name: cnae_desc, Length: 606, dtype: int64"
            ]
          },
          "metadata": {},
          "execution_count": 40
        }
      ]
    },
    {
      "cell_type": "markdown",
      "source": [
        "##df: Coluna cat"
      ],
      "metadata": {
        "id": "myJ4m9AD-6xM"
      }
    },
    {
      "cell_type": "code",
      "source": [
        "df['cat'].value_counts()"
      ],
      "metadata": {
        "id": "Cu3CVXXtBieY",
        "colab": {
          "base_uri": "https://localhost:8080/"
        },
        "outputId": "1ae2d1bd-6bac-47da-963b-79b1ac75f9c3"
      },
      "execution_count": null,
      "outputs": [
        {
          "output_type": "execute_result",
          "data": {
            "text/plain": [
              "Empregador             98075\n",
              "Segurado/Dependente     1384\n",
              "Sindicato                676\n",
              "Médico                   252\n",
              "Autoridade Pública       133\n",
              "Name: cat, dtype: int64"
            ]
          },
          "metadata": {},
          "execution_count": 41
        }
      ]
    },
    {
      "cell_type": "markdown",
      "source": [
        "##df: Coluna beneficio"
      ],
      "metadata": {
        "id": "7EXhvm28-9W6"
      }
    },
    {
      "cell_type": "code",
      "source": [
        "df['beneficio'].value_counts()"
      ],
      "metadata": {
        "id": "DCHUwSNlBlmU",
        "colab": {
          "base_uri": "https://localhost:8080/"
        },
        "outputId": "ce5b5c25-c7fd-4de8-eefe-4de38872c87e"
      },
      "execution_count": null,
      "outputs": [
        {
          "output_type": "execute_result",
          "data": {
            "text/plain": [
              "Pa                                         101201\n",
              "Auxílio Doenca por Acidente do Trabalho     50845\n",
              "Auxílio Acidente                               62\n",
              "Aposent. Invalidez Acidente Trabalho           31\n",
              "Pensão por Morte Acidente do Trabalho           1\n",
              "Name: beneficio, dtype: int64"
            ]
          },
          "metadata": {},
          "execution_count": 42
        }
      ]
    },
    {
      "cell_type": "markdown",
      "source": [
        "##df: Coluna filiacao"
      ],
      "metadata": {
        "id": "DA84c4UJ-_eU"
      }
    },
    {
      "cell_type": "code",
      "source": [
        "df['filiacao'].value_counts()"
      ],
      "metadata": {
        "id": "cEuR0dCcBpGG",
        "colab": {
          "base_uri": "https://localhost:8080/"
        },
        "outputId": "9444d8fd-f2fc-48e2-cc08-edc5b07f5b82"
      },
      "execution_count": null,
      "outputs": [
        {
          "output_type": "execute_result",
          "data": {
            "text/plain": [
              "Empregado             100374\n",
              "Trabalhador Avulso       227\n",
              "Segurado Especial         41\n",
              "Name: filiacao, dtype: int64"
            ]
          },
          "metadata": {},
          "execution_count": 43
        }
      ]
    },
    {
      "cell_type": "markdown",
      "source": [
        "##df: Coluna obito"
      ],
      "metadata": {
        "id": "Gx9X0vgk_E1O"
      }
    },
    {
      "cell_type": "code",
      "source": [
        "df['obito'].value_counts()"
      ],
      "metadata": {
        "id": "AUeY1YliBsyc",
        "colab": {
          "base_uri": "https://localhost:8080/"
        },
        "outputId": "0c3edc6a-da52-447c-85cc-964fea034cd4"
      },
      "execution_count": null,
      "outputs": [
        {
          "output_type": "execute_result",
          "data": {
            "text/plain": [
              "Não    100708\n",
              "Sim       501\n",
              "Name: obito, dtype: int64"
            ]
          },
          "metadata": {},
          "execution_count": 44
        }
      ]
    },
    {
      "cell_type": "markdown",
      "source": [
        "##df: Coluna municipio"
      ],
      "metadata": {
        "id": "NudvBSdo_G3A"
      }
    },
    {
      "cell_type": "code",
      "source": [
        "df['municipio'].value_counts()"
      ],
      "metadata": {
        "id": "o8RjIC_-Bvw5",
        "colab": {
          "base_uri": "https://localhost:8080/"
        },
        "outputId": "60c78231-dffa-4946-d691-27ec691e8160"
      },
      "execution_count": null,
      "outputs": [
        {
          "output_type": "execute_result",
          "data": {
            "text/plain": [
              "000000 Ignorado                 55896\n",
              "355030 São Paulo                 9051\n",
              "330455 Rio de Janeiro            3051\n",
              "310620 Belo Horizonte            2013\n",
              "410690 Curitiba                  1745\n",
              "                                ...  \n",
              "421560 Santa Rosa de Lima Sc        1\n",
              "230150 Arneiroz                     1\n",
              "420213 Bela Vista do Toldo          1\n",
              "220937 Santa Rosa do Piauí          1\n",
              "431053 Itaara                       1\n",
              "Name: municipio, Length: 2888, dtype: int64"
            ]
          },
          "metadata": {},
          "execution_count": 45
        }
      ]
    },
    {
      "cell_type": "code",
      "source": [
        "#Separando o código do município do nome para melhor avaliação dos dados e criando uma nova coluna cod_uf para os códigos\n",
        "df['cod_uf'] = df['municipio'].str.slice(0, 6)"
      ],
      "metadata": {
        "id": "ejBsjMK25ELj"
      },
      "execution_count": null,
      "outputs": []
    },
    {
      "cell_type": "code",
      "source": [
        "#Apagando o código dos municípios na coluna municipio\n",
        "df['municipio'] = df['municipio'].str.replace(r'\\d+','', regex=True)"
      ],
      "metadata": {
        "id": "DsCU_HVd8XlN"
      },
      "execution_count": null,
      "outputs": []
    },
    {
      "cell_type": "code",
      "source": [
        "#valor \"Ignorado\" é uma inconsistencia, será substituído por NA.\n",
        "df['municipio'].replace(['Ignorado'],pd.NA,regex=True, inplace=True)"
      ],
      "metadata": {
        "id": "Eu60H7LyJbiL"
      },
      "execution_count": null,
      "outputs": []
    },
    {
      "cell_type": "markdown",
      "source": [
        "##df: Coluna lesao"
      ],
      "metadata": {
        "id": "Hcw7zTFy_KMo"
      }
    },
    {
      "cell_type": "code",
      "source": [
        "df['lesao'].value_counts()"
      ],
      "metadata": {
        "id": "OedmobCzB3QV",
        "colab": {
          "base_uri": "https://localhost:8080/"
        },
        "outputId": "0bbe4b0f-8f02-4045-a047-a667622c1cd2"
      },
      "execution_count": null,
      "outputs": [
        {
          "output_type": "execute_result",
          "data": {
            "text/plain": [
              "Fratura                                        18798\n",
              "Corte Laceracao Ferida Contusa Punctura        17682\n",
              "Lesao Imediata                                 10866\n",
              "Contusao Esmagamento (Superficie Cutanea I     10231\n",
              "Escoriacao Abrasao (Ferimento Superficial)      9005\n",
              "Distensao Torcao                                7321\n",
              "Luxacao                                         5876\n",
              "Outras Lesoes Nic                               5659\n",
              "Doenca Contagiosa ou Infecciosa (Tuberculos     3160\n",
              "Lesao Imediata Nic                              2720\n",
              "Queimadura ou Escaldadura   Efeito de Tempe     2470\n",
              "Lesoes Multiplas                                1811\n",
              "Doenca Nic                                      1792\n",
              "Inflamacao de Articulacao Tendao ou Muscul       843\n",
              "Amputacao ou Enucleacao                          781\n",
              "Queimadura Quimica (Lesao de Tecido Provoca      666\n",
              "Concussao Cerebral                               340\n",
              "Choque Eletrico e Eletroplessao (Eletrocuss      284\n",
              "Perda ou Diminuicao de Sentido (Audicao Vi       262\n",
              "Envenenamento Sistemico   Condicao Morbida       182\n",
              "Perda ou Diminuicao Mediatas de Sentido (Au      130\n",
              "Dermatose (Erupcao Inflamacao da Pele Inc        113\n",
              "Hernia de Qualquer Natureza Ruptura               99\n",
              "Asfixia Estrangulamento Afogamento                45\n",
              "Efeito de Radiacao (Imediato)   Queimadura        28\n",
              "Intermacao Insolacao Caibra Exaustao e O          13\n",
              "Pneumoconiose (Silicose Asbestose Etc.)           12\n",
              "Congelamento Geladura e Outros Efeitos Da         11\n",
              "Efeito de Radiacao (Mediato)   Queimadura D        9\n",
              "Name: lesao, dtype: int64"
            ]
          },
          "metadata": {},
          "execution_count": 49
        }
      ]
    },
    {
      "cell_type": "markdown",
      "source": [
        "##df: Coluna origem_cad"
      ],
      "metadata": {
        "id": "Hi8LhoCW_WN5"
      }
    },
    {
      "cell_type": "code",
      "source": [
        "df['origem_cad'].value_counts()"
      ],
      "metadata": {
        "id": "pN44pQhiB7eP",
        "colab": {
          "base_uri": "https://localhost:8080/"
        },
        "outputId": "1b523aad-08c5-4fa5-a5c2-eaf941d838f0"
      },
      "execution_count": null,
      "outputs": [
        {
          "output_type": "execute_result",
          "data": {
            "text/plain": [
              "Internet    101209\n",
              "Name: origem_cad, dtype: int64"
            ]
          },
          "metadata": {},
          "execution_count": 50
        }
      ]
    },
    {
      "cell_type": "code",
      "source": [
        "#Coluna com valor constante. Optamos por drop\n",
        "df.drop(['origem_cad'], axis=1, inplace=True)"
      ],
      "metadata": {
        "id": "f5DZ-GUCItvX"
      },
      "execution_count": null,
      "outputs": []
    },
    {
      "cell_type": "markdown",
      "source": [
        "##df: Coluna local_lesao"
      ],
      "metadata": {
        "id": "cdkecSgO_Zti"
      }
    },
    {
      "cell_type": "code",
      "source": [
        "df['local_lesao'].value_counts()"
      ],
      "metadata": {
        "id": "3PG26D5oB-4g",
        "colab": {
          "base_uri": "https://localhost:8080/"
        },
        "outputId": "d0e7da9c-c537-4acb-9795-ce397375c72c"
      },
      "execution_count": null,
      "outputs": [
        {
          "output_type": "execute_result",
          "data": {
            "text/plain": [
              "Dedo                                             23346\n",
              "Pe (Exceto Artelhos)                              8341\n",
              "Mao (Exceto Punho ou Dedos)                       7154\n",
              "Joelho                                            5076\n",
              "Partes Multiplas   Aplica Se Quando Mais de U     4422\n",
              "Perna (Entre O Tornozelo e a Pelvis)              4150\n",
              "Braco (Entre O Punho a O Ombro)                   4020\n",
              "Articulacao do Tornozelo                          3638\n",
              "Perna (Do Tornozelo Exclusive ao Joelho Ex        3343\n",
              "Olho (Inclusive Nervo Otico e Visao)              3148\n",
              "Aparelho Respiratorio                             3016\n",
              "Ombro                                             2981\n",
              "Punho                                             2657\n",
              "Cabeca Nic                                        2422\n",
              "Antebraco (Entre O Punho e O Cotovelo)            2206\n",
              "Dorso (Inclusive Musculos Dorsais Coluna e M      2185\n",
              "Membros Superiores Partes Multiplas (Qualque      2069\n",
              "Face Partes Multiplas (Qualquer Combinacao D      1534\n",
              "Cabeca Partes Multiplas (Qualquer Combinacao      1422\n",
              "Torax (Inclusive Orgaos Internos)                 1132\n",
              "Quadris (Inclusive Pelvis Orgaos Pelvicos E       1067\n",
              "Membros Inferiores Partes Multiplas (Qualque      1056\n",
              "Membros Inferiores Nic                            1041\n",
              "Membros Superiores Nic                             984\n",
              "Tronco Parte Multiplas (Qualquer Combinacao        975\n",
              "Braco (Acima do Cotovelo)                          973\n",
              "Cotovelo                                           949\n",
              "Sistema Nervoso                                    670\n",
              "Coxa                                               650\n",
              "Tronco Nic                                         617\n",
              "Artelho                                            531\n",
              "Cranio (Inclusive Encefalo)                        456\n",
              "Boca (Inclusive Labios Dentes Lingua Garga         433\n",
              "Nariz (Inclusive Fossas Nasais Seios da Face       398\n",
              "Abdome (Inclusive Orgaos Internos)                 377\n",
              "Pescoco                                            376\n",
              "Sistemas e Aparelhos Nic                           342\n",
              "Localizacao da Lesao Nic                           322\n",
              "Ouvido (Externo Medio Interno Audicao e Eq         191\n",
              "Mandibula (Inclusive Queixo)                       178\n",
              "Sistemas e Aparelhos   Aplica Se Quando O Fun      158\n",
              "Sistema Musculo Esqueletico                         89\n",
              "Aparelho Circulatorio                               47\n",
              "Aparelho Genito Urinario                            43\n",
              "Aparelho Digestivo                                  24\n",
              "Name: local_lesao, dtype: int64"
            ]
          },
          "metadata": {},
          "execution_count": 52
        }
      ]
    },
    {
      "cell_type": "markdown",
      "source": [
        "##df: Coluna sexo"
      ],
      "metadata": {
        "id": "aPunuZHcAwLi"
      }
    },
    {
      "cell_type": "code",
      "source": [
        "df['sexo'].value_counts()"
      ],
      "metadata": {
        "id": "9j9QUw-xCCx2",
        "colab": {
          "base_uri": "https://localhost:8080/"
        },
        "outputId": "f5984a6d-4be7-4fb9-85c5-38ee610338ca"
      },
      "execution_count": null,
      "outputs": [
        {
          "output_type": "execute_result",
          "data": {
            "text/plain": [
              "Masculino        100405\n",
              "Feminino          51281\n",
              "Não Informado       452\n",
              "Indeterminado         2\n",
              "Name: sexo, dtype: int64"
            ]
          },
          "metadata": {},
          "execution_count": 53
        }
      ]
    },
    {
      "cell_type": "code",
      "source": [
        "#Valores não informados consideramos como inconsistencias e mudamos por NA\n",
        "#Valores indeterminados permanecem indeterminados\n",
        "df['sexo'].replace(['Não Informado'], pd.NA, regex=True, inplace=True)"
      ],
      "metadata": {
        "id": "btgYjXaPXmCI"
      },
      "execution_count": null,
      "outputs": []
    },
    {
      "cell_type": "markdown",
      "source": [
        "##df: Coluna tipo_acidente"
      ],
      "metadata": {
        "id": "UmB6-VZ4Azu3"
      }
    },
    {
      "cell_type": "code",
      "source": [
        "df['tipo_acidente'].value_counts()"
      ],
      "metadata": {
        "id": "ADgSfjOrCGDX",
        "colab": {
          "base_uri": "https://localhost:8080/"
        },
        "outputId": "c08d9e98-83b0-4cf1-f3c6-76643ce39de9"
      },
      "execution_count": null,
      "outputs": [
        {
          "output_type": "execute_result",
          "data": {
            "text/plain": [
              "Típico      74369\n",
              "Ignorado    50768\n",
              "Trajeto     22508\n",
              "Doença       4495\n",
              "Name: tipo_acidente, dtype: int64"
            ]
          },
          "metadata": {},
          "execution_count": 55
        }
      ]
    },
    {
      "cell_type": "markdown",
      "source": [
        "##df: Coluna uf_acidente"
      ],
      "metadata": {
        "id": "If7E9kkRA23m"
      }
    },
    {
      "cell_type": "code",
      "source": [
        "df['uf_acidente'].value_counts()"
      ],
      "metadata": {
        "id": "tJQWQEdDCJWg",
        "colab": {
          "base_uri": "https://localhost:8080/"
        },
        "outputId": "c329fa34-7edf-41ba-d935-6a2cf2957995"
      },
      "execution_count": null,
      "outputs": [
        {
          "output_type": "execute_result",
          "data": {
            "text/plain": [
              "Maranhão            51419\n",
              "Rondônia            16866\n",
              "Roraima             10102\n",
              "Tocantins            9847\n",
              "Zerado               4966\n",
              "Pará                 3365\n",
              "Acre                 2054\n",
              "Ceará                1925\n",
              "Amazonas             1115\n",
              "Pernambuco            609\n",
              "Amapá                 508\n",
              "Sergipe               457\n",
              "Piauí                 346\n",
              "Alagoas               259\n",
              "Rio Grande Norte      233\n",
              "Paraíba               178\n",
              "Name: uf_acidente, dtype: int64"
            ]
          },
          "metadata": {},
          "execution_count": 56
        }
      ]
    },
    {
      "cell_type": "code",
      "source": [
        "#Entendemos Zerado como uma inconsistencia, mudamos pra NA\n",
        "df['uf_acidente'].replace(['Zerado'], pd.NA, regex=True, inplace=True)"
      ],
      "metadata": {
        "id": "jgJcdh8zdQdu"
      },
      "execution_count": null,
      "outputs": []
    },
    {
      "cell_type": "markdown",
      "source": [
        "##df: Coluna uf_empregador"
      ],
      "metadata": {
        "id": "uJR7zFrWA47_"
      }
    },
    {
      "cell_type": "code",
      "source": [
        "df['uf_empregador'].value_counts()"
      ],
      "metadata": {
        "id": "3EmwJXzKCMYl",
        "colab": {
          "base_uri": "https://localhost:8080/"
        },
        "outputId": "1f930ac3-710d-4bf9-dd0f-b0cdcdd35c1d"
      },
      "execution_count": null,
      "outputs": [
        {
          "output_type": "execute_result",
          "data": {
            "text/plain": [
              "Zerado                 55897\n",
              "São Paulo              34865\n",
              "Minas Gerais           10172\n",
              "Rio Grande do Sul       8018\n",
              "Paraná                  7891\n",
              "Santa Catarina          7440\n",
              "Rio de Janeiro          6047\n",
              "Goiás                   2648\n",
              "Bahia                   2432\n",
              "Espírito Santo          2150\n",
              "Pernambuco              1891\n",
              "Ceará                   1859\n",
              "Mato Grosso             1753\n",
              "Mato Grosso do Sul      1510\n",
              "Pará                    1367\n",
              "Distrito Federal        1181\n",
              "Amazonas                 927\n",
              "Maranhão                 628\n",
              "Rio Grande do Norte      620\n",
              "Alagoas                  484\n",
              "Paraíba                  482\n",
              "Rondônia                 472\n",
              "Tocantins                432\n",
              "Piauí                    305\n",
              "Sergipe                  300\n",
              "Amapá                    150\n",
              "Roraima                  122\n",
              "Acre                      97\n",
              "Name: uf_empregador, dtype: int64"
            ]
          },
          "metadata": {},
          "execution_count": 58
        }
      ]
    },
    {
      "cell_type": "code",
      "source": [
        "#Valor Zerado foi considerado inconsistencia e mudamos para NA\n",
        "df['uf_empregador'].replace(['Zerado'], pd.NA, regex=True, inplace=True)"
      ],
      "metadata": {
        "id": "KtQXVy7VYL5k"
      },
      "execution_count": null,
      "outputs": []
    },
    {
      "cell_type": "markdown",
      "source": [
        "##df: Coluna mes_afastamento"
      ],
      "metadata": {
        "id": "R5xUskQgBBLX"
      }
    },
    {
      "cell_type": "code",
      "source": [
        "df['mes_afastamento'].value_counts()"
      ],
      "metadata": {
        "id": "Os78hCBzCRJH",
        "colab": {
          "base_uri": "https://localhost:8080/"
        },
        "outputId": "3c6ddf76-33ad-471d-91e9-0780988b34ff"
      },
      "execution_count": null,
      "outputs": [
        {
          "output_type": "execute_result",
          "data": {
            "text/plain": [
              "2022/03    51210\n",
              "2022/06    39459\n",
              "2022/02    22961\n",
              "2022/01    17891\n",
              "2022/05    12828\n",
              "2022/04     7791\n",
              "Name: mes_afastamento, dtype: int64"
            ]
          },
          "metadata": {},
          "execution_count": 60
        }
      ]
    },
    {
      "cell_type": "markdown",
      "source": [
        "##df: Coluna dt_despacho"
      ],
      "metadata": {
        "id": "eGw1fYV8BDtA"
      }
    },
    {
      "cell_type": "code",
      "source": [
        "df['dt_despacho'].value_counts()"
      ],
      "metadata": {
        "id": "BLz3lgSoCVZ_",
        "colab": {
          "base_uri": "https://localhost:8080/"
        },
        "outputId": "437da0a2-287c-4b6e-b489-26a9c5d8cf18"
      },
      "execution_count": null,
      "outputs": [
        {
          "output_type": "execute_result",
          "data": {
            "text/plain": [
              "0000/00    101201\n",
              "2022/03     15505\n",
              "2022/06     12439\n",
              "2022/05      9030\n",
              "2022/02      6609\n",
              "2022/04      5379\n",
              "2022/07      1201\n",
              "2022/01       776\n",
              "Name: dt_despacho, dtype: int64"
            ]
          },
          "metadata": {},
          "execution_count": 61
        }
      ]
    },
    {
      "cell_type": "code",
      "source": [
        "#Valor 0000/00 foi considerado inconsistencia, mudamos pra NA\n",
        "df['dt_despacho'].replace(['0000/00'], pd.NA, regex=True, inplace=True)"
      ],
      "metadata": {
        "id": "IarIkBPgYekQ"
      },
      "execution_count": null,
      "outputs": []
    },
    {
      "cell_type": "markdown",
      "source": [
        "##df: Coluna dt_acidente2"
      ],
      "metadata": {
        "id": "6gbvsQFJBHko"
      }
    },
    {
      "cell_type": "code",
      "source": [
        "df['dt_acidente2'].value_counts()"
      ],
      "metadata": {
        "id": "zHo92_RACZHB",
        "colab": {
          "base_uri": "https://localhost:8080/"
        },
        "outputId": "b082c787-3cef-42ee-8216-866db6ee513f"
      },
      "execution_count": null,
      "outputs": [
        {
          "output_type": "execute_result",
          "data": {
            "text/plain": [
              "10/03/2022    2402\n",
              "08/03/2022    2400\n",
              "09/03/2022    2351\n",
              "07/03/2022    2350\n",
              "03/03/2022    2314\n",
              "              ... \n",
              "03/04/2022      84\n",
              "15/05/2022      82\n",
              "01/05/2022      81\n",
              "08/05/2022      81\n",
              "17/04/2022      67\n",
              "Name: dt_acidente2, Length: 181, dtype: int64"
            ]
          },
          "metadata": {},
          "execution_count": 63
        }
      ]
    },
    {
      "cell_type": "markdown",
      "source": [
        "##df: Coluna dt_nasc"
      ],
      "metadata": {
        "id": "It_oIMqgBLLV"
      }
    },
    {
      "cell_type": "code",
      "source": [
        "df['dt_nasc'].value_counts()"
      ],
      "metadata": {
        "id": "zLjekEzHCdWm",
        "colab": {
          "base_uri": "https://localhost:8080/"
        },
        "outputId": "ff831a0e-e4db-436e-d8eb-181ee9ac1d32"
      },
      "execution_count": null,
      "outputs": [
        {
          "output_type": "execute_result",
          "data": {
            "text/plain": [
              "00/00/0000    194\n",
              "07/09/1981     30\n",
              "15/01/1982     29\n",
              "27/04/1998     28\n",
              "13/03/1997     28\n",
              "             ... \n",
              "14/03/1950      1\n",
              "02/12/1951      1\n",
              "24/01/1955      1\n",
              "23/12/1966      1\n",
              "16/02/1963      1\n",
              "Name: dt_nasc, Length: 17628, dtype: int64"
            ]
          },
          "metadata": {},
          "execution_count": 64
        }
      ]
    },
    {
      "cell_type": "code",
      "source": [
        "#Valor 00/00/0000 foi considerado inconsistencia, mudamos pra NA\n",
        "df['dt_nasc'].replace(['00/00/0000'], pd.NA, regex=True, inplace=True)"
      ],
      "metadata": {
        "id": "a2vppbo6ZPtn"
      },
      "execution_count": null,
      "outputs": []
    },
    {
      "cell_type": "markdown",
      "source": [
        "##df: Coluna dt_emissao_cat"
      ],
      "metadata": {
        "id": "wHqZKCSlBNi9"
      }
    },
    {
      "cell_type": "code",
      "source": [
        "df['dt_emissao_cat'].value_counts()"
      ],
      "metadata": {
        "id": "_PHD86j4ChDC",
        "colab": {
          "base_uri": "https://localhost:8080/"
        },
        "outputId": "90fef99d-4c9d-46ca-bcaf-39949551d8d5"
      },
      "execution_count": null,
      "outputs": [
        {
          "output_type": "execute_result",
          "data": {
            "text/plain": [
              "00/00/0000    50931\n",
              "28/06/2022     2616\n",
              "22/03/2022     2531\n",
              "27/06/2022     2515\n",
              "21/06/2022     2510\n",
              "              ...  \n",
              "26/06/2022       42\n",
              "20/03/2022       40\n",
              "06/03/2022       35\n",
              "27/03/2022       33\n",
              "19/06/2022       32\n",
              "Name: dt_emissao_cat, Length: 62, dtype: int64"
            ]
          },
          "metadata": {},
          "execution_count": 66
        }
      ]
    },
    {
      "cell_type": "code",
      "source": [
        "#Valor 00/00/0000 foi considerado inconsistencia, mudamos pra NA\n",
        "df['dt_emissao_cat'].replace(['00/00/0000'], pd.NA, regex=True, inplace=True)"
      ],
      "metadata": {
        "id": "CA3AQ3aaZbqt"
      },
      "execution_count": null,
      "outputs": []
    },
    {
      "cell_type": "markdown",
      "source": [
        "##df: Coluna cnpj_cei"
      ],
      "metadata": {
        "id": "jGYhJrnyBQ6-"
      }
    },
    {
      "cell_type": "code",
      "source": [
        "df['cnpj_cei'].value_counts()"
      ],
      "metadata": {
        "id": "ULvxAO_rCkOB",
        "colab": {
          "base_uri": "https://localhost:8080/"
        },
        "outputId": "3d06e720-c717-41e8-809f-2396fbc8a738"
      },
      "execution_count": null,
      "outputs": [
        {
          "output_type": "execute_result",
          "data": {
            "text/plain": [
              "00.000.000.000.000    128827\n",
              "57.571.275.002.570       377\n",
              "47.673.793.010.217       102\n",
              "28.549.483.000.105        99\n",
              "60.701.190.000.104        99\n",
              "                       ...  \n",
              "27.957.196.000.163         1\n",
              "76.354.281.001.467         1\n",
              "00.055.814.573.104         1\n",
              "07.313.870.000.160         1\n",
              "00.030.808.740.210         1\n",
              "Name: cnpj_cei, Length: 14662, dtype: int64"
            ]
          },
          "metadata": {},
          "execution_count": 68
        }
      ]
    },
    {
      "cell_type": "code",
      "source": [
        "#Valor 00.000.000.000.000 foi considerado inconsistencia, mudamos pra NA\n",
        "df['cnpj_cei'].replace(['00.000.000.000.000'], pd.NA, regex=True, inplace=True)"
      ],
      "metadata": {
        "id": "j3kTSiT-ZhH7"
      },
      "execution_count": null,
      "outputs": []
    },
    {
      "cell_type": "markdown",
      "source": [
        "##df: Coluna cod_uf"
      ],
      "metadata": {
        "id": "R3j1p3hXBUof"
      }
    },
    {
      "cell_type": "code",
      "source": [
        "df['cod_uf'].value_counts()"
      ],
      "metadata": {
        "id": "QtYOpVxOCm_I",
        "colab": {
          "base_uri": "https://localhost:8080/"
        },
        "outputId": "755aba05-0472-45f8-d644-5773a5e9fe06"
      },
      "execution_count": null,
      "outputs": [
        {
          "output_type": "execute_result",
          "data": {
            "text/plain": [
              "000000    55896\n",
              "355030     9051\n",
              "330455     3051\n",
              "310620     2013\n",
              "410690     1745\n",
              "          ...  \n",
              "421560        1\n",
              "230150        1\n",
              "420213        1\n",
              "220937        1\n",
              "431053        1\n",
              "Name: cod_uf, Length: 2888, dtype: int64"
            ]
          },
          "metadata": {},
          "execution_count": 70
        }
      ]
    },
    {
      "cell_type": "code",
      "source": [
        "#Valor 000000 foi considerado inconsistencia, mudamos pra NA\n",
        "df['cod_uf'].replace(['000000'], pd.NA, regex=True, inplace=True)"
      ],
      "metadata": {
        "id": "HCdaR_laZx3R"
      },
      "execution_count": null,
      "outputs": []
    },
    {
      "cell_type": "markdown",
      "source": [
        "#REORDENANDO: df"
      ],
      "metadata": {
        "id": "Ax53YNkaBDYZ"
      }
    },
    {
      "cell_type": "code",
      "source": [
        "df = df[['dt_acidente','dt_acidente2','dt_despacho','mes_afastamento','dt_emissao_cat','sexo','dt_nasc','uf_empregador','uf_acidente','cod_uf','municipio','filiacao','beneficio','cat','tipo_acidente','agt_causador','lesao','local_lesao','obito','cid_cod','cid_desc','cbo_cod','cbo_desc','cnae_cod','cnae_desc','cnpj_cei']]"
      ],
      "metadata": {
        "id": "23DJurTUaVA6"
      },
      "execution_count": null,
      "outputs": []
    },
    {
      "cell_type": "code",
      "source": [
        "df.head(1)"
      ],
      "metadata": {
        "id": "rk6bTD4iBBX8",
        "colab": {
          "base_uri": "https://localhost:8080/",
          "height": 214
        },
        "outputId": "1445629d-5dd6-40ed-f5d7-66963449af4c"
      },
      "execution_count": null,
      "outputs": [
        {
          "output_type": "execute_result",
          "data": {
            "text/plain": [
              "  dt_acidente dt_acidente2 dt_despacho mes_afastamento dt_emissao_cat  \\\n",
              "0     2022/01   20/01/2022        <NA>         2022/01     01/03/2022   \n",
              "\n",
              "       sexo     dt_nasc uf_empregador uf_acidente  cod_uf        municipio  \\\n",
              "0  Feminino  02/08/1970     São Paulo    Maranhão  354780   Santo André Sp   \n",
              "\n",
              "    filiacao beneficio         cat tipo_acidente agt_causador  \\\n",
              "0  Empregado        Pa  Empregador        Doença         <NA>   \n",
              "\n",
              "                                         lesao            local_lesao obito  \\\n",
              "0  Doenca Contagiosa ou Infecciosa (Tuberculos  Aparelho Respiratorio   Não   \n",
              "\n",
              "  cid_cod                 cid_desc  cbo_cod                      cbo_desc  \\\n",
              "0   B34.2  Infecc p/Coronavirus Ne  515105    Agente Comunitário de Saúde   \n",
              "\n",
              "  cnae_cod                                      cnae_desc            cnpj_cei  \n",
              "0     8630  Atividades de Atencao Ambulatorial Executadas  57.571.275.002.570  "
            ],
            "text/html": [
              "\n",
              "  <div id=\"df-85ae62ad-e4c6-482b-839a-746b0911b525\">\n",
              "    <div class=\"colab-df-container\">\n",
              "      <div>\n",
              "<style scoped>\n",
              "    .dataframe tbody tr th:only-of-type {\n",
              "        vertical-align: middle;\n",
              "    }\n",
              "\n",
              "    .dataframe tbody tr th {\n",
              "        vertical-align: top;\n",
              "    }\n",
              "\n",
              "    .dataframe thead th {\n",
              "        text-align: right;\n",
              "    }\n",
              "</style>\n",
              "<table border=\"1\" class=\"dataframe\">\n",
              "  <thead>\n",
              "    <tr style=\"text-align: right;\">\n",
              "      <th></th>\n",
              "      <th>dt_acidente</th>\n",
              "      <th>dt_acidente2</th>\n",
              "      <th>dt_despacho</th>\n",
              "      <th>mes_afastamento</th>\n",
              "      <th>dt_emissao_cat</th>\n",
              "      <th>sexo</th>\n",
              "      <th>dt_nasc</th>\n",
              "      <th>uf_empregador</th>\n",
              "      <th>uf_acidente</th>\n",
              "      <th>cod_uf</th>\n",
              "      <th>municipio</th>\n",
              "      <th>filiacao</th>\n",
              "      <th>beneficio</th>\n",
              "      <th>cat</th>\n",
              "      <th>tipo_acidente</th>\n",
              "      <th>agt_causador</th>\n",
              "      <th>lesao</th>\n",
              "      <th>local_lesao</th>\n",
              "      <th>obito</th>\n",
              "      <th>cid_cod</th>\n",
              "      <th>cid_desc</th>\n",
              "      <th>cbo_cod</th>\n",
              "      <th>cbo_desc</th>\n",
              "      <th>cnae_cod</th>\n",
              "      <th>cnae_desc</th>\n",
              "      <th>cnpj_cei</th>\n",
              "    </tr>\n",
              "  </thead>\n",
              "  <tbody>\n",
              "    <tr>\n",
              "      <th>0</th>\n",
              "      <td>2022/01</td>\n",
              "      <td>20/01/2022</td>\n",
              "      <td>&lt;NA&gt;</td>\n",
              "      <td>2022/01</td>\n",
              "      <td>01/03/2022</td>\n",
              "      <td>Feminino</td>\n",
              "      <td>02/08/1970</td>\n",
              "      <td>São Paulo</td>\n",
              "      <td>Maranhão</td>\n",
              "      <td>354780</td>\n",
              "      <td>Santo André Sp</td>\n",
              "      <td>Empregado</td>\n",
              "      <td>Pa</td>\n",
              "      <td>Empregador</td>\n",
              "      <td>Doença</td>\n",
              "      <td>&lt;NA&gt;</td>\n",
              "      <td>Doenca Contagiosa ou Infecciosa (Tuberculos</td>\n",
              "      <td>Aparelho Respiratorio</td>\n",
              "      <td>Não</td>\n",
              "      <td>B34.2</td>\n",
              "      <td>Infecc p/Coronavirus Ne</td>\n",
              "      <td>515105</td>\n",
              "      <td>Agente Comunitário de Saúde</td>\n",
              "      <td>8630</td>\n",
              "      <td>Atividades de Atencao Ambulatorial Executadas</td>\n",
              "      <td>57.571.275.002.570</td>\n",
              "    </tr>\n",
              "  </tbody>\n",
              "</table>\n",
              "</div>\n",
              "      <button class=\"colab-df-convert\" onclick=\"convertToInteractive('df-85ae62ad-e4c6-482b-839a-746b0911b525')\"\n",
              "              title=\"Convert this dataframe to an interactive table.\"\n",
              "              style=\"display:none;\">\n",
              "        \n",
              "  <svg xmlns=\"http://www.w3.org/2000/svg\" height=\"24px\"viewBox=\"0 0 24 24\"\n",
              "       width=\"24px\">\n",
              "    <path d=\"M0 0h24v24H0V0z\" fill=\"none\"/>\n",
              "    <path d=\"M18.56 5.44l.94 2.06.94-2.06 2.06-.94-2.06-.94-.94-2.06-.94 2.06-2.06.94zm-11 1L8.5 8.5l.94-2.06 2.06-.94-2.06-.94L8.5 2.5l-.94 2.06-2.06.94zm10 10l.94 2.06.94-2.06 2.06-.94-2.06-.94-.94-2.06-.94 2.06-2.06.94z\"/><path d=\"M17.41 7.96l-1.37-1.37c-.4-.4-.92-.59-1.43-.59-.52 0-1.04.2-1.43.59L10.3 9.45l-7.72 7.72c-.78.78-.78 2.05 0 2.83L4 21.41c.39.39.9.59 1.41.59.51 0 1.02-.2 1.41-.59l7.78-7.78 2.81-2.81c.8-.78.8-2.07 0-2.86zM5.41 20L4 18.59l7.72-7.72 1.47 1.35L5.41 20z\"/>\n",
              "  </svg>\n",
              "      </button>\n",
              "      \n",
              "  <style>\n",
              "    .colab-df-container {\n",
              "      display:flex;\n",
              "      flex-wrap:wrap;\n",
              "      gap: 12px;\n",
              "    }\n",
              "\n",
              "    .colab-df-convert {\n",
              "      background-color: #E8F0FE;\n",
              "      border: none;\n",
              "      border-radius: 50%;\n",
              "      cursor: pointer;\n",
              "      display: none;\n",
              "      fill: #1967D2;\n",
              "      height: 32px;\n",
              "      padding: 0 0 0 0;\n",
              "      width: 32px;\n",
              "    }\n",
              "\n",
              "    .colab-df-convert:hover {\n",
              "      background-color: #E2EBFA;\n",
              "      box-shadow: 0px 1px 2px rgba(60, 64, 67, 0.3), 0px 1px 3px 1px rgba(60, 64, 67, 0.15);\n",
              "      fill: #174EA6;\n",
              "    }\n",
              "\n",
              "    [theme=dark] .colab-df-convert {\n",
              "      background-color: #3B4455;\n",
              "      fill: #D2E3FC;\n",
              "    }\n",
              "\n",
              "    [theme=dark] .colab-df-convert:hover {\n",
              "      background-color: #434B5C;\n",
              "      box-shadow: 0px 1px 3px 1px rgba(0, 0, 0, 0.15);\n",
              "      filter: drop-shadow(0px 1px 2px rgba(0, 0, 0, 0.3));\n",
              "      fill: #FFFFFF;\n",
              "    }\n",
              "  </style>\n",
              "\n",
              "      <script>\n",
              "        const buttonEl =\n",
              "          document.querySelector('#df-85ae62ad-e4c6-482b-839a-746b0911b525 button.colab-df-convert');\n",
              "        buttonEl.style.display =\n",
              "          google.colab.kernel.accessAllowed ? 'block' : 'none';\n",
              "\n",
              "        async function convertToInteractive(key) {\n",
              "          const element = document.querySelector('#df-85ae62ad-e4c6-482b-839a-746b0911b525');\n",
              "          const dataTable =\n",
              "            await google.colab.kernel.invokeFunction('convertToInteractive',\n",
              "                                                     [key], {});\n",
              "          if (!dataTable) return;\n",
              "\n",
              "          const docLinkHtml = 'Like what you see? Visit the ' +\n",
              "            '<a target=\"_blank\" href=https://colab.research.google.com/notebooks/data_table.ipynb>data table notebook</a>'\n",
              "            + ' to learn more about interactive tables.';\n",
              "          element.innerHTML = '';\n",
              "          dataTable['output_type'] = 'display_data';\n",
              "          await google.colab.output.renderOutput(dataTable, element);\n",
              "          const docLink = document.createElement('div');\n",
              "          docLink.innerHTML = docLinkHtml;\n",
              "          element.appendChild(docLink);\n",
              "        }\n",
              "      </script>\n",
              "    </div>\n",
              "  </div>\n",
              "  "
            ]
          },
          "metadata": {},
          "execution_count": 73
        }
      ]
    },
    {
      "cell_type": "code",
      "source": [
        "#Percebemos algumas datas redundantes, como por exemplo a coluna de dt_acidente e dt_acidente2, decidimos dropar a menos específica.\n",
        "df.drop(['dt_acidente'], axis=1, inplace=True)"
      ],
      "metadata": {
        "id": "l4wC8TGiBYn6",
        "colab": {
          "base_uri": "https://localhost:8080/"
        },
        "outputId": "99655e40-4ac1-4fff-a4d7-6decac1951b6"
      },
      "execution_count": null,
      "outputs": [
        {
          "output_type": "stream",
          "name": "stderr",
          "text": [
            "/usr/local/lib/python3.8/dist-packages/pandas/core/frame.py:4906: SettingWithCopyWarning: \n",
            "A value is trying to be set on a copy of a slice from a DataFrame\n",
            "\n",
            "See the caveats in the documentation: https://pandas.pydata.org/pandas-docs/stable/user_guide/indexing.html#returning-a-view-versus-a-copy\n",
            "  return super().drop(\n"
          ]
        }
      ]
    },
    {
      "cell_type": "code",
      "source": [
        "#renomeamos a coluna dt_acidente2 para dt_acidente\n",
        "df.rename(columns={'dt_acidente2':'dt_acidente'}, inplace=True)"
      ],
      "metadata": {
        "id": "zt1sXFGADXDD",
        "colab": {
          "base_uri": "https://localhost:8080/"
        },
        "outputId": "6825c9bc-c18e-49d9-e36d-b067a6c9f408"
      },
      "execution_count": null,
      "outputs": [
        {
          "output_type": "stream",
          "name": "stderr",
          "text": [
            "/usr/local/lib/python3.8/dist-packages/pandas/core/frame.py:5039: SettingWithCopyWarning: \n",
            "A value is trying to be set on a copy of a slice from a DataFrame\n",
            "\n",
            "See the caveats in the documentation: https://pandas.pydata.org/pandas-docs/stable/user_guide/indexing.html#returning-a-view-versus-a-copy\n",
            "  return super().rename(\n"
          ]
        }
      ]
    },
    {
      "cell_type": "code",
      "source": [
        "df = df.fillna(np.nan)"
      ],
      "metadata": {
        "id": "7s7On5fb9fhF"
      },
      "execution_count": null,
      "outputs": []
    },
    {
      "cell_type": "code",
      "source": [
        "#ultima remoção de possíveis espaços em branco\n",
        "remove_espaco(df)"
      ],
      "metadata": {
        "id": "Mi4JK8eFqqf0"
      },
      "execution_count": null,
      "outputs": []
    },
    {
      "cell_type": "code",
      "source": [
        "df.head(2)"
      ],
      "metadata": {
        "colab": {
          "base_uri": "https://localhost:8080/"
        },
        "id": "uUWBK-G-rEJv",
        "outputId": "12a5ad14-8763-4180-b494-84113c809b74"
      },
      "execution_count": null,
      "outputs": [
        {
          "output_type": "execute_result",
          "data": {
            "text/plain": [
              "  dt_acidente dt_despacho mes_afastamento dt_emissao_cat       sexo  \\\n",
              "0  20/01/2022         NaN         2022/01     01/03/2022   Feminino   \n",
              "1  25/02/2022         NaN         2022/02     01/03/2022  Masculino   \n",
              "\n",
              "      dt_nasc uf_empregador uf_acidente  cod_uf       municipio   filiacao  \\\n",
              "0  02/08/1970     São Paulo    Maranhão  354780  Santo André Sp  Empregado   \n",
              "1  16/12/1990     São Paulo    Maranhão  355030       São Paulo  Empregado   \n",
              "\n",
              "  beneficio                  cat tipo_acidente          agt_causador  \\\n",
              "0        Pa           Empregador        Doença                   NaN   \n",
              "1        Pa  Segurado/Dependente       Trajeto  Motocicleta Motoneta   \n",
              "\n",
              "                                         lesao  \\\n",
              "0  Doenca Contagiosa ou Infecciosa (Tuberculos   \n",
              "1                                      Fratura   \n",
              "\n",
              "                       local_lesao obito cid_cod  \\\n",
              "0            Aparelho Respiratorio   Não   B34.2   \n",
              "1  Braco (Entre O Punho a O Ombro)   Não   S52.5   \n",
              "\n",
              "                              cid_desc cbo_cod  \\\n",
              "0              Infecc p/Coronavirus Ne  515105   \n",
              "1  Frat da Extremidade Distal do Radio  519110   \n",
              "\n",
              "                                 cbo_desc  cnae_cod  \\\n",
              "0             Agente Comunitário de Saúde    8630.0   \n",
              "1  Motociclista no Transporte de Document    4930.0   \n",
              "\n",
              "                                       cnae_desc            cnpj_cei  \n",
              "0  Atividades de Atencao Ambulatorial Executadas  57.571.275.002.570  \n",
              "1                 Transporte Rodoviario de Carga  19.578.086.000.162  "
            ],
            "text/html": [
              "\n",
              "  <div id=\"df-098975d4-edca-4ae5-9c59-aae36dbff4af\">\n",
              "    <div class=\"colab-df-container\">\n",
              "      <div>\n",
              "<style scoped>\n",
              "    .dataframe tbody tr th:only-of-type {\n",
              "        vertical-align: middle;\n",
              "    }\n",
              "\n",
              "    .dataframe tbody tr th {\n",
              "        vertical-align: top;\n",
              "    }\n",
              "\n",
              "    .dataframe thead th {\n",
              "        text-align: right;\n",
              "    }\n",
              "</style>\n",
              "<table border=\"1\" class=\"dataframe\">\n",
              "  <thead>\n",
              "    <tr style=\"text-align: right;\">\n",
              "      <th></th>\n",
              "      <th>dt_acidente</th>\n",
              "      <th>dt_despacho</th>\n",
              "      <th>mes_afastamento</th>\n",
              "      <th>dt_emissao_cat</th>\n",
              "      <th>sexo</th>\n",
              "      <th>dt_nasc</th>\n",
              "      <th>uf_empregador</th>\n",
              "      <th>uf_acidente</th>\n",
              "      <th>cod_uf</th>\n",
              "      <th>municipio</th>\n",
              "      <th>filiacao</th>\n",
              "      <th>beneficio</th>\n",
              "      <th>cat</th>\n",
              "      <th>tipo_acidente</th>\n",
              "      <th>agt_causador</th>\n",
              "      <th>lesao</th>\n",
              "      <th>local_lesao</th>\n",
              "      <th>obito</th>\n",
              "      <th>cid_cod</th>\n",
              "      <th>cid_desc</th>\n",
              "      <th>cbo_cod</th>\n",
              "      <th>cbo_desc</th>\n",
              "      <th>cnae_cod</th>\n",
              "      <th>cnae_desc</th>\n",
              "      <th>cnpj_cei</th>\n",
              "    </tr>\n",
              "  </thead>\n",
              "  <tbody>\n",
              "    <tr>\n",
              "      <th>0</th>\n",
              "      <td>20/01/2022</td>\n",
              "      <td>NaN</td>\n",
              "      <td>2022/01</td>\n",
              "      <td>01/03/2022</td>\n",
              "      <td>Feminino</td>\n",
              "      <td>02/08/1970</td>\n",
              "      <td>São Paulo</td>\n",
              "      <td>Maranhão</td>\n",
              "      <td>354780</td>\n",
              "      <td>Santo André Sp</td>\n",
              "      <td>Empregado</td>\n",
              "      <td>Pa</td>\n",
              "      <td>Empregador</td>\n",
              "      <td>Doença</td>\n",
              "      <td>NaN</td>\n",
              "      <td>Doenca Contagiosa ou Infecciosa (Tuberculos</td>\n",
              "      <td>Aparelho Respiratorio</td>\n",
              "      <td>Não</td>\n",
              "      <td>B34.2</td>\n",
              "      <td>Infecc p/Coronavirus Ne</td>\n",
              "      <td>515105</td>\n",
              "      <td>Agente Comunitário de Saúde</td>\n",
              "      <td>8630.0</td>\n",
              "      <td>Atividades de Atencao Ambulatorial Executadas</td>\n",
              "      <td>57.571.275.002.570</td>\n",
              "    </tr>\n",
              "    <tr>\n",
              "      <th>1</th>\n",
              "      <td>25/02/2022</td>\n",
              "      <td>NaN</td>\n",
              "      <td>2022/02</td>\n",
              "      <td>01/03/2022</td>\n",
              "      <td>Masculino</td>\n",
              "      <td>16/12/1990</td>\n",
              "      <td>São Paulo</td>\n",
              "      <td>Maranhão</td>\n",
              "      <td>355030</td>\n",
              "      <td>São Paulo</td>\n",
              "      <td>Empregado</td>\n",
              "      <td>Pa</td>\n",
              "      <td>Segurado/Dependente</td>\n",
              "      <td>Trajeto</td>\n",
              "      <td>Motocicleta Motoneta</td>\n",
              "      <td>Fratura</td>\n",
              "      <td>Braco (Entre O Punho a O Ombro)</td>\n",
              "      <td>Não</td>\n",
              "      <td>S52.5</td>\n",
              "      <td>Frat da Extremidade Distal do Radio</td>\n",
              "      <td>519110</td>\n",
              "      <td>Motociclista no Transporte de Document</td>\n",
              "      <td>4930.0</td>\n",
              "      <td>Transporte Rodoviario de Carga</td>\n",
              "      <td>19.578.086.000.162</td>\n",
              "    </tr>\n",
              "  </tbody>\n",
              "</table>\n",
              "</div>\n",
              "      <button class=\"colab-df-convert\" onclick=\"convertToInteractive('df-098975d4-edca-4ae5-9c59-aae36dbff4af')\"\n",
              "              title=\"Convert this dataframe to an interactive table.\"\n",
              "              style=\"display:none;\">\n",
              "        \n",
              "  <svg xmlns=\"http://www.w3.org/2000/svg\" height=\"24px\"viewBox=\"0 0 24 24\"\n",
              "       width=\"24px\">\n",
              "    <path d=\"M0 0h24v24H0V0z\" fill=\"none\"/>\n",
              "    <path d=\"M18.56 5.44l.94 2.06.94-2.06 2.06-.94-2.06-.94-.94-2.06-.94 2.06-2.06.94zm-11 1L8.5 8.5l.94-2.06 2.06-.94-2.06-.94L8.5 2.5l-.94 2.06-2.06.94zm10 10l.94 2.06.94-2.06 2.06-.94-2.06-.94-.94-2.06-.94 2.06-2.06.94z\"/><path d=\"M17.41 7.96l-1.37-1.37c-.4-.4-.92-.59-1.43-.59-.52 0-1.04.2-1.43.59L10.3 9.45l-7.72 7.72c-.78.78-.78 2.05 0 2.83L4 21.41c.39.39.9.59 1.41.59.51 0 1.02-.2 1.41-.59l7.78-7.78 2.81-2.81c.8-.78.8-2.07 0-2.86zM5.41 20L4 18.59l7.72-7.72 1.47 1.35L5.41 20z\"/>\n",
              "  </svg>\n",
              "      </button>\n",
              "      \n",
              "  <style>\n",
              "    .colab-df-container {\n",
              "      display:flex;\n",
              "      flex-wrap:wrap;\n",
              "      gap: 12px;\n",
              "    }\n",
              "\n",
              "    .colab-df-convert {\n",
              "      background-color: #E8F0FE;\n",
              "      border: none;\n",
              "      border-radius: 50%;\n",
              "      cursor: pointer;\n",
              "      display: none;\n",
              "      fill: #1967D2;\n",
              "      height: 32px;\n",
              "      padding: 0 0 0 0;\n",
              "      width: 32px;\n",
              "    }\n",
              "\n",
              "    .colab-df-convert:hover {\n",
              "      background-color: #E2EBFA;\n",
              "      box-shadow: 0px 1px 2px rgba(60, 64, 67, 0.3), 0px 1px 3px 1px rgba(60, 64, 67, 0.15);\n",
              "      fill: #174EA6;\n",
              "    }\n",
              "\n",
              "    [theme=dark] .colab-df-convert {\n",
              "      background-color: #3B4455;\n",
              "      fill: #D2E3FC;\n",
              "    }\n",
              "\n",
              "    [theme=dark] .colab-df-convert:hover {\n",
              "      background-color: #434B5C;\n",
              "      box-shadow: 0px 1px 3px 1px rgba(0, 0, 0, 0.15);\n",
              "      filter: drop-shadow(0px 1px 2px rgba(0, 0, 0, 0.3));\n",
              "      fill: #FFFFFF;\n",
              "    }\n",
              "  </style>\n",
              "\n",
              "      <script>\n",
              "        const buttonEl =\n",
              "          document.querySelector('#df-098975d4-edca-4ae5-9c59-aae36dbff4af button.colab-df-convert');\n",
              "        buttonEl.style.display =\n",
              "          google.colab.kernel.accessAllowed ? 'block' : 'none';\n",
              "\n",
              "        async function convertToInteractive(key) {\n",
              "          const element = document.querySelector('#df-098975d4-edca-4ae5-9c59-aae36dbff4af');\n",
              "          const dataTable =\n",
              "            await google.colab.kernel.invokeFunction('convertToInteractive',\n",
              "                                                     [key], {});\n",
              "          if (!dataTable) return;\n",
              "\n",
              "          const docLinkHtml = 'Like what you see? Visit the ' +\n",
              "            '<a target=\"_blank\" href=https://colab.research.google.com/notebooks/data_table.ipynb>data table notebook</a>'\n",
              "            + ' to learn more about interactive tables.';\n",
              "          element.innerHTML = '';\n",
              "          dataTable['output_type'] = 'display_data';\n",
              "          await google.colab.output.renderOutput(dataTable, element);\n",
              "          const docLink = document.createElement('div');\n",
              "          docLink.innerHTML = docLinkHtml;\n",
              "          element.appendChild(docLink);\n",
              "        }\n",
              "      </script>\n",
              "    </div>\n",
              "  </div>\n",
              "  "
            ]
          },
          "metadata": {},
          "execution_count": 78
        }
      ]
    },
    {
      "cell_type": "code",
      "source": [
        "#Drop de linhas duplicadas\n",
        "df.drop_duplicates(inplace=True)"
      ],
      "metadata": {
        "id": "iQPP42f7quNz"
      },
      "execution_count": null,
      "outputs": []
    },
    {
      "cell_type": "markdown",
      "source": [
        "#TRATAMENTO INICIAL: df2"
      ],
      "metadata": {
        "id": "Sj9hm1RINbsT"
      }
    },
    {
      "cell_type": "code",
      "source": [
        "#Analisando o DataFrame\n",
        "df2"
      ],
      "metadata": {
        "colab": {
          "base_uri": "https://localhost:8080/"
        },
        "id": "9wijLiFUNpPf",
        "outputId": "46ae7fdc-7bf6-4304-86e5-bd8efeadfa33"
      },
      "execution_count": null,
      "outputs": [
        {
          "output_type": "execute_result",
          "data": {
            "text/plain": [
              "                          Agente  Causador  Acidente Data Acidente  \\\n",
              "0      {ñ class}                                           2022/05   \n",
              "1      Rua e Estrada - Superficie Utilizada para Sus       2022/05   \n",
              "2      {ñ class}                                           2022/05   \n",
              "3        Revestimento Ceramico (Azulejo,Mosaico,Etc.       2022/05   \n",
              "4      Calcada ou Caminho para Pedestre - Superficie       2022/05   \n",
              "...                                              ...           ...   \n",
              "89597  {ñ class}                                           2022/04   \n",
              "89598  {ñ class}                                           2022/04   \n",
              "89599  {ñ class}                                           2022/05   \n",
              "89600  {ñ class}                                           2022/05   \n",
              "89601  {ñ class}                                           2022/06   \n",
              "\n",
              "                                                 CBO  \\\n",
              "0      322205-Tec. de Enfermagem                       \n",
              "1      992225-Auxiliar Geral de Conservação de Vias    \n",
              "2      {ñ class}                                       \n",
              "3      783225-Ajudante de Motorista                    \n",
              "4      322205-Tec. de Enfermagem                       \n",
              "...                                              ...   \n",
              "89597  000000-Não Informado                            \n",
              "89598  000000-Não Informado                            \n",
              "89599  000000-Não Informado                            \n",
              "89600  000000-Não Informado                            \n",
              "89601  000000-Não Informado                            \n",
              "\n",
              "                                              CID-10  CNAE2.0 Empregador  \\\n",
              "0      Y28.2 Escolas Outr Instit Areas Admin Publica                8630   \n",
              "1      S93.4 Entorse e Distensao do Tornozelo                       8630   \n",
              "2      B34.2 Infecc p/Coronavirus Ne                                8513   \n",
              "3      S90.3 Contusao de Outr Partes e Partes Ne Do                 4744   \n",
              "4      S51.0 Ferim do Cotovelo                                      8610   \n",
              "...                                              ...                 ...   \n",
              "89597  S82.6 Frat do Maleolo Lateral                                   0   \n",
              "89598  S82.1 Frat da Extremidade Proximal da Tibia                     0   \n",
              "89599  S62.6 Frat de Outr Dedos                                        0   \n",
              "89600  S82.6 Frat do Maleolo Lateral                                   0   \n",
              "89601  K42   Hernia Umbilical                                          0   \n",
              "\n",
              "                                CNAE2.0 Empregador.1         Emitente CAT  \\\n",
              "0      Atividades de Atencao Ambulatorial Executadas  Empregador            \n",
              "1      Atividades de Atencao Ambulatorial Executadas  Empregador            \n",
              "2      Ensino Fundamental                             Empregador            \n",
              "3       Comercio Varejista de Ferragens,Madeira e Ma  Empregador            \n",
              "4      Atividades de Atendimento Hospitalar           Empregador            \n",
              "...                                              ...                  ...   \n",
              "89597  {ñ class}                                      {ñ class}             \n",
              "89598  {ñ class}                                      {ñ class}             \n",
              "89599  {ñ class}                                      {ñ class}             \n",
              "89600  {ñ class}                                      {ñ class}             \n",
              "89601  {ñ class}                                      {ñ class}             \n",
              "\n",
              "                                Espécie do benefício  \\\n",
              "0      Pa                                              \n",
              "1      Pa                                              \n",
              "2      Pa                                              \n",
              "3      Pa                                              \n",
              "4      Pa                                              \n",
              "...                                              ...   \n",
              "89597  Auxílio Doenca por Acidente do Trabalho         \n",
              "89598  Auxílio Doenca por Acidente do Trabalho         \n",
              "89599  Auxílio Doenca por Acidente do Trabalho         \n",
              "89600  Auxílio Doenca por Acidente do Trabalho         \n",
              "89601  Auxílio Doenca por Acidente do Trabalho         \n",
              "\n",
              "                                   Filiação Segurado Indica Óbito Acidente  \\\n",
              "0      Empregado                                                       Não   \n",
              "1      Empregado                                                       Não   \n",
              "2      Empregado                                                       Não   \n",
              "3      Empregado                                                       Não   \n",
              "4      Empregado                                                       Não   \n",
              "...                                              ...                   ...   \n",
              "89597  {ñ class}                                                       {ñ    \n",
              "89598  {ñ class}                                                       {ñ    \n",
              "89599  {ñ class}                                                       {ñ    \n",
              "89600  {ñ class}                                                       {ñ    \n",
              "89601  {ñ class}                                                       {ñ    \n",
              "\n",
              "                                      Munic Empr  \\\n",
              "0      354780-Santo André-Sp                       \n",
              "1      354780-Santo André-Sp                       \n",
              "2      354780-Santo André-Sp                       \n",
              "3      350210-Andradina                            \n",
              "4      350950-Campinas                             \n",
              "...                                          ...   \n",
              "89597  000000-Ignorado                             \n",
              "89598  000000-Ignorado                             \n",
              "89599  000000-Ignorado                             \n",
              "89600  000000-Ignorado                             \n",
              "89601  000000-Ignorado                             \n",
              "\n",
              "                                   Natureza da Lesão  \\\n",
              "0      Lesao Imediata                                  \n",
              "1      Luxacao                                         \n",
              "2      Doenca Contagiosa ou Infecciosa (Tuberculos     \n",
              "3       Contusao,Esmagamento (Superficie Cutanea I     \n",
              "4       Escoriacao,Abrasao (Ferimento Superficial)     \n",
              "...                                              ...   \n",
              "89597  {ñ class}                                       \n",
              "89598  {ñ class}                                       \n",
              "89599  {ñ class}                                       \n",
              "89600  {ñ class}                                       \n",
              "89601  {ñ class}                                       \n",
              "\n",
              "      Origem de Cadastramento CAT  \\\n",
              "0                        Internet   \n",
              "1                        Internet   \n",
              "2                        Internet   \n",
              "3                        Internet   \n",
              "4                        Internet   \n",
              "...                           ...   \n",
              "89597                    {ñ class   \n",
              "89598                    {ñ class   \n",
              "89599                    {ñ class   \n",
              "89600                    {ñ class   \n",
              "89601                    {ñ class   \n",
              "\n",
              "                                Parte Corpo Atingida           Sexo  \\\n",
              "0      Dedo                                           Masculino       \n",
              "1         Perna (Do Tornozelo,Exclusive,ao Joelho,Ex  Feminino        \n",
              "2      Aparelho Respiratorio                          Feminino        \n",
              "3      Pe (Exceto Artelhos)                           Masculino       \n",
              "4      Cotovelo                                       Feminino        \n",
              "...                                              ...            ...   \n",
              "89597  {ñ class}                                      Masculino       \n",
              "89598  {ñ class}                                      Masculino       \n",
              "89599  {ñ class}                                      Masculino       \n",
              "89600  {ñ class}                                      Masculino       \n",
              "89601  {ñ class}                                      Masculino       \n",
              "\n",
              "      Tipo do Acidente UF  Munic.  Acidente UF Munic. Empregador  \\\n",
              "0             Típico       Maranhão          São Paulo             \n",
              "1             Trajeto      Maranhão          São Paulo             \n",
              "2             Doença       Maranhão          São Paulo             \n",
              "3             Típico       Maranhão          São Paulo             \n",
              "4             Trajeto      Maranhão          São Paulo             \n",
              "...                ...                  ...                  ...   \n",
              "89597         Ignorado     Sergipe           Zerado                \n",
              "89598         Ignorado     Sergipe           Zerado                \n",
              "89599         Ignorado     Sergipe           Zerado                \n",
              "89600         Ignorado     Sergipe           Zerado                \n",
              "89601         Ignorado     Sergipe           Zerado                \n",
              "\n",
              "      Data Acidente.1 Data Despacho Benefício Data Acidente.2 Data Nascimento  \\\n",
              "0             2022/05                 0000/00      26/05/2022      13/11/1989   \n",
              "1             2022/05                 0000/00      26/05/2022      19/04/1990   \n",
              "2             2022/05                 0000/00      29/05/2022      13/09/1960   \n",
              "3             2022/05                 0000/00      31/05/2022      17/07/1994   \n",
              "4             2022/05                 0000/00      30/05/2022      30/01/1992   \n",
              "...               ...                     ...             ...             ...   \n",
              "89597         2022/04                 2022/06      12/04/2022      08/11/1965   \n",
              "89598         2022/04                 2022/06      30/04/2022      21/11/1985   \n",
              "89599         2022/05                 2022/06      05/05/2022      27/01/1992   \n",
              "89600         2022/05                 2022/06      15/05/2022      14/01/1975   \n",
              "89601         2022/06                 2022/06      07/06/2022      24/07/1971   \n",
              "\n",
              "      Data Emissão CAT CNPJ/CEI Empregador,,,,,,,,,,,,  \n",
              "0           01/06/2022  57.571.275.002.570,,,,,,,,,,,,  \n",
              "1           01/06/2022     57.571.275.002.570,,,,,,,,,  \n",
              "2           01/06/2022  47.715.347.000.184,,,,,,,,,,,,  \n",
              "3           01/06/2022      38.300.481.000.123,,,,,,,,  \n",
              "4           01/06/2022   46.020.301.000.269,,,,,,,,,,,  \n",
              "...                ...                             ...  \n",
              "89597       00/00/0000  00.000.000.000.000,,,,,,,,,,,,  \n",
              "89598       00/00/0000  00.000.000.000.000,,,,,,,,,,,,  \n",
              "89599       00/00/0000  00.000.000.000.000,,,,,,,,,,,,  \n",
              "89600       00/00/0000  00.000.000.000.000,,,,,,,,,,,,  \n",
              "89601       00/00/0000  00.000.000.000.000,,,,,,,,,,,,  \n",
              "\n",
              "[89602 rows x 24 columns]"
            ],
            "text/html": [
              "\n",
              "  <div id=\"df-3aefcc15-35ae-474b-bd44-56c37c4d72b0\">\n",
              "    <div class=\"colab-df-container\">\n",
              "      <div>\n",
              "<style scoped>\n",
              "    .dataframe tbody tr th:only-of-type {\n",
              "        vertical-align: middle;\n",
              "    }\n",
              "\n",
              "    .dataframe tbody tr th {\n",
              "        vertical-align: top;\n",
              "    }\n",
              "\n",
              "    .dataframe thead th {\n",
              "        text-align: right;\n",
              "    }\n",
              "</style>\n",
              "<table border=\"1\" class=\"dataframe\">\n",
              "  <thead>\n",
              "    <tr style=\"text-align: right;\">\n",
              "      <th></th>\n",
              "      <th>Agente  Causador  Acidente</th>\n",
              "      <th>Data Acidente</th>\n",
              "      <th>CBO</th>\n",
              "      <th>CID-10</th>\n",
              "      <th>CNAE2.0 Empregador</th>\n",
              "      <th>CNAE2.0 Empregador.1</th>\n",
              "      <th>Emitente CAT</th>\n",
              "      <th>Espécie do benefício</th>\n",
              "      <th>Filiação Segurado</th>\n",
              "      <th>Indica Óbito Acidente</th>\n",
              "      <th>Munic Empr</th>\n",
              "      <th>Natureza da Lesão</th>\n",
              "      <th>Origem de Cadastramento CAT</th>\n",
              "      <th>Parte Corpo Atingida</th>\n",
              "      <th>Sexo</th>\n",
              "      <th>Tipo do Acidente</th>\n",
              "      <th>UF  Munic.  Acidente</th>\n",
              "      <th>UF Munic. Empregador</th>\n",
              "      <th>Data Acidente.1</th>\n",
              "      <th>Data Despacho Benefício</th>\n",
              "      <th>Data Acidente.2</th>\n",
              "      <th>Data Nascimento</th>\n",
              "      <th>Data Emissão CAT</th>\n",
              "      <th>CNPJ/CEI Empregador,,,,,,,,,,,,</th>\n",
              "    </tr>\n",
              "  </thead>\n",
              "  <tbody>\n",
              "    <tr>\n",
              "      <th>0</th>\n",
              "      <td>{ñ class}</td>\n",
              "      <td>2022/05</td>\n",
              "      <td>322205-Tec. de Enfermagem</td>\n",
              "      <td>Y28.2 Escolas Outr Instit Areas Admin Publica</td>\n",
              "      <td>8630</td>\n",
              "      <td>Atividades de Atencao Ambulatorial Executadas</td>\n",
              "      <td>Empregador</td>\n",
              "      <td>Pa</td>\n",
              "      <td>Empregado</td>\n",
              "      <td>Não</td>\n",
              "      <td>354780-Santo André-Sp</td>\n",
              "      <td>Lesao Imediata</td>\n",
              "      <td>Internet</td>\n",
              "      <td>Dedo</td>\n",
              "      <td>Masculino</td>\n",
              "      <td>Típico</td>\n",
              "      <td>Maranhão</td>\n",
              "      <td>São Paulo</td>\n",
              "      <td>2022/05</td>\n",
              "      <td>0000/00</td>\n",
              "      <td>26/05/2022</td>\n",
              "      <td>13/11/1989</td>\n",
              "      <td>01/06/2022</td>\n",
              "      <td>57.571.275.002.570,,,,,,,,,,,,</td>\n",
              "    </tr>\n",
              "    <tr>\n",
              "      <th>1</th>\n",
              "      <td>Rua e Estrada - Superficie Utilizada para Sus</td>\n",
              "      <td>2022/05</td>\n",
              "      <td>992225-Auxiliar Geral de Conservação de Vias</td>\n",
              "      <td>S93.4 Entorse e Distensao do Tornozelo</td>\n",
              "      <td>8630</td>\n",
              "      <td>Atividades de Atencao Ambulatorial Executadas</td>\n",
              "      <td>Empregador</td>\n",
              "      <td>Pa</td>\n",
              "      <td>Empregado</td>\n",
              "      <td>Não</td>\n",
              "      <td>354780-Santo André-Sp</td>\n",
              "      <td>Luxacao</td>\n",
              "      <td>Internet</td>\n",
              "      <td>Perna (Do Tornozelo,Exclusive,ao Joelho,Ex</td>\n",
              "      <td>Feminino</td>\n",
              "      <td>Trajeto</td>\n",
              "      <td>Maranhão</td>\n",
              "      <td>São Paulo</td>\n",
              "      <td>2022/05</td>\n",
              "      <td>0000/00</td>\n",
              "      <td>26/05/2022</td>\n",
              "      <td>19/04/1990</td>\n",
              "      <td>01/06/2022</td>\n",
              "      <td>57.571.275.002.570,,,,,,,,,</td>\n",
              "    </tr>\n",
              "    <tr>\n",
              "      <th>2</th>\n",
              "      <td>{ñ class}</td>\n",
              "      <td>2022/05</td>\n",
              "      <td>{ñ class}</td>\n",
              "      <td>B34.2 Infecc p/Coronavirus Ne</td>\n",
              "      <td>8513</td>\n",
              "      <td>Ensino Fundamental</td>\n",
              "      <td>Empregador</td>\n",
              "      <td>Pa</td>\n",
              "      <td>Empregado</td>\n",
              "      <td>Não</td>\n",
              "      <td>354780-Santo André-Sp</td>\n",
              "      <td>Doenca Contagiosa ou Infecciosa (Tuberculos</td>\n",
              "      <td>Internet</td>\n",
              "      <td>Aparelho Respiratorio</td>\n",
              "      <td>Feminino</td>\n",
              "      <td>Doença</td>\n",
              "      <td>Maranhão</td>\n",
              "      <td>São Paulo</td>\n",
              "      <td>2022/05</td>\n",
              "      <td>0000/00</td>\n",
              "      <td>29/05/2022</td>\n",
              "      <td>13/09/1960</td>\n",
              "      <td>01/06/2022</td>\n",
              "      <td>47.715.347.000.184,,,,,,,,,,,,</td>\n",
              "    </tr>\n",
              "    <tr>\n",
              "      <th>3</th>\n",
              "      <td>Revestimento Ceramico (Azulejo,Mosaico,Etc.</td>\n",
              "      <td>2022/05</td>\n",
              "      <td>783225-Ajudante de Motorista</td>\n",
              "      <td>S90.3 Contusao de Outr Partes e Partes Ne Do</td>\n",
              "      <td>4744</td>\n",
              "      <td>Comercio Varejista de Ferragens,Madeira e Ma</td>\n",
              "      <td>Empregador</td>\n",
              "      <td>Pa</td>\n",
              "      <td>Empregado</td>\n",
              "      <td>Não</td>\n",
              "      <td>350210-Andradina</td>\n",
              "      <td>Contusao,Esmagamento (Superficie Cutanea I</td>\n",
              "      <td>Internet</td>\n",
              "      <td>Pe (Exceto Artelhos)</td>\n",
              "      <td>Masculino</td>\n",
              "      <td>Típico</td>\n",
              "      <td>Maranhão</td>\n",
              "      <td>São Paulo</td>\n",
              "      <td>2022/05</td>\n",
              "      <td>0000/00</td>\n",
              "      <td>31/05/2022</td>\n",
              "      <td>17/07/1994</td>\n",
              "      <td>01/06/2022</td>\n",
              "      <td>38.300.481.000.123,,,,,,,,</td>\n",
              "    </tr>\n",
              "    <tr>\n",
              "      <th>4</th>\n",
              "      <td>Calcada ou Caminho para Pedestre - Superficie</td>\n",
              "      <td>2022/05</td>\n",
              "      <td>322205-Tec. de Enfermagem</td>\n",
              "      <td>S51.0 Ferim do Cotovelo</td>\n",
              "      <td>8610</td>\n",
              "      <td>Atividades de Atendimento Hospitalar</td>\n",
              "      <td>Empregador</td>\n",
              "      <td>Pa</td>\n",
              "      <td>Empregado</td>\n",
              "      <td>Não</td>\n",
              "      <td>350950-Campinas</td>\n",
              "      <td>Escoriacao,Abrasao (Ferimento Superficial)</td>\n",
              "      <td>Internet</td>\n",
              "      <td>Cotovelo</td>\n",
              "      <td>Feminino</td>\n",
              "      <td>Trajeto</td>\n",
              "      <td>Maranhão</td>\n",
              "      <td>São Paulo</td>\n",
              "      <td>2022/05</td>\n",
              "      <td>0000/00</td>\n",
              "      <td>30/05/2022</td>\n",
              "      <td>30/01/1992</td>\n",
              "      <td>01/06/2022</td>\n",
              "      <td>46.020.301.000.269,,,,,,,,,,,</td>\n",
              "    </tr>\n",
              "    <tr>\n",
              "      <th>...</th>\n",
              "      <td>...</td>\n",
              "      <td>...</td>\n",
              "      <td>...</td>\n",
              "      <td>...</td>\n",
              "      <td>...</td>\n",
              "      <td>...</td>\n",
              "      <td>...</td>\n",
              "      <td>...</td>\n",
              "      <td>...</td>\n",
              "      <td>...</td>\n",
              "      <td>...</td>\n",
              "      <td>...</td>\n",
              "      <td>...</td>\n",
              "      <td>...</td>\n",
              "      <td>...</td>\n",
              "      <td>...</td>\n",
              "      <td>...</td>\n",
              "      <td>...</td>\n",
              "      <td>...</td>\n",
              "      <td>...</td>\n",
              "      <td>...</td>\n",
              "      <td>...</td>\n",
              "      <td>...</td>\n",
              "      <td>...</td>\n",
              "    </tr>\n",
              "    <tr>\n",
              "      <th>89597</th>\n",
              "      <td>{ñ class}</td>\n",
              "      <td>2022/04</td>\n",
              "      <td>000000-Não Informado</td>\n",
              "      <td>S82.6 Frat do Maleolo Lateral</td>\n",
              "      <td>0</td>\n",
              "      <td>{ñ class}</td>\n",
              "      <td>{ñ class}</td>\n",
              "      <td>Auxílio Doenca por Acidente do Trabalho</td>\n",
              "      <td>{ñ class}</td>\n",
              "      <td>{ñ</td>\n",
              "      <td>000000-Ignorado</td>\n",
              "      <td>{ñ class}</td>\n",
              "      <td>{ñ class</td>\n",
              "      <td>{ñ class}</td>\n",
              "      <td>Masculino</td>\n",
              "      <td>Ignorado</td>\n",
              "      <td>Sergipe</td>\n",
              "      <td>Zerado</td>\n",
              "      <td>2022/04</td>\n",
              "      <td>2022/06</td>\n",
              "      <td>12/04/2022</td>\n",
              "      <td>08/11/1965</td>\n",
              "      <td>00/00/0000</td>\n",
              "      <td>00.000.000.000.000,,,,,,,,,,,,</td>\n",
              "    </tr>\n",
              "    <tr>\n",
              "      <th>89598</th>\n",
              "      <td>{ñ class}</td>\n",
              "      <td>2022/04</td>\n",
              "      <td>000000-Não Informado</td>\n",
              "      <td>S82.1 Frat da Extremidade Proximal da Tibia</td>\n",
              "      <td>0</td>\n",
              "      <td>{ñ class}</td>\n",
              "      <td>{ñ class}</td>\n",
              "      <td>Auxílio Doenca por Acidente do Trabalho</td>\n",
              "      <td>{ñ class}</td>\n",
              "      <td>{ñ</td>\n",
              "      <td>000000-Ignorado</td>\n",
              "      <td>{ñ class}</td>\n",
              "      <td>{ñ class</td>\n",
              "      <td>{ñ class}</td>\n",
              "      <td>Masculino</td>\n",
              "      <td>Ignorado</td>\n",
              "      <td>Sergipe</td>\n",
              "      <td>Zerado</td>\n",
              "      <td>2022/04</td>\n",
              "      <td>2022/06</td>\n",
              "      <td>30/04/2022</td>\n",
              "      <td>21/11/1985</td>\n",
              "      <td>00/00/0000</td>\n",
              "      <td>00.000.000.000.000,,,,,,,,,,,,</td>\n",
              "    </tr>\n",
              "    <tr>\n",
              "      <th>89599</th>\n",
              "      <td>{ñ class}</td>\n",
              "      <td>2022/05</td>\n",
              "      <td>000000-Não Informado</td>\n",
              "      <td>S62.6 Frat de Outr Dedos</td>\n",
              "      <td>0</td>\n",
              "      <td>{ñ class}</td>\n",
              "      <td>{ñ class}</td>\n",
              "      <td>Auxílio Doenca por Acidente do Trabalho</td>\n",
              "      <td>{ñ class}</td>\n",
              "      <td>{ñ</td>\n",
              "      <td>000000-Ignorado</td>\n",
              "      <td>{ñ class}</td>\n",
              "      <td>{ñ class</td>\n",
              "      <td>{ñ class}</td>\n",
              "      <td>Masculino</td>\n",
              "      <td>Ignorado</td>\n",
              "      <td>Sergipe</td>\n",
              "      <td>Zerado</td>\n",
              "      <td>2022/05</td>\n",
              "      <td>2022/06</td>\n",
              "      <td>05/05/2022</td>\n",
              "      <td>27/01/1992</td>\n",
              "      <td>00/00/0000</td>\n",
              "      <td>00.000.000.000.000,,,,,,,,,,,,</td>\n",
              "    </tr>\n",
              "    <tr>\n",
              "      <th>89600</th>\n",
              "      <td>{ñ class}</td>\n",
              "      <td>2022/05</td>\n",
              "      <td>000000-Não Informado</td>\n",
              "      <td>S82.6 Frat do Maleolo Lateral</td>\n",
              "      <td>0</td>\n",
              "      <td>{ñ class}</td>\n",
              "      <td>{ñ class}</td>\n",
              "      <td>Auxílio Doenca por Acidente do Trabalho</td>\n",
              "      <td>{ñ class}</td>\n",
              "      <td>{ñ</td>\n",
              "      <td>000000-Ignorado</td>\n",
              "      <td>{ñ class}</td>\n",
              "      <td>{ñ class</td>\n",
              "      <td>{ñ class}</td>\n",
              "      <td>Masculino</td>\n",
              "      <td>Ignorado</td>\n",
              "      <td>Sergipe</td>\n",
              "      <td>Zerado</td>\n",
              "      <td>2022/05</td>\n",
              "      <td>2022/06</td>\n",
              "      <td>15/05/2022</td>\n",
              "      <td>14/01/1975</td>\n",
              "      <td>00/00/0000</td>\n",
              "      <td>00.000.000.000.000,,,,,,,,,,,,</td>\n",
              "    </tr>\n",
              "    <tr>\n",
              "      <th>89601</th>\n",
              "      <td>{ñ class}</td>\n",
              "      <td>2022/06</td>\n",
              "      <td>000000-Não Informado</td>\n",
              "      <td>K42   Hernia Umbilical</td>\n",
              "      <td>0</td>\n",
              "      <td>{ñ class}</td>\n",
              "      <td>{ñ class}</td>\n",
              "      <td>Auxílio Doenca por Acidente do Trabalho</td>\n",
              "      <td>{ñ class}</td>\n",
              "      <td>{ñ</td>\n",
              "      <td>000000-Ignorado</td>\n",
              "      <td>{ñ class}</td>\n",
              "      <td>{ñ class</td>\n",
              "      <td>{ñ class}</td>\n",
              "      <td>Masculino</td>\n",
              "      <td>Ignorado</td>\n",
              "      <td>Sergipe</td>\n",
              "      <td>Zerado</td>\n",
              "      <td>2022/06</td>\n",
              "      <td>2022/06</td>\n",
              "      <td>07/06/2022</td>\n",
              "      <td>24/07/1971</td>\n",
              "      <td>00/00/0000</td>\n",
              "      <td>00.000.000.000.000,,,,,,,,,,,,</td>\n",
              "    </tr>\n",
              "  </tbody>\n",
              "</table>\n",
              "<p>89602 rows × 24 columns</p>\n",
              "</div>\n",
              "      <button class=\"colab-df-convert\" onclick=\"convertToInteractive('df-3aefcc15-35ae-474b-bd44-56c37c4d72b0')\"\n",
              "              title=\"Convert this dataframe to an interactive table.\"\n",
              "              style=\"display:none;\">\n",
              "        \n",
              "  <svg xmlns=\"http://www.w3.org/2000/svg\" height=\"24px\"viewBox=\"0 0 24 24\"\n",
              "       width=\"24px\">\n",
              "    <path d=\"M0 0h24v24H0V0z\" fill=\"none\"/>\n",
              "    <path d=\"M18.56 5.44l.94 2.06.94-2.06 2.06-.94-2.06-.94-.94-2.06-.94 2.06-2.06.94zm-11 1L8.5 8.5l.94-2.06 2.06-.94-2.06-.94L8.5 2.5l-.94 2.06-2.06.94zm10 10l.94 2.06.94-2.06 2.06-.94-2.06-.94-.94-2.06-.94 2.06-2.06.94z\"/><path d=\"M17.41 7.96l-1.37-1.37c-.4-.4-.92-.59-1.43-.59-.52 0-1.04.2-1.43.59L10.3 9.45l-7.72 7.72c-.78.78-.78 2.05 0 2.83L4 21.41c.39.39.9.59 1.41.59.51 0 1.02-.2 1.41-.59l7.78-7.78 2.81-2.81c.8-.78.8-2.07 0-2.86zM5.41 20L4 18.59l7.72-7.72 1.47 1.35L5.41 20z\"/>\n",
              "  </svg>\n",
              "      </button>\n",
              "      \n",
              "  <style>\n",
              "    .colab-df-container {\n",
              "      display:flex;\n",
              "      flex-wrap:wrap;\n",
              "      gap: 12px;\n",
              "    }\n",
              "\n",
              "    .colab-df-convert {\n",
              "      background-color: #E8F0FE;\n",
              "      border: none;\n",
              "      border-radius: 50%;\n",
              "      cursor: pointer;\n",
              "      display: none;\n",
              "      fill: #1967D2;\n",
              "      height: 32px;\n",
              "      padding: 0 0 0 0;\n",
              "      width: 32px;\n",
              "    }\n",
              "\n",
              "    .colab-df-convert:hover {\n",
              "      background-color: #E2EBFA;\n",
              "      box-shadow: 0px 1px 2px rgba(60, 64, 67, 0.3), 0px 1px 3px 1px rgba(60, 64, 67, 0.15);\n",
              "      fill: #174EA6;\n",
              "    }\n",
              "\n",
              "    [theme=dark] .colab-df-convert {\n",
              "      background-color: #3B4455;\n",
              "      fill: #D2E3FC;\n",
              "    }\n",
              "\n",
              "    [theme=dark] .colab-df-convert:hover {\n",
              "      background-color: #434B5C;\n",
              "      box-shadow: 0px 1px 3px 1px rgba(0, 0, 0, 0.15);\n",
              "      filter: drop-shadow(0px 1px 2px rgba(0, 0, 0, 0.3));\n",
              "      fill: #FFFFFF;\n",
              "    }\n",
              "  </style>\n",
              "\n",
              "      <script>\n",
              "        const buttonEl =\n",
              "          document.querySelector('#df-3aefcc15-35ae-474b-bd44-56c37c4d72b0 button.colab-df-convert');\n",
              "        buttonEl.style.display =\n",
              "          google.colab.kernel.accessAllowed ? 'block' : 'none';\n",
              "\n",
              "        async function convertToInteractive(key) {\n",
              "          const element = document.querySelector('#df-3aefcc15-35ae-474b-bd44-56c37c4d72b0');\n",
              "          const dataTable =\n",
              "            await google.colab.kernel.invokeFunction('convertToInteractive',\n",
              "                                                     [key], {});\n",
              "          if (!dataTable) return;\n",
              "\n",
              "          const docLinkHtml = 'Like what you see? Visit the ' +\n",
              "            '<a target=\"_blank\" href=https://colab.research.google.com/notebooks/data_table.ipynb>data table notebook</a>'\n",
              "            + ' to learn more about interactive tables.';\n",
              "          element.innerHTML = '';\n",
              "          dataTable['output_type'] = 'display_data';\n",
              "          await google.colab.output.renderOutput(dataTable, element);\n",
              "          const docLink = document.createElement('div');\n",
              "          docLink.innerHTML = docLinkHtml;\n",
              "          element.appendChild(docLink);\n",
              "        }\n",
              "      </script>\n",
              "    </div>\n",
              "  </div>\n",
              "  "
            ]
          },
          "metadata": {},
          "execution_count": 80
        }
      ]
    },
    {
      "cell_type": "code",
      "source": [
        "#Renomeando Colunas\n",
        "df2.dtypes"
      ],
      "metadata": {
        "colab": {
          "base_uri": "https://localhost:8080/"
        },
        "id": "wwlfrclGQdt4",
        "outputId": "cd152b96-07d5-4aa6-f21f-42f9048473e2"
      },
      "execution_count": null,
      "outputs": [
        {
          "output_type": "execute_result",
          "data": {
            "text/plain": [
              "Agente  Causador  Acidente         object\n",
              "Data Acidente                      object\n",
              "CBO                                object\n",
              "CID-10                             object\n",
              "CNAE2.0 Empregador                  int64\n",
              "CNAE2.0 Empregador.1               object\n",
              "Emitente CAT                       object\n",
              "Espécie do benefício               object\n",
              "Filiação Segurado                  object\n",
              "Indica Óbito Acidente              object\n",
              "Munic Empr                         object\n",
              "Natureza da Lesão                  object\n",
              "Origem de Cadastramento CAT        object\n",
              "Parte Corpo Atingida               object\n",
              "Sexo                               object\n",
              "Tipo do Acidente                   object\n",
              "UF  Munic.  Acidente               object\n",
              "UF Munic. Empregador               object\n",
              "Data Acidente.1                    object\n",
              "Data Despacho Benefício            object\n",
              "Data Acidente.2                    object\n",
              "Data Nascimento                    object\n",
              "Data Emissão CAT                   object\n",
              "CNPJ/CEI Empregador,,,,,,,,,,,,    object\n",
              "dtype: object"
            ]
          },
          "metadata": {},
          "execution_count": 81
        }
      ]
    },
    {
      "cell_type": "code",
      "source": [
        "df2.rename(columns={'CBO':'cbo',\n",
        "                    'Agente  Causador  Acidente':'agt_causador',\n",
        "                    'Data Acidente':'dt_acidente',\n",
        "                    'CID-10':'cid',\n",
        "                    'CNAE2.0 Empregador':'cnae_cod',\n",
        "                    'CNAE2.0 Empregador.1':'cnae_desc',\n",
        "                    'Emitente CAT':'cat',\n",
        "                    'Espécie do benefício':'beneficio',\n",
        "                    'Filiação Segurado':'filiacao',\n",
        "                    'Indica Óbito Acidente':'obito',\n",
        "                    'Munic Empr':'municipio',\n",
        "                    'Natureza da Lesão':'lesao',\n",
        "                    'Origem de Cadastramento CAT':'origem_cad',\n",
        "                    'Parte Corpo Atingida':'local_lesao',\n",
        "                    'Sexo':'sexo',\n",
        "                    'Tipo do Acidente':'tipo_acidente',\n",
        "                    'UF  Munic.  Acidente':'uf_acidente',\n",
        "                    'UF Munic. Empregador':'uf_empregador',\n",
        "                    'Data Acidente.1':'mes_afastamento',\n",
        "                    'Data Despacho Benefício':'dt_despacho',\n",
        "                    'Data Acidente.2':'dt_acidente2',\n",
        "                    'Data Nascimento':'dt_nasc',\n",
        "                    'Data Emissão CAT':'dt_emissao_cat',\n",
        "                    'CNPJ/CEI Empregador,,,,,,,,,,,,':'cnpj_cei'\n",
        "                    }, inplace=True)"
      ],
      "metadata": {
        "id": "Lyy29QGqQnJx"
      },
      "execution_count": null,
      "outputs": []
    },
    {
      "cell_type": "code",
      "source": [
        "#verificando se ficou tudo ok\n",
        "df2.dtypes"
      ],
      "metadata": {
        "colab": {
          "base_uri": "https://localhost:8080/"
        },
        "id": "en6gs5I0RU76",
        "outputId": "9bc29f8b-ba88-4bbb-8bae-18b8a4c816e5"
      },
      "execution_count": null,
      "outputs": [
        {
          "output_type": "execute_result",
          "data": {
            "text/plain": [
              "agt_causador       object\n",
              "dt_acidente        object\n",
              "cbo                object\n",
              "cid                object\n",
              "cnae_cod            int64\n",
              "cnae_desc          object\n",
              "cat                object\n",
              "beneficio          object\n",
              "filiacao           object\n",
              "obito              object\n",
              "municipio          object\n",
              "lesao              object\n",
              "origem_cad         object\n",
              "local_lesao        object\n",
              "sexo               object\n",
              "tipo_acidente      object\n",
              "uf_acidente        object\n",
              "uf_empregador      object\n",
              "mes_afastamento    object\n",
              "dt_despacho        object\n",
              "dt_acidente2       object\n",
              "dt_nasc            object\n",
              "dt_emissao_cat     object\n",
              "cnpj_cei           object\n",
              "dtype: object"
            ]
          },
          "metadata": {},
          "execution_count": 83
        }
      ]
    },
    {
      "cell_type": "code",
      "source": [
        "#Ajustando valores inconsistentes de primeira vista no df\n",
        "df2.replace([',','-'],' ',regex=True, inplace=True)"
      ],
      "metadata": {
        "id": "1xlxS11gRb7n"
      },
      "execution_count": null,
      "outputs": []
    },
    {
      "cell_type": "code",
      "source": [
        "#Substituindo valores inconsistentes de primeira vista no df por <NA>\n",
        "df2.replace(['{ñ class}', '{ñ class', '{ñ'],pd.NA,regex=True, inplace=True)"
      ],
      "metadata": {
        "id": "DEBF_hACRpz_"
      },
      "execution_count": null,
      "outputs": []
    },
    {
      "cell_type": "code",
      "source": [
        "#Remoção de espaços em branco no df\n",
        "# aplicando a função removedora de espaços em branco\n",
        "remove_espaco(df2)"
      ],
      "metadata": {
        "id": "VgC4LpQLR-eF"
      },
      "execution_count": null,
      "outputs": []
    },
    {
      "cell_type": "code",
      "source": [
        "#Verificando se ficou tudo ok\n",
        "df2.head()"
      ],
      "metadata": {
        "colab": {
          "base_uri": "https://localhost:8080/"
        },
        "id": "8tGCB7MySBcm",
        "outputId": "38554fba-93f6-4dee-a5e7-04658c0f02d4"
      },
      "execution_count": null,
      "outputs": [
        {
          "output_type": "execute_result",
          "data": {
            "text/plain": [
              "                                    agt_causador dt_acidente  \\\n",
              "0                                           <NA>     2022/05   \n",
              "1  Rua e Estrada   Superficie Utilizada para Sus     2022/05   \n",
              "2                                           <NA>     2022/05   \n",
              "3    Revestimento Ceramico (Azulejo Mosaico Etc.     2022/05   \n",
              "4  Calcada ou Caminho para Pedestre   Superficie     2022/05   \n",
              "\n",
              "                                            cbo  \\\n",
              "0                     322205 Tec. de Enfermagem   \n",
              "1  992225 Auxiliar Geral de Conservação de Vias   \n",
              "2                                          <NA>   \n",
              "3                  783225 Ajudante de Motorista   \n",
              "4                     322205 Tec. de Enfermagem   \n",
              "\n",
              "                                             cid  cnae_cod  \\\n",
              "0  Y28.2 Escolas Outr Instit Areas Admin Publica      8630   \n",
              "1         S93.4 Entorse e Distensao do Tornozelo      8630   \n",
              "2                  B34.2 Infecc p/Coronavirus Ne      8513   \n",
              "3   S90.3 Contusao de Outr Partes e Partes Ne Do      4744   \n",
              "4                        S51.0 Ferim do Cotovelo      8610   \n",
              "\n",
              "                                       cnae_desc         cat beneficio  \\\n",
              "0  Atividades de Atencao Ambulatorial Executadas  Empregador        Pa   \n",
              "1  Atividades de Atencao Ambulatorial Executadas  Empregador        Pa   \n",
              "2                             Ensino Fundamental  Empregador        Pa   \n",
              "3   Comercio Varejista de Ferragens Madeira e Ma  Empregador        Pa   \n",
              "4           Atividades de Atendimento Hospitalar  Empregador        Pa   \n",
              "\n",
              "    filiacao obito              municipio  \\\n",
              "0  Empregado   Não  354780 Santo André Sp   \n",
              "1  Empregado   Não  354780 Santo André Sp   \n",
              "2  Empregado   Não  354780 Santo André Sp   \n",
              "3  Empregado   Não       350210 Andradina   \n",
              "4  Empregado   Não        350950 Campinas   \n",
              "\n",
              "                                         lesao origem_cad  \\\n",
              "0                               Lesao Imediata   Internet   \n",
              "1                                      Luxacao   Internet   \n",
              "2  Doenca Contagiosa ou Infecciosa (Tuberculos   Internet   \n",
              "3   Contusao Esmagamento (Superficie Cutanea I   Internet   \n",
              "4   Escoriacao Abrasao (Ferimento Superficial)   Internet   \n",
              "\n",
              "                                  local_lesao       sexo tipo_acidente  \\\n",
              "0                                        Dedo  Masculino        Típico   \n",
              "1  Perna (Do Tornozelo Exclusive ao Joelho Ex   Feminino       Trajeto   \n",
              "2                       Aparelho Respiratorio   Feminino        Doença   \n",
              "3                        Pe (Exceto Artelhos)  Masculino        Típico   \n",
              "4                                    Cotovelo   Feminino       Trajeto   \n",
              "\n",
              "  uf_acidente uf_empregador mes_afastamento dt_despacho dt_acidente2  \\\n",
              "0    Maranhão     São Paulo         2022/05     0000/00   26/05/2022   \n",
              "1    Maranhão     São Paulo         2022/05     0000/00   26/05/2022   \n",
              "2    Maranhão     São Paulo         2022/05     0000/00   29/05/2022   \n",
              "3    Maranhão     São Paulo         2022/05     0000/00   31/05/2022   \n",
              "4    Maranhão     São Paulo         2022/05     0000/00   30/05/2022   \n",
              "\n",
              "      dt_nasc dt_emissao_cat            cnpj_cei  \n",
              "0  13/11/1989     01/06/2022  57.571.275.002.570  \n",
              "1  19/04/1990     01/06/2022  57.571.275.002.570  \n",
              "2  13/09/1960     01/06/2022  47.715.347.000.184  \n",
              "3  17/07/1994     01/06/2022  38.300.481.000.123  \n",
              "4  30/01/1992     01/06/2022  46.020.301.000.269  "
            ],
            "text/html": [
              "\n",
              "  <div id=\"df-3d0601a7-7ba8-407f-9db0-78ee53afdc25\">\n",
              "    <div class=\"colab-df-container\">\n",
              "      <div>\n",
              "<style scoped>\n",
              "    .dataframe tbody tr th:only-of-type {\n",
              "        vertical-align: middle;\n",
              "    }\n",
              "\n",
              "    .dataframe tbody tr th {\n",
              "        vertical-align: top;\n",
              "    }\n",
              "\n",
              "    .dataframe thead th {\n",
              "        text-align: right;\n",
              "    }\n",
              "</style>\n",
              "<table border=\"1\" class=\"dataframe\">\n",
              "  <thead>\n",
              "    <tr style=\"text-align: right;\">\n",
              "      <th></th>\n",
              "      <th>agt_causador</th>\n",
              "      <th>dt_acidente</th>\n",
              "      <th>cbo</th>\n",
              "      <th>cid</th>\n",
              "      <th>cnae_cod</th>\n",
              "      <th>cnae_desc</th>\n",
              "      <th>cat</th>\n",
              "      <th>beneficio</th>\n",
              "      <th>filiacao</th>\n",
              "      <th>obito</th>\n",
              "      <th>municipio</th>\n",
              "      <th>lesao</th>\n",
              "      <th>origem_cad</th>\n",
              "      <th>local_lesao</th>\n",
              "      <th>sexo</th>\n",
              "      <th>tipo_acidente</th>\n",
              "      <th>uf_acidente</th>\n",
              "      <th>uf_empregador</th>\n",
              "      <th>mes_afastamento</th>\n",
              "      <th>dt_despacho</th>\n",
              "      <th>dt_acidente2</th>\n",
              "      <th>dt_nasc</th>\n",
              "      <th>dt_emissao_cat</th>\n",
              "      <th>cnpj_cei</th>\n",
              "    </tr>\n",
              "  </thead>\n",
              "  <tbody>\n",
              "    <tr>\n",
              "      <th>0</th>\n",
              "      <td>&lt;NA&gt;</td>\n",
              "      <td>2022/05</td>\n",
              "      <td>322205 Tec. de Enfermagem</td>\n",
              "      <td>Y28.2 Escolas Outr Instit Areas Admin Publica</td>\n",
              "      <td>8630</td>\n",
              "      <td>Atividades de Atencao Ambulatorial Executadas</td>\n",
              "      <td>Empregador</td>\n",
              "      <td>Pa</td>\n",
              "      <td>Empregado</td>\n",
              "      <td>Não</td>\n",
              "      <td>354780 Santo André Sp</td>\n",
              "      <td>Lesao Imediata</td>\n",
              "      <td>Internet</td>\n",
              "      <td>Dedo</td>\n",
              "      <td>Masculino</td>\n",
              "      <td>Típico</td>\n",
              "      <td>Maranhão</td>\n",
              "      <td>São Paulo</td>\n",
              "      <td>2022/05</td>\n",
              "      <td>0000/00</td>\n",
              "      <td>26/05/2022</td>\n",
              "      <td>13/11/1989</td>\n",
              "      <td>01/06/2022</td>\n",
              "      <td>57.571.275.002.570</td>\n",
              "    </tr>\n",
              "    <tr>\n",
              "      <th>1</th>\n",
              "      <td>Rua e Estrada   Superficie Utilizada para Sus</td>\n",
              "      <td>2022/05</td>\n",
              "      <td>992225 Auxiliar Geral de Conservação de Vias</td>\n",
              "      <td>S93.4 Entorse e Distensao do Tornozelo</td>\n",
              "      <td>8630</td>\n",
              "      <td>Atividades de Atencao Ambulatorial Executadas</td>\n",
              "      <td>Empregador</td>\n",
              "      <td>Pa</td>\n",
              "      <td>Empregado</td>\n",
              "      <td>Não</td>\n",
              "      <td>354780 Santo André Sp</td>\n",
              "      <td>Luxacao</td>\n",
              "      <td>Internet</td>\n",
              "      <td>Perna (Do Tornozelo Exclusive ao Joelho Ex</td>\n",
              "      <td>Feminino</td>\n",
              "      <td>Trajeto</td>\n",
              "      <td>Maranhão</td>\n",
              "      <td>São Paulo</td>\n",
              "      <td>2022/05</td>\n",
              "      <td>0000/00</td>\n",
              "      <td>26/05/2022</td>\n",
              "      <td>19/04/1990</td>\n",
              "      <td>01/06/2022</td>\n",
              "      <td>57.571.275.002.570</td>\n",
              "    </tr>\n",
              "    <tr>\n",
              "      <th>2</th>\n",
              "      <td>&lt;NA&gt;</td>\n",
              "      <td>2022/05</td>\n",
              "      <td>&lt;NA&gt;</td>\n",
              "      <td>B34.2 Infecc p/Coronavirus Ne</td>\n",
              "      <td>8513</td>\n",
              "      <td>Ensino Fundamental</td>\n",
              "      <td>Empregador</td>\n",
              "      <td>Pa</td>\n",
              "      <td>Empregado</td>\n",
              "      <td>Não</td>\n",
              "      <td>354780 Santo André Sp</td>\n",
              "      <td>Doenca Contagiosa ou Infecciosa (Tuberculos</td>\n",
              "      <td>Internet</td>\n",
              "      <td>Aparelho Respiratorio</td>\n",
              "      <td>Feminino</td>\n",
              "      <td>Doença</td>\n",
              "      <td>Maranhão</td>\n",
              "      <td>São Paulo</td>\n",
              "      <td>2022/05</td>\n",
              "      <td>0000/00</td>\n",
              "      <td>29/05/2022</td>\n",
              "      <td>13/09/1960</td>\n",
              "      <td>01/06/2022</td>\n",
              "      <td>47.715.347.000.184</td>\n",
              "    </tr>\n",
              "    <tr>\n",
              "      <th>3</th>\n",
              "      <td>Revestimento Ceramico (Azulejo Mosaico Etc.</td>\n",
              "      <td>2022/05</td>\n",
              "      <td>783225 Ajudante de Motorista</td>\n",
              "      <td>S90.3 Contusao de Outr Partes e Partes Ne Do</td>\n",
              "      <td>4744</td>\n",
              "      <td>Comercio Varejista de Ferragens Madeira e Ma</td>\n",
              "      <td>Empregador</td>\n",
              "      <td>Pa</td>\n",
              "      <td>Empregado</td>\n",
              "      <td>Não</td>\n",
              "      <td>350210 Andradina</td>\n",
              "      <td>Contusao Esmagamento (Superficie Cutanea I</td>\n",
              "      <td>Internet</td>\n",
              "      <td>Pe (Exceto Artelhos)</td>\n",
              "      <td>Masculino</td>\n",
              "      <td>Típico</td>\n",
              "      <td>Maranhão</td>\n",
              "      <td>São Paulo</td>\n",
              "      <td>2022/05</td>\n",
              "      <td>0000/00</td>\n",
              "      <td>31/05/2022</td>\n",
              "      <td>17/07/1994</td>\n",
              "      <td>01/06/2022</td>\n",
              "      <td>38.300.481.000.123</td>\n",
              "    </tr>\n",
              "    <tr>\n",
              "      <th>4</th>\n",
              "      <td>Calcada ou Caminho para Pedestre   Superficie</td>\n",
              "      <td>2022/05</td>\n",
              "      <td>322205 Tec. de Enfermagem</td>\n",
              "      <td>S51.0 Ferim do Cotovelo</td>\n",
              "      <td>8610</td>\n",
              "      <td>Atividades de Atendimento Hospitalar</td>\n",
              "      <td>Empregador</td>\n",
              "      <td>Pa</td>\n",
              "      <td>Empregado</td>\n",
              "      <td>Não</td>\n",
              "      <td>350950 Campinas</td>\n",
              "      <td>Escoriacao Abrasao (Ferimento Superficial)</td>\n",
              "      <td>Internet</td>\n",
              "      <td>Cotovelo</td>\n",
              "      <td>Feminino</td>\n",
              "      <td>Trajeto</td>\n",
              "      <td>Maranhão</td>\n",
              "      <td>São Paulo</td>\n",
              "      <td>2022/05</td>\n",
              "      <td>0000/00</td>\n",
              "      <td>30/05/2022</td>\n",
              "      <td>30/01/1992</td>\n",
              "      <td>01/06/2022</td>\n",
              "      <td>46.020.301.000.269</td>\n",
              "    </tr>\n",
              "  </tbody>\n",
              "</table>\n",
              "</div>\n",
              "      <button class=\"colab-df-convert\" onclick=\"convertToInteractive('df-3d0601a7-7ba8-407f-9db0-78ee53afdc25')\"\n",
              "              title=\"Convert this dataframe to an interactive table.\"\n",
              "              style=\"display:none;\">\n",
              "        \n",
              "  <svg xmlns=\"http://www.w3.org/2000/svg\" height=\"24px\"viewBox=\"0 0 24 24\"\n",
              "       width=\"24px\">\n",
              "    <path d=\"M0 0h24v24H0V0z\" fill=\"none\"/>\n",
              "    <path d=\"M18.56 5.44l.94 2.06.94-2.06 2.06-.94-2.06-.94-.94-2.06-.94 2.06-2.06.94zm-11 1L8.5 8.5l.94-2.06 2.06-.94-2.06-.94L8.5 2.5l-.94 2.06-2.06.94zm10 10l.94 2.06.94-2.06 2.06-.94-2.06-.94-.94-2.06-.94 2.06-2.06.94z\"/><path d=\"M17.41 7.96l-1.37-1.37c-.4-.4-.92-.59-1.43-.59-.52 0-1.04.2-1.43.59L10.3 9.45l-7.72 7.72c-.78.78-.78 2.05 0 2.83L4 21.41c.39.39.9.59 1.41.59.51 0 1.02-.2 1.41-.59l7.78-7.78 2.81-2.81c.8-.78.8-2.07 0-2.86zM5.41 20L4 18.59l7.72-7.72 1.47 1.35L5.41 20z\"/>\n",
              "  </svg>\n",
              "      </button>\n",
              "      \n",
              "  <style>\n",
              "    .colab-df-container {\n",
              "      display:flex;\n",
              "      flex-wrap:wrap;\n",
              "      gap: 12px;\n",
              "    }\n",
              "\n",
              "    .colab-df-convert {\n",
              "      background-color: #E8F0FE;\n",
              "      border: none;\n",
              "      border-radius: 50%;\n",
              "      cursor: pointer;\n",
              "      display: none;\n",
              "      fill: #1967D2;\n",
              "      height: 32px;\n",
              "      padding: 0 0 0 0;\n",
              "      width: 32px;\n",
              "    }\n",
              "\n",
              "    .colab-df-convert:hover {\n",
              "      background-color: #E2EBFA;\n",
              "      box-shadow: 0px 1px 2px rgba(60, 64, 67, 0.3), 0px 1px 3px 1px rgba(60, 64, 67, 0.15);\n",
              "      fill: #174EA6;\n",
              "    }\n",
              "\n",
              "    [theme=dark] .colab-df-convert {\n",
              "      background-color: #3B4455;\n",
              "      fill: #D2E3FC;\n",
              "    }\n",
              "\n",
              "    [theme=dark] .colab-df-convert:hover {\n",
              "      background-color: #434B5C;\n",
              "      box-shadow: 0px 1px 3px 1px rgba(0, 0, 0, 0.15);\n",
              "      filter: drop-shadow(0px 1px 2px rgba(0, 0, 0, 0.3));\n",
              "      fill: #FFFFFF;\n",
              "    }\n",
              "  </style>\n",
              "\n",
              "      <script>\n",
              "        const buttonEl =\n",
              "          document.querySelector('#df-3d0601a7-7ba8-407f-9db0-78ee53afdc25 button.colab-df-convert');\n",
              "        buttonEl.style.display =\n",
              "          google.colab.kernel.accessAllowed ? 'block' : 'none';\n",
              "\n",
              "        async function convertToInteractive(key) {\n",
              "          const element = document.querySelector('#df-3d0601a7-7ba8-407f-9db0-78ee53afdc25');\n",
              "          const dataTable =\n",
              "            await google.colab.kernel.invokeFunction('convertToInteractive',\n",
              "                                                     [key], {});\n",
              "          if (!dataTable) return;\n",
              "\n",
              "          const docLinkHtml = 'Like what you see? Visit the ' +\n",
              "            '<a target=\"_blank\" href=https://colab.research.google.com/notebooks/data_table.ipynb>data table notebook</a>'\n",
              "            + ' to learn more about interactive tables.';\n",
              "          element.innerHTML = '';\n",
              "          dataTable['output_type'] = 'display_data';\n",
              "          await google.colab.output.renderOutput(dataTable, element);\n",
              "          const docLink = document.createElement('div');\n",
              "          docLink.innerHTML = docLinkHtml;\n",
              "          element.appendChild(docLink);\n",
              "        }\n",
              "      </script>\n",
              "    </div>\n",
              "  </div>\n",
              "  "
            ]
          },
          "metadata": {},
          "execution_count": 87
        }
      ]
    },
    {
      "cell_type": "markdown",
      "source": [
        "#TRATAMENTO DE COLUNAS: df2"
      ],
      "metadata": {
        "id": "bMGbJM9fSOTh"
      }
    },
    {
      "cell_type": "markdown",
      "source": [
        "##df2: Coluna agt_causador"
      ],
      "metadata": {
        "id": "9VIqeAc_Tn2x"
      }
    },
    {
      "cell_type": "code",
      "source": [
        "df2['agt_causador'].value_counts()"
      ],
      "metadata": {
        "colab": {
          "base_uri": "https://localhost:8080/"
        },
        "id": "-FRc4s5YVCQo",
        "outputId": "caa329d3-3708-4355-d12f-ac8fe078ce95"
      },
      "execution_count": null,
      "outputs": [
        {
          "output_type": "execute_result",
          "data": {
            "text/plain": [
              "Motocicleta Motoneta                             2521\n",
              "Impacto de Pes. Contra Objeto em Movimento       2325\n",
              "Rua e Estrada   Superficie Utilizada para Sus    1902\n",
              "Impacto de Pes. Contra Objeto Parado             1770\n",
              "Chao   Superficie Utilizada para Sustentar Pe    1596\n",
              "                                                 ... \n",
              "Turbina                                             1\n",
              "Legume Verdura e Derivados                          1\n",
              "Ferro de Passar  Ferramenta Portatil com Forc       1\n",
              "Nafta e Solvente de Nafta (Eter de Petroleo         1\n",
              "Equip. Magnetico   Equip. Eletrico                  1\n",
              "Name: agt_causador, Length: 283, dtype: int64"
            ]
          },
          "metadata": {},
          "execution_count": 88
        }
      ]
    },
    {
      "cell_type": "markdown",
      "source": [
        "##df2: Coluna dt_acidente"
      ],
      "metadata": {
        "id": "jFE65HkpTpoh"
      }
    },
    {
      "cell_type": "code",
      "source": [
        "df2['dt_acidente'].value_counts()"
      ],
      "metadata": {
        "colab": {
          "base_uri": "https://localhost:8080/"
        },
        "id": "OaEU24jmVDBv",
        "outputId": "a3501e6f-b9d0-436f-a585-27dfe2ab668d"
      },
      "execution_count": null,
      "outputs": [
        {
          "output_type": "execute_result",
          "data": {
            "text/plain": [
              "2022/06    39459\n",
              "2022/05    12828\n",
              "2022/03    10221\n",
              "2022/02     9656\n",
              "2022/01     9647\n",
              "2022/04     7791\n",
              "Name: dt_acidente, dtype: int64"
            ]
          },
          "metadata": {},
          "execution_count": 89
        }
      ]
    },
    {
      "cell_type": "markdown",
      "source": [
        "##df2: Coluna cbo"
      ],
      "metadata": {
        "id": "dz-Kybh9TvK2"
      }
    },
    {
      "cell_type": "code",
      "source": [
        "df2['cbo'].value_counts()"
      ],
      "metadata": {
        "colab": {
          "base_uri": "https://localhost:8080/"
        },
        "id": "8qG1sDfxVFLZ",
        "outputId": "dfe16d12-b591-47df-d07a-a8c34059a1c0"
      },
      "execution_count": null,
      "outputs": [
        {
          "output_type": "execute_result",
          "data": {
            "text/plain": [
              "000000 Não Informado                             39919\n",
              "322205 Tec. de Enfermagem                         3642\n",
              "784205 Alimentador de Linha de Prod.              3066\n",
              "782510 Motorista de Caminhão (Rotas Regionais     1238\n",
              "717020 Servente de Obras                          1140\n",
              "                                                 ...  \n",
              "322305 Tec. em óptica e Optometria                   1\n",
              "771115 Maquetista na Marcenaria                      1\n",
              "234730 Prof. Direito do Ensino Superior              1\n",
              "214505 Eng. Químico                                  1\n",
              "411035 Auxiliar Estatística                          1\n",
              "Name: cbo, Length: 1345, dtype: int64"
            ]
          },
          "metadata": {},
          "execution_count": 90
        }
      ]
    },
    {
      "cell_type": "code",
      "source": [
        "#separando o código do texto da coluna cbo (Código Brasileiro de Ocupação)\n",
        "df2['cbo_cod'] = df2['cbo'].str.slice(0, 7)"
      ],
      "metadata": {
        "id": "YtXlha2WWFLq"
      },
      "execution_count": null,
      "outputs": []
    },
    {
      "cell_type": "code",
      "source": [
        "#Renomeando a coluna cbo para cbo_desc ('cbo descrição')\n",
        "df2.rename(columns={'cbo':'cbo_desc'}, inplace=True)"
      ],
      "metadata": {
        "id": "i1602GWVWLfh"
      },
      "execution_count": null,
      "outputs": []
    },
    {
      "cell_type": "code",
      "source": [
        "#removendo os números da coluna cbo_desc\n",
        "df2['cbo_desc'] = df2['cbo_desc'].str.replace(r'\\d+','', regex=True)"
      ],
      "metadata": {
        "id": "NfIiMCpSWVTr"
      },
      "execution_count": null,
      "outputs": []
    },
    {
      "cell_type": "markdown",
      "source": [
        "##df2: Coluna cbo_cod"
      ],
      "metadata": {
        "id": "XhJkTB9eTzL8"
      }
    },
    {
      "cell_type": "code",
      "source": [
        "df2['cbo_cod'].value_counts()"
      ],
      "metadata": {
        "colab": {
          "base_uri": "https://localhost:8080/"
        },
        "id": "-C7ZoHGTVF9W",
        "outputId": "441953a7-0888-4445-ed4c-c966359c6f51"
      },
      "execution_count": null,
      "outputs": [
        {
          "output_type": "execute_result",
          "data": {
            "text/plain": [
              "000000     39919\n",
              "322205      3642\n",
              "784205      3066\n",
              "782510      1238\n",
              "717020      1140\n",
              "           ...  \n",
              "322305         1\n",
              "771115         1\n",
              "234730         1\n",
              "214505         1\n",
              "411035         1\n",
              "Name: cbo_cod, Length: 1345, dtype: int64"
            ]
          },
          "metadata": {},
          "execution_count": 94
        }
      ]
    },
    {
      "cell_type": "code",
      "source": [
        "#Valores '0000000' foram considerados inconsistencias, mudamos pra NA\n",
        "df2['cbo_cod'].replace(['000000'], pd.NA, regex=True, inplace=True)"
      ],
      "metadata": {
        "id": "EWW88EO7Whip"
      },
      "execution_count": null,
      "outputs": []
    },
    {
      "cell_type": "markdown",
      "source": [
        "##df2: Coluna cbo_desc"
      ],
      "metadata": {
        "id": "bZ8dG_FFT1Fv"
      }
    },
    {
      "cell_type": "code",
      "source": [
        "df2['cbo_desc'].value_counts()"
      ],
      "metadata": {
        "colab": {
          "base_uri": "https://localhost:8080/"
        },
        "id": "p5akt-N6VGiA",
        "outputId": "23f533ed-bc17-46f9-8714-92c8835ce260"
      },
      "execution_count": null,
      "outputs": [
        {
          "output_type": "execute_result",
          "data": {
            "text/plain": [
              " Não Informado                             39919\n",
              " Tec. de Enfermagem                         3642\n",
              " Alimentador de Linha de Prod.              3066\n",
              " Motorista de Caminhão (Rotas Regionais     1238\n",
              " Servente de Obras                          1140\n",
              "                                           ...  \n",
              " Oper. Máquina de Extração Contínua (Mi        1\n",
              " Piloto Fluvial                                1\n",
              " Tec. em óptica e Optometria                   1\n",
              " Maquetista na Marcenaria                      1\n",
              " Auxiliar Estatística                          1\n",
              "Name: cbo_desc, Length: 1344, dtype: int64"
            ]
          },
          "metadata": {},
          "execution_count": 96
        }
      ]
    },
    {
      "cell_type": "code",
      "source": [
        "#Valores 'Não informado' foram considerados inconsistencias, mudamos para NA\n",
        "df2['cbo_desc'].replace(['Não Informado'], pd.NA, regex=True, inplace=True)"
      ],
      "metadata": {
        "id": "UHxvnK3TWu8l"
      },
      "execution_count": null,
      "outputs": []
    },
    {
      "cell_type": "markdown",
      "source": [
        "##df2: Coluna cid"
      ],
      "metadata": {
        "id": "za80H_VDT324"
      }
    },
    {
      "cell_type": "code",
      "source": [
        "df2['cid'].value_counts()"
      ],
      "metadata": {
        "colab": {
          "base_uri": "https://localhost:8080/"
        },
        "id": "8HRuw8-vVHAj",
        "outputId": "e69061d5-2b23-4d94-fd3c-8a4699da27c8"
      },
      "execution_count": null,
      "outputs": [
        {
          "output_type": "execute_result",
          "data": {
            "text/plain": [
              "S62.6 Frat de Outr Dedos                         4090\n",
              "S61.0 Ferim de Dedos s/Lesao da Unha             2729\n",
              "S61.1 Ferim de Dedos c/Lesao da Unha             2306\n",
              "S93.4 Entorse e Distensao do Tornozelo           2226\n",
              "S52.5 Frat da Extremidade Distal do Radio        1889\n",
              "                                                 ... \n",
              "Y87.1 Sequelas de Uma Agressao                      1\n",
              "L98.0 Granuloma Piogenico                           1\n",
              "T26.8 Corrosao de Outr Partes do Olho e Anexo       1\n",
              "M90.7 Frat Ossea em Doenc Neoplasicas               1\n",
              "B50   Malaria p/Plasmodium Falciparum               1\n",
              "Name: cid, Length: 2436, dtype: int64"
            ]
          },
          "metadata": {},
          "execution_count": 98
        }
      ]
    },
    {
      "cell_type": "code",
      "source": [
        "#Separando os valores numéricos dos valores escritos da coluna cid\n",
        "df2['cod_cid'] = df2['cid'].str.slice(0,6)"
      ],
      "metadata": {
        "id": "t_6YNnLdW2S1"
      },
      "execution_count": null,
      "outputs": []
    },
    {
      "cell_type": "code",
      "source": [
        "#removendo os números da coluna cid\n",
        "df2['cid'] = df2['cid'].str.replace(r'\\d+','', regex=True)"
      ],
      "metadata": {
        "id": "1kzVgFw3XFPS"
      },
      "execution_count": null,
      "outputs": []
    },
    {
      "cell_type": "code",
      "source": [
        "#Renomenaod as colunas para melhor entendimento (cid_desc = cid descrição e cid_cod = cid código)\n",
        "df2.rename(columns={'cid':'cid_desc', 'cod_cid':'cid_cod'}, inplace=True)"
      ],
      "metadata": {
        "id": "lNNK1LCSXHsF"
      },
      "execution_count": null,
      "outputs": []
    },
    {
      "cell_type": "markdown",
      "source": [
        "##df2: Coluna cid_cod"
      ],
      "metadata": {
        "id": "TVB7B3G-UCJX"
      }
    },
    {
      "cell_type": "code",
      "source": [
        "df2['cid_cod'].value_counts()"
      ],
      "metadata": {
        "colab": {
          "base_uri": "https://localhost:8080/"
        },
        "id": "rJbf7yqNVHjO",
        "outputId": "3f3afa56-0b5e-46c1-bcc5-f6ee4a3da17c"
      },
      "execution_count": null,
      "outputs": [
        {
          "output_type": "execute_result",
          "data": {
            "text/plain": [
              "S62.6     4090\n",
              "S61.0     2729\n",
              "S61.1     2306\n",
              "S93.4     2226\n",
              "S52.5     1889\n",
              "          ... \n",
              "Y87.1        1\n",
              "L98.0        1\n",
              "T26.8        1\n",
              "M90.7        1\n",
              "B50          1\n",
              "Name: cid_cod, Length: 2436, dtype: int64"
            ]
          },
          "metadata": {},
          "execution_count": 102
        }
      ]
    },
    {
      "cell_type": "code",
      "source": [
        "#Retirando espaços em branco\n",
        "df2['cid_cod'] = df2['cid_cod'].str.strip()"
      ],
      "metadata": {
        "id": "MFNxQ0PVXbI5"
      },
      "execution_count": null,
      "outputs": []
    },
    {
      "cell_type": "markdown",
      "source": [
        "##df2: Coluna cid_desc"
      ],
      "metadata": {
        "id": "nhb7QvJ9UF0d"
      }
    },
    {
      "cell_type": "code",
      "source": [
        "df2['cid_desc'].value_counts()"
      ],
      "metadata": {
        "colab": {
          "base_uri": "https://localhost:8080/"
        },
        "id": "yaHRW43nVIPq",
        "outputId": "eac42ab9-31f9-40f4-8e28-2641614db4f0"
      },
      "execution_count": null,
      "outputs": [
        {
          "output_type": "execute_result",
          "data": {
            "text/plain": [
              "S. Frat de Outr Dedos                         4090\n",
              "S. Ferim de Dedos s/Lesao da Unha             2729\n",
              "S. Ferim de Dedos c/Lesao da Unha             2306\n",
              "S. Entorse e Distensao do Tornozelo           2226\n",
              "S. Frat da Extremidade Distal do Radio        1889\n",
              "                                              ... \n",
              "K. Hernia Abdominal Ne c/Obstrucao s/Gangr       1\n",
              "I. Sindr de Pre Excitacao                        1\n",
              "A. Infecc p/Clamid Pelviper e Outr Org Gen       1\n",
              "Y. Sequelas de Uma Agressao                      1\n",
              "B   Malaria p/Plasmodium Falciparum              1\n",
              "Name: cid_desc, Length: 2031, dtype: int64"
            ]
          },
          "metadata": {},
          "execution_count": 104
        }
      ]
    },
    {
      "cell_type": "code",
      "source": [
        "#Removendo os valores não numéricos do código CID\n",
        "df2['cid_desc'] = df2['cid_desc'].str.replace(r'^..','', regex=True)"
      ],
      "metadata": {
        "id": "2eGQ2k5hZG7e"
      },
      "execution_count": null,
      "outputs": []
    },
    {
      "cell_type": "code",
      "source": [
        "#Verificando se deu certo o código com regex\n",
        "df2['cid_desc'].value_counts()"
      ],
      "metadata": {
        "colab": {
          "base_uri": "https://localhost:8080/"
        },
        "id": "py2ayyljZP8j",
        "outputId": "04027458-cfba-4eae-b9c4-f9e499e470f2"
      },
      "execution_count": null,
      "outputs": [
        {
          "output_type": "execute_result",
          "data": {
            "text/plain": [
              " Frat de Outr Dedos                         4090\n",
              " Ferim de Dedos s/Lesao da Unha             2729\n",
              " Ferim de Dedos c/Lesao da Unha             2306\n",
              " Entorse e Distensao do Tornozelo           2226\n",
              " Frat da Extremidade Distal do Radio        1889\n",
              "                                            ... \n",
              " Tuberc Miliar Aguda de Localiz Unica Es       1\n",
              " Anestesicos Intravenosos                      1\n",
              " Insuf Renal Aguda Ne                          1\n",
              " Exame Seguim Apos Cirurgia p/Outr Afecc       1\n",
              "  Malaria p/Plasmodium Falciparum              1\n",
              "Name: cid_desc, Length: 2010, dtype: int64"
            ]
          },
          "metadata": {},
          "execution_count": 106
        }
      ]
    },
    {
      "cell_type": "code",
      "source": [
        "#Retirando os espaços que sobraram\n",
        "df2['cid_desc'] = df2['cid_desc'].str.strip()"
      ],
      "metadata": {
        "id": "q3fAUAcHZYad"
      },
      "execution_count": null,
      "outputs": []
    },
    {
      "cell_type": "code",
      "source": [
        "#Verificando os parametros da coluna cid_desc, tudo ok\n",
        "df2['cid_desc'].value_counts()"
      ],
      "metadata": {
        "colab": {
          "base_uri": "https://localhost:8080/"
        },
        "id": "O1PdvxGiZhWh",
        "outputId": "615bcba9-6481-46f7-cb6a-7b05b69d8c4e"
      },
      "execution_count": null,
      "outputs": [
        {
          "output_type": "execute_result",
          "data": {
            "text/plain": [
              "Frat de Outr Dedos                         4090\n",
              "Ferim de Dedos s/Lesao da Unha             2729\n",
              "Ferim de Dedos c/Lesao da Unha             2306\n",
              "Entorse e Distensao do Tornozelo           2226\n",
              "Frat da Extremidade Distal do Radio        1889\n",
              "                                           ... \n",
              "Sequelas de Ferim da Cabeca                   1\n",
              "Compr Signif Comport Req Vigilancia Ou        1\n",
              "Projetil de Revolver                          1\n",
              "Traum dos Nervos Perifericos do Pescoco       1\n",
              "Malaria p/Plasmodium Falciparum               1\n",
              "Name: cid_desc, Length: 2009, dtype: int64"
            ]
          },
          "metadata": {},
          "execution_count": 108
        }
      ]
    },
    {
      "cell_type": "markdown",
      "source": [
        "##df2: Coluna cnae_cod"
      ],
      "metadata": {
        "id": "tq4XSAhpZ7Vy"
      }
    },
    {
      "cell_type": "code",
      "source": [
        "df2['cnae_cod'].value_counts()"
      ],
      "metadata": {
        "colab": {
          "base_uri": "https://localhost:8080/"
        },
        "id": "gw0OYJ_eaIZT",
        "outputId": "e8166c19-6c2f-4c78-d89a-4742592f8f0a"
      },
      "execution_count": null,
      "outputs": [
        {
          "output_type": "execute_result",
          "data": {
            "text/plain": [
              "0       41096\n",
              "8610     5547\n",
              "4711     1891\n",
              "8411     1447\n",
              "4930     1360\n",
              "        ...  \n",
              "5519        1\n",
              "853         1\n",
              "1939        1\n",
              "524         1\n",
              "6023        1\n",
              "Name: cnae_cod, Length: 734, dtype: int64"
            ]
          },
          "metadata": {},
          "execution_count": 109
        }
      ]
    },
    {
      "cell_type": "code",
      "source": [
        "#O valor '0' foi considerado inconsistencia, substituímos por NA.\n",
        "df2['cnae_cod'].replace([0],pd.NA,regex=True, inplace=True)"
      ],
      "metadata": {
        "id": "Kqj-uJtEaPo_"
      },
      "execution_count": null,
      "outputs": []
    },
    {
      "cell_type": "markdown",
      "source": [
        "##df2: Coluna cnae_desc"
      ],
      "metadata": {
        "id": "uxEaxhxXZ_PK"
      }
    },
    {
      "cell_type": "code",
      "source": [
        "df2['cnae_desc'].value_counts()"
      ],
      "metadata": {
        "colab": {
          "base_uri": "https://localhost:8080/"
        },
        "id": "zT7GtBp-ax0F",
        "outputId": "10a83a1c-3ad5-4dc4-d6b6-c5cb1fe76f9c"
      },
      "execution_count": null,
      "outputs": [
        {
          "output_type": "execute_result",
          "data": {
            "text/plain": [
              "Atividades de Atendimento Hospitalar             5547\n",
              "Comercio Varejista de Mercadorias em Geral c     2081\n",
              "Administracao Publica em Geral                   1447\n",
              "Transporte Rodoviario de Carga                   1360\n",
              "Abate de Suinos Aves e Outros Pequenos Anima     1072\n",
              "                                                 ... \n",
              "Construcao de Redes de Transportes por Dutos        1\n",
              "Edicao Integrada a Impressao de Revistas            1\n",
              "Transporte por Navegacao Interior de Passagei       1\n",
              "Servicos de Reservas e Outros Servicos de Tur       1\n",
              "Atividades de Administracao de Fundos por Con       1\n",
              "Name: cnae_desc, Length: 593, dtype: int64"
            ]
          },
          "metadata": {},
          "execution_count": 111
        }
      ]
    },
    {
      "cell_type": "markdown",
      "source": [
        "##df2: Coluna cat"
      ],
      "metadata": {
        "id": "iBTtMwfLUIVH"
      }
    },
    {
      "cell_type": "code",
      "source": [
        "df2['cat'].value_counts()"
      ],
      "metadata": {
        "colab": {
          "base_uri": "https://localhost:8080/"
        },
        "id": "ofF0Q99HVIuc",
        "outputId": "55e593ce-5d42-4262-dfd2-33e9c03bf887"
      },
      "execution_count": null,
      "outputs": [
        {
          "output_type": "execute_result",
          "data": {
            "text/plain": [
              "Empregador             48054\n",
              "Segurado/Dependente      755\n",
              "Sindicato                328\n",
              "Médico                   142\n",
              "Autoridade Pública        82\n",
              "Name: cat, dtype: int64"
            ]
          },
          "metadata": {},
          "execution_count": 112
        }
      ]
    },
    {
      "cell_type": "markdown",
      "source": [
        "##df2: Coluna beneficio"
      ],
      "metadata": {
        "id": "v_ffZ_EbUKGm"
      }
    },
    {
      "cell_type": "code",
      "source": [
        "df2['beneficio'].value_counts()"
      ],
      "metadata": {
        "colab": {
          "base_uri": "https://localhost:8080/"
        },
        "id": "1uEYeDjZVJOK",
        "outputId": "075b9642-09bc-4783-8e51-14f7420e017f"
      },
      "execution_count": null,
      "outputs": [
        {
          "output_type": "execute_result",
          "data": {
            "text/plain": [
              "Pa                                         49689\n",
              "Auxílio Doenca por Acidente do Trabalho    39838\n",
              "Auxílio Acidente                              50\n",
              "Aposent. Invalidez Acidente Trabalho          25\n",
              "Name: beneficio, dtype: int64"
            ]
          },
          "metadata": {},
          "execution_count": 113
        }
      ]
    },
    {
      "cell_type": "markdown",
      "source": [
        "##df2: Coluna filiacao"
      ],
      "metadata": {
        "id": "PHDbufxfUMeY"
      }
    },
    {
      "cell_type": "code",
      "source": [
        "df2['filiacao'].value_counts()"
      ],
      "metadata": {
        "colab": {
          "base_uri": "https://localhost:8080/"
        },
        "id": "A7LHjALFVJxY",
        "outputId": "4165d071-4b04-4e3d-cefc-7132b7d560a9"
      },
      "execution_count": null,
      "outputs": [
        {
          "output_type": "execute_result",
          "data": {
            "text/plain": [
              "Empregado             49287\n",
              "Trabalhador Avulso      104\n",
              "Segurado Especial        20\n",
              "Name: filiacao, dtype: int64"
            ]
          },
          "metadata": {},
          "execution_count": 114
        }
      ]
    },
    {
      "cell_type": "markdown",
      "source": [
        "##df2: Coluna obito"
      ],
      "metadata": {
        "id": "YNEY123-UNdF"
      }
    },
    {
      "cell_type": "code",
      "source": [
        "df2['obito'].value_counts()"
      ],
      "metadata": {
        "colab": {
          "base_uri": "https://localhost:8080/"
        },
        "id": "vKgSAB2VVKoA",
        "outputId": "7221e355-1e3e-477f-d67c-bc1bcf3212f5"
      },
      "execution_count": null,
      "outputs": [
        {
          "output_type": "execute_result",
          "data": {
            "text/plain": [
              "Não    49419\n",
              "Sim      270\n",
              "Name: obito, dtype: int64"
            ]
          },
          "metadata": {},
          "execution_count": 115
        }
      ]
    },
    {
      "cell_type": "markdown",
      "source": [
        "##df2: Coluna municipio"
      ],
      "metadata": {
        "id": "FVoWgC5DURwv"
      }
    },
    {
      "cell_type": "code",
      "source": [
        "df2['municipio'].value_counts()"
      ],
      "metadata": {
        "colab": {
          "base_uri": "https://localhost:8080/"
        },
        "id": "kmR7UjcDVaPw",
        "outputId": "729f4315-ee4c-448e-f801-981cae09b0e1"
      },
      "execution_count": null,
      "outputs": [
        {
          "output_type": "execute_result",
          "data": {
            "text/plain": [
              "000000 Ignorado                    41986\n",
              "355030 São Paulo                    4479\n",
              "330455 Rio de Janeiro               1450\n",
              "310620 Belo Horizonte                984\n",
              "431490 Porto Alegre                  895\n",
              "                                   ...  \n",
              "411722 Nova Santa Rosa                 1\n",
              "261260 Santa Maria da Boa Vista        1\n",
              "110094 Cujubim                         1\n",
              "410090 Amaporã                         1\n",
              "431053 Itaara                          1\n",
              "Name: municipio, Length: 2380, dtype: int64"
            ]
          },
          "metadata": {},
          "execution_count": 116
        }
      ]
    },
    {
      "cell_type": "code",
      "source": [
        "#Separando o código do município do nome para melhor avaliação dos dados e criando uma nova coluna cod_uf para os códigos\n",
        "df2['cod_uf'] = df2['municipio'].str.slice(0, 6)"
      ],
      "metadata": {
        "id": "21SiJdBKbkGF"
      },
      "execution_count": null,
      "outputs": []
    },
    {
      "cell_type": "code",
      "source": [
        "#Apagando o código dos municípios na coluna municipio\n",
        "df2['municipio'] = df2['municipio'].str.replace(r'\\d+','', regex=True)"
      ],
      "metadata": {
        "id": "4uLb9IjCbrQ5"
      },
      "execution_count": null,
      "outputs": []
    },
    {
      "cell_type": "code",
      "source": [
        "#valor \"Ignorado\" é uma inconsistencia, será substituído por NA.\n",
        "df2['municipio'].replace(['Ignorado'],pd.NA,regex=True, inplace=True)"
      ],
      "metadata": {
        "id": "RJZuD41_byLO"
      },
      "execution_count": null,
      "outputs": []
    },
    {
      "cell_type": "markdown",
      "source": [
        "##df2: Coluna lesao"
      ],
      "metadata": {
        "id": "ygQK8n_8UUTM"
      }
    },
    {
      "cell_type": "code",
      "source": [
        "df2['lesao'].value_counts()"
      ],
      "metadata": {
        "colab": {
          "base_uri": "https://localhost:8080/"
        },
        "id": "rP9XIV4mVbtT",
        "outputId": "e0183869-fb09-453a-be8d-69bb195ef491"
      },
      "execution_count": null,
      "outputs": [
        {
          "output_type": "execute_result",
          "data": {
            "text/plain": [
              "Fratura                                        9367\n",
              "Corte Laceracao Ferida Contusa Punctura        8365\n",
              "Lesao Imediata                                 5258\n",
              "Contusao Esmagamento (Superficie Cutanea I     5131\n",
              "Escoriacao Abrasao (Ferimento Superficial)     4205\n",
              "Distensao Torcao                               3534\n",
              "Outras Lesoes Nic                              2803\n",
              "Luxacao                                        2798\n",
              "Doenca Contagiosa ou Infecciosa (Tuberculos    2117\n",
              "Lesao Imediata Nic                             1307\n",
              "Queimadura ou Escaldadura   Efeito de Tempe    1138\n",
              "Doenca Nic                                      895\n",
              "Lesoes Multiplas                                889\n",
              "Inflamacao de Articulacao Tendao ou Muscul      462\n",
              "Amputacao ou Enucleacao                         379\n",
              "Queimadura Quimica (Lesao de Tecido Provoca     294\n",
              "Concussao Cerebral                              173\n",
              "Perda ou Diminuicao de Sentido (Audicao Vi      168\n",
              "Choque Eletrico e Eletroplessao (Eletrocuss     117\n",
              "Envenenamento Sistemico   Condicao Morbida       70\n",
              "Perda ou Diminuicao Mediatas de Sentido (Au      62\n",
              "Hernia de Qualquer Natureza Ruptura              57\n",
              "Dermatose (Erupcao Inflamacao da Pele Inc        51\n",
              "Asfixia Estrangulamento Afogamento               21\n",
              "Pneumoconiose (Silicose Asbestose Etc.)           7\n",
              "Congelamento Geladura e Outros Efeitos Da         6\n",
              "Efeito de Radiacao (Imediato)   Queimadura        6\n",
              "Efeito de Radiacao (Mediato)   Queimadura D       5\n",
              "Intermacao Insolacao Caibra Exaustao e O          4\n",
              "Name: lesao, dtype: int64"
            ]
          },
          "metadata": {},
          "execution_count": 120
        }
      ]
    },
    {
      "cell_type": "markdown",
      "source": [
        "##df2: Coluna origem_cad"
      ],
      "metadata": {
        "id": "H4V3gTk2UVV1"
      }
    },
    {
      "cell_type": "code",
      "source": [
        "df2['origem_cad'].value_counts()"
      ],
      "metadata": {
        "colab": {
          "base_uri": "https://localhost:8080/"
        },
        "id": "oE9D-1F_VcpM",
        "outputId": "7977eaa2-9fb2-4871-df14-61d96b577c5e"
      },
      "execution_count": null,
      "outputs": [
        {
          "output_type": "execute_result",
          "data": {
            "text/plain": [
              "Internet    49689\n",
              "Name: origem_cad, dtype: int64"
            ]
          },
          "metadata": {},
          "execution_count": 121
        }
      ]
    },
    {
      "cell_type": "code",
      "source": [
        "#Coluna com valor constante. Optamos por drop\n",
        "df2.drop(['origem_cad'], axis=1, inplace=True)"
      ],
      "metadata": {
        "id": "E7NwWwKHcN4d"
      },
      "execution_count": null,
      "outputs": []
    },
    {
      "cell_type": "markdown",
      "source": [
        "##df2: Coluna local_lesao"
      ],
      "metadata": {
        "id": "iirxgRb7UZTQ"
      }
    },
    {
      "cell_type": "code",
      "source": [
        "df2['local_lesao'].value_counts()"
      ],
      "metadata": {
        "colab": {
          "base_uri": "https://localhost:8080/"
        },
        "id": "BrOoqcaQVdXg",
        "outputId": "f2ee84df-f521-4e24-9d46-94d5440343c9"
      },
      "execution_count": null,
      "outputs": [
        {
          "output_type": "execute_result",
          "data": {
            "text/plain": [
              "Dedo                                             11399\n",
              "Pe (Exceto Artelhos)                              3884\n",
              "Mao (Exceto Punho ou Dedos)                       3520\n",
              "Joelho                                            2561\n",
              "Partes Multiplas   Aplica Se Quando Mais de U     2161\n",
              "Perna (Entre O Tornozelo e a Pelvis)              2079\n",
              "Aparelho Respiratorio                             2000\n",
              "Braco (Entre O Punho a O Ombro)                   1881\n",
              "Articulacao do Tornozelo                          1726\n",
              "Perna (Do Tornozelo Exclusive ao Joelho Ex        1609\n",
              "Ombro                                             1549\n",
              "Olho (Inclusive Nervo Otico e Visao)              1414\n",
              "Punho                                             1252\n",
              "Cabeca Nic                                        1183\n",
              "Dorso (Inclusive Musculos Dorsais Coluna e M      1079\n",
              "Antebraco (Entre O Punho e O Cotovelo)             983\n",
              "Membros Superiores Partes Multiplas (Qualque       948\n",
              "Face Partes Multiplas (Qualquer Combinacao D       786\n",
              "Cabeca Partes Multiplas (Qualquer Combinacao       713\n",
              "Torax (Inclusive Orgaos Internos)                  597\n",
              "Membros Inferiores Nic                             530\n",
              "Quadris (Inclusive Pelvis Orgaos Pelvicos E        524\n",
              "Membros Inferiores Partes Multiplas (Qualque       505\n",
              "Tronco Parte Multiplas (Qualquer Combinacao        479\n",
              "Braco (Acima do Cotovelo)                          463\n",
              "Membros Superiores Nic                             456\n",
              "Cotovelo                                           442\n",
              "Sistema Nervoso                                    349\n",
              "Coxa                                               320\n",
              "Tronco Nic                                         287\n",
              "Artelho                                            260\n",
              "Cranio (Inclusive Encefalo)                        246\n",
              "Boca (Inclusive Labios Dentes Lingua Garga         228\n",
              "Nariz (Inclusive Fossas Nasais Seios da Face       208\n",
              "Abdome (Inclusive Orgaos Internos)                 191\n",
              "Localizacao da Lesao Nic                           177\n",
              "Pescoco                                            175\n",
              "Ouvido (Externo Medio Interno Audicao e Eq         113\n",
              "Sistemas e Aparelhos Nic                           112\n",
              "Sistemas e Aparelhos   Aplica Se Quando O Fun      105\n",
              "Mandibula (Inclusive Queixo)                        85\n",
              "Sistema Musculo Esqueletico                         51\n",
              "Aparelho Circulatorio                               25\n",
              "Aparelho Genito Urinario                            19\n",
              "Aparelho Digestivo                                  15\n",
              "Name: local_lesao, dtype: int64"
            ]
          },
          "metadata": {},
          "execution_count": 123
        }
      ]
    },
    {
      "cell_type": "markdown",
      "source": [
        "##df2: Coluna sexo"
      ],
      "metadata": {
        "id": "Cl7kxcDzUaes"
      }
    },
    {
      "cell_type": "code",
      "source": [
        "df2['sexo'].value_counts()"
      ],
      "metadata": {
        "colab": {
          "base_uri": "https://localhost:8080/"
        },
        "id": "GpdzdArMVeFM",
        "outputId": "03997277-27ea-4cdb-f386-205cbc07fa78"
      },
      "execution_count": null,
      "outputs": [
        {
          "output_type": "execute_result",
          "data": {
            "text/plain": [
              "Masculino        58961\n",
              "Feminino         30323\n",
              "Não Informado      317\n",
              "Indeterminado        1\n",
              "Name: sexo, dtype: int64"
            ]
          },
          "metadata": {},
          "execution_count": 124
        }
      ]
    },
    {
      "cell_type": "code",
      "source": [
        "#Valores não informados consideramos como inconsistencias e mudamos por NA\n",
        "#Valores indeterminados permanecem indeterminados\n",
        "df2['sexo'].replace(['Não Informado'], pd.NA, regex=True, inplace=True)"
      ],
      "metadata": {
        "id": "n4EUN6SdcomR"
      },
      "execution_count": null,
      "outputs": []
    },
    {
      "cell_type": "markdown",
      "source": [
        "##df2: Coluna tipo_acidente"
      ],
      "metadata": {
        "id": "x0FX0ryMUbXn"
      }
    },
    {
      "cell_type": "code",
      "source": [
        "df2['tipo_acidente'].value_counts()"
      ],
      "metadata": {
        "colab": {
          "base_uri": "https://localhost:8080/"
        },
        "id": "XgfKwnCoVe-B",
        "outputId": "1397d166-a9e5-41cf-eccb-e917384e8b2c"
      },
      "execution_count": null,
      "outputs": [
        {
          "output_type": "execute_result",
          "data": {
            "text/plain": [
              "Ignorado    39788\n",
              "Típico      35724\n",
              "Trajeto     11257\n",
              "Doença       2833\n",
              "Name: tipo_acidente, dtype: int64"
            ]
          },
          "metadata": {},
          "execution_count": 126
        }
      ]
    },
    {
      "cell_type": "markdown",
      "source": [
        "##df2: Coluna uf_acidente"
      ],
      "metadata": {
        "id": "cl5dJ3X9UjoG"
      }
    },
    {
      "cell_type": "code",
      "source": [
        "df2['uf_acidente'].value_counts()"
      ],
      "metadata": {
        "colab": {
          "base_uri": "https://localhost:8080/"
        },
        "id": "yMl3_wRVVfka",
        "outputId": "b3364817-56b3-4923-8b75-f99fd42026fd"
      },
      "execution_count": null,
      "outputs": [
        {
          "output_type": "execute_result",
          "data": {
            "text/plain": [
              "Maranhão            30217\n",
              "Rondônia            10290\n",
              "Tocantins            5852\n",
              "Roraima              5830\n",
              "Zerado               2073\n",
              "Pará                 2008\n",
              "Ceará                1230\n",
              "Acre                 1181\n",
              "Amazonas              693\n",
              "Pernambuco            363\n",
              "Amapá                 343\n",
              "Sergipe               237\n",
              "Piauí                 194\n",
              "Rio Grande Norte      158\n",
              "Alagoas               142\n",
              "Paraíba                60\n",
              "Name: uf_acidente, dtype: int64"
            ]
          },
          "metadata": {},
          "execution_count": 127
        }
      ]
    },
    {
      "cell_type": "code",
      "source": [
        "#Entendemos Zerado como uma inconsistencia, mudamos pra NA\n",
        "df2['uf_acidente'].replace(['Zerado'], pd.NA, regex=True, inplace=True)"
      ],
      "metadata": {
        "id": "aOphr3MIdv3H"
      },
      "execution_count": null,
      "outputs": []
    },
    {
      "cell_type": "markdown",
      "source": [
        "##df2: Coluna uf_empregador"
      ],
      "metadata": {
        "id": "yn3Zv2t1UkrW"
      }
    },
    {
      "cell_type": "code",
      "source": [
        "df2['uf_empregador'].value_counts()"
      ],
      "metadata": {
        "colab": {
          "base_uri": "https://localhost:8080/"
        },
        "id": "TTtMjW5RVgX6",
        "outputId": "ee4d6f5a-43be-4eda-ea8e-1ae63975ce29"
      },
      "execution_count": null,
      "outputs": [
        {
          "output_type": "execute_result",
          "data": {
            "text/plain": [
              "Zerado                 41986\n",
              "São Paulo              17413\n",
              "Minas Gerais            4985\n",
              "Rio Grande do Sul       3966\n",
              "Paraná                  3858\n",
              "Santa Catarina          3555\n",
              "Rio de Janeiro          3033\n",
              "Goiás                   1293\n",
              "Bahia                   1163\n",
              "Espírito Santo          1064\n",
              "Ceará                   1001\n",
              "Mato Grosso              895\n",
              "Pernambuco               840\n",
              "Mato Grosso do Sul       738\n",
              "Pará                     654\n",
              "Distrito Federal         618\n",
              "Amazonas                 483\n",
              "Rio Grande do Norte      336\n",
              "Maranhão                 331\n",
              "Rondônia                 254\n",
              "Paraíba                  235\n",
              "Alagoas                  228\n",
              "Tocantins                214\n",
              "Piauí                    171\n",
              "Sergipe                  150\n",
              "Acre                      52\n",
              "Roraima                   48\n",
              "Amapá                     38\n",
              "Name: uf_empregador, dtype: int64"
            ]
          },
          "metadata": {},
          "execution_count": 129
        }
      ]
    },
    {
      "cell_type": "code",
      "source": [
        "#Entendemos Zerado como uma inconsistencia, mudamos pra NA\n",
        "df2['uf_empregador'].replace(['Zerado'], pd.NA, regex=True, inplace=True)"
      ],
      "metadata": {
        "id": "mmqUqgBXeUVY"
      },
      "execution_count": null,
      "outputs": []
    },
    {
      "cell_type": "markdown",
      "source": [
        "##df2: Coluna mes_afastamento"
      ],
      "metadata": {
        "id": "zDE3xf-pUl-p"
      }
    },
    {
      "cell_type": "code",
      "source": [
        "df2['mes_afastamento'].value_counts()"
      ],
      "metadata": {
        "colab": {
          "base_uri": "https://localhost:8080/"
        },
        "id": "-9gNjzLBVhQ4",
        "outputId": "0d80870c-b39c-43b7-d712-be77d4155b92"
      },
      "execution_count": null,
      "outputs": [
        {
          "output_type": "execute_result",
          "data": {
            "text/plain": [
              "2022/06    39459\n",
              "2022/05    12828\n",
              "2022/03    10221\n",
              "2022/02     9656\n",
              "2022/01     9647\n",
              "2022/04     7791\n",
              "Name: mes_afastamento, dtype: int64"
            ]
          },
          "metadata": {},
          "execution_count": 131
        }
      ]
    },
    {
      "cell_type": "markdown",
      "source": [
        "##df2: Coluna dt_despacho"
      ],
      "metadata": {
        "id": "qVKuiFPEUqUn"
      }
    },
    {
      "cell_type": "code",
      "source": [
        "df2['dt_despacho'].value_counts()"
      ],
      "metadata": {
        "colab": {
          "base_uri": "https://localhost:8080/"
        },
        "id": "Wed7wlJ8Vh6r",
        "outputId": "fd1fcb7f-157d-4642-af29-bbcb39d305fb"
      },
      "execution_count": null,
      "outputs": [
        {
          "output_type": "execute_result",
          "data": {
            "text/plain": [
              "0000/00    49689\n",
              "2022/06    12439\n",
              "2022/05     9030\n",
              "2022/03     8296\n",
              "2022/04     4970\n",
              "2022/02     3577\n",
              "2022/07     1200\n",
              "2022/01      401\n",
              "Name: dt_despacho, dtype: int64"
            ]
          },
          "metadata": {},
          "execution_count": 132
        }
      ]
    },
    {
      "cell_type": "code",
      "source": [
        "#Valor 0000/00 foi considerado inconsistencia, mudamos pra NA\n",
        "df2['dt_despacho'].replace(['0000/00'], pd.NA, regex=True, inplace=True)"
      ],
      "metadata": {
        "id": "VwQP4DQJe7Dz"
      },
      "execution_count": null,
      "outputs": []
    },
    {
      "cell_type": "markdown",
      "source": [
        "##df2: Coluna dt_acidente2"
      ],
      "metadata": {
        "id": "7VuSUQX6Ut-E"
      }
    },
    {
      "cell_type": "code",
      "source": [
        "df2['dt_acidente2'].value_counts()"
      ],
      "metadata": {
        "id": "G84DtixkVipv",
        "colab": {
          "base_uri": "https://localhost:8080/"
        },
        "outputId": "b55e45f6-4a22-4b0d-9e71-3d75465e8091"
      },
      "execution_count": null,
      "outputs": [
        {
          "output_type": "execute_result",
          "data": {
            "text/plain": [
              "01/06/2022    2087\n",
              "06/06/2022    2060\n",
              "08/06/2022    2033\n",
              "07/06/2022    2011\n",
              "02/06/2022    1980\n",
              "              ... \n",
              "08/05/2022      81\n",
              "27/03/2022      79\n",
              "27/02/2022      70\n",
              "17/04/2022      67\n",
              "02/01/2022      63\n",
              "Name: dt_acidente2, Length: 181, dtype: int64"
            ]
          },
          "metadata": {},
          "execution_count": 134
        }
      ]
    },
    {
      "cell_type": "markdown",
      "source": [
        "##df2: Coluna dt_nasc"
      ],
      "metadata": {
        "id": "XoRG5zSZUw8t"
      }
    },
    {
      "cell_type": "code",
      "source": [
        "df2['dt_nasc'].value_counts()"
      ],
      "metadata": {
        "id": "zfYuGPq5VjVP",
        "colab": {
          "base_uri": "https://localhost:8080/"
        },
        "outputId": "c631222f-241d-463e-c4e1-96c31591a14b"
      },
      "execution_count": null,
      "outputs": [
        {
          "output_type": "execute_result",
          "data": {
            "text/plain": [
              "00/00/0000    192\n",
              "26/08/1991     18\n",
              "12/02/1987     18\n",
              "07/07/1981     18\n",
              "07/09/1981     18\n",
              "             ... \n",
              "10/07/1955      1\n",
              "03/08/2001      1\n",
              "12/02/1965      1\n",
              "17/03/1960      1\n",
              "08/11/1965      1\n",
              "Name: dt_nasc, Length: 16925, dtype: int64"
            ]
          },
          "metadata": {},
          "execution_count": 135
        }
      ]
    },
    {
      "cell_type": "code",
      "source": [
        "#Valor 00/00/0000 foi considerado inconsistencia, mudamos pra NA\n",
        "df2['dt_nasc'].replace(['00/00/0000'], pd.NA, regex=True, inplace=True)"
      ],
      "metadata": {
        "id": "U_BlCnw-gdqo"
      },
      "execution_count": null,
      "outputs": []
    },
    {
      "cell_type": "markdown",
      "source": [
        "##df2: Coluna dt_emissao_cat"
      ],
      "metadata": {
        "id": "cQKUyJfWU0JM"
      }
    },
    {
      "cell_type": "code",
      "source": [
        "df2['dt_emissao_cat'].value_counts()"
      ],
      "metadata": {
        "id": "GePW2ujhVkKS",
        "colab": {
          "base_uri": "https://localhost:8080/"
        },
        "outputId": "e47bee63-55ba-4391-a6b7-ac766da7566d"
      },
      "execution_count": null,
      "outputs": [
        {
          "output_type": "execute_result",
          "data": {
            "text/plain": [
              "00/00/0000    39913\n",
              "28/06/2022     2616\n",
              "27/06/2022     2515\n",
              "21/06/2022     2510\n",
              "14/06/2022     2428\n",
              "10/06/2022     2428\n",
              "23/06/2022     2397\n",
              "22/06/2022     2373\n",
              "29/06/2022     2363\n",
              "15/06/2022     2363\n",
              "13/06/2022     2354\n",
              "30/06/2022     2353\n",
              "09/06/2022     2338\n",
              "07/06/2022     2337\n",
              "08/06/2022     2324\n",
              "20/06/2022     2298\n",
              "03/06/2022     2250\n",
              "06/06/2022     2241\n",
              "01/06/2022     2191\n",
              "24/06/2022     2186\n",
              "02/06/2022     2144\n",
              "17/06/2022     1600\n",
              "16/06/2022      353\n",
              "11/06/2022      157\n",
              "25/06/2022      144\n",
              "04/06/2022      144\n",
              "18/06/2022      111\n",
              "05/06/2022       52\n",
              "12/06/2022       45\n",
              "26/06/2022       42\n",
              "19/06/2022       32\n",
              "Name: dt_emissao_cat, dtype: int64"
            ]
          },
          "metadata": {},
          "execution_count": 137
        }
      ]
    },
    {
      "cell_type": "code",
      "source": [
        "#Valor 00/00/0000 foi considerado inconsistencia, mudamos pra NA\n",
        "df2['dt_emissao_cat'].replace(['00/00/0000'], pd.NA, regex=True, inplace=True)"
      ],
      "metadata": {
        "id": "ecN2EQpHgrvl"
      },
      "execution_count": null,
      "outputs": []
    },
    {
      "cell_type": "markdown",
      "source": [
        "##df2: Coluna cnpj_cei"
      ],
      "metadata": {
        "id": "k6bNVKUzU4PG"
      }
    },
    {
      "cell_type": "code",
      "source": [
        "df2['cnpj_cei'].value_counts()"
      ],
      "metadata": {
        "id": "TX5QZcITVlim",
        "colab": {
          "base_uri": "https://localhost:8080/"
        },
        "outputId": "5a19ff91-8ebf-42a2-f62d-14d4aebee7d4"
      },
      "execution_count": null,
      "outputs": [
        {
          "output_type": "execute_result",
          "data": {
            "text/plain": [
              "00.000.000.000.000    78611\n",
              "57.571.275.002.570      286\n",
              "47.673.793.010.217       99\n",
              "28.549.483.000.105       98\n",
              "46.319.000.000.150       65\n",
              "                      ...  \n",
              "25.092.570.000.180        1\n",
              "32.273.055.000.161        1\n",
              "14.694.138.000.142        1\n",
              "04.994.418.000.112        1\n",
              "00.030.808.740.210        1\n",
              "Name: cnpj_cei, Length: 7278, dtype: int64"
            ]
          },
          "metadata": {},
          "execution_count": 139
        }
      ]
    },
    {
      "cell_type": "code",
      "source": [
        "#Valor 00.000.000.000.000 foi considerado inconsistencia, mudamos pra NA\n",
        "df2['cnpj_cei'].replace(['00.000.000.000.000'], pd.NA, regex=True, inplace=True)"
      ],
      "metadata": {
        "id": "OsOLUXeHg2wc"
      },
      "execution_count": null,
      "outputs": []
    },
    {
      "cell_type": "markdown",
      "source": [
        "##df2: Coluna cod_uf"
      ],
      "metadata": {
        "id": "j2CRmWSCU9Kd"
      }
    },
    {
      "cell_type": "code",
      "source": [
        "df2['cod_uf'].value_counts()"
      ],
      "metadata": {
        "id": "KkxAEcGWVmHL",
        "colab": {
          "base_uri": "https://localhost:8080/"
        },
        "outputId": "a75ea1a8-5129-4950-a430-fdaae603b3d4"
      },
      "execution_count": null,
      "outputs": [
        {
          "output_type": "execute_result",
          "data": {
            "text/plain": [
              "000000    41986\n",
              "355030     4479\n",
              "330455     1450\n",
              "310620      984\n",
              "431490      895\n",
              "          ...  \n",
              "411722        1\n",
              "261260        1\n",
              "110094        1\n",
              "410090        1\n",
              "431053        1\n",
              "Name: cod_uf, Length: 2380, dtype: int64"
            ]
          },
          "metadata": {},
          "execution_count": 141
        }
      ]
    },
    {
      "cell_type": "code",
      "source": [
        "#Valor 000000 foi considerado inconsistencia, mudamos pra NA\n",
        "df2['cod_uf'].replace(['000000'], pd.NA, regex=True, inplace=True)"
      ],
      "metadata": {
        "id": "etacJVJFg98K"
      },
      "execution_count": null,
      "outputs": []
    },
    {
      "cell_type": "markdown",
      "source": [
        "#REORDENANDO: df2"
      ],
      "metadata": {
        "id": "iAKsT8EthBzY"
      }
    },
    {
      "cell_type": "code",
      "source": [
        "df2 = df2[['dt_acidente','dt_acidente2','dt_despacho','mes_afastamento','dt_emissao_cat','sexo','dt_nasc','uf_empregador','uf_acidente','cod_uf','municipio','filiacao','beneficio','cat','tipo_acidente','agt_causador','lesao','local_lesao','obito','cid_cod','cid_desc','cbo_cod','cbo_desc','cnae_cod','cnae_desc','cnpj_cei']]"
      ],
      "metadata": {
        "id": "GJeoQrh4hKUl"
      },
      "execution_count": null,
      "outputs": []
    },
    {
      "cell_type": "code",
      "source": [
        "#Percebemos algumas datas redundantes, como por exemplo a coluna de dt_acidente e dt_acidente2, decidimos dropar a menos específica.\n",
        "df2.drop(['dt_acidente'], axis=1, inplace=True)"
      ],
      "metadata": {
        "colab": {
          "base_uri": "https://localhost:8080/"
        },
        "id": "z7lIP9nQhPwm",
        "outputId": "ca126111-695f-4e10-efa9-0437ecfe0d01"
      },
      "execution_count": null,
      "outputs": [
        {
          "output_type": "stream",
          "name": "stderr",
          "text": [
            "/usr/local/lib/python3.8/dist-packages/pandas/core/frame.py:4906: SettingWithCopyWarning: \n",
            "A value is trying to be set on a copy of a slice from a DataFrame\n",
            "\n",
            "See the caveats in the documentation: https://pandas.pydata.org/pandas-docs/stable/user_guide/indexing.html#returning-a-view-versus-a-copy\n",
            "  return super().drop(\n"
          ]
        }
      ]
    },
    {
      "cell_type": "code",
      "source": [
        "#renomeamos a coluna dt_acidente2 para dt_acidente\n",
        "df2.rename(columns={'dt_acidente2':'dt_acidente'}, inplace=True)"
      ],
      "metadata": {
        "colab": {
          "base_uri": "https://localhost:8080/"
        },
        "id": "Qv88ybu6hP3k",
        "outputId": "ab1e1886-0500-4ca4-f601-da7cf3435918"
      },
      "execution_count": null,
      "outputs": [
        {
          "output_type": "stream",
          "name": "stderr",
          "text": [
            "/usr/local/lib/python3.8/dist-packages/pandas/core/frame.py:5039: SettingWithCopyWarning: \n",
            "A value is trying to be set on a copy of a slice from a DataFrame\n",
            "\n",
            "See the caveats in the documentation: https://pandas.pydata.org/pandas-docs/stable/user_guide/indexing.html#returning-a-view-versus-a-copy\n",
            "  return super().rename(\n"
          ]
        }
      ]
    },
    {
      "cell_type": "code",
      "source": [
        "df2 = df2.fillna(np.nan)"
      ],
      "metadata": {
        "id": "JPj09uFC9k8G"
      },
      "execution_count": null,
      "outputs": []
    },
    {
      "cell_type": "code",
      "source": [
        "#ultima remoção de possíveis espaços em branco\n",
        "remove_espaco(df2)"
      ],
      "metadata": {
        "id": "FWFcjmi7qlv7"
      },
      "execution_count": null,
      "outputs": []
    },
    {
      "cell_type": "code",
      "source": [
        "df2.head(2)"
      ],
      "metadata": {
        "colab": {
          "base_uri": "https://localhost:8080/",
          "height": 298
        },
        "id": "OQs8lUbrrmMZ",
        "outputId": "70dc6fae-31a2-46d4-adca-41c92313ab5e"
      },
      "execution_count": null,
      "outputs": [
        {
          "output_type": "execute_result",
          "data": {
            "text/plain": [
              "  dt_acidente dt_despacho mes_afastamento dt_emissao_cat       sexo  \\\n",
              "0  26/05/2022         NaN         2022/05     01/06/2022  Masculino   \n",
              "1  26/05/2022         NaN         2022/05     01/06/2022   Feminino   \n",
              "\n",
              "      dt_nasc uf_empregador uf_acidente  cod_uf       municipio   filiacao  \\\n",
              "0  13/11/1989     São Paulo    Maranhão  354780  Santo André Sp  Empregado   \n",
              "1  19/04/1990     São Paulo    Maranhão  354780  Santo André Sp  Empregado   \n",
              "\n",
              "  beneficio         cat tipo_acidente  \\\n",
              "0        Pa  Empregador        Típico   \n",
              "1        Pa  Empregador       Trajeto   \n",
              "\n",
              "                                    agt_causador           lesao  \\\n",
              "0                                            NaN  Lesao Imediata   \n",
              "1  Rua e Estrada   Superficie Utilizada para Sus         Luxacao   \n",
              "\n",
              "                                  local_lesao obito cid_cod  \\\n",
              "0                                        Dedo   Não   Y28.2   \n",
              "1  Perna (Do Tornozelo Exclusive ao Joelho Ex   Não   S93.4   \n",
              "\n",
              "                                  cid_desc cbo_cod  \\\n",
              "0  Escolas Outr Instit Areas Admin Publica  322205   \n",
              "1         Entorse e Distensao do Tornozelo  992225   \n",
              "\n",
              "                                cbo_desc  cnae_cod  \\\n",
              "0                     Tec. de Enfermagem    8630.0   \n",
              "1  Auxiliar Geral de Conservação de Vias    8630.0   \n",
              "\n",
              "                                       cnae_desc            cnpj_cei  \n",
              "0  Atividades de Atencao Ambulatorial Executadas  57.571.275.002.570  \n",
              "1  Atividades de Atencao Ambulatorial Executadas  57.571.275.002.570  "
            ],
            "text/html": [
              "\n",
              "  <div id=\"df-01640a13-361c-4b1f-bc2c-30ac7a5d5000\">\n",
              "    <div class=\"colab-df-container\">\n",
              "      <div>\n",
              "<style scoped>\n",
              "    .dataframe tbody tr th:only-of-type {\n",
              "        vertical-align: middle;\n",
              "    }\n",
              "\n",
              "    .dataframe tbody tr th {\n",
              "        vertical-align: top;\n",
              "    }\n",
              "\n",
              "    .dataframe thead th {\n",
              "        text-align: right;\n",
              "    }\n",
              "</style>\n",
              "<table border=\"1\" class=\"dataframe\">\n",
              "  <thead>\n",
              "    <tr style=\"text-align: right;\">\n",
              "      <th></th>\n",
              "      <th>dt_acidente</th>\n",
              "      <th>dt_despacho</th>\n",
              "      <th>mes_afastamento</th>\n",
              "      <th>dt_emissao_cat</th>\n",
              "      <th>sexo</th>\n",
              "      <th>dt_nasc</th>\n",
              "      <th>uf_empregador</th>\n",
              "      <th>uf_acidente</th>\n",
              "      <th>cod_uf</th>\n",
              "      <th>municipio</th>\n",
              "      <th>filiacao</th>\n",
              "      <th>beneficio</th>\n",
              "      <th>cat</th>\n",
              "      <th>tipo_acidente</th>\n",
              "      <th>agt_causador</th>\n",
              "      <th>lesao</th>\n",
              "      <th>local_lesao</th>\n",
              "      <th>obito</th>\n",
              "      <th>cid_cod</th>\n",
              "      <th>cid_desc</th>\n",
              "      <th>cbo_cod</th>\n",
              "      <th>cbo_desc</th>\n",
              "      <th>cnae_cod</th>\n",
              "      <th>cnae_desc</th>\n",
              "      <th>cnpj_cei</th>\n",
              "    </tr>\n",
              "  </thead>\n",
              "  <tbody>\n",
              "    <tr>\n",
              "      <th>0</th>\n",
              "      <td>26/05/2022</td>\n",
              "      <td>NaN</td>\n",
              "      <td>2022/05</td>\n",
              "      <td>01/06/2022</td>\n",
              "      <td>Masculino</td>\n",
              "      <td>13/11/1989</td>\n",
              "      <td>São Paulo</td>\n",
              "      <td>Maranhão</td>\n",
              "      <td>354780</td>\n",
              "      <td>Santo André Sp</td>\n",
              "      <td>Empregado</td>\n",
              "      <td>Pa</td>\n",
              "      <td>Empregador</td>\n",
              "      <td>Típico</td>\n",
              "      <td>NaN</td>\n",
              "      <td>Lesao Imediata</td>\n",
              "      <td>Dedo</td>\n",
              "      <td>Não</td>\n",
              "      <td>Y28.2</td>\n",
              "      <td>Escolas Outr Instit Areas Admin Publica</td>\n",
              "      <td>322205</td>\n",
              "      <td>Tec. de Enfermagem</td>\n",
              "      <td>8630.0</td>\n",
              "      <td>Atividades de Atencao Ambulatorial Executadas</td>\n",
              "      <td>57.571.275.002.570</td>\n",
              "    </tr>\n",
              "    <tr>\n",
              "      <th>1</th>\n",
              "      <td>26/05/2022</td>\n",
              "      <td>NaN</td>\n",
              "      <td>2022/05</td>\n",
              "      <td>01/06/2022</td>\n",
              "      <td>Feminino</td>\n",
              "      <td>19/04/1990</td>\n",
              "      <td>São Paulo</td>\n",
              "      <td>Maranhão</td>\n",
              "      <td>354780</td>\n",
              "      <td>Santo André Sp</td>\n",
              "      <td>Empregado</td>\n",
              "      <td>Pa</td>\n",
              "      <td>Empregador</td>\n",
              "      <td>Trajeto</td>\n",
              "      <td>Rua e Estrada   Superficie Utilizada para Sus</td>\n",
              "      <td>Luxacao</td>\n",
              "      <td>Perna (Do Tornozelo Exclusive ao Joelho Ex</td>\n",
              "      <td>Não</td>\n",
              "      <td>S93.4</td>\n",
              "      <td>Entorse e Distensao do Tornozelo</td>\n",
              "      <td>992225</td>\n",
              "      <td>Auxiliar Geral de Conservação de Vias</td>\n",
              "      <td>8630.0</td>\n",
              "      <td>Atividades de Atencao Ambulatorial Executadas</td>\n",
              "      <td>57.571.275.002.570</td>\n",
              "    </tr>\n",
              "  </tbody>\n",
              "</table>\n",
              "</div>\n",
              "      <button class=\"colab-df-convert\" onclick=\"convertToInteractive('df-01640a13-361c-4b1f-bc2c-30ac7a5d5000')\"\n",
              "              title=\"Convert this dataframe to an interactive table.\"\n",
              "              style=\"display:none;\">\n",
              "        \n",
              "  <svg xmlns=\"http://www.w3.org/2000/svg\" height=\"24px\"viewBox=\"0 0 24 24\"\n",
              "       width=\"24px\">\n",
              "    <path d=\"M0 0h24v24H0V0z\" fill=\"none\"/>\n",
              "    <path d=\"M18.56 5.44l.94 2.06.94-2.06 2.06-.94-2.06-.94-.94-2.06-.94 2.06-2.06.94zm-11 1L8.5 8.5l.94-2.06 2.06-.94-2.06-.94L8.5 2.5l-.94 2.06-2.06.94zm10 10l.94 2.06.94-2.06 2.06-.94-2.06-.94-.94-2.06-.94 2.06-2.06.94z\"/><path d=\"M17.41 7.96l-1.37-1.37c-.4-.4-.92-.59-1.43-.59-.52 0-1.04.2-1.43.59L10.3 9.45l-7.72 7.72c-.78.78-.78 2.05 0 2.83L4 21.41c.39.39.9.59 1.41.59.51 0 1.02-.2 1.41-.59l7.78-7.78 2.81-2.81c.8-.78.8-2.07 0-2.86zM5.41 20L4 18.59l7.72-7.72 1.47 1.35L5.41 20z\"/>\n",
              "  </svg>\n",
              "      </button>\n",
              "      \n",
              "  <style>\n",
              "    .colab-df-container {\n",
              "      display:flex;\n",
              "      flex-wrap:wrap;\n",
              "      gap: 12px;\n",
              "    }\n",
              "\n",
              "    .colab-df-convert {\n",
              "      background-color: #E8F0FE;\n",
              "      border: none;\n",
              "      border-radius: 50%;\n",
              "      cursor: pointer;\n",
              "      display: none;\n",
              "      fill: #1967D2;\n",
              "      height: 32px;\n",
              "      padding: 0 0 0 0;\n",
              "      width: 32px;\n",
              "    }\n",
              "\n",
              "    .colab-df-convert:hover {\n",
              "      background-color: #E2EBFA;\n",
              "      box-shadow: 0px 1px 2px rgba(60, 64, 67, 0.3), 0px 1px 3px 1px rgba(60, 64, 67, 0.15);\n",
              "      fill: #174EA6;\n",
              "    }\n",
              "\n",
              "    [theme=dark] .colab-df-convert {\n",
              "      background-color: #3B4455;\n",
              "      fill: #D2E3FC;\n",
              "    }\n",
              "\n",
              "    [theme=dark] .colab-df-convert:hover {\n",
              "      background-color: #434B5C;\n",
              "      box-shadow: 0px 1px 3px 1px rgba(0, 0, 0, 0.15);\n",
              "      filter: drop-shadow(0px 1px 2px rgba(0, 0, 0, 0.3));\n",
              "      fill: #FFFFFF;\n",
              "    }\n",
              "  </style>\n",
              "\n",
              "      <script>\n",
              "        const buttonEl =\n",
              "          document.querySelector('#df-01640a13-361c-4b1f-bc2c-30ac7a5d5000 button.colab-df-convert');\n",
              "        buttonEl.style.display =\n",
              "          google.colab.kernel.accessAllowed ? 'block' : 'none';\n",
              "\n",
              "        async function convertToInteractive(key) {\n",
              "          const element = document.querySelector('#df-01640a13-361c-4b1f-bc2c-30ac7a5d5000');\n",
              "          const dataTable =\n",
              "            await google.colab.kernel.invokeFunction('convertToInteractive',\n",
              "                                                     [key], {});\n",
              "          if (!dataTable) return;\n",
              "\n",
              "          const docLinkHtml = 'Like what you see? Visit the ' +\n",
              "            '<a target=\"_blank\" href=https://colab.research.google.com/notebooks/data_table.ipynb>data table notebook</a>'\n",
              "            + ' to learn more about interactive tables.';\n",
              "          element.innerHTML = '';\n",
              "          dataTable['output_type'] = 'display_data';\n",
              "          await google.colab.output.renderOutput(dataTable, element);\n",
              "          const docLink = document.createElement('div');\n",
              "          docLink.innerHTML = docLinkHtml;\n",
              "          element.appendChild(docLink);\n",
              "        }\n",
              "      </script>\n",
              "    </div>\n",
              "  </div>\n",
              "  "
            ]
          },
          "metadata": {},
          "execution_count": 148
        }
      ]
    },
    {
      "cell_type": "code",
      "source": [
        "#Drop de linhas duplicadas\n",
        "df2.drop_duplicates(inplace=True)"
      ],
      "metadata": {
        "id": "vW_ZolxTr1Dx"
      },
      "execution_count": null,
      "outputs": []
    },
    {
      "cell_type": "markdown",
      "source": [
        "#TRATAMENTO INICIAL: df3"
      ],
      "metadata": {
        "id": "Avwi9fK-iuNA"
      }
    },
    {
      "cell_type": "code",
      "source": [
        "#Analisando o DataFrame\n",
        "df3"
      ],
      "metadata": {
        "colab": {
          "base_uri": "https://localhost:8080/"
        },
        "id": "8FSbR32vjU8b",
        "outputId": "2f173374-132a-4021-fa4c-43ff188f8352"
      },
      "execution_count": null,
      "outputs": [
        {
          "output_type": "execute_result",
          "data": {
            "text/plain": [
              "                          Agente  Causador  Acidente Data Acidente  \\\n",
              "0       Faca,Facao- Ferramenta Manual sem Forca Motr       2022/10   \n",
              "1        Aprision. Em,Sob ou Entre,Nic                     2022/10   \n",
              "2       Andaime,Plataforma - Edificio ou Estrutura         2022/10   \n",
              "3      Veiculo Rodoviario Motorizado                       2022/10   \n",
              "4      Impacto de Pes. Contra Objeto em Movimento          2022/10   \n",
              "...                                              ...           ...   \n",
              "15654  Piso de Edificio - Superficie Utilizada Para        2022/09   \n",
              "15655  Escada Permanente Cujos Degraus Permitem Apoi       2022/10   \n",
              "15656   Andaime,Plataforma - Edificio ou Estrutura         2022/09   \n",
              "15657    Martelo,Malho,Marreta- Ferramenta Manual Se       2022/10   \n",
              "15658  Impacto de Pes. Contra Objeto Parado                2022/10   \n",
              "\n",
              "                                                 CBO  \\\n",
              "0      848515-Desossador                               \n",
              "1      324115-Tec. em Radiologia e Imagenologia        \n",
              "2      715210-Pedreiro                                 \n",
              "3      784205-Alimentador de Linha de Prod.            \n",
              "4      717020-Servente de Obras                        \n",
              "...                                              ...   \n",
              "15654  {ñ class}                                       \n",
              "15655  232130-Prof. Física no Ensino Médio             \n",
              "15656  517330-Vigilante                                \n",
              "15657  724315-Soldador                                 \n",
              "15658  721215-Oper. Máquinas-Ferramenta Convencionai   \n",
              "\n",
              "                                              CID-10  CNAE2.0 Empregador  \\\n",
              "0      S51.0 Ferim do Cotovelo                                      1011   \n",
              "1      S60.0 Contusao de Dedos s/Lesao da Unha                      8610   \n",
              "2      S62.8 Frat de Outr Partes e de Partes Ne Punh                4120   \n",
              "3      T02.2 Frat Envolv Regioes Mult de Um Membro S                4211   \n",
              "4      S62.5 Frat do Polegar                                        4110   \n",
              "...                                              ...                 ...   \n",
              "15654  S62   Frat ao Nivel do Punho e da Mao                        2330   \n",
              "15655  S82   Frat da Perna Incl Tornozelo                           8520   \n",
              "15656  S82.7 Frat Mult da Perna                                     8112   \n",
              "15657  S62.6 Frat de Outr Dedos                                     7112   \n",
              "15658  S62.3 Frat de Outr Ossos do Metacarpo                        2815   \n",
              "\n",
              "                                CNAE2.0 Empregador.1         Emitente CAT  \\\n",
              "0       Abate de Reses,Exceto Suinos                  Empregador            \n",
              "1      Atividades de Atendimento Hospitalar           Empregador            \n",
              "2      Construcao de Edificios                        Empregador            \n",
              "3      Construcao de Rodovias e Ferrovias             Empregador            \n",
              "4      Incorporacao de Empreendimentos Imobiliarios   Empregador            \n",
              "...                                              ...                  ...   \n",
              "15654   Fabricacao de Artefatos de Concreto,Cimento,  {ñ class}             \n",
              "15655  Ensino Medio                                   Autoridade Pública    \n",
              "15656  Condominios Prediais                           Segurado/Dependente   \n",
              "15657  Servicos de Engenharia                         Empregador            \n",
              "15658  Fabricacao de Equipamentos de Transmissao par  Segurado/Dependente   \n",
              "\n",
              "                                Espécie do benefício  \\\n",
              "0      Pa                                              \n",
              "1      Pa                                              \n",
              "2      Pa                                              \n",
              "3      Pa                                              \n",
              "4      Pa                                              \n",
              "...                                              ...   \n",
              "15654  Auxílio Doenca por Acidente do Trabalho         \n",
              "15655  Auxílio Doenca por Acidente do Trabalho         \n",
              "15656  Auxílio Doenca por Acidente do Trabalho         \n",
              "15657  Auxílio Doenca por Acidente do Trabalho         \n",
              "15658  Auxílio Doenca por Acidente do Trabalho         \n",
              "\n",
              "                                   Filiação Segurado Indica Óbito Acidente  \\\n",
              "0      Empregado                                                       Não   \n",
              "1      Empregado                                                       Não   \n",
              "2      Empregado                                                       Não   \n",
              "3      Empregado                                                       Sim   \n",
              "4      Empregado                                                       Não   \n",
              "...                                              ...                   ...   \n",
              "15654  Empregado                                                       Não   \n",
              "15655  Empregado                                                       Não   \n",
              "15656  Empregado                                                       Não   \n",
              "15657  Empregado                                                       Não   \n",
              "15658  Empregado                                                       Não   \n",
              "\n",
              "                                      Munic Empr  \\\n",
              "0      521570-Palmeiras de Goiás                   \n",
              "1      352590-Jundiaí                              \n",
              "2      421370-Pouso Redondo                        \n",
              "3      314480-Nova Lima                            \n",
              "4      292740-Salvador                             \n",
              "...                                          ...   \n",
              "15654  410960-Guaratuba                            \n",
              "15655  410690-Curitiba                             \n",
              "15656  420460-Criciúma                             \n",
              "15657  411000-Iguaraçu                             \n",
              "15658  353130-Monte Alto                           \n",
              "\n",
              "                                   Natureza da Lesão  \\\n",
              "0         Corte,Laceracao,Ferida Contusa,Punctura      \n",
              "1       Contusao,Esmagamento (Superficie Cutanea I     \n",
              "2      Fratura                                         \n",
              "3      Lesoes Multiplas                                \n",
              "4      Fratura                                         \n",
              "...                                              ...   \n",
              "15654  Lesao Imediata                                  \n",
              "15655  Fratura                                         \n",
              "15656  Fratura                                         \n",
              "15657  Fratura                                         \n",
              "15658  Fratura                                         \n",
              "\n",
              "      Origem de Cadastramento CAT  \\\n",
              "0                        Internet   \n",
              "1                        Internet   \n",
              "2                        Internet   \n",
              "3                        Internet   \n",
              "4                        Internet   \n",
              "...                           ...   \n",
              "15654                    Internet   \n",
              "15655                    Internet   \n",
              "15656                    Internet   \n",
              "15657                    Internet   \n",
              "15658                    Internet   \n",
              "\n",
              "                                Parte Corpo Atingida           Sexo  \\\n",
              "0      Cotovelo                                       Masculino       \n",
              "1      Dedo                                           Masculino       \n",
              "2      Mao (Exceto Punho ou Dedos)                    Masculino       \n",
              "3      Partes Multiplas - Aplica-Se Quando Mais de U  Masculino       \n",
              "4      Dedo                                           Masculino       \n",
              "...                                              ...            ...   \n",
              "15654  Mao (Exceto Punho ou Dedos)                    Masculino       \n",
              "15655     Perna (Do Tornozelo,Exclusive,ao Joelho,Ex  Feminino        \n",
              "15656   Membros Inferiores,Partes Multiplas (Qualque  Masculino       \n",
              "15657  Dedo                                           Masculino       \n",
              "15658  Dedo                                           Masculino       \n",
              "\n",
              "      Tipo do Acidente UF  Munic.  Acidente UF Munic. Empregador  \\\n",
              "0             Típico       {ñ class}         Goiás                 \n",
              "1             Típico       Maranhão          São Paulo             \n",
              "2             Típico       {ñ class}         Santa Catarina        \n",
              "3             Típico       Rondônia          Minas Gerais          \n",
              "4             Típico       {ñ class}         Bahia                 \n",
              "...                ...                  ...                  ...   \n",
              "15654         Típico       Roraima           Paraná                \n",
              "15655         Típico       Roraima           Paraná                \n",
              "15656         Típico       {ñ class}         Santa Catarina        \n",
              "15657         Típico       Roraima           Paraná                \n",
              "15658         Típico       Maranhão          São Paulo             \n",
              "\n",
              "      Data Acidente.1 Data Despacho Benefício Data Acidente.2 Data Nascimento  \\\n",
              "0             2022/10                 0000/00      05/10/2022      05/11/1988   \n",
              "1             2022/10                 0000/00      04/10/2022      02/02/1989   \n",
              "2             2022/10                 0000/00      05/10/2022      07/02/1981   \n",
              "3             2022/10                 0000/00      05/10/2022      27/09/1958   \n",
              "4             2022/10                 0000/00      05/10/2022      09/08/1976   \n",
              "...               ...                     ...             ...             ...   \n",
              "15654         2022/09                 2022/10      29/09/2022      18/09/1993   \n",
              "15655         2022/10                 2022/11      06/10/2022      24/11/1986   \n",
              "15656         2022/09                 2022/10      20/09/2022      02/03/1986   \n",
              "15657         2022/10                 2022/10      05/10/2022      08/04/1984   \n",
              "15658         2022/10                 2022/10      03/10/2022      15/07/1993   \n",
              "\n",
              "      Data Emissão CAT CNPJ/CEI Empregador,,,,,,,,,,  \n",
              "0           06/10/2022       00.000.000.000.000,,,,,  \n",
              "1           06/10/2022     00.000.000.000.000,,,,,,,  \n",
              "2           06/10/2022   00.000.000.000.000,,,,,,,,,  \n",
              "3           06/10/2022  00.000.000.000.000,,,,,,,,,,  \n",
              "4           06/10/2022  00.000.000.000.000,,,,,,,,,,  \n",
              "...                ...                           ...  \n",
              "15654       10/10/2022    21.161.901.000.135,,,,,,,,  \n",
              "15655       07/10/2022     76.416.965.000.121,,,,,,,  \n",
              "15656       10/10/2022    32.994.401.000.109,,,,,,,,  \n",
              "15657       06/10/2022    34.197.591.000.150,,,,,,,,  \n",
              "15658       18/10/2022  54.614.813.000.109,,,,,,,,,,  \n",
              "\n",
              "[15659 rows x 24 columns]"
            ],
            "text/html": [
              "\n",
              "  <div id=\"df-e7d023bd-1857-4729-9465-d2e5ae6f87ec\">\n",
              "    <div class=\"colab-df-container\">\n",
              "      <div>\n",
              "<style scoped>\n",
              "    .dataframe tbody tr th:only-of-type {\n",
              "        vertical-align: middle;\n",
              "    }\n",
              "\n",
              "    .dataframe tbody tr th {\n",
              "        vertical-align: top;\n",
              "    }\n",
              "\n",
              "    .dataframe thead th {\n",
              "        text-align: right;\n",
              "    }\n",
              "</style>\n",
              "<table border=\"1\" class=\"dataframe\">\n",
              "  <thead>\n",
              "    <tr style=\"text-align: right;\">\n",
              "      <th></th>\n",
              "      <th>Agente  Causador  Acidente</th>\n",
              "      <th>Data Acidente</th>\n",
              "      <th>CBO</th>\n",
              "      <th>CID-10</th>\n",
              "      <th>CNAE2.0 Empregador</th>\n",
              "      <th>CNAE2.0 Empregador.1</th>\n",
              "      <th>Emitente CAT</th>\n",
              "      <th>Espécie do benefício</th>\n",
              "      <th>Filiação Segurado</th>\n",
              "      <th>Indica Óbito Acidente</th>\n",
              "      <th>Munic Empr</th>\n",
              "      <th>Natureza da Lesão</th>\n",
              "      <th>Origem de Cadastramento CAT</th>\n",
              "      <th>Parte Corpo Atingida</th>\n",
              "      <th>Sexo</th>\n",
              "      <th>Tipo do Acidente</th>\n",
              "      <th>UF  Munic.  Acidente</th>\n",
              "      <th>UF Munic. Empregador</th>\n",
              "      <th>Data Acidente.1</th>\n",
              "      <th>Data Despacho Benefício</th>\n",
              "      <th>Data Acidente.2</th>\n",
              "      <th>Data Nascimento</th>\n",
              "      <th>Data Emissão CAT</th>\n",
              "      <th>CNPJ/CEI Empregador,,,,,,,,,,</th>\n",
              "    </tr>\n",
              "  </thead>\n",
              "  <tbody>\n",
              "    <tr>\n",
              "      <th>0</th>\n",
              "      <td>Faca,Facao- Ferramenta Manual sem Forca Motr</td>\n",
              "      <td>2022/10</td>\n",
              "      <td>848515-Desossador</td>\n",
              "      <td>S51.0 Ferim do Cotovelo</td>\n",
              "      <td>1011</td>\n",
              "      <td>Abate de Reses,Exceto Suinos</td>\n",
              "      <td>Empregador</td>\n",
              "      <td>Pa</td>\n",
              "      <td>Empregado</td>\n",
              "      <td>Não</td>\n",
              "      <td>521570-Palmeiras de Goiás</td>\n",
              "      <td>Corte,Laceracao,Ferida Contusa,Punctura</td>\n",
              "      <td>Internet</td>\n",
              "      <td>Cotovelo</td>\n",
              "      <td>Masculino</td>\n",
              "      <td>Típico</td>\n",
              "      <td>{ñ class}</td>\n",
              "      <td>Goiás</td>\n",
              "      <td>2022/10</td>\n",
              "      <td>0000/00</td>\n",
              "      <td>05/10/2022</td>\n",
              "      <td>05/11/1988</td>\n",
              "      <td>06/10/2022</td>\n",
              "      <td>00.000.000.000.000,,,,,</td>\n",
              "    </tr>\n",
              "    <tr>\n",
              "      <th>1</th>\n",
              "      <td>Aprision. Em,Sob ou Entre,Nic</td>\n",
              "      <td>2022/10</td>\n",
              "      <td>324115-Tec. em Radiologia e Imagenologia</td>\n",
              "      <td>S60.0 Contusao de Dedos s/Lesao da Unha</td>\n",
              "      <td>8610</td>\n",
              "      <td>Atividades de Atendimento Hospitalar</td>\n",
              "      <td>Empregador</td>\n",
              "      <td>Pa</td>\n",
              "      <td>Empregado</td>\n",
              "      <td>Não</td>\n",
              "      <td>352590-Jundiaí</td>\n",
              "      <td>Contusao,Esmagamento (Superficie Cutanea I</td>\n",
              "      <td>Internet</td>\n",
              "      <td>Dedo</td>\n",
              "      <td>Masculino</td>\n",
              "      <td>Típico</td>\n",
              "      <td>Maranhão</td>\n",
              "      <td>São Paulo</td>\n",
              "      <td>2022/10</td>\n",
              "      <td>0000/00</td>\n",
              "      <td>04/10/2022</td>\n",
              "      <td>02/02/1989</td>\n",
              "      <td>06/10/2022</td>\n",
              "      <td>00.000.000.000.000,,,,,,,</td>\n",
              "    </tr>\n",
              "    <tr>\n",
              "      <th>2</th>\n",
              "      <td>Andaime,Plataforma - Edificio ou Estrutura</td>\n",
              "      <td>2022/10</td>\n",
              "      <td>715210-Pedreiro</td>\n",
              "      <td>S62.8 Frat de Outr Partes e de Partes Ne Punh</td>\n",
              "      <td>4120</td>\n",
              "      <td>Construcao de Edificios</td>\n",
              "      <td>Empregador</td>\n",
              "      <td>Pa</td>\n",
              "      <td>Empregado</td>\n",
              "      <td>Não</td>\n",
              "      <td>421370-Pouso Redondo</td>\n",
              "      <td>Fratura</td>\n",
              "      <td>Internet</td>\n",
              "      <td>Mao (Exceto Punho ou Dedos)</td>\n",
              "      <td>Masculino</td>\n",
              "      <td>Típico</td>\n",
              "      <td>{ñ class}</td>\n",
              "      <td>Santa Catarina</td>\n",
              "      <td>2022/10</td>\n",
              "      <td>0000/00</td>\n",
              "      <td>05/10/2022</td>\n",
              "      <td>07/02/1981</td>\n",
              "      <td>06/10/2022</td>\n",
              "      <td>00.000.000.000.000,,,,,,,,,</td>\n",
              "    </tr>\n",
              "    <tr>\n",
              "      <th>3</th>\n",
              "      <td>Veiculo Rodoviario Motorizado</td>\n",
              "      <td>2022/10</td>\n",
              "      <td>784205-Alimentador de Linha de Prod.</td>\n",
              "      <td>T02.2 Frat Envolv Regioes Mult de Um Membro S</td>\n",
              "      <td>4211</td>\n",
              "      <td>Construcao de Rodovias e Ferrovias</td>\n",
              "      <td>Empregador</td>\n",
              "      <td>Pa</td>\n",
              "      <td>Empregado</td>\n",
              "      <td>Sim</td>\n",
              "      <td>314480-Nova Lima</td>\n",
              "      <td>Lesoes Multiplas</td>\n",
              "      <td>Internet</td>\n",
              "      <td>Partes Multiplas - Aplica-Se Quando Mais de U</td>\n",
              "      <td>Masculino</td>\n",
              "      <td>Típico</td>\n",
              "      <td>Rondônia</td>\n",
              "      <td>Minas Gerais</td>\n",
              "      <td>2022/10</td>\n",
              "      <td>0000/00</td>\n",
              "      <td>05/10/2022</td>\n",
              "      <td>27/09/1958</td>\n",
              "      <td>06/10/2022</td>\n",
              "      <td>00.000.000.000.000,,,,,,,,,,</td>\n",
              "    </tr>\n",
              "    <tr>\n",
              "      <th>4</th>\n",
              "      <td>Impacto de Pes. Contra Objeto em Movimento</td>\n",
              "      <td>2022/10</td>\n",
              "      <td>717020-Servente de Obras</td>\n",
              "      <td>S62.5 Frat do Polegar</td>\n",
              "      <td>4110</td>\n",
              "      <td>Incorporacao de Empreendimentos Imobiliarios</td>\n",
              "      <td>Empregador</td>\n",
              "      <td>Pa</td>\n",
              "      <td>Empregado</td>\n",
              "      <td>Não</td>\n",
              "      <td>292740-Salvador</td>\n",
              "      <td>Fratura</td>\n",
              "      <td>Internet</td>\n",
              "      <td>Dedo</td>\n",
              "      <td>Masculino</td>\n",
              "      <td>Típico</td>\n",
              "      <td>{ñ class}</td>\n",
              "      <td>Bahia</td>\n",
              "      <td>2022/10</td>\n",
              "      <td>0000/00</td>\n",
              "      <td>05/10/2022</td>\n",
              "      <td>09/08/1976</td>\n",
              "      <td>06/10/2022</td>\n",
              "      <td>00.000.000.000.000,,,,,,,,,,</td>\n",
              "    </tr>\n",
              "    <tr>\n",
              "      <th>...</th>\n",
              "      <td>...</td>\n",
              "      <td>...</td>\n",
              "      <td>...</td>\n",
              "      <td>...</td>\n",
              "      <td>...</td>\n",
              "      <td>...</td>\n",
              "      <td>...</td>\n",
              "      <td>...</td>\n",
              "      <td>...</td>\n",
              "      <td>...</td>\n",
              "      <td>...</td>\n",
              "      <td>...</td>\n",
              "      <td>...</td>\n",
              "      <td>...</td>\n",
              "      <td>...</td>\n",
              "      <td>...</td>\n",
              "      <td>...</td>\n",
              "      <td>...</td>\n",
              "      <td>...</td>\n",
              "      <td>...</td>\n",
              "      <td>...</td>\n",
              "      <td>...</td>\n",
              "      <td>...</td>\n",
              "      <td>...</td>\n",
              "    </tr>\n",
              "    <tr>\n",
              "      <th>15654</th>\n",
              "      <td>Piso de Edificio - Superficie Utilizada Para</td>\n",
              "      <td>2022/09</td>\n",
              "      <td>{ñ class}</td>\n",
              "      <td>S62   Frat ao Nivel do Punho e da Mao</td>\n",
              "      <td>2330</td>\n",
              "      <td>Fabricacao de Artefatos de Concreto,Cimento,</td>\n",
              "      <td>{ñ class}</td>\n",
              "      <td>Auxílio Doenca por Acidente do Trabalho</td>\n",
              "      <td>Empregado</td>\n",
              "      <td>Não</td>\n",
              "      <td>410960-Guaratuba</td>\n",
              "      <td>Lesao Imediata</td>\n",
              "      <td>Internet</td>\n",
              "      <td>Mao (Exceto Punho ou Dedos)</td>\n",
              "      <td>Masculino</td>\n",
              "      <td>Típico</td>\n",
              "      <td>Roraima</td>\n",
              "      <td>Paraná</td>\n",
              "      <td>2022/09</td>\n",
              "      <td>2022/10</td>\n",
              "      <td>29/09/2022</td>\n",
              "      <td>18/09/1993</td>\n",
              "      <td>10/10/2022</td>\n",
              "      <td>21.161.901.000.135,,,,,,,,</td>\n",
              "    </tr>\n",
              "    <tr>\n",
              "      <th>15655</th>\n",
              "      <td>Escada Permanente Cujos Degraus Permitem Apoi</td>\n",
              "      <td>2022/10</td>\n",
              "      <td>232130-Prof. Física no Ensino Médio</td>\n",
              "      <td>S82   Frat da Perna Incl Tornozelo</td>\n",
              "      <td>8520</td>\n",
              "      <td>Ensino Medio</td>\n",
              "      <td>Autoridade Pública</td>\n",
              "      <td>Auxílio Doenca por Acidente do Trabalho</td>\n",
              "      <td>Empregado</td>\n",
              "      <td>Não</td>\n",
              "      <td>410690-Curitiba</td>\n",
              "      <td>Fratura</td>\n",
              "      <td>Internet</td>\n",
              "      <td>Perna (Do Tornozelo,Exclusive,ao Joelho,Ex</td>\n",
              "      <td>Feminino</td>\n",
              "      <td>Típico</td>\n",
              "      <td>Roraima</td>\n",
              "      <td>Paraná</td>\n",
              "      <td>2022/10</td>\n",
              "      <td>2022/11</td>\n",
              "      <td>06/10/2022</td>\n",
              "      <td>24/11/1986</td>\n",
              "      <td>07/10/2022</td>\n",
              "      <td>76.416.965.000.121,,,,,,,</td>\n",
              "    </tr>\n",
              "    <tr>\n",
              "      <th>15656</th>\n",
              "      <td>Andaime,Plataforma - Edificio ou Estrutura</td>\n",
              "      <td>2022/09</td>\n",
              "      <td>517330-Vigilante</td>\n",
              "      <td>S82.7 Frat Mult da Perna</td>\n",
              "      <td>8112</td>\n",
              "      <td>Condominios Prediais</td>\n",
              "      <td>Segurado/Dependente</td>\n",
              "      <td>Auxílio Doenca por Acidente do Trabalho</td>\n",
              "      <td>Empregado</td>\n",
              "      <td>Não</td>\n",
              "      <td>420460-Criciúma</td>\n",
              "      <td>Fratura</td>\n",
              "      <td>Internet</td>\n",
              "      <td>Membros Inferiores,Partes Multiplas (Qualque</td>\n",
              "      <td>Masculino</td>\n",
              "      <td>Típico</td>\n",
              "      <td>{ñ class}</td>\n",
              "      <td>Santa Catarina</td>\n",
              "      <td>2022/09</td>\n",
              "      <td>2022/10</td>\n",
              "      <td>20/09/2022</td>\n",
              "      <td>02/03/1986</td>\n",
              "      <td>10/10/2022</td>\n",
              "      <td>32.994.401.000.109,,,,,,,,</td>\n",
              "    </tr>\n",
              "    <tr>\n",
              "      <th>15657</th>\n",
              "      <td>Martelo,Malho,Marreta- Ferramenta Manual Se</td>\n",
              "      <td>2022/10</td>\n",
              "      <td>724315-Soldador</td>\n",
              "      <td>S62.6 Frat de Outr Dedos</td>\n",
              "      <td>7112</td>\n",
              "      <td>Servicos de Engenharia</td>\n",
              "      <td>Empregador</td>\n",
              "      <td>Auxílio Doenca por Acidente do Trabalho</td>\n",
              "      <td>Empregado</td>\n",
              "      <td>Não</td>\n",
              "      <td>411000-Iguaraçu</td>\n",
              "      <td>Fratura</td>\n",
              "      <td>Internet</td>\n",
              "      <td>Dedo</td>\n",
              "      <td>Masculino</td>\n",
              "      <td>Típico</td>\n",
              "      <td>Roraima</td>\n",
              "      <td>Paraná</td>\n",
              "      <td>2022/10</td>\n",
              "      <td>2022/10</td>\n",
              "      <td>05/10/2022</td>\n",
              "      <td>08/04/1984</td>\n",
              "      <td>06/10/2022</td>\n",
              "      <td>34.197.591.000.150,,,,,,,,</td>\n",
              "    </tr>\n",
              "    <tr>\n",
              "      <th>15658</th>\n",
              "      <td>Impacto de Pes. Contra Objeto Parado</td>\n",
              "      <td>2022/10</td>\n",
              "      <td>721215-Oper. Máquinas-Ferramenta Convencionai</td>\n",
              "      <td>S62.3 Frat de Outr Ossos do Metacarpo</td>\n",
              "      <td>2815</td>\n",
              "      <td>Fabricacao de Equipamentos de Transmissao par</td>\n",
              "      <td>Segurado/Dependente</td>\n",
              "      <td>Auxílio Doenca por Acidente do Trabalho</td>\n",
              "      <td>Empregado</td>\n",
              "      <td>Não</td>\n",
              "      <td>353130-Monte Alto</td>\n",
              "      <td>Fratura</td>\n",
              "      <td>Internet</td>\n",
              "      <td>Dedo</td>\n",
              "      <td>Masculino</td>\n",
              "      <td>Típico</td>\n",
              "      <td>Maranhão</td>\n",
              "      <td>São Paulo</td>\n",
              "      <td>2022/10</td>\n",
              "      <td>2022/10</td>\n",
              "      <td>03/10/2022</td>\n",
              "      <td>15/07/1993</td>\n",
              "      <td>18/10/2022</td>\n",
              "      <td>54.614.813.000.109,,,,,,,,,,</td>\n",
              "    </tr>\n",
              "  </tbody>\n",
              "</table>\n",
              "<p>15659 rows × 24 columns</p>\n",
              "</div>\n",
              "      <button class=\"colab-df-convert\" onclick=\"convertToInteractive('df-e7d023bd-1857-4729-9465-d2e5ae6f87ec')\"\n",
              "              title=\"Convert this dataframe to an interactive table.\"\n",
              "              style=\"display:none;\">\n",
              "        \n",
              "  <svg xmlns=\"http://www.w3.org/2000/svg\" height=\"24px\"viewBox=\"0 0 24 24\"\n",
              "       width=\"24px\">\n",
              "    <path d=\"M0 0h24v24H0V0z\" fill=\"none\"/>\n",
              "    <path d=\"M18.56 5.44l.94 2.06.94-2.06 2.06-.94-2.06-.94-.94-2.06-.94 2.06-2.06.94zm-11 1L8.5 8.5l.94-2.06 2.06-.94-2.06-.94L8.5 2.5l-.94 2.06-2.06.94zm10 10l.94 2.06.94-2.06 2.06-.94-2.06-.94-.94-2.06-.94 2.06-2.06.94z\"/><path d=\"M17.41 7.96l-1.37-1.37c-.4-.4-.92-.59-1.43-.59-.52 0-1.04.2-1.43.59L10.3 9.45l-7.72 7.72c-.78.78-.78 2.05 0 2.83L4 21.41c.39.39.9.59 1.41.59.51 0 1.02-.2 1.41-.59l7.78-7.78 2.81-2.81c.8-.78.8-2.07 0-2.86zM5.41 20L4 18.59l7.72-7.72 1.47 1.35L5.41 20z\"/>\n",
              "  </svg>\n",
              "      </button>\n",
              "      \n",
              "  <style>\n",
              "    .colab-df-container {\n",
              "      display:flex;\n",
              "      flex-wrap:wrap;\n",
              "      gap: 12px;\n",
              "    }\n",
              "\n",
              "    .colab-df-convert {\n",
              "      background-color: #E8F0FE;\n",
              "      border: none;\n",
              "      border-radius: 50%;\n",
              "      cursor: pointer;\n",
              "      display: none;\n",
              "      fill: #1967D2;\n",
              "      height: 32px;\n",
              "      padding: 0 0 0 0;\n",
              "      width: 32px;\n",
              "    }\n",
              "\n",
              "    .colab-df-convert:hover {\n",
              "      background-color: #E2EBFA;\n",
              "      box-shadow: 0px 1px 2px rgba(60, 64, 67, 0.3), 0px 1px 3px 1px rgba(60, 64, 67, 0.15);\n",
              "      fill: #174EA6;\n",
              "    }\n",
              "\n",
              "    [theme=dark] .colab-df-convert {\n",
              "      background-color: #3B4455;\n",
              "      fill: #D2E3FC;\n",
              "    }\n",
              "\n",
              "    [theme=dark] .colab-df-convert:hover {\n",
              "      background-color: #434B5C;\n",
              "      box-shadow: 0px 1px 3px 1px rgba(0, 0, 0, 0.15);\n",
              "      filter: drop-shadow(0px 1px 2px rgba(0, 0, 0, 0.3));\n",
              "      fill: #FFFFFF;\n",
              "    }\n",
              "  </style>\n",
              "\n",
              "      <script>\n",
              "        const buttonEl =\n",
              "          document.querySelector('#df-e7d023bd-1857-4729-9465-d2e5ae6f87ec button.colab-df-convert');\n",
              "        buttonEl.style.display =\n",
              "          google.colab.kernel.accessAllowed ? 'block' : 'none';\n",
              "\n",
              "        async function convertToInteractive(key) {\n",
              "          const element = document.querySelector('#df-e7d023bd-1857-4729-9465-d2e5ae6f87ec');\n",
              "          const dataTable =\n",
              "            await google.colab.kernel.invokeFunction('convertToInteractive',\n",
              "                                                     [key], {});\n",
              "          if (!dataTable) return;\n",
              "\n",
              "          const docLinkHtml = 'Like what you see? Visit the ' +\n",
              "            '<a target=\"_blank\" href=https://colab.research.google.com/notebooks/data_table.ipynb>data table notebook</a>'\n",
              "            + ' to learn more about interactive tables.';\n",
              "          element.innerHTML = '';\n",
              "          dataTable['output_type'] = 'display_data';\n",
              "          await google.colab.output.renderOutput(dataTable, element);\n",
              "          const docLink = document.createElement('div');\n",
              "          docLink.innerHTML = docLinkHtml;\n",
              "          element.appendChild(docLink);\n",
              "        }\n",
              "      </script>\n",
              "    </div>\n",
              "  </div>\n",
              "  "
            ]
          },
          "metadata": {},
          "execution_count": 150
        }
      ]
    },
    {
      "cell_type": "code",
      "source": [
        "#Renomeando Colunas\n",
        "df3.dtypes"
      ],
      "metadata": {
        "colab": {
          "base_uri": "https://localhost:8080/"
        },
        "id": "uzN011HPjblU",
        "outputId": "e3634c98-25d4-4c05-a6a0-89693003f8d9"
      },
      "execution_count": null,
      "outputs": [
        {
          "output_type": "execute_result",
          "data": {
            "text/plain": [
              "Agente  Causador  Acidente       object\n",
              "Data Acidente                    object\n",
              "CBO                              object\n",
              "CID-10                           object\n",
              "CNAE2.0 Empregador                int64\n",
              "CNAE2.0 Empregador.1             object\n",
              "Emitente CAT                     object\n",
              "Espécie do benefício             object\n",
              "Filiação Segurado                object\n",
              "Indica Óbito Acidente            object\n",
              "Munic Empr                       object\n",
              "Natureza da Lesão                object\n",
              "Origem de Cadastramento CAT      object\n",
              "Parte Corpo Atingida             object\n",
              "Sexo                             object\n",
              "Tipo do Acidente                 object\n",
              "UF  Munic.  Acidente             object\n",
              "UF Munic. Empregador             object\n",
              "Data Acidente.1                  object\n",
              "Data Despacho Benefício          object\n",
              "Data Acidente.2                  object\n",
              "Data Nascimento                  object\n",
              "Data Emissão CAT                 object\n",
              "CNPJ/CEI Empregador,,,,,,,,,,    object\n",
              "dtype: object"
            ]
          },
          "metadata": {},
          "execution_count": 151
        }
      ]
    },
    {
      "cell_type": "code",
      "source": [
        "df3.rename(columns={'CBO':'cbo',\n",
        "                    'Agente  Causador  Acidente':'agt_causador',\n",
        "                    'Data Acidente':'dt_acidente',\n",
        "                    'CID-10':'cid',\n",
        "                    'CNAE2.0 Empregador':'cnae_cod',\n",
        "                    'CNAE2.0 Empregador.1':'cnae_desc',\n",
        "                    'Emitente CAT':'cat',\n",
        "                    'Espécie do benefício':'beneficio',\n",
        "                    'Filiação Segurado':'filiacao',\n",
        "                    'Indica Óbito Acidente':'obito',\n",
        "                    'Munic Empr':'municipio',\n",
        "                    'Natureza da Lesão':'lesao',\n",
        "                    'Origem de Cadastramento CAT':'origem_cad',\n",
        "                    'Parte Corpo Atingida':'local_lesao',\n",
        "                    'Sexo':'sexo',\n",
        "                    'Tipo do Acidente':'tipo_acidente',\n",
        "                    'UF  Munic.  Acidente':'uf_acidente',\n",
        "                    'UF Munic. Empregador':'uf_empregador',\n",
        "                    'Data Acidente.1':'mes_afastamento',\n",
        "                    'Data Despacho Benefício':'dt_despacho',\n",
        "                    'Data Acidente.2':'dt_acidente2',\n",
        "                    'Data Nascimento':'dt_nasc',\n",
        "                    'Data Emissão CAT':'dt_emissao_cat',\n",
        "                    'CNPJ/CEI Empregador,,,,,,,,,,':'cnpj_cei'\n",
        "                    }, inplace=True)"
      ],
      "metadata": {
        "id": "3rMzkqkrjipv"
      },
      "execution_count": null,
      "outputs": []
    },
    {
      "cell_type": "code",
      "source": [
        "#verificando se ficou tudo ok\n",
        "df3.dtypes"
      ],
      "metadata": {
        "colab": {
          "base_uri": "https://localhost:8080/"
        },
        "id": "bUizD2pEjptD",
        "outputId": "29af5714-41bf-41f2-f4ee-f350fe79424a"
      },
      "execution_count": null,
      "outputs": [
        {
          "output_type": "execute_result",
          "data": {
            "text/plain": [
              "agt_causador       object\n",
              "dt_acidente        object\n",
              "cbo                object\n",
              "cid                object\n",
              "cnae_cod            int64\n",
              "cnae_desc          object\n",
              "cat                object\n",
              "beneficio          object\n",
              "filiacao           object\n",
              "obito              object\n",
              "municipio          object\n",
              "lesao              object\n",
              "origem_cad         object\n",
              "local_lesao        object\n",
              "sexo               object\n",
              "tipo_acidente      object\n",
              "uf_acidente        object\n",
              "uf_empregador      object\n",
              "mes_afastamento    object\n",
              "dt_despacho        object\n",
              "dt_acidente2       object\n",
              "dt_nasc            object\n",
              "dt_emissao_cat     object\n",
              "cnpj_cei           object\n",
              "dtype: object"
            ]
          },
          "metadata": {},
          "execution_count": 153
        }
      ]
    },
    {
      "cell_type": "code",
      "source": [
        "#Ajustando valores inconsistentes de primeira vista no df\n",
        "df3.replace([',','-'],' ',regex=True, inplace=True)"
      ],
      "metadata": {
        "id": "nvDuU9nUj_uR"
      },
      "execution_count": null,
      "outputs": []
    },
    {
      "cell_type": "code",
      "source": [
        "#Substituindo valores inconsistentes de primeira vista no df por <NA>\n",
        "df3.replace(['{ñ class}', '{ñ class', '{ñ'],pd.NA,regex=True, inplace=True)"
      ],
      "metadata": {
        "id": "BEgO-0p9kBk2"
      },
      "execution_count": null,
      "outputs": []
    },
    {
      "cell_type": "code",
      "source": [
        "#Removendo os espaços em branco\n",
        "#Aplicando a função removedora de espaços em branco\n",
        "remove_espaco(df3)"
      ],
      "metadata": {
        "id": "ycwoaA2skHit"
      },
      "execution_count": null,
      "outputs": []
    },
    {
      "cell_type": "code",
      "source": [
        "#Verificando se ficou tudo ok\n",
        "df3.head()"
      ],
      "metadata": {
        "colab": {
          "base_uri": "https://localhost:8080/"
        },
        "id": "2P5XUc4AkgDy",
        "outputId": "80ede955-338b-4838-d7a5-c8bededb1d2a"
      },
      "execution_count": null,
      "outputs": [
        {
          "output_type": "execute_result",
          "data": {
            "text/plain": [
              "                                   agt_causador dt_acidente  \\\n",
              "0  Faca Facao  Ferramenta Manual sem Forca Motr     2022/10   \n",
              "1                 Aprision. Em Sob ou Entre Nic     2022/10   \n",
              "2    Andaime Plataforma   Edificio ou Estrutura     2022/10   \n",
              "3                 Veiculo Rodoviario Motorizado     2022/10   \n",
              "4    Impacto de Pes. Contra Objeto em Movimento     2022/10   \n",
              "\n",
              "                                        cbo  \\\n",
              "0                         848515 Desossador   \n",
              "1  324115 Tec. em Radiologia e Imagenologia   \n",
              "2                           715210 Pedreiro   \n",
              "3      784205 Alimentador de Linha de Prod.   \n",
              "4                  717020 Servente de Obras   \n",
              "\n",
              "                                             cid  cnae_cod  \\\n",
              "0                        S51.0 Ferim do Cotovelo      1011   \n",
              "1        S60.0 Contusao de Dedos s/Lesao da Unha      8610   \n",
              "2  S62.8 Frat de Outr Partes e de Partes Ne Punh      4120   \n",
              "3  T02.2 Frat Envolv Regioes Mult de Um Membro S      4211   \n",
              "4                          S62.5 Frat do Polegar      4110   \n",
              "\n",
              "                                      cnae_desc         cat beneficio  \\\n",
              "0                  Abate de Reses Exceto Suinos  Empregador        Pa   \n",
              "1          Atividades de Atendimento Hospitalar  Empregador        Pa   \n",
              "2                       Construcao de Edificios  Empregador        Pa   \n",
              "3            Construcao de Rodovias e Ferrovias  Empregador        Pa   \n",
              "4  Incorporacao de Empreendimentos Imobiliarios  Empregador        Pa   \n",
              "\n",
              "    filiacao obito                  municipio  \\\n",
              "0  Empregado   Não  521570 Palmeiras de Goiás   \n",
              "1  Empregado   Não             352590 Jundiaí   \n",
              "2  Empregado   Não       421370 Pouso Redondo   \n",
              "3  Empregado   Sim           314480 Nova Lima   \n",
              "4  Empregado   Não            292740 Salvador   \n",
              "\n",
              "                                        lesao origem_cad  \\\n",
              "0     Corte Laceracao Ferida Contusa Punctura   Internet   \n",
              "1  Contusao Esmagamento (Superficie Cutanea I   Internet   \n",
              "2                                     Fratura   Internet   \n",
              "3                            Lesoes Multiplas   Internet   \n",
              "4                                     Fratura   Internet   \n",
              "\n",
              "                                     local_lesao       sexo tipo_acidente  \\\n",
              "0                                       Cotovelo  Masculino        Típico   \n",
              "1                                           Dedo  Masculino        Típico   \n",
              "2                    Mao (Exceto Punho ou Dedos)  Masculino        Típico   \n",
              "3  Partes Multiplas   Aplica Se Quando Mais de U  Masculino        Típico   \n",
              "4                                           Dedo  Masculino        Típico   \n",
              "\n",
              "  uf_acidente   uf_empregador mes_afastamento dt_despacho dt_acidente2  \\\n",
              "0        <NA>           Goiás         2022/10     0000/00   05/10/2022   \n",
              "1    Maranhão       São Paulo         2022/10     0000/00   04/10/2022   \n",
              "2        <NA>  Santa Catarina         2022/10     0000/00   05/10/2022   \n",
              "3    Rondônia    Minas Gerais         2022/10     0000/00   05/10/2022   \n",
              "4        <NA>           Bahia         2022/10     0000/00   05/10/2022   \n",
              "\n",
              "      dt_nasc dt_emissao_cat            cnpj_cei  \n",
              "0  05/11/1988     06/10/2022  00.000.000.000.000  \n",
              "1  02/02/1989     06/10/2022  00.000.000.000.000  \n",
              "2  07/02/1981     06/10/2022  00.000.000.000.000  \n",
              "3  27/09/1958     06/10/2022  00.000.000.000.000  \n",
              "4  09/08/1976     06/10/2022  00.000.000.000.000  "
            ],
            "text/html": [
              "\n",
              "  <div id=\"df-d3709dcf-f033-4e61-8f01-e957731c1d44\">\n",
              "    <div class=\"colab-df-container\">\n",
              "      <div>\n",
              "<style scoped>\n",
              "    .dataframe tbody tr th:only-of-type {\n",
              "        vertical-align: middle;\n",
              "    }\n",
              "\n",
              "    .dataframe tbody tr th {\n",
              "        vertical-align: top;\n",
              "    }\n",
              "\n",
              "    .dataframe thead th {\n",
              "        text-align: right;\n",
              "    }\n",
              "</style>\n",
              "<table border=\"1\" class=\"dataframe\">\n",
              "  <thead>\n",
              "    <tr style=\"text-align: right;\">\n",
              "      <th></th>\n",
              "      <th>agt_causador</th>\n",
              "      <th>dt_acidente</th>\n",
              "      <th>cbo</th>\n",
              "      <th>cid</th>\n",
              "      <th>cnae_cod</th>\n",
              "      <th>cnae_desc</th>\n",
              "      <th>cat</th>\n",
              "      <th>beneficio</th>\n",
              "      <th>filiacao</th>\n",
              "      <th>obito</th>\n",
              "      <th>municipio</th>\n",
              "      <th>lesao</th>\n",
              "      <th>origem_cad</th>\n",
              "      <th>local_lesao</th>\n",
              "      <th>sexo</th>\n",
              "      <th>tipo_acidente</th>\n",
              "      <th>uf_acidente</th>\n",
              "      <th>uf_empregador</th>\n",
              "      <th>mes_afastamento</th>\n",
              "      <th>dt_despacho</th>\n",
              "      <th>dt_acidente2</th>\n",
              "      <th>dt_nasc</th>\n",
              "      <th>dt_emissao_cat</th>\n",
              "      <th>cnpj_cei</th>\n",
              "    </tr>\n",
              "  </thead>\n",
              "  <tbody>\n",
              "    <tr>\n",
              "      <th>0</th>\n",
              "      <td>Faca Facao  Ferramenta Manual sem Forca Motr</td>\n",
              "      <td>2022/10</td>\n",
              "      <td>848515 Desossador</td>\n",
              "      <td>S51.0 Ferim do Cotovelo</td>\n",
              "      <td>1011</td>\n",
              "      <td>Abate de Reses Exceto Suinos</td>\n",
              "      <td>Empregador</td>\n",
              "      <td>Pa</td>\n",
              "      <td>Empregado</td>\n",
              "      <td>Não</td>\n",
              "      <td>521570 Palmeiras de Goiás</td>\n",
              "      <td>Corte Laceracao Ferida Contusa Punctura</td>\n",
              "      <td>Internet</td>\n",
              "      <td>Cotovelo</td>\n",
              "      <td>Masculino</td>\n",
              "      <td>Típico</td>\n",
              "      <td>&lt;NA&gt;</td>\n",
              "      <td>Goiás</td>\n",
              "      <td>2022/10</td>\n",
              "      <td>0000/00</td>\n",
              "      <td>05/10/2022</td>\n",
              "      <td>05/11/1988</td>\n",
              "      <td>06/10/2022</td>\n",
              "      <td>00.000.000.000.000</td>\n",
              "    </tr>\n",
              "    <tr>\n",
              "      <th>1</th>\n",
              "      <td>Aprision. Em Sob ou Entre Nic</td>\n",
              "      <td>2022/10</td>\n",
              "      <td>324115 Tec. em Radiologia e Imagenologia</td>\n",
              "      <td>S60.0 Contusao de Dedos s/Lesao da Unha</td>\n",
              "      <td>8610</td>\n",
              "      <td>Atividades de Atendimento Hospitalar</td>\n",
              "      <td>Empregador</td>\n",
              "      <td>Pa</td>\n",
              "      <td>Empregado</td>\n",
              "      <td>Não</td>\n",
              "      <td>352590 Jundiaí</td>\n",
              "      <td>Contusao Esmagamento (Superficie Cutanea I</td>\n",
              "      <td>Internet</td>\n",
              "      <td>Dedo</td>\n",
              "      <td>Masculino</td>\n",
              "      <td>Típico</td>\n",
              "      <td>Maranhão</td>\n",
              "      <td>São Paulo</td>\n",
              "      <td>2022/10</td>\n",
              "      <td>0000/00</td>\n",
              "      <td>04/10/2022</td>\n",
              "      <td>02/02/1989</td>\n",
              "      <td>06/10/2022</td>\n",
              "      <td>00.000.000.000.000</td>\n",
              "    </tr>\n",
              "    <tr>\n",
              "      <th>2</th>\n",
              "      <td>Andaime Plataforma   Edificio ou Estrutura</td>\n",
              "      <td>2022/10</td>\n",
              "      <td>715210 Pedreiro</td>\n",
              "      <td>S62.8 Frat de Outr Partes e de Partes Ne Punh</td>\n",
              "      <td>4120</td>\n",
              "      <td>Construcao de Edificios</td>\n",
              "      <td>Empregador</td>\n",
              "      <td>Pa</td>\n",
              "      <td>Empregado</td>\n",
              "      <td>Não</td>\n",
              "      <td>421370 Pouso Redondo</td>\n",
              "      <td>Fratura</td>\n",
              "      <td>Internet</td>\n",
              "      <td>Mao (Exceto Punho ou Dedos)</td>\n",
              "      <td>Masculino</td>\n",
              "      <td>Típico</td>\n",
              "      <td>&lt;NA&gt;</td>\n",
              "      <td>Santa Catarina</td>\n",
              "      <td>2022/10</td>\n",
              "      <td>0000/00</td>\n",
              "      <td>05/10/2022</td>\n",
              "      <td>07/02/1981</td>\n",
              "      <td>06/10/2022</td>\n",
              "      <td>00.000.000.000.000</td>\n",
              "    </tr>\n",
              "    <tr>\n",
              "      <th>3</th>\n",
              "      <td>Veiculo Rodoviario Motorizado</td>\n",
              "      <td>2022/10</td>\n",
              "      <td>784205 Alimentador de Linha de Prod.</td>\n",
              "      <td>T02.2 Frat Envolv Regioes Mult de Um Membro S</td>\n",
              "      <td>4211</td>\n",
              "      <td>Construcao de Rodovias e Ferrovias</td>\n",
              "      <td>Empregador</td>\n",
              "      <td>Pa</td>\n",
              "      <td>Empregado</td>\n",
              "      <td>Sim</td>\n",
              "      <td>314480 Nova Lima</td>\n",
              "      <td>Lesoes Multiplas</td>\n",
              "      <td>Internet</td>\n",
              "      <td>Partes Multiplas   Aplica Se Quando Mais de U</td>\n",
              "      <td>Masculino</td>\n",
              "      <td>Típico</td>\n",
              "      <td>Rondônia</td>\n",
              "      <td>Minas Gerais</td>\n",
              "      <td>2022/10</td>\n",
              "      <td>0000/00</td>\n",
              "      <td>05/10/2022</td>\n",
              "      <td>27/09/1958</td>\n",
              "      <td>06/10/2022</td>\n",
              "      <td>00.000.000.000.000</td>\n",
              "    </tr>\n",
              "    <tr>\n",
              "      <th>4</th>\n",
              "      <td>Impacto de Pes. Contra Objeto em Movimento</td>\n",
              "      <td>2022/10</td>\n",
              "      <td>717020 Servente de Obras</td>\n",
              "      <td>S62.5 Frat do Polegar</td>\n",
              "      <td>4110</td>\n",
              "      <td>Incorporacao de Empreendimentos Imobiliarios</td>\n",
              "      <td>Empregador</td>\n",
              "      <td>Pa</td>\n",
              "      <td>Empregado</td>\n",
              "      <td>Não</td>\n",
              "      <td>292740 Salvador</td>\n",
              "      <td>Fratura</td>\n",
              "      <td>Internet</td>\n",
              "      <td>Dedo</td>\n",
              "      <td>Masculino</td>\n",
              "      <td>Típico</td>\n",
              "      <td>&lt;NA&gt;</td>\n",
              "      <td>Bahia</td>\n",
              "      <td>2022/10</td>\n",
              "      <td>0000/00</td>\n",
              "      <td>05/10/2022</td>\n",
              "      <td>09/08/1976</td>\n",
              "      <td>06/10/2022</td>\n",
              "      <td>00.000.000.000.000</td>\n",
              "    </tr>\n",
              "  </tbody>\n",
              "</table>\n",
              "</div>\n",
              "      <button class=\"colab-df-convert\" onclick=\"convertToInteractive('df-d3709dcf-f033-4e61-8f01-e957731c1d44')\"\n",
              "              title=\"Convert this dataframe to an interactive table.\"\n",
              "              style=\"display:none;\">\n",
              "        \n",
              "  <svg xmlns=\"http://www.w3.org/2000/svg\" height=\"24px\"viewBox=\"0 0 24 24\"\n",
              "       width=\"24px\">\n",
              "    <path d=\"M0 0h24v24H0V0z\" fill=\"none\"/>\n",
              "    <path d=\"M18.56 5.44l.94 2.06.94-2.06 2.06-.94-2.06-.94-.94-2.06-.94 2.06-2.06.94zm-11 1L8.5 8.5l.94-2.06 2.06-.94-2.06-.94L8.5 2.5l-.94 2.06-2.06.94zm10 10l.94 2.06.94-2.06 2.06-.94-2.06-.94-.94-2.06-.94 2.06-2.06.94z\"/><path d=\"M17.41 7.96l-1.37-1.37c-.4-.4-.92-.59-1.43-.59-.52 0-1.04.2-1.43.59L10.3 9.45l-7.72 7.72c-.78.78-.78 2.05 0 2.83L4 21.41c.39.39.9.59 1.41.59.51 0 1.02-.2 1.41-.59l7.78-7.78 2.81-2.81c.8-.78.8-2.07 0-2.86zM5.41 20L4 18.59l7.72-7.72 1.47 1.35L5.41 20z\"/>\n",
              "  </svg>\n",
              "      </button>\n",
              "      \n",
              "  <style>\n",
              "    .colab-df-container {\n",
              "      display:flex;\n",
              "      flex-wrap:wrap;\n",
              "      gap: 12px;\n",
              "    }\n",
              "\n",
              "    .colab-df-convert {\n",
              "      background-color: #E8F0FE;\n",
              "      border: none;\n",
              "      border-radius: 50%;\n",
              "      cursor: pointer;\n",
              "      display: none;\n",
              "      fill: #1967D2;\n",
              "      height: 32px;\n",
              "      padding: 0 0 0 0;\n",
              "      width: 32px;\n",
              "    }\n",
              "\n",
              "    .colab-df-convert:hover {\n",
              "      background-color: #E2EBFA;\n",
              "      box-shadow: 0px 1px 2px rgba(60, 64, 67, 0.3), 0px 1px 3px 1px rgba(60, 64, 67, 0.15);\n",
              "      fill: #174EA6;\n",
              "    }\n",
              "\n",
              "    [theme=dark] .colab-df-convert {\n",
              "      background-color: #3B4455;\n",
              "      fill: #D2E3FC;\n",
              "    }\n",
              "\n",
              "    [theme=dark] .colab-df-convert:hover {\n",
              "      background-color: #434B5C;\n",
              "      box-shadow: 0px 1px 3px 1px rgba(0, 0, 0, 0.15);\n",
              "      filter: drop-shadow(0px 1px 2px rgba(0, 0, 0, 0.3));\n",
              "      fill: #FFFFFF;\n",
              "    }\n",
              "  </style>\n",
              "\n",
              "      <script>\n",
              "        const buttonEl =\n",
              "          document.querySelector('#df-d3709dcf-f033-4e61-8f01-e957731c1d44 button.colab-df-convert');\n",
              "        buttonEl.style.display =\n",
              "          google.colab.kernel.accessAllowed ? 'block' : 'none';\n",
              "\n",
              "        async function convertToInteractive(key) {\n",
              "          const element = document.querySelector('#df-d3709dcf-f033-4e61-8f01-e957731c1d44');\n",
              "          const dataTable =\n",
              "            await google.colab.kernel.invokeFunction('convertToInteractive',\n",
              "                                                     [key], {});\n",
              "          if (!dataTable) return;\n",
              "\n",
              "          const docLinkHtml = 'Like what you see? Visit the ' +\n",
              "            '<a target=\"_blank\" href=https://colab.research.google.com/notebooks/data_table.ipynb>data table notebook</a>'\n",
              "            + ' to learn more about interactive tables.';\n",
              "          element.innerHTML = '';\n",
              "          dataTable['output_type'] = 'display_data';\n",
              "          await google.colab.output.renderOutput(dataTable, element);\n",
              "          const docLink = document.createElement('div');\n",
              "          docLink.innerHTML = docLinkHtml;\n",
              "          element.appendChild(docLink);\n",
              "        }\n",
              "      </script>\n",
              "    </div>\n",
              "  </div>\n",
              "  "
            ]
          },
          "metadata": {},
          "execution_count": 157
        }
      ]
    },
    {
      "cell_type": "markdown",
      "source": [
        "#TRATAMENTO DE COLUNAS: df3"
      ],
      "metadata": {
        "id": "TTowvHzFkkNk"
      }
    },
    {
      "cell_type": "markdown",
      "source": [
        "##df3: Coluna agt_causador"
      ],
      "metadata": {
        "id": "02AFZvczk3Zy"
      }
    },
    {
      "cell_type": "code",
      "source": [
        "df3['agt_causador'].value_counts()"
      ],
      "metadata": {
        "colab": {
          "base_uri": "https://localhost:8080/"
        },
        "id": "tBawhhVDmdQi",
        "outputId": "df6089af-5985-421c-fb24-8a4511064ec1"
      },
      "execution_count": null,
      "outputs": [
        {
          "output_type": "execute_result",
          "data": {
            "text/plain": [
              "Impacto de Pes. Contra Objeto em Movimento       948\n",
              "Impacto de Pes. Contra Objeto Parado             689\n",
              "Motocicleta Motoneta                             677\n",
              "Impacto Sofrido por Pes. de Objeto Que Cai       583\n",
              "Queda de Pes. com Dif. de Nivel de Vei           512\n",
              "                                                ... \n",
              "Equip. de Iluminacao                               1\n",
              "Temperatura Ambiente  nao Inclui a de Objeto       1\n",
              "Elevador de Cacamba para Mineracao   Equipame      1\n",
              "Couro Cru ou Curtido   Produto Animal              1\n",
              "Pua Trado Verruma Maquina de Furar Manual          1\n",
              "Name: agt_causador, Length: 258, dtype: int64"
            ]
          },
          "metadata": {},
          "execution_count": 158
        }
      ]
    },
    {
      "cell_type": "markdown",
      "source": [
        "##df3: Coluna dt_acidente"
      ],
      "metadata": {
        "id": "Pl4VwYrik8NM"
      }
    },
    {
      "cell_type": "code",
      "source": [
        "df3['dt_acidente'].value_counts()"
      ],
      "metadata": {
        "colab": {
          "base_uri": "https://localhost:8080/"
        },
        "id": "7izK74jMmd3X",
        "outputId": "f0b93eee-4ad8-4801-8382-d1b596963977"
      },
      "execution_count": null,
      "outputs": [
        {
          "output_type": "execute_result",
          "data": {
            "text/plain": [
              "2022/10    11321\n",
              "2022/09     3317\n",
              "2022/08      406\n",
              "2022/07      197\n",
              "2022/06      110\n",
              "2022/05       78\n",
              "2022/01       73\n",
              "2022/04       57\n",
              "2022/02       51\n",
              "2022/03       49\n",
              "Name: dt_acidente, dtype: int64"
            ]
          },
          "metadata": {},
          "execution_count": 159
        }
      ]
    },
    {
      "cell_type": "markdown",
      "source": [
        "##df3: Coluna cbo"
      ],
      "metadata": {
        "id": "_jCVepqalBQo"
      }
    },
    {
      "cell_type": "code",
      "source": [
        "df3['cbo'].value_counts()"
      ],
      "metadata": {
        "colab": {
          "base_uri": "https://localhost:8080/"
        },
        "id": "KnL8rnYEmeXT",
        "outputId": "9a1e3808-9adb-475b-d7b7-b1e0b467ad75"
      },
      "execution_count": null,
      "outputs": [
        {
          "output_type": "execute_result",
          "data": {
            "text/plain": [
              "322205 Tec. de Enfermagem                        1057\n",
              "784205 Alimentador de Linha de Prod.             1026\n",
              "717020 Servente de Obras                          382\n",
              "782510 Motorista de Caminhão (Rotas Regionais     358\n",
              "223505 Enfermeiro                                 236\n",
              "                                                 ... \n",
              "761351 Oper. de Espuladeira                         1\n",
              "841710 Filtrador de Cerveja                         1\n",
              "510135 Maître                                       1\n",
              "371210 Tec. em Museologia                           1\n",
              "763310 Bordador à Máquina                           1\n",
              "Name: cbo, Length: 976, dtype: int64"
            ]
          },
          "metadata": {},
          "execution_count": 160
        }
      ]
    },
    {
      "cell_type": "code",
      "source": [
        "#separando o código do texto da coluna cbo (Código Brasileiro de Ocupação)\n",
        "df3['cbo_cod'] = df3['cbo'].str.slice(0, 7)"
      ],
      "metadata": {
        "id": "7foywzCsmexB"
      },
      "execution_count": null,
      "outputs": []
    },
    {
      "cell_type": "code",
      "source": [
        "#Renomeando a coluna cbo para cbo_desc ('cbo descrição')\n",
        "df3.rename(columns={'cbo':'cbo_desc'}, inplace=True)"
      ],
      "metadata": {
        "id": "nZc0bEiWnXtV"
      },
      "execution_count": null,
      "outputs": []
    },
    {
      "cell_type": "markdown",
      "source": [
        "##df3: Coluna cbo_cod"
      ],
      "metadata": {
        "id": "5ZSOQg7ZlFVn"
      }
    },
    {
      "cell_type": "code",
      "source": [
        "df3['cbo_cod'].value_counts()"
      ],
      "metadata": {
        "colab": {
          "base_uri": "https://localhost:8080/"
        },
        "id": "1wPHOjaJmfJz",
        "outputId": "d91f22d4-7643-4c58-b189-31c0b6a5d166"
      },
      "execution_count": null,
      "outputs": [
        {
          "output_type": "execute_result",
          "data": {
            "text/plain": [
              "322205     1057\n",
              "784205     1026\n",
              "717020      382\n",
              "782510      358\n",
              "223505      236\n",
              "           ... \n",
              "761351        1\n",
              "841710        1\n",
              "510135        1\n",
              "371210        1\n",
              "763310        1\n",
              "Name: cbo_cod, Length: 976, dtype: int64"
            ]
          },
          "metadata": {},
          "execution_count": 163
        }
      ]
    },
    {
      "cell_type": "code",
      "source": [
        "#Valores '0000000' foram considerados inconsistencias, mudamos pra NA\n",
        "df3['cbo_cod'].replace(['000000'], pd.NA, regex=True, inplace=True)"
      ],
      "metadata": {
        "id": "ks0zkRhTodX1"
      },
      "execution_count": null,
      "outputs": []
    },
    {
      "cell_type": "markdown",
      "source": [
        "##df3: Coluna cbo_desc"
      ],
      "metadata": {
        "id": "BAAxqNgGlH1q"
      }
    },
    {
      "cell_type": "code",
      "source": [
        "df3['cbo_desc'].value_counts()"
      ],
      "metadata": {
        "colab": {
          "base_uri": "https://localhost:8080/"
        },
        "id": "9w-IiekKoIz4",
        "outputId": "6b4ed5e3-0269-4737-cb19-a5549fbfaad4"
      },
      "execution_count": null,
      "outputs": [
        {
          "output_type": "execute_result",
          "data": {
            "text/plain": [
              "322205 Tec. de Enfermagem                        1057\n",
              "784205 Alimentador de Linha de Prod.             1026\n",
              "717020 Servente de Obras                          382\n",
              "782510 Motorista de Caminhão (Rotas Regionais     358\n",
              "223505 Enfermeiro                                 236\n",
              "                                                 ... \n",
              "761351 Oper. de Espuladeira                         1\n",
              "841710 Filtrador de Cerveja                         1\n",
              "510135 Maître                                       1\n",
              "371210 Tec. em Museologia                           1\n",
              "763310 Bordador à Máquina                           1\n",
              "Name: cbo_desc, Length: 976, dtype: int64"
            ]
          },
          "metadata": {},
          "execution_count": 165
        }
      ]
    },
    {
      "cell_type": "code",
      "source": [
        "#Valores 'Não informado' foram considerados inconsistencias, mudamos para NA\n",
        "df3['cbo_desc'].replace(['Não Informado'], pd.NA, regex=True, inplace=True)"
      ],
      "metadata": {
        "id": "HbU-wfFhoed7"
      },
      "execution_count": null,
      "outputs": []
    },
    {
      "cell_type": "markdown",
      "source": [
        "##df3: Coluna cid"
      ],
      "metadata": {
        "id": "enc0i2PIlKcT"
      }
    },
    {
      "cell_type": "code",
      "source": [
        "df3['cid'].value_counts()"
      ],
      "metadata": {
        "colab": {
          "base_uri": "https://localhost:8080/"
        },
        "id": "qPf_Gr_LmgFa",
        "outputId": "b8476b8a-35b6-4f0d-8b5b-5bbb6c0f5b1a"
      },
      "execution_count": null,
      "outputs": [
        {
          "output_type": "execute_result",
          "data": {
            "text/plain": [
              "S61.0 Ferim de Dedos s/Lesao da Unha             810\n",
              "S61.1 Ferim de Dedos c/Lesao da Unha             679\n",
              "S93.4 Entorse e Distensao do Tornozelo           605\n",
              "S62.6 Frat de Outr Dedos                         459\n",
              "S80.0 Contusao do Joelho                         415\n",
              "                                                ... \n",
              "H01.0 Blefarite                                    1\n",
              "S21.2 Ferim da Parede Posterior do Torax           1\n",
              "Z09.8 Exame Seguim Apos Outr Trat p/Outr Afec      1\n",
              "S87.8 Traum p/Esmag Outr Parte e Partes Ne Pe      1\n",
              "S82   Frat da Perna Incl Tornozelo                 1\n",
              "Name: cid, Length: 1130, dtype: int64"
            ]
          },
          "metadata": {},
          "execution_count": 167
        }
      ]
    },
    {
      "cell_type": "code",
      "source": [
        "#Separando os valores numéricos dos valores escritos da coluna cid\n",
        "df3['cod_cid'] = df3['cid'].str.slice(0,6)"
      ],
      "metadata": {
        "id": "9fc9BhEvpEwn"
      },
      "execution_count": null,
      "outputs": []
    },
    {
      "cell_type": "code",
      "source": [
        "#removendo os números da coluna cid\n",
        "df3['cid'] = df3['cid'].str.replace(r'\\d+','', regex=True)"
      ],
      "metadata": {
        "id": "hyyi9GM0pJ1S"
      },
      "execution_count": null,
      "outputs": []
    },
    {
      "cell_type": "code",
      "source": [
        "#Renomenaod as colunas para melhor entendimento (cid_desc = cid descrição e cid_cod = cid código)\n",
        "df3.rename(columns={'cid':'cid_desc', 'cod_cid':'cid_cod'}, inplace=True)"
      ],
      "metadata": {
        "id": "fsyoPdMHpRbW"
      },
      "execution_count": null,
      "outputs": []
    },
    {
      "cell_type": "markdown",
      "source": [
        "##df3: Coluna cid_cod"
      ],
      "metadata": {
        "id": "r65QdNpBlO6W"
      }
    },
    {
      "cell_type": "code",
      "source": [
        "df3['cid_cod'].value_counts()"
      ],
      "metadata": {
        "colab": {
          "base_uri": "https://localhost:8080/"
        },
        "id": "0v4DbIcPmgi_",
        "outputId": "361e0d18-00f7-4b45-cb2e-0447bd8ab417"
      },
      "execution_count": null,
      "outputs": [
        {
          "output_type": "execute_result",
          "data": {
            "text/plain": [
              "S61.0     810\n",
              "S61.1     679\n",
              "S93.4     605\n",
              "S62.6     459\n",
              "S80.0     415\n",
              "         ... \n",
              "H01.0       1\n",
              "S21.2       1\n",
              "Z09.8       1\n",
              "S87.8       1\n",
              "S82         1\n",
              "Name: cid_cod, Length: 1130, dtype: int64"
            ]
          },
          "metadata": {},
          "execution_count": 171
        }
      ]
    },
    {
      "cell_type": "code",
      "source": [
        "#Retirando espaços em branco\n",
        "df3['cid_cod'] = df3['cid_cod'].str.strip()"
      ],
      "metadata": {
        "id": "hZav1W-8pnRv"
      },
      "execution_count": null,
      "outputs": []
    },
    {
      "cell_type": "markdown",
      "source": [
        "##df3: Coluna cid_desc"
      ],
      "metadata": {
        "id": "Fa-Q73zmlQ7i"
      }
    },
    {
      "cell_type": "code",
      "source": [
        "df3['cid_desc'].value_counts()"
      ],
      "metadata": {
        "colab": {
          "base_uri": "https://localhost:8080/"
        },
        "id": "f8W_UMzLmhGR",
        "outputId": "a6154c38-cbf4-47e8-b611-07f57dc5ec66"
      },
      "execution_count": null,
      "outputs": [
        {
          "output_type": "execute_result",
          "data": {
            "text/plain": [
              "S. Ferim de Dedos s/Lesao da Unha             810\n",
              "S. Ferim de Dedos c/Lesao da Unha             679\n",
              "S. Entorse e Distensao do Tornozelo           605\n",
              "S. Frat de Outr Dedos                         459\n",
              "S. Contusao do Joelho                         415\n",
              "                                             ... \n",
              "F. Transt Ne da Personalidade                   1\n",
              "L. Outr Afec Granulomatosas Pele Tec Subcu      1\n",
              "H. Blefarite                                    1\n",
              "S. Ferim da Parede Posterior do Torax           1\n",
              "S   Frat da Perna Incl Tornozelo                1\n",
              "Name: cid_desc, Length: 917, dtype: int64"
            ]
          },
          "metadata": {},
          "execution_count": 173
        }
      ]
    },
    {
      "cell_type": "code",
      "source": [
        "#Removendo os valores não numéricos do código CID\n",
        "df3['cid_desc'] = df3['cid_desc'].str.replace(r'^..','', regex=True)"
      ],
      "metadata": {
        "id": "ug4EMW8Sp18t"
      },
      "execution_count": null,
      "outputs": []
    },
    {
      "cell_type": "code",
      "source": [
        "#Retirando os espaços que sobraram\n",
        "df3['cid_desc'] = df3['cid_desc'].str.strip()"
      ],
      "metadata": {
        "id": "31dNgiZFp_lP"
      },
      "execution_count": null,
      "outputs": []
    },
    {
      "cell_type": "markdown",
      "source": [
        "##df3: Coluna cnae_cod"
      ],
      "metadata": {
        "id": "P2bEIbV6lSIF"
      }
    },
    {
      "cell_type": "code",
      "source": [
        "df3['cnae_cod'].value_counts()"
      ],
      "metadata": {
        "colab": {
          "base_uri": "https://localhost:8080/"
        },
        "id": "x351lG7Up1AB",
        "outputId": "3df0ea14-6280-42c0-91fb-99d1256e13a6"
      },
      "execution_count": null,
      "outputs": [
        {
          "output_type": "execute_result",
          "data": {
            "text/plain": [
              "8610    1532\n",
              "4711     596\n",
              "8411     471\n",
              "0        448\n",
              "4930     436\n",
              "        ... \n",
              "5020       1\n",
              "5914       1\n",
              "1750       1\n",
              "114        1\n",
              "6511       1\n",
              "Name: cnae_cod, Length: 640, dtype: int64"
            ]
          },
          "metadata": {},
          "execution_count": 176
        }
      ]
    },
    {
      "cell_type": "code",
      "source": [
        "#O valor '0' foi considerado inconsistencia, substituímos por NA.\n",
        "df3['cnae_cod'].replace([0],pd.NA,regex=True, inplace=True)"
      ],
      "metadata": {
        "id": "ktoboRbbmhjs"
      },
      "execution_count": null,
      "outputs": []
    },
    {
      "cell_type": "markdown",
      "source": [
        "##df3: Coluna cnae_desc"
      ],
      "metadata": {
        "id": "MAp69e9MlUfg"
      }
    },
    {
      "cell_type": "code",
      "source": [
        "df3['cnae_desc'].value_counts()"
      ],
      "metadata": {
        "colab": {
          "base_uri": "https://localhost:8080/"
        },
        "id": "apz3R8Uwmh_l",
        "outputId": "137a912b-d107-41ad-c981-0bd808a49405"
      },
      "execution_count": null,
      "outputs": [
        {
          "output_type": "execute_result",
          "data": {
            "text/plain": [
              "Atividades de Atendimento Hospitalar             1532\n",
              "Comercio Varejista de Mercadorias em Geral c      661\n",
              "Administracao Publica em Geral                    471\n",
              "Transporte Rodoviario de Carga                    436\n",
              "Construcao de Edificios                           359\n",
              "                                                 ... \n",
              "Fabricacao de Acessorios do Vestuario Exceto        1\n",
              "Pesca em Agua Doce                                  1\n",
              "Gestao de Ativos Intangiveis Nao Financeiros        1\n",
              "Fabricacao de Artefatos de Couro nao Especifi       1\n",
              "Seguros de Vida                                     1\n",
              "Name: cnae_desc, Length: 546, dtype: int64"
            ]
          },
          "metadata": {},
          "execution_count": 178
        }
      ]
    },
    {
      "cell_type": "markdown",
      "source": [
        "##df3: Coluna cat"
      ],
      "metadata": {
        "id": "l6868Mk6lXsq"
      }
    },
    {
      "cell_type": "code",
      "source": [
        "df3['cat'].value_counts()"
      ],
      "metadata": {
        "colab": {
          "base_uri": "https://localhost:8080/"
        },
        "id": "TGcdCfBcmivN",
        "outputId": "2dfadd05-34fe-4047-bfff-075b5ea37fbb"
      },
      "execution_count": null,
      "outputs": [
        {
          "output_type": "execute_result",
          "data": {
            "text/plain": [
              "Empregador             14635\n",
              "Segurado/Dependente      473\n",
              "Sindicato                193\n",
              "Autoridade Pública       124\n",
              "Médico                   102\n",
              "Name: cat, dtype: int64"
            ]
          },
          "metadata": {},
          "execution_count": 179
        }
      ]
    },
    {
      "cell_type": "markdown",
      "source": [
        "##df3: Coluna beneficio"
      ],
      "metadata": {
        "id": "3zLVIKI5lepn"
      }
    },
    {
      "cell_type": "code",
      "source": [
        "df3['beneficio'].value_counts()"
      ],
      "metadata": {
        "colab": {
          "base_uri": "https://localhost:8080/"
        },
        "id": "Xm38VMkHmjRA",
        "outputId": "6e787959-7a2f-478f-bee2-3a6704a5c63f"
      },
      "execution_count": null,
      "outputs": [
        {
          "output_type": "execute_result",
          "data": {
            "text/plain": [
              "Pa                                         15650\n",
              "Auxílio Doenca por Acidente do Trabalho        9\n",
              "Name: beneficio, dtype: int64"
            ]
          },
          "metadata": {},
          "execution_count": 180
        }
      ]
    },
    {
      "cell_type": "markdown",
      "source": [
        "##df3: Coluna filiacao"
      ],
      "metadata": {
        "id": "ZKROnQ3YlgVk"
      }
    },
    {
      "cell_type": "code",
      "source": [
        "df3['filiacao'].value_counts()"
      ],
      "metadata": {
        "colab": {
          "base_uri": "https://localhost:8080/"
        },
        "id": "Wy8d_EaTmjrL",
        "outputId": "0bb19d95-13ae-4a78-c410-7da5030104fc"
      },
      "execution_count": null,
      "outputs": [
        {
          "output_type": "execute_result",
          "data": {
            "text/plain": [
              "Empregado             15507\n",
              "Trabalhador Avulso       56\n",
              "Segurado Especial        13\n",
              "Name: filiacao, dtype: int64"
            ]
          },
          "metadata": {},
          "execution_count": 181
        }
      ]
    },
    {
      "cell_type": "markdown",
      "source": [
        "##df3: Coluna obito"
      ],
      "metadata": {
        "id": "sdiQ_vTilhc1"
      }
    },
    {
      "cell_type": "code",
      "source": [
        "df3['obito'].value_counts()"
      ],
      "metadata": {
        "colab": {
          "base_uri": "https://localhost:8080/"
        },
        "id": "1u1G6AgRmkIW",
        "outputId": "cee39ed1-18fa-42bf-ffb4-15d19ed1548c"
      },
      "execution_count": null,
      "outputs": [
        {
          "output_type": "execute_result",
          "data": {
            "text/plain": [
              "Não    15557\n",
              "Sim      102\n",
              "Name: obito, dtype: int64"
            ]
          },
          "metadata": {},
          "execution_count": 182
        }
      ]
    },
    {
      "cell_type": "markdown",
      "source": [
        "##df3: Coluna municipio"
      ],
      "metadata": {
        "id": "A0zMliI6ltQK"
      }
    },
    {
      "cell_type": "code",
      "source": [
        "df3['municipio'].value_counts()"
      ],
      "metadata": {
        "colab": {
          "base_uri": "https://localhost:8080/"
        },
        "id": "Jaz9IHuEmkkz",
        "outputId": "0dbe4f04-c33f-4c9c-b567-d54c328c19cc"
      },
      "execution_count": null,
      "outputs": [
        {
          "output_type": "execute_result",
          "data": {
            "text/plain": [
              "355030 São Paulo                  1461\n",
              "000000 Ignorado                    755\n",
              "330455 Rio de Janeiro              533\n",
              "310620 Belo Horizonte              333\n",
              "410690 Curitiba                    258\n",
              "                                  ... \n",
              "420768 Ipuaçu                        1\n",
              "292600 Remanso                       1\n",
              "431730 Santa Vitória do Palmar       1\n",
              "314410 Muzambinho                    1\n",
              "311280 Capitólio                     1\n",
              "Name: municipio, Length: 1622, dtype: int64"
            ]
          },
          "metadata": {},
          "execution_count": 183
        }
      ]
    },
    {
      "cell_type": "code",
      "source": [
        "#Separando o código do município do nome para melhor avaliação dos dados e criando uma nova coluna cod_uf para os códigos\n",
        "df3['cod_uf'] = df3['municipio'].str.slice(0, 6)"
      ],
      "metadata": {
        "id": "ehIv1vr7xm96"
      },
      "execution_count": null,
      "outputs": []
    },
    {
      "cell_type": "code",
      "source": [
        "#Apagando o código dos municípios na coluna municipio\n",
        "df3['municipio'] = df3['municipio'].str.replace(r'\\d+','', regex=True)"
      ],
      "metadata": {
        "id": "2JmP00g9xr-v"
      },
      "execution_count": null,
      "outputs": []
    },
    {
      "cell_type": "code",
      "source": [
        "#valor \"Ignorado\" é uma inconsistencia, será substituído por NA.\n",
        "df3['municipio'].replace(['Ignorado'],pd.NA,regex=True, inplace=True)"
      ],
      "metadata": {
        "id": "x6pZjL9wxvCt"
      },
      "execution_count": null,
      "outputs": []
    },
    {
      "cell_type": "markdown",
      "source": [
        "##df3: Coluna lesao"
      ],
      "metadata": {
        "id": "wrSOEGhxlv8f"
      }
    },
    {
      "cell_type": "code",
      "source": [
        "df3['lesao'].value_counts()"
      ],
      "metadata": {
        "colab": {
          "base_uri": "https://localhost:8080/"
        },
        "id": "eP2PqMQomk_6",
        "outputId": "abfb2f6b-6c79-4ad1-b848-60366ffcd815"
      },
      "execution_count": null,
      "outputs": [
        {
          "output_type": "execute_result",
          "data": {
            "text/plain": [
              "Fratura                                        2797\n",
              "Corte Laceracao Ferida Contusa Punctura        2698\n",
              "Lesao Imediata                                 1851\n",
              "Contusao Esmagamento (Superficie Cutanea I     1680\n",
              "Escoriacao Abrasao (Ferimento Superficial)     1408\n",
              "Distensao Torcao                               1232\n",
              "Outras Lesoes Nic                               952\n",
              "Luxacao                                         874\n",
              "Lesao Imediata Nic                              463\n",
              "Queimadura ou Escaldadura   Efeito de Tempe     419\n",
              "Lesoes Multiplas                                301\n",
              "Doenca Nic                                      192\n",
              "Inflamacao de Articulacao Tendao ou Muscul      155\n",
              "Doenca Contagiosa ou Infecciosa (Tuberculos     152\n",
              "Amputacao ou Enucleacao                         118\n",
              "Queimadura Quimica (Lesao de Tecido Provoca     109\n",
              "Concussao Cerebral                               55\n",
              "Envenenamento Sistemico   Condicao Morbida       51\n",
              "Choque Eletrico e Eletroplessao (Eletrocuss      46\n",
              "Hernia de Qualquer Natureza Ruptura              30\n",
              "Dermatose (Erupcao Inflamacao da Pele Inc        23\n",
              "Perda ou Diminuicao de Sentido (Audicao Vi       21\n",
              "Perda ou Diminuicao Mediatas de Sentido (Au      18\n",
              "Efeito de Radiacao (Imediato)   Queimadura        5\n",
              "Asfixia Estrangulamento Afogamento                3\n",
              "Intermacao Insolacao Caibra Exaustao e O          3\n",
              "Pneumoconiose (Silicose Asbestose Etc.)           2\n",
              "Congelamento Geladura e Outros Efeitos Da         1\n",
              "Name: lesao, dtype: int64"
            ]
          },
          "metadata": {},
          "execution_count": 187
        }
      ]
    },
    {
      "cell_type": "markdown",
      "source": [
        "##df3: Coluna origem_cad"
      ],
      "metadata": {
        "id": "WjibPT_xlxb1"
      }
    },
    {
      "cell_type": "code",
      "source": [
        "df3['origem_cad'].value_counts()"
      ],
      "metadata": {
        "colab": {
          "base_uri": "https://localhost:8080/"
        },
        "id": "RwxuENNRmlhc",
        "outputId": "db3c4b25-c33d-4308-d2de-a3a9fd6e1ad4"
      },
      "execution_count": null,
      "outputs": [
        {
          "output_type": "execute_result",
          "data": {
            "text/plain": [
              "Internet    15659\n",
              "Name: origem_cad, dtype: int64"
            ]
          },
          "metadata": {},
          "execution_count": 188
        }
      ]
    },
    {
      "cell_type": "code",
      "source": [
        "#Coluna com valor constante. Optamos por drop\n",
        "df3.drop(['origem_cad'], axis=1, inplace=True)"
      ],
      "metadata": {
        "id": "5IILLba7x9up"
      },
      "execution_count": null,
      "outputs": []
    },
    {
      "cell_type": "markdown",
      "source": [
        "##df3: Coluna local_lesao"
      ],
      "metadata": {
        "id": "OSbjRTyYlz9X"
      }
    },
    {
      "cell_type": "code",
      "source": [
        "df3['local_lesao'].value_counts()"
      ],
      "metadata": {
        "colab": {
          "base_uri": "https://localhost:8080/"
        },
        "id": "Gh5e3ZUcml7T",
        "outputId": "cf7b5457-a010-411f-e9c8-e4e34abe7a18"
      },
      "execution_count": null,
      "outputs": [
        {
          "output_type": "execute_result",
          "data": {
            "text/plain": [
              "Dedo                                             3538\n",
              "Pe (Exceto Artelhos)                             1343\n",
              "Mao (Exceto Punho ou Dedos)                      1181\n",
              "Joelho                                            866\n",
              "Partes Multiplas   Aplica Se Quando Mais de U     696\n",
              "Perna (Entre O Tornozelo e a Pelvis)              685\n",
              "Braco (Entre O Punho a O Ombro)                   628\n",
              "Articulacao do Tornozelo                          583\n",
              "Ombro                                             543\n",
              "Perna (Do Tornozelo Exclusive ao Joelho Ex        538\n",
              "Olho (Inclusive Nervo Otico e Visao)              506\n",
              "Punho                                             412\n",
              "Cabeca Nic                                        383\n",
              "Dorso (Inclusive Musculos Dorsais Coluna e M      376\n",
              "Antebraco (Entre O Punho e O Cotovelo)            333\n",
              "Membros Superiores Partes Multiplas (Qualque      315\n",
              "Face Partes Multiplas (Qualquer Combinacao D      229\n",
              "Cabeca Partes Multiplas (Qualquer Combinacao      227\n",
              "Membros Inferiores Nic                            192\n",
              "Membros Superiores Nic                            190\n",
              "Torax (Inclusive Orgaos Internos)                 176\n",
              "Quadris (Inclusive Pelvis Orgaos Pelvicos E       156\n",
              "Braco (Acima do Cotovelo)                         149\n",
              "Membros Inferiores Partes Multiplas (Qualque      144\n",
              "Cotovelo                                          135\n",
              "Tronco Parte Multiplas (Qualquer Combinacao       128\n",
              "Aparelho Respiratorio                             113\n",
              "Sistema Nervoso                                   111\n",
              "Tronco Nic                                        102\n",
              "Coxa                                               99\n",
              "Nariz (Inclusive Fossas Nasais Seios da Face       81\n",
              "Artelho                                            77\n",
              "Localizacao da Lesao Nic                           75\n",
              "Boca (Inclusive Labios Dentes Lingua Garga         73\n",
              "Cranio (Inclusive Encefalo)                        63\n",
              "Pescoco                                            62\n",
              "Abdome (Inclusive Orgaos Internos)                 52\n",
              "Mandibula (Inclusive Queixo)                       28\n",
              "Ouvido (Externo Medio Interno Audicao e Eq         18\n",
              "Sistemas e Aparelhos Nic                           15\n",
              "Sistemas e Aparelhos   Aplica Se Quando O Fun      14\n",
              "Sistema Musculo Esqueletico                        11\n",
              "Aparelho Digestivo                                  8\n",
              "Aparelho Genito Urinario                            3\n",
              "Aparelho Circulatorio                               2\n",
              "Name: local_lesao, dtype: int64"
            ]
          },
          "metadata": {},
          "execution_count": 190
        }
      ]
    },
    {
      "cell_type": "markdown",
      "source": [
        "##df3: Coluna sexo"
      ],
      "metadata": {
        "id": "-zzBM4hEl2KP"
      }
    },
    {
      "cell_type": "code",
      "source": [
        "df3['sexo'].value_counts()"
      ],
      "metadata": {
        "colab": {
          "base_uri": "https://localhost:8080/"
        },
        "id": "bRrl9QenmmTw",
        "outputId": "e8a3a09d-0535-4df2-d2b3-fd733ff880cc"
      },
      "execution_count": null,
      "outputs": [
        {
          "output_type": "execute_result",
          "data": {
            "text/plain": [
              "Masculino        10118\n",
              "Feminino          5491\n",
              "Não Informado       50\n",
              "Name: sexo, dtype: int64"
            ]
          },
          "metadata": {},
          "execution_count": 191
        }
      ]
    },
    {
      "cell_type": "code",
      "source": [
        "#Valores não informados consideramos como inconsistencias e mudamos por NA\n",
        "df3['sexo'].replace(['Não Informado'], pd.NA, regex=True, inplace=True)"
      ],
      "metadata": {
        "id": "hcKVebURyRNH"
      },
      "execution_count": null,
      "outputs": []
    },
    {
      "cell_type": "markdown",
      "source": [
        "##df3: Coluna tipo_acidente"
      ],
      "metadata": {
        "id": "07PsO5JFl4f9"
      }
    },
    {
      "cell_type": "code",
      "source": [
        "df3['tipo_acidente'].value_counts()"
      ],
      "metadata": {
        "colab": {
          "base_uri": "https://localhost:8080/"
        },
        "id": "BIUuOBo9mmtz",
        "outputId": "4ac29007-7320-48bd-f006-aade2f18f610"
      },
      "execution_count": null,
      "outputs": [
        {
          "output_type": "execute_result",
          "data": {
            "text/plain": [
              "Típico     11790\n",
              "Trajeto     3456\n",
              "Doença       413\n",
              "Name: tipo_acidente, dtype: int64"
            ]
          },
          "metadata": {},
          "execution_count": 193
        }
      ]
    },
    {
      "cell_type": "markdown",
      "source": [
        "##df3: Coluna uf_acidente"
      ],
      "metadata": {
        "id": "9Atk0xN5mDIw"
      }
    },
    {
      "cell_type": "code",
      "source": [
        "df3['uf_acidente'].value_counts()"
      ],
      "metadata": {
        "colab": {
          "base_uri": "https://localhost:8080/"
        },
        "id": "7pzhQoBemofh",
        "outputId": "dd2a12ae-24d2-40f5-cfe0-c5f805243bc8"
      },
      "execution_count": null,
      "outputs": [
        {
          "output_type": "execute_result",
          "data": {
            "text/plain": [
              "Maranhão            5473\n",
              "Rondônia            1546\n",
              "Roraima             1198\n",
              "Tocantins           1000\n",
              "Zerado               748\n",
              "Pará                 300\n",
              "Ceará                211\n",
              "Acre                 211\n",
              "Pernambuco            76\n",
              "Amazonas              74\n",
              "Sergipe               61\n",
              "Amapá                 44\n",
              "Piauí                 41\n",
              "Alagoas               18\n",
              "Rio Grande Norte      14\n",
              "Paraíba                9\n",
              "Name: uf_acidente, dtype: int64"
            ]
          },
          "metadata": {},
          "execution_count": 194
        }
      ]
    },
    {
      "cell_type": "code",
      "source": [
        "#Entendemos Zerado como uma inconsistencia, mudamos pra NA\n",
        "df3['uf_acidente'].replace(['Zerado'], pd.NA, regex=True, inplace=True)"
      ],
      "metadata": {
        "id": "oLbI3VVeye10"
      },
      "execution_count": null,
      "outputs": []
    },
    {
      "cell_type": "markdown",
      "source": [
        "##df3: Coluna uf_empregador"
      ],
      "metadata": {
        "id": "k3zWdFEOmGta"
      }
    },
    {
      "cell_type": "code",
      "source": [
        "df3['uf_empregador'].value_counts()"
      ],
      "metadata": {
        "colab": {
          "base_uri": "https://localhost:8080/"
        },
        "id": "_sH_3cA5mpJt",
        "outputId": "5d17da1f-2488-4753-ab38-a560e2f8827b"
      },
      "execution_count": null,
      "outputs": [
        {
          "output_type": "execute_result",
          "data": {
            "text/plain": [
              "São Paulo              5473\n",
              "Minas Gerais           1546\n",
              "Paraná                 1198\n",
              "Rio Grande do Sul      1179\n",
              "Santa Catarina         1144\n",
              "Rio de Janeiro         1000\n",
              "Zerado                  748\n",
              "Bahia                   403\n",
              "Goiás                   401\n",
              "Espírito Santo          327\n",
              "Ceará                   308\n",
              "Pernambuco              300\n",
              "Mato Grosso             248\n",
              "Distrito Federal        211\n",
              "Pará                    211\n",
              "Mato Grosso do Sul      177\n",
              "Amazonas                163\n",
              "Alagoas                 105\n",
              "Rio Grande do Norte      96\n",
              "Maranhão                 84\n",
              "Rondônia                 76\n",
              "Paraíba                  74\n",
              "Tocantins                61\n",
              "Piauí                    44\n",
              "Sergipe                  41\n",
              "Roraima                  18\n",
              "Acre                     14\n",
              "Amapá                     9\n",
              "Name: uf_empregador, dtype: int64"
            ]
          },
          "metadata": {},
          "execution_count": 196
        }
      ]
    },
    {
      "cell_type": "code",
      "source": [
        "#Entendemos Zerado como uma inconsistencia, mudamos pra NA\n",
        "df3['uf_empregador'].replace(['Zerado'], pd.NA, regex=True, inplace=True)"
      ],
      "metadata": {
        "id": "f2hBiv62ylEW"
      },
      "execution_count": null,
      "outputs": []
    },
    {
      "cell_type": "markdown",
      "source": [
        "##df3: Coluna mes_afastamento"
      ],
      "metadata": {
        "id": "_u3bEQLqmILz"
      }
    },
    {
      "cell_type": "code",
      "source": [
        "df3['mes_afastamento'].value_counts()"
      ],
      "metadata": {
        "colab": {
          "base_uri": "https://localhost:8080/"
        },
        "id": "2GESOxFdmpkP",
        "outputId": "e16ab307-2e74-45de-a60e-3396a4057f01"
      },
      "execution_count": null,
      "outputs": [
        {
          "output_type": "execute_result",
          "data": {
            "text/plain": [
              "2022/10    11321\n",
              "2022/09     3317\n",
              "2022/08      406\n",
              "2022/07      197\n",
              "2022/06      110\n",
              "2022/05       78\n",
              "2022/01       73\n",
              "2022/04       57\n",
              "2022/02       51\n",
              "2022/03       49\n",
              "Name: mes_afastamento, dtype: int64"
            ]
          },
          "metadata": {},
          "execution_count": 198
        }
      ]
    },
    {
      "cell_type": "markdown",
      "source": [
        "##df3: Coluna dt_despacho"
      ],
      "metadata": {
        "id": "-zYuc3m0mLE4"
      }
    },
    {
      "cell_type": "code",
      "source": [
        "df3['dt_despacho'].value_counts()"
      ],
      "metadata": {
        "colab": {
          "base_uri": "https://localhost:8080/"
        },
        "id": "OTJk50wdmqBl",
        "outputId": "89f918e3-6d9b-405d-c101-95eb1d51f379"
      },
      "execution_count": null,
      "outputs": [
        {
          "output_type": "execute_result",
          "data": {
            "text/plain": [
              "0000/00    15650\n",
              "2022/10        7\n",
              "2022/11        2\n",
              "Name: dt_despacho, dtype: int64"
            ]
          },
          "metadata": {},
          "execution_count": 199
        }
      ]
    },
    {
      "cell_type": "code",
      "source": [
        "#Valor 0000/00 foi considerado inconsistencia, mudamos pra NA\n",
        "df3['dt_despacho'].replace(['0000/00'], pd.NA, regex=True, inplace=True)"
      ],
      "metadata": {
        "id": "yej_BaK3y0gm"
      },
      "execution_count": null,
      "outputs": []
    },
    {
      "cell_type": "markdown",
      "source": [
        "##df3: Coluna dt_acidente2"
      ],
      "metadata": {
        "id": "sHknsPGYmNKw"
      }
    },
    {
      "cell_type": "code",
      "source": [
        "df3['dt_acidente2'].value_counts()"
      ],
      "metadata": {
        "colab": {
          "base_uri": "https://localhost:8080/"
        },
        "id": "0G1FAsBomqfs",
        "outputId": "229ecec4-ff60-4337-b74e-23daa2df9743"
      },
      "execution_count": null,
      "outputs": [
        {
          "output_type": "execute_result",
          "data": {
            "text/plain": [
              "03/10/2022    883\n",
              "04/10/2022    844\n",
              "05/10/2022    838\n",
              "06/10/2022    798\n",
              "10/10/2022    733\n",
              "             ... \n",
              "11/04/2022      1\n",
              "25/02/2022      1\n",
              "01/03/2022      1\n",
              "26/02/2022      1\n",
              "26/03/2022      1\n",
              "Name: dt_acidente2, Length: 272, dtype: int64"
            ]
          },
          "metadata": {},
          "execution_count": 201
        }
      ]
    },
    {
      "cell_type": "markdown",
      "source": [
        "##df3: Coluna dt_nasc"
      ],
      "metadata": {
        "id": "RcOzAK73mQIB"
      }
    },
    {
      "cell_type": "code",
      "source": [
        "df3['dt_nasc'].value_counts()"
      ],
      "metadata": {
        "colab": {
          "base_uri": "https://localhost:8080/"
        },
        "id": "TR9MKgIgmq_X",
        "outputId": "850c041e-a703-4ebf-dc76-e8f2772f5799"
      },
      "execution_count": null,
      "outputs": [
        {
          "output_type": "execute_result",
          "data": {
            "text/plain": [
              "28/03/1985    14\n",
              "05/01/1973    13\n",
              "23/09/2000    12\n",
              "23/03/1977    11\n",
              "28/09/1971    11\n",
              "              ..\n",
              "08/09/1981     1\n",
              "26/04/1961     1\n",
              "15/03/1989     1\n",
              "06/09/1996     1\n",
              "24/11/1986     1\n",
              "Name: dt_nasc, Length: 9538, dtype: int64"
            ]
          },
          "metadata": {},
          "execution_count": 202
        }
      ]
    },
    {
      "cell_type": "code",
      "source": [
        "#Valor 00/00/0000 foi considerado inconsistencia, mudamos pra NA\n",
        "df3['dt_nasc'].replace(['00/00/0000'], pd.NA, regex=True, inplace=True)"
      ],
      "metadata": {
        "id": "zi49Z6zby5d9"
      },
      "execution_count": null,
      "outputs": []
    },
    {
      "cell_type": "markdown",
      "source": [
        "##df3: Coluna dt_emissao_cat"
      ],
      "metadata": {
        "id": "xSYgtG-LmRJP"
      }
    },
    {
      "cell_type": "code",
      "source": [
        "df3['dt_emissao_cat'].value_counts()"
      ],
      "metadata": {
        "colab": {
          "base_uri": "https://localhost:8080/"
        },
        "id": "xi1uTYDQmru_",
        "outputId": "44556dde-38d9-4bb5-9099-d89aeb3b5f73"
      },
      "execution_count": null,
      "outputs": [
        {
          "output_type": "execute_result",
          "data": {
            "text/plain": [
              "06/10/2022    1282\n",
              "11/10/2022    1158\n",
              "04/10/2022    1157\n",
              "07/10/2022    1113\n",
              "05/10/2022    1075\n",
              "03/10/2022    1050\n",
              "13/10/2022     943\n",
              "10/10/2022     907\n",
              "18/10/2022     802\n",
              "14/10/2022     799\n",
              "19/10/2022     739\n",
              "17/10/2022     737\n",
              "20/10/2022     577\n",
              "21/10/2022     511\n",
              "26/10/2022     509\n",
              "27/10/2022     496\n",
              "24/10/2022     489\n",
              "25/10/2022     451\n",
              "28/10/2022     286\n",
              "31/10/2022     235\n",
              "12/10/2022      87\n",
              "01/10/2022      79\n",
              "08/10/2022      44\n",
              "15/10/2022      36\n",
              "09/10/2022      20\n",
              "22/10/2022      19\n",
              "29/10/2022      19\n",
              "23/10/2022      14\n",
              "16/10/2022      11\n",
              "02/10/2022       9\n",
              "30/10/2022       5\n",
              "Name: dt_emissao_cat, dtype: int64"
            ]
          },
          "metadata": {},
          "execution_count": 204
        }
      ]
    },
    {
      "cell_type": "markdown",
      "source": [
        "##df3: Coluna cnpj_cei"
      ],
      "metadata": {
        "id": "mJ3312ACmXDr"
      }
    },
    {
      "cell_type": "code",
      "source": [
        "df3['cnpj_cei'].value_counts()"
      ],
      "metadata": {
        "colab": {
          "base_uri": "https://localhost:8080/"
        },
        "id": "VYVwwk4MmtbP",
        "outputId": "3ada8168-0009-4882-e923-45ef34cc559e"
      },
      "execution_count": null,
      "outputs": [
        {
          "output_type": "execute_result",
          "data": {
            "text/plain": [
              "00.000.000.000.000    14367\n",
              "60.701.190.000.104       15\n",
              "45.276.128.000.110       13\n",
              "57.571.275.002.570       11\n",
              "19.876.424.000.142        9\n",
              "                      ...  \n",
              "28.369.690.000.170        1\n",
              "04.948.916.000.129        1\n",
              "08.218.991.000.195        1\n",
              "12.397.073.000.148        1\n",
              "54.614.813.000.109        1\n",
              "Name: cnpj_cei, Length: 1016, dtype: int64"
            ]
          },
          "metadata": {},
          "execution_count": 205
        }
      ]
    },
    {
      "cell_type": "code",
      "source": [
        "#Valor 00.000.000.000.000 foi considerado inconsistencia, mudamos pra NA\n",
        "df3['cnpj_cei'].replace(['00.000.000.000.000'], pd.NA, regex=True, inplace=True)"
      ],
      "metadata": {
        "id": "9t74BBwXzG5E"
      },
      "execution_count": null,
      "outputs": []
    },
    {
      "cell_type": "markdown",
      "source": [
        "##df3: Coluna cod_uf"
      ],
      "metadata": {
        "id": "VRw7H-Z3mYlx"
      }
    },
    {
      "cell_type": "code",
      "source": [
        "df3['cod_uf'].value_counts()"
      ],
      "metadata": {
        "colab": {
          "base_uri": "https://localhost:8080/"
        },
        "id": "_1IfdHdRmt40",
        "outputId": "68fbc6f3-bb3b-49bf-a136-51be1a1cdb64"
      },
      "execution_count": null,
      "outputs": [
        {
          "output_type": "execute_result",
          "data": {
            "text/plain": [
              "355030    1461\n",
              "000000     755\n",
              "330455     533\n",
              "310620     333\n",
              "410690     258\n",
              "          ... \n",
              "420768       1\n",
              "292600       1\n",
              "431730       1\n",
              "314410       1\n",
              "311280       1\n",
              "Name: cod_uf, Length: 1622, dtype: int64"
            ]
          },
          "metadata": {},
          "execution_count": 207
        }
      ]
    },
    {
      "cell_type": "code",
      "source": [
        "#Valor 000000 foi considerado inconsistencia, mudamos pra NA\n",
        "df3['cod_uf'].replace(['000000'], pd.NA, regex=True, inplace=True)"
      ],
      "metadata": {
        "id": "AUwnmZRNmuYQ"
      },
      "execution_count": null,
      "outputs": []
    },
    {
      "cell_type": "markdown",
      "source": [
        "#REORDENANDO: df3"
      ],
      "metadata": {
        "id": "sFJzXfQLzRrG"
      }
    },
    {
      "cell_type": "code",
      "source": [
        "df3 = df3[['dt_acidente','dt_acidente2','dt_despacho','mes_afastamento','dt_emissao_cat','sexo','dt_nasc','uf_empregador','uf_acidente','cod_uf','municipio','filiacao','beneficio','cat','tipo_acidente','agt_causador','lesao','local_lesao','obito','cid_cod','cid_desc','cbo_cod','cbo_desc','cnae_cod','cnae_desc','cnpj_cei']]"
      ],
      "metadata": {
        "id": "pZARcQV2zZQI"
      },
      "execution_count": null,
      "outputs": []
    },
    {
      "cell_type": "code",
      "source": [
        "#Percebemos algumas datas redundantes, como por exemplo a coluna de dt_acidente e dt_acidente2, decidimos dropar a menos específica.\n",
        "df3.drop(['dt_acidente'], axis=1, inplace=True)"
      ],
      "metadata": {
        "colab": {
          "base_uri": "https://localhost:8080/"
        },
        "id": "w9bec-sZzfDu",
        "outputId": "e8a771ae-e853-4401-d96b-428b4e5f4fd9"
      },
      "execution_count": null,
      "outputs": [
        {
          "output_type": "stream",
          "name": "stderr",
          "text": [
            "/usr/local/lib/python3.8/dist-packages/pandas/core/frame.py:4906: SettingWithCopyWarning: \n",
            "A value is trying to be set on a copy of a slice from a DataFrame\n",
            "\n",
            "See the caveats in the documentation: https://pandas.pydata.org/pandas-docs/stable/user_guide/indexing.html#returning-a-view-versus-a-copy\n",
            "  return super().drop(\n"
          ]
        }
      ]
    },
    {
      "cell_type": "code",
      "source": [
        "#renomeamos a coluna dt_acidente2 para dt_acidente\n",
        "df3.rename(columns={'dt_acidente2':'dt_acidente'}, inplace=True)"
      ],
      "metadata": {
        "colab": {
          "base_uri": "https://localhost:8080/"
        },
        "id": "EzdhqzvNzhW8",
        "outputId": "404bc2bd-6eaf-402a-86ea-ece6715b7c92"
      },
      "execution_count": null,
      "outputs": [
        {
          "output_type": "stream",
          "name": "stderr",
          "text": [
            "/usr/local/lib/python3.8/dist-packages/pandas/core/frame.py:5039: SettingWithCopyWarning: \n",
            "A value is trying to be set on a copy of a slice from a DataFrame\n",
            "\n",
            "See the caveats in the documentation: https://pandas.pydata.org/pandas-docs/stable/user_guide/indexing.html#returning-a-view-versus-a-copy\n",
            "  return super().rename(\n"
          ]
        }
      ]
    },
    {
      "cell_type": "code",
      "source": [
        "df3 = df3.fillna(np.nan)"
      ],
      "metadata": {
        "id": "OInS8uc29q5N"
      },
      "execution_count": null,
      "outputs": []
    },
    {
      "cell_type": "code",
      "source": [
        "#ultima remoção de possíveis espaços em branco\n",
        "remove_espaco(df3)"
      ],
      "metadata": {
        "id": "MVYFoOs-qO6A"
      },
      "execution_count": null,
      "outputs": []
    },
    {
      "cell_type": "code",
      "source": [
        "df3.head(2)"
      ],
      "metadata": {
        "colab": {
          "base_uri": "https://localhost:8080/",
          "height": 298
        },
        "id": "e7i1Hv2nsCTS",
        "outputId": "cee8eb92-6de4-40f2-cfe4-e9063faf6820"
      },
      "execution_count": null,
      "outputs": [
        {
          "output_type": "execute_result",
          "data": {
            "text/plain": [
              "  dt_acidente dt_despacho mes_afastamento dt_emissao_cat       sexo  \\\n",
              "0  05/10/2022         NaN         2022/10     06/10/2022  Masculino   \n",
              "1  04/10/2022         NaN         2022/10     06/10/2022  Masculino   \n",
              "\n",
              "      dt_nasc uf_empregador uf_acidente  cod_uf           municipio  \\\n",
              "0  05/11/1988         Goiás         NaN  521570  Palmeiras de Goiás   \n",
              "1  02/02/1989     São Paulo    Maranhão  352590             Jundiaí   \n",
              "\n",
              "    filiacao beneficio         cat tipo_acidente  \\\n",
              "0  Empregado        Pa  Empregador        Típico   \n",
              "1  Empregado        Pa  Empregador        Típico   \n",
              "\n",
              "                                   agt_causador  \\\n",
              "0  Faca Facao  Ferramenta Manual sem Forca Motr   \n",
              "1                 Aprision. Em Sob ou Entre Nic   \n",
              "\n",
              "                                        lesao local_lesao obito cid_cod  \\\n",
              "0     Corte Laceracao Ferida Contusa Punctura    Cotovelo   Não   S51.0   \n",
              "1  Contusao Esmagamento (Superficie Cutanea I        Dedo   Não   S60.0   \n",
              "\n",
              "                            cid_desc cbo_cod  \\\n",
              "0                  Ferim do Cotovelo  848515   \n",
              "1  Contusao de Dedos s/Lesao da Unha  324115   \n",
              "\n",
              "                                   cbo_desc  cnae_cod  \\\n",
              "0                         848515 Desossador    1011.0   \n",
              "1  324115 Tec. em Radiologia e Imagenologia    8610.0   \n",
              "\n",
              "                              cnae_desc cnpj_cei  \n",
              "0          Abate de Reses Exceto Suinos      NaN  \n",
              "1  Atividades de Atendimento Hospitalar      NaN  "
            ],
            "text/html": [
              "\n",
              "  <div id=\"df-ae1a0a07-6449-46f6-9dd2-def2727064a7\">\n",
              "    <div class=\"colab-df-container\">\n",
              "      <div>\n",
              "<style scoped>\n",
              "    .dataframe tbody tr th:only-of-type {\n",
              "        vertical-align: middle;\n",
              "    }\n",
              "\n",
              "    .dataframe tbody tr th {\n",
              "        vertical-align: top;\n",
              "    }\n",
              "\n",
              "    .dataframe thead th {\n",
              "        text-align: right;\n",
              "    }\n",
              "</style>\n",
              "<table border=\"1\" class=\"dataframe\">\n",
              "  <thead>\n",
              "    <tr style=\"text-align: right;\">\n",
              "      <th></th>\n",
              "      <th>dt_acidente</th>\n",
              "      <th>dt_despacho</th>\n",
              "      <th>mes_afastamento</th>\n",
              "      <th>dt_emissao_cat</th>\n",
              "      <th>sexo</th>\n",
              "      <th>dt_nasc</th>\n",
              "      <th>uf_empregador</th>\n",
              "      <th>uf_acidente</th>\n",
              "      <th>cod_uf</th>\n",
              "      <th>municipio</th>\n",
              "      <th>filiacao</th>\n",
              "      <th>beneficio</th>\n",
              "      <th>cat</th>\n",
              "      <th>tipo_acidente</th>\n",
              "      <th>agt_causador</th>\n",
              "      <th>lesao</th>\n",
              "      <th>local_lesao</th>\n",
              "      <th>obito</th>\n",
              "      <th>cid_cod</th>\n",
              "      <th>cid_desc</th>\n",
              "      <th>cbo_cod</th>\n",
              "      <th>cbo_desc</th>\n",
              "      <th>cnae_cod</th>\n",
              "      <th>cnae_desc</th>\n",
              "      <th>cnpj_cei</th>\n",
              "    </tr>\n",
              "  </thead>\n",
              "  <tbody>\n",
              "    <tr>\n",
              "      <th>0</th>\n",
              "      <td>05/10/2022</td>\n",
              "      <td>NaN</td>\n",
              "      <td>2022/10</td>\n",
              "      <td>06/10/2022</td>\n",
              "      <td>Masculino</td>\n",
              "      <td>05/11/1988</td>\n",
              "      <td>Goiás</td>\n",
              "      <td>NaN</td>\n",
              "      <td>521570</td>\n",
              "      <td>Palmeiras de Goiás</td>\n",
              "      <td>Empregado</td>\n",
              "      <td>Pa</td>\n",
              "      <td>Empregador</td>\n",
              "      <td>Típico</td>\n",
              "      <td>Faca Facao  Ferramenta Manual sem Forca Motr</td>\n",
              "      <td>Corte Laceracao Ferida Contusa Punctura</td>\n",
              "      <td>Cotovelo</td>\n",
              "      <td>Não</td>\n",
              "      <td>S51.0</td>\n",
              "      <td>Ferim do Cotovelo</td>\n",
              "      <td>848515</td>\n",
              "      <td>848515 Desossador</td>\n",
              "      <td>1011.0</td>\n",
              "      <td>Abate de Reses Exceto Suinos</td>\n",
              "      <td>NaN</td>\n",
              "    </tr>\n",
              "    <tr>\n",
              "      <th>1</th>\n",
              "      <td>04/10/2022</td>\n",
              "      <td>NaN</td>\n",
              "      <td>2022/10</td>\n",
              "      <td>06/10/2022</td>\n",
              "      <td>Masculino</td>\n",
              "      <td>02/02/1989</td>\n",
              "      <td>São Paulo</td>\n",
              "      <td>Maranhão</td>\n",
              "      <td>352590</td>\n",
              "      <td>Jundiaí</td>\n",
              "      <td>Empregado</td>\n",
              "      <td>Pa</td>\n",
              "      <td>Empregador</td>\n",
              "      <td>Típico</td>\n",
              "      <td>Aprision. Em Sob ou Entre Nic</td>\n",
              "      <td>Contusao Esmagamento (Superficie Cutanea I</td>\n",
              "      <td>Dedo</td>\n",
              "      <td>Não</td>\n",
              "      <td>S60.0</td>\n",
              "      <td>Contusao de Dedos s/Lesao da Unha</td>\n",
              "      <td>324115</td>\n",
              "      <td>324115 Tec. em Radiologia e Imagenologia</td>\n",
              "      <td>8610.0</td>\n",
              "      <td>Atividades de Atendimento Hospitalar</td>\n",
              "      <td>NaN</td>\n",
              "    </tr>\n",
              "  </tbody>\n",
              "</table>\n",
              "</div>\n",
              "      <button class=\"colab-df-convert\" onclick=\"convertToInteractive('df-ae1a0a07-6449-46f6-9dd2-def2727064a7')\"\n",
              "              title=\"Convert this dataframe to an interactive table.\"\n",
              "              style=\"display:none;\">\n",
              "        \n",
              "  <svg xmlns=\"http://www.w3.org/2000/svg\" height=\"24px\"viewBox=\"0 0 24 24\"\n",
              "       width=\"24px\">\n",
              "    <path d=\"M0 0h24v24H0V0z\" fill=\"none\"/>\n",
              "    <path d=\"M18.56 5.44l.94 2.06.94-2.06 2.06-.94-2.06-.94-.94-2.06-.94 2.06-2.06.94zm-11 1L8.5 8.5l.94-2.06 2.06-.94-2.06-.94L8.5 2.5l-.94 2.06-2.06.94zm10 10l.94 2.06.94-2.06 2.06-.94-2.06-.94-.94-2.06-.94 2.06-2.06.94z\"/><path d=\"M17.41 7.96l-1.37-1.37c-.4-.4-.92-.59-1.43-.59-.52 0-1.04.2-1.43.59L10.3 9.45l-7.72 7.72c-.78.78-.78 2.05 0 2.83L4 21.41c.39.39.9.59 1.41.59.51 0 1.02-.2 1.41-.59l7.78-7.78 2.81-2.81c.8-.78.8-2.07 0-2.86zM5.41 20L4 18.59l7.72-7.72 1.47 1.35L5.41 20z\"/>\n",
              "  </svg>\n",
              "      </button>\n",
              "      \n",
              "  <style>\n",
              "    .colab-df-container {\n",
              "      display:flex;\n",
              "      flex-wrap:wrap;\n",
              "      gap: 12px;\n",
              "    }\n",
              "\n",
              "    .colab-df-convert {\n",
              "      background-color: #E8F0FE;\n",
              "      border: none;\n",
              "      border-radius: 50%;\n",
              "      cursor: pointer;\n",
              "      display: none;\n",
              "      fill: #1967D2;\n",
              "      height: 32px;\n",
              "      padding: 0 0 0 0;\n",
              "      width: 32px;\n",
              "    }\n",
              "\n",
              "    .colab-df-convert:hover {\n",
              "      background-color: #E2EBFA;\n",
              "      box-shadow: 0px 1px 2px rgba(60, 64, 67, 0.3), 0px 1px 3px 1px rgba(60, 64, 67, 0.15);\n",
              "      fill: #174EA6;\n",
              "    }\n",
              "\n",
              "    [theme=dark] .colab-df-convert {\n",
              "      background-color: #3B4455;\n",
              "      fill: #D2E3FC;\n",
              "    }\n",
              "\n",
              "    [theme=dark] .colab-df-convert:hover {\n",
              "      background-color: #434B5C;\n",
              "      box-shadow: 0px 1px 3px 1px rgba(0, 0, 0, 0.15);\n",
              "      filter: drop-shadow(0px 1px 2px rgba(0, 0, 0, 0.3));\n",
              "      fill: #FFFFFF;\n",
              "    }\n",
              "  </style>\n",
              "\n",
              "      <script>\n",
              "        const buttonEl =\n",
              "          document.querySelector('#df-ae1a0a07-6449-46f6-9dd2-def2727064a7 button.colab-df-convert');\n",
              "        buttonEl.style.display =\n",
              "          google.colab.kernel.accessAllowed ? 'block' : 'none';\n",
              "\n",
              "        async function convertToInteractive(key) {\n",
              "          const element = document.querySelector('#df-ae1a0a07-6449-46f6-9dd2-def2727064a7');\n",
              "          const dataTable =\n",
              "            await google.colab.kernel.invokeFunction('convertToInteractive',\n",
              "                                                     [key], {});\n",
              "          if (!dataTable) return;\n",
              "\n",
              "          const docLinkHtml = 'Like what you see? Visit the ' +\n",
              "            '<a target=\"_blank\" href=https://colab.research.google.com/notebooks/data_table.ipynb>data table notebook</a>'\n",
              "            + ' to learn more about interactive tables.';\n",
              "          element.innerHTML = '';\n",
              "          dataTable['output_type'] = 'display_data';\n",
              "          await google.colab.output.renderOutput(dataTable, element);\n",
              "          const docLink = document.createElement('div');\n",
              "          docLink.innerHTML = docLinkHtml;\n",
              "          element.appendChild(docLink);\n",
              "        }\n",
              "      </script>\n",
              "    </div>\n",
              "  </div>\n",
              "  "
            ]
          },
          "metadata": {},
          "execution_count": 214
        }
      ]
    },
    {
      "cell_type": "code",
      "source": [
        "#Drop de linhas duplicadas\n",
        "df3.drop_duplicates(inplace=True)"
      ],
      "metadata": {
        "id": "CudBOpaQsHmo"
      },
      "execution_count": null,
      "outputs": []
    },
    {
      "cell_type": "markdown",
      "source": [
        "#CONCATENAÇÃO DOS 3 DATAFRAMES"
      ],
      "metadata": {
        "id": "HbIM11IVz0d5"
      }
    },
    {
      "cell_type": "code",
      "source": [
        "#Novo DataFrame com os valores dos 3 DataFrames juntos concatenados em axis = 0 para que se adicionem as linhas e não colunas.\n",
        "df4 = pd.concat([df, df2, df3], axis=0)"
      ],
      "metadata": {
        "id": "qr4rFsxqz7SW"
      },
      "execution_count": null,
      "outputs": []
    },
    {
      "cell_type": "code",
      "source": [
        "#Valor final de linhas ficou como o esperado e o de colunas se manteve constante.\n",
        "df4"
      ],
      "metadata": {
        "id": "WISenw5g345-"
      },
      "execution_count": null,
      "outputs": []
    },
    {
      "cell_type": "code",
      "source": [
        "df4.dtypes"
      ],
      "metadata": {
        "id": "Cn2YbJMYHhFm"
      },
      "execution_count": null,
      "outputs": []
    },
    {
      "cell_type": "code",
      "source": [
        "remove_espaco(df4)"
      ],
      "metadata": {
        "id": "BOwNf3FTZZm1"
      },
      "execution_count": null,
      "outputs": []
    },
    {
      "cell_type": "code",
      "source": [
        "df4.drop_duplicates()"
      ],
      "metadata": {
        "id": "Q4Rhbl1w16pK"
      },
      "execution_count": null,
      "outputs": []
    },
    {
      "cell_type": "markdown",
      "source": [
        "#VALIDAÇÃO DE DADOS"
      ],
      "metadata": {
        "id": "JhbOKYfSFBn7"
      }
    },
    {
      "cell_type": "code",
      "source": [
        "schema = pa.DataFrameSchema(\n",
        "      columns = {\n",
        "          'dt_acidente':pa.Column(pa.String),\n",
        "          'dt_despacho':pa.Column(pa.String, nullable=True),\n",
        "          'mes_afastamento':pa.Column(pa.String),\n",
        "          'dt_emissao_cat':pa.Column(pa.String, nullable=True),\n",
        "          'sexo':pa.Column(pa.String, nullable=True),\n",
        "          'dt_nasc':pa.Column(pa.String, nullable=True),\n",
        "          'uf_empregador':pa.Column(pa.String, nullable=True),\n",
        "          'uf_acidente':pa.Column(pa.String, nullable=True),\n",
        "          'cod_uf':pa.Column(pa.String, nullable=True),\n",
        "          'municipio':pa.Column(pa.String, nullable=True),\n",
        "          'filiacao':pa.Column(pa.String, nullable=True),\n",
        "          'beneficio':pa.Column(pa.String),\n",
        "          'cat':pa.Column(pa.String, nullable=True),\n",
        "          'tipo_acidente':pa.Column(pa.String),\n",
        "          'agt_causador':pa.Column(pa.String, nullable=True),\n",
        "          'lesao':pa.Column(pa.String, nullable=True),\n",
        "          'local_lesao':pa.Column(pa.String, nullable=True),\n",
        "          'obito':pa.Column(pa.String, nullable=True),\n",
        "          'cid_cod':pa.Column(pa.String, nullable=True),\n",
        "          'cid_desc':pa.Column(pa.String, nullable=True),\n",
        "          'cbo_cod':pa.Column(pa.String, nullable=True),\n",
        "          'cbo_desc':pa.Column(pa.String, nullable=True),\n",
        "          'cnae_cod':pa.Column(pa.Float, nullable=True),\n",
        "          'cnae_desc':pa.Column(pa.String, nullable=True),\n",
        "          'cnpj_cei':pa.Column(pa.String, nullable=True),\n",
        "      }\n",
        "  )"
      ],
      "metadata": {
        "id": "BiDuPEauFHw-"
      },
      "execution_count": null,
      "outputs": []
    },
    {
      "cell_type": "code",
      "source": [
        "schema.validate(df4)"
      ],
      "metadata": {
        "id": "rM6v5E0k5nCL"
      },
      "execution_count": null,
      "outputs": []
    },
    {
      "cell_type": "markdown",
      "source": [
        "#ENVIANDO OS DFs TRATADOS: mongoDB + gcloud"
      ],
      "metadata": {
        "id": "iS0KNEJF7JFA"
      }
    },
    {
      "cell_type": "markdown",
      "source": [
        "#☁ gCloud"
      ],
      "metadata": {
        "id": "Ha2HeZ1CKglU"
      }
    },
    {
      "cell_type": "code",
      "source": [
        "#Instalação e importação da biblioteca gcloud storage\n",
        "!pip install gcsfs\n",
        "from google.cloud import storage\n",
        "import os"
      ],
      "metadata": {
        "id": "an_p4CDJKIBA"
      },
      "execution_count": null,
      "outputs": []
    },
    {
      "cell_type": "code",
      "source": [
        "#Configuração da chave de segurança json da serviceaccount\n",
        "serviceAccount = '/content/aulas-bc26-gabriela-c46064bcf2f2.json'\n",
        "os.environ['GOOGLE_APPLICATION_CREDENTIALS'] = serviceAccount"
      ],
      "metadata": {
        "id": "n8m-8OCUKfHH"
      },
      "execution_count": null,
      "outputs": []
    },
    {
      "cell_type": "code",
      "source": [
        "#Criando os novos df's\n",
        "\n",
        "df_tratado = df\n",
        "df2_tratado = df2\n",
        "df3_tratado = df3\n",
        "df4_tratado = df4"
      ],
      "metadata": {
        "id": "xKnnRwGN5d8c"
      },
      "execution_count": null,
      "outputs": []
    },
    {
      "cell_type": "code",
      "source": [
        "#ENVIANDO O PRIMEIRO DF TRATADO PARA O BUCKET\n",
        "bucket_name = 'bc26-gabriela-bucket'\n",
        "\n",
        "# tansformando o df em .csv\n",
        "df_tratado.to_csv('df_tratado.csv', index = False)\n",
        "# conectando com o storage client\n",
        "client = storage.Client.from_service_account_json('/content/aulas-bc26-gabriela-c46064bcf2f2.json')\n",
        "# buscando o bucket\n",
        "bucket = client.bucket(bucket_name)\n",
        "# criando blob (onde vc quer enviar o arquivo .csv)\n",
        "blob = bucket.blob(\"projeto_aquecimento/df_tratado.csv\")\n",
        "# enviando blob para o bucket\n",
        "blob.upload_from_filename(\"df_tratado.csv\")"
      ],
      "metadata": {
        "id": "2-984I4LzsI2"
      },
      "execution_count": null,
      "outputs": []
    },
    {
      "cell_type": "code",
      "source": [
        "#ENVIANDO O SEGUNDO DF TRATADO PARA O BUCKET\n",
        "bucket_name = 'bc26-gabriela-bucket'\n",
        "\n",
        "# tansformando o df em .csv\n",
        "df2_tratado.to_csv('df2_tratado.csv', index = False)\n",
        "# conectando com o storage client\n",
        "client = storage.Client.from_service_account_json('/content/aulas-bc26-gabriela-c46064bcf2f2.json')\n",
        "# buscando o bucket\n",
        "bucket = client.bucket(bucket_name)\n",
        "# criando blob (onde vc quer enviar o arquivo .csv)\n",
        "blob = bucket.blob(\"projeto_aquecimento/df2_tratado.csv\")\n",
        "# enviando blob para o bucket\n",
        "blob.upload_from_filename(\"df2_tratado.csv\")"
      ],
      "metadata": {
        "id": "BJkR2XIr3PfO"
      },
      "execution_count": null,
      "outputs": []
    },
    {
      "cell_type": "code",
      "source": [
        "#ENVIANDO O TERCEIRO DF TRATADO PARA O BUCKET\n",
        "bucket_name = 'bc26-gabriela-bucket'\n",
        "\n",
        "# tansformando o df em .csv\n",
        "df3_tratado.to_csv('df3_tratado.csv', index = False)\n",
        "# conectando com o storage client\n",
        "client = storage.Client.from_service_account_json('/content/aulas-bc26-gabriela-c46064bcf2f2.json')\n",
        "# buscando o bucket\n",
        "bucket = client.bucket(bucket_name)\n",
        "# criando blob (onde vc quer enviar o arquivo .csv)\n",
        "blob = bucket.blob(\"projeto_aquecimento/df3_tratado.csv\")\n",
        "# enviando blob para o bucket\n",
        "blob.upload_from_filename(\"df3_tratado.csv\")"
      ],
      "metadata": {
        "id": "MlfIo_OE3bqA"
      },
      "execution_count": null,
      "outputs": []
    },
    {
      "cell_type": "code",
      "source": [
        "#ENVIANDO O DF CONCATENADO PARA O BUCKET\n",
        "bucket_name = 'bc26-gabriela-bucket'\n",
        "\n",
        "# tansformando o df em .csv\n",
        "df4_tratado.to_csv('df4_tratado.csv', index = False)\n",
        "# conectando com o storage client\n",
        "client = storage.Client.from_service_account_json('/content/aulas-bc26-gabriela-c46064bcf2f2.json')\n",
        "# buscando o bucket\n",
        "bucket = client.bucket(bucket_name)\n",
        "# criando blob (onde vc quer enviar o arquivo .csv)\n",
        "blob = bucket.blob(\"projeto_aquecimento/df4_tratado.csv\")\n",
        "# enviando blob para o bucket\n",
        "blob.upload_from_filename(\"df4_tratado.csv\")"
      ],
      "metadata": {
        "id": "eY1C-e7D3jIp"
      },
      "execution_count": null,
      "outputs": []
    },
    {
      "cell_type": "markdown",
      "source": [
        "#🍃 MongoDB"
      ],
      "metadata": {
        "id": "wiU0yyfJaLJt"
      }
    },
    {
      "cell_type": "code",
      "source": [
        "#Conectando com o MongoDB\n",
        "uri = \"mongodb+srv://cluster0.p4kvlxp.mongodb.net/?authSource=%24external&authMechanism=MONGODB-X509&retryWrites=true&w=majority\"\n",
        "client = MongoClient(uri,tls=True,tlsCertificateKeyFile='/content/X509-cert-5675635325549232105.pem')"
      ],
      "metadata": {
        "id": "rgth3p1v6WMG"
      },
      "execution_count": null,
      "outputs": []
    },
    {
      "cell_type": "code",
      "source": [
        "#Criando as coleções no mongoDB\n",
        "\n",
        "db = client['projeto_aquecimento']\n",
        "colecaotratado1 = db['tratado1']\n",
        "colecaotratado2 = db['tratado2']\n",
        "colecaotratado3 = db['tratado3']\n",
        "colecaotratado4 = db['tratado_concatenado4']"
      ],
      "metadata": {
        "id": "tX4DjArt7UBK"
      },
      "execution_count": null,
      "outputs": []
    },
    {
      "cell_type": "code",
      "source": [
        "#Enviando para o mongoDB nas coleções criadas anteriormente. Aqui tivemos dificuldade pois parece não haver espaço suficiente para todos os arquivos.\n",
        "\n",
        "'''df_tratado.reset_index(inplace=True)\n",
        "df_dict_t = df_tratado.to_dict(\"records\")\n",
        "colecaotratado1.insert_many(df_dict_t)\n",
        "\n",
        "df2_tratado.reset_index(inplace=True)\n",
        "df2_dict_t = df2_tratado.to_dict(\"records\")\n",
        "colecaotratado2.insert_many(df2_dict_t)\n",
        "\n",
        "df3_tratado.reset_index(inplace=True)\n",
        "df3_dict_t = df3_tratado.to_dict(\"records\")\n",
        "colecaotratado3.insert_many(df3_dict_t)\n",
        "\n",
        "df4_tratado.reset_index(inplace=True)\n",
        "df4_dict = df4.to_dict(\"records\")\n",
        "colecaotratado4.insert_many(df4_dict)'''"
      ],
      "metadata": {
        "colab": {
          "base_uri": "https://localhost:8080/"
        },
        "id": "ns0LwWiz8Val",
        "outputId": "8f2cb6a7-f577-4a53-e1a1-19d595f44741"
      },
      "execution_count": null,
      "outputs": [
        {
          "output_type": "execute_result",
          "data": {
            "text/plain": [
              "'df_tratado.reset_index(inplace=True)\\ndf_dict_t = df_tratado.to_dict(\"records\")\\ncolecaotratado1.insert_many(df_dict_t)\\n\\ndf2_tratado.reset_index(inplace=True)\\ndf2_dict_t = df2_tratado.to_dict(\"records\")\\ncolecaotratado2.insert_many(df2_dict_t)\\n\\ndf3_tratado.reset_index(inplace=True)\\ndf3_dict_t = df3_tratado.to_dict(\"records\")\\ncolecaotratado3.insert_many(df3_dict_t)\\n\\ndf4_tratado.reset_index(inplace=True)\\ndf4_dict = df4.to_dict(\"records\")\\ncolecaotratado4.insert_many(df4_dict)'"
            ],
            "application/vnd.google.colaboratory.intrinsic+json": {
              "type": "string"
            }
          },
          "metadata": {},
          "execution_count": 232
        }
      ]
    },
    {
      "cell_type": "markdown",
      "source": [
        "#ANÁLISES COM SPARK E SQL"
      ],
      "metadata": {
        "id": "eUCXsG_DCuDY"
      }
    },
    {
      "cell_type": "markdown",
      "source": [
        "#✨ SPARK "
      ],
      "metadata": {
        "id": "AukNyFtrDnCy"
      }
    },
    {
      "cell_type": "markdown",
      "source": [
        "\n",
        "\n",
        "*   Utilizaremos o menor dataframe extraindo do bucket da gcp.\n",
        "\n",
        "\n"
      ],
      "metadata": {
        "id": "fPQg6ZwXEnie"
      }
    },
    {
      "cell_type": "code",
      "source": [
        "#Instalando o pyspark\n",
        "!pip install pyspark"
      ],
      "metadata": {
        "colab": {
          "base_uri": "https://localhost:8080/"
        },
        "id": "WCRUlRCHNAvq",
        "outputId": "d1582616-148c-4f6c-e362-789b5f6f05b2"
      },
      "execution_count": null,
      "outputs": [
        {
          "output_type": "stream",
          "name": "stdout",
          "text": [
            "Looking in indexes: https://pypi.org/simple, https://us-python.pkg.dev/colab-wheels/public/simple/\n",
            "Collecting pyspark\n",
            "  Downloading pyspark-3.3.1.tar.gz (281.4 MB)\n",
            "\u001b[K     |████████████████████████████████| 281.4 MB 47 kB/s \n",
            "\u001b[?25hCollecting py4j==0.10.9.5\n",
            "  Downloading py4j-0.10.9.5-py2.py3-none-any.whl (199 kB)\n",
            "\u001b[K     |████████████████████████████████| 199 kB 53.6 MB/s \n",
            "\u001b[?25hBuilding wheels for collected packages: pyspark\n",
            "  Building wheel for pyspark (setup.py) ... \u001b[?25l\u001b[?25hdone\n",
            "  Created wheel for pyspark: filename=pyspark-3.3.1-py2.py3-none-any.whl size=281845512 sha256=d1f23259dd4225246999ea2ed510d63469bd7ea9cfab80a1e5fb65c22c2263da\n",
            "  Stored in directory: /root/.cache/pip/wheels/43/dc/11/ec201cd671da62fa9c5cc77078235e40722170ceba231d7598\n",
            "Successfully built pyspark\n",
            "Installing collected packages: py4j, pyspark\n",
            "Successfully installed py4j-0.10.9.5 pyspark-3.3.1\n"
          ]
        }
      ]
    },
    {
      "cell_type": "code",
      "source": [
        "#Importando todos os tipos de variáveis\n",
        "from pyspark.sql.types import *\n",
        "#Importando a sparksession\n",
        "from pyspark.sql import SparkSession\n",
        "#Importando as funções como F\n",
        "from pyspark.sql.window import Window\n",
        "import pyspark.sql.functions as F"
      ],
      "metadata": {
        "id": "R2sisOfRDlrv"
      },
      "execution_count": null,
      "outputs": []
    },
    {
      "cell_type": "code",
      "source": [
        "#Configurando a sparksession com configuração adicional para conexão spark - cloud storage\n",
        "spark = (\n",
        "   SparkSession.builder\n",
        "               .master('local')\n",
        "               .appName('projeto_aquecimento')\n",
        "               .config('spark.ui.port', '4050')\n",
        "               .getOrCreate()                \n",
        ")"
      ],
      "metadata": {
        "id": "g9BeIjeGME3Z"
      },
      "execution_count": null,
      "outputs": []
    },
    {
      "cell_type": "code",
      "source": [
        "spark"
      ],
      "metadata": {
        "colab": {
          "base_uri": "https://localhost:8080/",
          "height": 219
        },
        "id": "ymdzARYVPYFM",
        "outputId": "1ef00d03-7221-4339-d215-5cb9eec23674"
      },
      "execution_count": null,
      "outputs": [
        {
          "output_type": "execute_result",
          "data": {
            "text/plain": [
              "<pyspark.sql.session.SparkSession at 0x7f5372f4bb20>"
            ],
            "text/html": [
              "\n",
              "            <div>\n",
              "                <p><b>SparkSession - in-memory</b></p>\n",
              "                \n",
              "        <div>\n",
              "            <p><b>SparkContext</b></p>\n",
              "\n",
              "            <p><a href=\"http://5a3fcd6fa8ea:4050\">Spark UI</a></p>\n",
              "\n",
              "            <dl>\n",
              "              <dt>Version</dt>\n",
              "                <dd><code>v3.3.1</code></dd>\n",
              "              <dt>Master</dt>\n",
              "                <dd><code>local</code></dd>\n",
              "              <dt>AppName</dt>\n",
              "                <dd><code>projeto_aquecimento</code></dd>\n",
              "            </dl>\n",
              "        </div>\n",
              "        \n",
              "            </div>\n",
              "        "
            ]
          },
          "metadata": {},
          "execution_count": 236
        }
      ]
    },
    {
      "cell_type": "code",
      "source": [
        "#Montando o esquema de Colunas\n",
        "esquema = (\n",
        "    StructType([\n",
        "        StructField('dt_acidente', StringType()),\n",
        "        StructField('dt_despacho', StringType()),\n",
        "        StructField('mes_afastamento', StringType()),\n",
        "        StructField('dt_emissao_cat', StringType()),\n",
        "        StructField('sexo', StringType()),\n",
        "        StructField('dt_nasc', StringType()),\n",
        "        StructField('uf_empregador', StringType()),\n",
        "        StructField('uf_acidente', StringType()),\n",
        "        StructField('cod_uf', StringType()),\n",
        "        StructField('municipio', StringType()),\n",
        "        StructField('filiacao', StringType()),\n",
        "        StructField('beneficio', StringType()),\n",
        "        StructField('cat', StringType()),\n",
        "        StructField('tipo_acidente', StringType()),\n",
        "        StructField('agt_causador', StringType()),\n",
        "        StructField('lesao', StringType()),\n",
        "        StructField('local_lesao', StringType()),\n",
        "        StructField('obito', StringType()),\n",
        "        StructField('cid_cod', StringType()),\n",
        "        StructField('cid_desc', StringType()),\n",
        "        StructField('cbo_cod', StringType()),\n",
        "        StructField('cbo_desc', StringType()),\n",
        "        StructField('cnae_cod', FloatType()),\n",
        "        StructField('cnae_desc', StringType()),\n",
        "        StructField('cnpj_cei', StringType())\n",
        "        ])\n",
        ")"
      ],
      "metadata": {
        "id": "Jqaz7SXcFMXP"
      },
      "execution_count": null,
      "outputs": []
    },
    {
      "cell_type": "code",
      "source": [
        "df4_spark = spark.createDataFrame(df4, schema= esquema)"
      ],
      "metadata": {
        "id": "KinxRg1LH69Y"
      },
      "execution_count": null,
      "outputs": []
    },
    {
      "cell_type": "code",
      "source": [
        "df4_spark.printSchema()"
      ],
      "metadata": {
        "colab": {
          "base_uri": "https://localhost:8080/"
        },
        "id": "0KC5JPGhfAAF",
        "outputId": "f6ff6928-c8cc-450c-b464-06e644291b8b"
      },
      "execution_count": null,
      "outputs": [
        {
          "output_type": "stream",
          "name": "stdout",
          "text": [
            "root\n",
            " |-- dt_acidente: string (nullable = true)\n",
            " |-- dt_despacho: string (nullable = true)\n",
            " |-- mes_afastamento: string (nullable = true)\n",
            " |-- dt_emissao_cat: string (nullable = true)\n",
            " |-- sexo: string (nullable = true)\n",
            " |-- dt_nasc: string (nullable = true)\n",
            " |-- uf_empregador: string (nullable = true)\n",
            " |-- uf_acidente: string (nullable = true)\n",
            " |-- cod_uf: string (nullable = true)\n",
            " |-- municipio: string (nullable = true)\n",
            " |-- filiacao: string (nullable = true)\n",
            " |-- beneficio: string (nullable = true)\n",
            " |-- cat: string (nullable = true)\n",
            " |-- tipo_acidente: string (nullable = true)\n",
            " |-- agt_causador: string (nullable = true)\n",
            " |-- lesao: string (nullable = true)\n",
            " |-- local_lesao: string (nullable = true)\n",
            " |-- obito: string (nullable = true)\n",
            " |-- cid_cod: string (nullable = true)\n",
            " |-- cid_desc: string (nullable = true)\n",
            " |-- cbo_cod: string (nullable = true)\n",
            " |-- cbo_desc: string (nullable = true)\n",
            " |-- cnae_cod: float (nullable = true)\n",
            " |-- cnae_desc: string (nullable = true)\n",
            " |-- cnpj_cei: string (nullable = true)\n",
            "\n"
          ]
        }
      ]
    },
    {
      "cell_type": "code",
      "source": [
        "df4_spark.show()"
      ],
      "metadata": {
        "id": "r86JhKt9cImL",
        "colab": {
          "base_uri": "https://localhost:8080/"
        },
        "outputId": "ad98c085-47c0-4a8f-9a4b-5c411572fc28"
      },
      "execution_count": null,
      "outputs": [
        {
          "output_type": "stream",
          "name": "stdout",
          "text": [
            "+-----------+-----------+---------------+--------------+---------+----------+-----------------+-----------+------+--------------------+------------------+---------+-------------------+-------------+--------------------+--------------------+--------------------+-----+-------+--------------------+-------+--------------------+--------+--------------------+------------------+\n",
            "|dt_acidente|dt_despacho|mes_afastamento|dt_emissao_cat|     sexo|   dt_nasc|    uf_empregador|uf_acidente|cod_uf|           municipio|          filiacao|beneficio|                cat|tipo_acidente|        agt_causador|               lesao|         local_lesao|obito|cid_cod|            cid_desc|cbo_cod|            cbo_desc|cnae_cod|           cnae_desc|          cnpj_cei|\n",
            "+-----------+-----------+---------------+--------------+---------+----------+-----------------+-----------+------+--------------------+------------------+---------+-------------------+-------------+--------------------+--------------------+--------------------+-----+-------+--------------------+-------+--------------------+--------+--------------------+------------------+\n",
            "| 20/01/2022|        NaN|        2022/01|    01/03/2022| Feminino|02/08/1970|        São Paulo|   Maranhão|354780|      Santo André Sp|         Empregado|       Pa|         Empregador|       Doença|                 NaN|Doenca Contagiosa...|Aparelho Respirat...|  Não|  B34.2|Infecc p/Coronavi...| 515105|Agente Comunitári...|  8630.0|Atividades de Ate...|57.571.275.002.570|\n",
            "| 25/02/2022|        NaN|        2022/02|    01/03/2022|Masculino|16/12/1990|        São Paulo|   Maranhão|355030|           São Paulo|         Empregado|       Pa|Segurado/Dependente|      Trajeto|Motocicleta Motoneta|             Fratura|Braco (Entre O Pu...|  Não|  S52.5|Frat da Extremida...| 519110|Motociclista no T...|  4930.0|Transporte Rodovi...|19.578.086.000.162|\n",
            "| 24/02/2022|        NaN|        2022/02|    01/03/2022|Masculino|19/09/1986|            Goiás|        NaN|520110|            Anápolis|         Empregado|       Pa|         Empregador|       Típico|Aprision. Em Sobr...|             Luxacao|               Punho|  Não|  S60.0|Contusao de Dedos...| 514205|        Coletor Lixo|  3811.0|Coleta de Residuo...|               NaN|\n",
            "| 28/01/2022|        NaN|        2022/01|    01/03/2022|Masculino|25/07/1995|        São Paulo|   Maranhão|330100|Campos dos Goytac...|         Empregado|       Pa|         Empregador|       Típico|Impacto de Pes. C...|             Luxacao|Perna (Entre O To...|  Não|  S90.0|Contusao do Torno...|    NaN|                 NaN|  4639.0|Comercio Atacadis...|               NaN|\n",
            "| 25/02/2022|        NaN|        2022/02|    01/03/2022|Masculino|06/10/1989|            Bahia|        NaN|293330|Vitória da Conquista|         Empregado|       Pa|         Empregador|       Típico|Temperatura Muito...|Queimadura ou Esc...|Perna (Entre O To...|  Não|  T24.4|Corros Quadr Memb...| 784205|Alimentador de Li...|  1011.0|Abate de Reses Ex...|               NaN|\n",
            "| 28/02/2022|        NaN|        2022/02|    01/03/2022|Masculino|22/05/1993|       Pernambuco|       Pará|261110|           Petrolina|         Empregado|       Pa|         Empregador|      Trajeto|Piso de Veiculo  ...|             Fratura|Perna (Do Tornoze...|  Não|  S82.3|Frat da Extremida...| 521135|           Frentista|  4731.0|Comercio Varejist...|24.574.403.000.102|\n",
            "| 18/01/2022|        NaN|        2022/01|    01/03/2022| Feminino|13/05/1982|        São Paulo|   Maranhão|354780|      Santo André Sp|         Empregado|       Pa|         Empregador|       Doença|                 NaN|Doenca Contagiosa...|Aparelho Respirat...|  Não|  B34.2|Infecc p/Coronavi...| 223505|          Enfermeiro|  8630.0|Atividades de Ate...|57.571.275.002.570|\n",
            "| 01/03/2022|        NaN|        2022/03|    01/03/2022| Feminino|09/11/1977|           Paraná|    Roraima|410690|            Curitiba|         Empregado|       Pa|             Médico|       Típico|Frasco Garrafa   ...|Contusao Esmagame...|Membros Inferiore...|  Não|  S90.8|Outr Traum Superf...| 322205|  Tec. de Enfermagem|  8411.0|Administracao Pub...|76.417.005.000.429|\n",
            "| 23/02/2022|        NaN|        2022/02|    01/03/2022|Masculino|06/12/1998|            Ceará|        NaN|230765|           Maracanaú|         Empregado|       Pa|         Empregador|       Típico|Piso de Andaime e...|    Distensao Torcao|Articulacao do To...|  Não|  S90.3|Contusao de Outr ...| 752305|           Ceramista|  2342.0|Fabricacao de Pro...|               NaN|\n",
            "| 27/02/2022|        NaN|        2022/02|    01/03/2022| Feminino|29/12/1980|           Paraná|    Roraima|410690|            Curitiba|         Empregado|       Pa|         Empregador|       Típico|Produto Biologico...|   Outras Lesoes Nic|Face Partes Multi...|  Não|  Z57.9|Exposicao Ocupaci...| 322205|  Tec. de Enfermagem|  8610.0|Atividades de Ate...|               NaN|\n",
            "| 28/01/2022|        NaN|        2022/01|    01/03/2022|Masculino|21/03/1990|   Santa Catarina|        NaN|421500|        Rio Negrinho|         Empregado|       Pa|         Empregador|       Típico|Passarela ou Plat...|             Fratura|Dorso (Inclusive ...|  Não|  S12.2|Frat de Outr Vert...| 951105|Eletricista de Ma...|  1610.0|Desdobramento de ...|               NaN|\n",
            "| 24/02/2022|        NaN|        2022/02|    01/03/2022|Masculino|03/02/1999|           Paraná|    Roraima|410690|            Curitiba|         Empregado|       Pa|         Empregador|       Típico|Esmeril  Ferramen...|Corte Laceracao F...|Antebraco (Entre ...|  Não|  S52.8|Frat de Outr Part...| 722215|Oper. Acabamento ...|  2941.0|Fabricacao de Pec...|               NaN|\n",
            "| 26/02/2022|        NaN|        2022/02|    01/03/2022|Masculino|03/07/1996|           Paraná|    Roraima|410690|            Curitiba|         Empregado|       Pa|         Empregador|       Típico|Caixa Engradado C...|             Luxacao|Pe (Exceto Artelhos)|  Não|  S90.9|Traum Superf do T...| 314715|Tec. de Fundição ...|  2941.0|Fabricacao de Pec...|               NaN|\n",
            "| 20/01/2022|        NaN|        2022/01|    01/03/2022| Feminino|16/02/1965|        São Paulo|   Maranhão|354780|      Santo André Sp|         Empregado|       Pa|         Empregador|       Doença|                 NaN|Doenca Contagiosa...|Aparelho Respirat...|  Não|  B34.2|Infecc p/Coronavi...|    NaN|                 NaN|  8630.0|Atividades de Ate...|57.571.275.002.570|\n",
            "| 26/02/2022|        NaN|        2022/02|    01/03/2022|Masculino|24/08/1992|        São Paulo|   Maranhão|350750|            Botucatu|         Empregado|       Pa|         Empregador|       Típico|Atrito ou Abrasao...|      Lesao Imediata|                Dedo|  Não|  S61.1|Ferim de Dedos c/...| 784205|Alimentador de Li...|  7820.0|Locacao de Mao De...|               NaN|\n",
            "| 27/02/2022|        NaN|        2022/02|    01/03/2022|Masculino|26/01/1963|        São Paulo|   Maranhão|354580|Santa Bárbara D'O...|         Empregado|       Pa|         Empregador|       Típico|Talha   Equip. de...|Choque Eletrico e...|Braco (Entre O Pu...|  Não|  T75.4|Efeitos da Corren...| 722205|  Fundidor de Metais|  2451.0|Fundicao de Ferro...|               NaN|\n",
            "| 25/02/2022|        NaN|        2022/02|    01/03/2022| Feminino|31/12/1993|Rio Grande do Sul|        NaN|431720|          Santa Rosa|         Empregado|       Pa|         Empregador|       Típico|Rampa   Superfici...|    Distensao Torcao|Articulacao do To...|  Não|  T14.0|Traum Superf de R...| 411010|Assistente Admini...|  4711.0|Comercio Varejist...|               NaN|\n",
            "| 24/01/2022|        NaN|        2022/01|    01/03/2022|Masculino|07/06/1976|              NaN|        NaN|   NaN|                 NaN|Trabalhador Avulso|       Pa|                NaN|       Típico|Passarela ou Plat...|             Luxacao|Articulacao do To...|  Não|  S93.4|Entorse e Distens...|    NaN|                 NaN|  9412.0|Atividades de Org...|               NaN|\n",
            "| 25/02/2022|        NaN|        2022/02|    01/03/2022|Masculino|05/08/2002|        São Paulo|   Maranhão|355030|           São Paulo|         Empregado|       Pa|         Empregador|       Típico|Piso de Veiculo  ...|Contusao Esmagame...|            Cotovelo|  Não|  S50.0|Contusao do Cotovelo| 783225|Ajudante de Motor...|  5212.0|    Carga e Descarga|               NaN|\n",
            "| 24/02/2022|        NaN|        2022/02|    01/03/2022|Masculino|10/03/1980|            Bahia|        NaN|291840|            Juazeiro|         Empregado|       Pa|         Empregador|       Típico|Chao   Superficie...|  Lesao Imediata Nic|Partes Multiplas ...|  Não|  S40.0|Contusao do Ombro...| 717020|   Servente de Obras|  1071.0|Fabricacao de Acu...|               NaN|\n",
            "+-----------+-----------+---------------+--------------+---------+----------+-----------------+-----------+------+--------------------+------------------+---------+-------------------+-------------+--------------------+--------------------+--------------------+-----+-------+--------------------+-------+--------------------+--------+--------------------+------------------+\n",
            "only showing top 20 rows\n",
            "\n"
          ]
        }
      ]
    },
    {
      "cell_type": "code",
      "source": [
        "#selecionando algumas colunas para visualização\n",
        "df4_spark.select(F.col('dt_despacho'), F.col('Sexo'), F.col('cnpj_cei')).show()"
      ],
      "metadata": {
        "colab": {
          "base_uri": "https://localhost:8080/"
        },
        "id": "d8ortdMItL8W",
        "outputId": "9651e88a-2b60-42f4-8c66-8768f5e726ac"
      },
      "execution_count": null,
      "outputs": [
        {
          "output_type": "stream",
          "name": "stdout",
          "text": [
            "+-----------+---------+------------------+\n",
            "|dt_despacho|     Sexo|          cnpj_cei|\n",
            "+-----------+---------+------------------+\n",
            "|        NaN| Feminino|57.571.275.002.570|\n",
            "|        NaN|Masculino|19.578.086.000.162|\n",
            "|        NaN|Masculino|               NaN|\n",
            "|        NaN|Masculino|               NaN|\n",
            "|        NaN|Masculino|               NaN|\n",
            "|        NaN|Masculino|24.574.403.000.102|\n",
            "|        NaN| Feminino|57.571.275.002.570|\n",
            "|        NaN| Feminino|76.417.005.000.429|\n",
            "|        NaN|Masculino|               NaN|\n",
            "|        NaN| Feminino|               NaN|\n",
            "|        NaN|Masculino|               NaN|\n",
            "|        NaN|Masculino|               NaN|\n",
            "|        NaN|Masculino|               NaN|\n",
            "|        NaN| Feminino|57.571.275.002.570|\n",
            "|        NaN|Masculino|               NaN|\n",
            "|        NaN|Masculino|               NaN|\n",
            "|        NaN| Feminino|               NaN|\n",
            "|        NaN|Masculino|               NaN|\n",
            "|        NaN|Masculino|               NaN|\n",
            "|        NaN|Masculino|               NaN|\n",
            "+-----------+---------+------------------+\n",
            "only showing top 20 rows\n",
            "\n"
          ]
        }
      ]
    },
    {
      "cell_type": "code",
      "source": [
        "#a coluna dt_despacho parece apresentar somente valores NaN, verificamos. Tinha outros valores além de NaN, então tá tudo certo.\n",
        "df4_spark.select('dt_despacho').distinct().show(truncate=False)"
      ],
      "metadata": {
        "colab": {
          "base_uri": "https://localhost:8080/"
        },
        "id": "P1nNBKO2uX10",
        "outputId": "cace1c65-495e-4f12-e73e-a005af49a19c"
      },
      "execution_count": null,
      "outputs": [
        {
          "output_type": "stream",
          "name": "stdout",
          "text": [
            "+-----------+\n",
            "|dt_despacho|\n",
            "+-----------+\n",
            "|2022/03    |\n",
            "|2022/07    |\n",
            "|2022/01    |\n",
            "|2022/02    |\n",
            "|NaN        |\n",
            "|2022/06    |\n",
            "|2022/04    |\n",
            "|2022/10    |\n",
            "|2022/11    |\n",
            "|2022/05    |\n",
            "+-----------+\n",
            "\n"
          ]
        }
      ]
    },
    {
      "cell_type": "code",
      "source": [
        "#A coluna cnpj_cei e dt_despacho apresentam muitos valores em NaN mas optamos por não dar drop."
      ],
      "metadata": {
        "id": "30nzCC4xtyLy"
      },
      "execution_count": null,
      "outputs": []
    },
    {
      "cell_type": "code",
      "source": [
        "#Renomeamos duas colunas\n",
        "df4_spark = ( df4_spark.withColumnRenamed('filiacao', 'contrato_trabalho')\n",
        "                .withColumnRenamed('cnpj_cei', 'cnpj')\n",
        ")"
      ],
      "metadata": {
        "id": "pikC9o9WvoKH"
      },
      "execution_count": null,
      "outputs": []
    },
    {
      "cell_type": "code",
      "source": [
        "df4_spark.show()"
      ],
      "metadata": {
        "colab": {
          "base_uri": "https://localhost:8080/"
        },
        "id": "RxYermIiwWbe",
        "outputId": "6c5357ce-dcf9-4940-9241-7b3dbc510c29"
      },
      "execution_count": null,
      "outputs": [
        {
          "output_type": "stream",
          "name": "stdout",
          "text": [
            "+-----------+-----------+---------------+--------------+---------+----------+-----------------+-----------+------+--------------------+------------------+---------+-------------------+-------------+--------------------+--------------------+--------------------+-----+-------+--------------------+-------+--------------------+--------+--------------------+------------------+\n",
            "|dt_acidente|dt_despacho|mes_afastamento|dt_emissao_cat|     sexo|   dt_nasc|    uf_empregador|uf_acidente|cod_uf|           municipio| contrato_trabalho|beneficio|                cat|tipo_acidente|        agt_causador|               lesao|         local_lesao|obito|cid_cod|            cid_desc|cbo_cod|            cbo_desc|cnae_cod|           cnae_desc|              cnpj|\n",
            "+-----------+-----------+---------------+--------------+---------+----------+-----------------+-----------+------+--------------------+------------------+---------+-------------------+-------------+--------------------+--------------------+--------------------+-----+-------+--------------------+-------+--------------------+--------+--------------------+------------------+\n",
            "| 20/01/2022|        NaN|        2022/01|    01/03/2022| Feminino|02/08/1970|        São Paulo|   Maranhão|354780|      Santo André Sp|         Empregado|       Pa|         Empregador|       Doença|                 NaN|Doenca Contagiosa...|Aparelho Respirat...|  Não|  B34.2|Infecc p/Coronavi...| 515105|Agente Comunitári...|  8630.0|Atividades de Ate...|57.571.275.002.570|\n",
            "| 25/02/2022|        NaN|        2022/02|    01/03/2022|Masculino|16/12/1990|        São Paulo|   Maranhão|355030|           São Paulo|         Empregado|       Pa|Segurado/Dependente|      Trajeto|Motocicleta Motoneta|             Fratura|Braco (Entre O Pu...|  Não|  S52.5|Frat da Extremida...| 519110|Motociclista no T...|  4930.0|Transporte Rodovi...|19.578.086.000.162|\n",
            "| 24/02/2022|        NaN|        2022/02|    01/03/2022|Masculino|19/09/1986|            Goiás|        NaN|520110|            Anápolis|         Empregado|       Pa|         Empregador|       Típico|Aprision. Em Sobr...|             Luxacao|               Punho|  Não|  S60.0|Contusao de Dedos...| 514205|        Coletor Lixo|  3811.0|Coleta de Residuo...|               NaN|\n",
            "| 28/01/2022|        NaN|        2022/01|    01/03/2022|Masculino|25/07/1995|        São Paulo|   Maranhão|330100|Campos dos Goytac...|         Empregado|       Pa|         Empregador|       Típico|Impacto de Pes. C...|             Luxacao|Perna (Entre O To...|  Não|  S90.0|Contusao do Torno...|    NaN|                 NaN|  4639.0|Comercio Atacadis...|               NaN|\n",
            "| 25/02/2022|        NaN|        2022/02|    01/03/2022|Masculino|06/10/1989|            Bahia|        NaN|293330|Vitória da Conquista|         Empregado|       Pa|         Empregador|       Típico|Temperatura Muito...|Queimadura ou Esc...|Perna (Entre O To...|  Não|  T24.4|Corros Quadr Memb...| 784205|Alimentador de Li...|  1011.0|Abate de Reses Ex...|               NaN|\n",
            "| 28/02/2022|        NaN|        2022/02|    01/03/2022|Masculino|22/05/1993|       Pernambuco|       Pará|261110|           Petrolina|         Empregado|       Pa|         Empregador|      Trajeto|Piso de Veiculo  ...|             Fratura|Perna (Do Tornoze...|  Não|  S82.3|Frat da Extremida...| 521135|           Frentista|  4731.0|Comercio Varejist...|24.574.403.000.102|\n",
            "| 18/01/2022|        NaN|        2022/01|    01/03/2022| Feminino|13/05/1982|        São Paulo|   Maranhão|354780|      Santo André Sp|         Empregado|       Pa|         Empregador|       Doença|                 NaN|Doenca Contagiosa...|Aparelho Respirat...|  Não|  B34.2|Infecc p/Coronavi...| 223505|          Enfermeiro|  8630.0|Atividades de Ate...|57.571.275.002.570|\n",
            "| 01/03/2022|        NaN|        2022/03|    01/03/2022| Feminino|09/11/1977|           Paraná|    Roraima|410690|            Curitiba|         Empregado|       Pa|             Médico|       Típico|Frasco Garrafa   ...|Contusao Esmagame...|Membros Inferiore...|  Não|  S90.8|Outr Traum Superf...| 322205|  Tec. de Enfermagem|  8411.0|Administracao Pub...|76.417.005.000.429|\n",
            "| 23/02/2022|        NaN|        2022/02|    01/03/2022|Masculino|06/12/1998|            Ceará|        NaN|230765|           Maracanaú|         Empregado|       Pa|         Empregador|       Típico|Piso de Andaime e...|    Distensao Torcao|Articulacao do To...|  Não|  S90.3|Contusao de Outr ...| 752305|           Ceramista|  2342.0|Fabricacao de Pro...|               NaN|\n",
            "| 27/02/2022|        NaN|        2022/02|    01/03/2022| Feminino|29/12/1980|           Paraná|    Roraima|410690|            Curitiba|         Empregado|       Pa|         Empregador|       Típico|Produto Biologico...|   Outras Lesoes Nic|Face Partes Multi...|  Não|  Z57.9|Exposicao Ocupaci...| 322205|  Tec. de Enfermagem|  8610.0|Atividades de Ate...|               NaN|\n",
            "| 28/01/2022|        NaN|        2022/01|    01/03/2022|Masculino|21/03/1990|   Santa Catarina|        NaN|421500|        Rio Negrinho|         Empregado|       Pa|         Empregador|       Típico|Passarela ou Plat...|             Fratura|Dorso (Inclusive ...|  Não|  S12.2|Frat de Outr Vert...| 951105|Eletricista de Ma...|  1610.0|Desdobramento de ...|               NaN|\n",
            "| 24/02/2022|        NaN|        2022/02|    01/03/2022|Masculino|03/02/1999|           Paraná|    Roraima|410690|            Curitiba|         Empregado|       Pa|         Empregador|       Típico|Esmeril  Ferramen...|Corte Laceracao F...|Antebraco (Entre ...|  Não|  S52.8|Frat de Outr Part...| 722215|Oper. Acabamento ...|  2941.0|Fabricacao de Pec...|               NaN|\n",
            "| 26/02/2022|        NaN|        2022/02|    01/03/2022|Masculino|03/07/1996|           Paraná|    Roraima|410690|            Curitiba|         Empregado|       Pa|         Empregador|       Típico|Caixa Engradado C...|             Luxacao|Pe (Exceto Artelhos)|  Não|  S90.9|Traum Superf do T...| 314715|Tec. de Fundição ...|  2941.0|Fabricacao de Pec...|               NaN|\n",
            "| 20/01/2022|        NaN|        2022/01|    01/03/2022| Feminino|16/02/1965|        São Paulo|   Maranhão|354780|      Santo André Sp|         Empregado|       Pa|         Empregador|       Doença|                 NaN|Doenca Contagiosa...|Aparelho Respirat...|  Não|  B34.2|Infecc p/Coronavi...|    NaN|                 NaN|  8630.0|Atividades de Ate...|57.571.275.002.570|\n",
            "| 26/02/2022|        NaN|        2022/02|    01/03/2022|Masculino|24/08/1992|        São Paulo|   Maranhão|350750|            Botucatu|         Empregado|       Pa|         Empregador|       Típico|Atrito ou Abrasao...|      Lesao Imediata|                Dedo|  Não|  S61.1|Ferim de Dedos c/...| 784205|Alimentador de Li...|  7820.0|Locacao de Mao De...|               NaN|\n",
            "| 27/02/2022|        NaN|        2022/02|    01/03/2022|Masculino|26/01/1963|        São Paulo|   Maranhão|354580|Santa Bárbara D'O...|         Empregado|       Pa|         Empregador|       Típico|Talha   Equip. de...|Choque Eletrico e...|Braco (Entre O Pu...|  Não|  T75.4|Efeitos da Corren...| 722205|  Fundidor de Metais|  2451.0|Fundicao de Ferro...|               NaN|\n",
            "| 25/02/2022|        NaN|        2022/02|    01/03/2022| Feminino|31/12/1993|Rio Grande do Sul|        NaN|431720|          Santa Rosa|         Empregado|       Pa|         Empregador|       Típico|Rampa   Superfici...|    Distensao Torcao|Articulacao do To...|  Não|  T14.0|Traum Superf de R...| 411010|Assistente Admini...|  4711.0|Comercio Varejist...|               NaN|\n",
            "| 24/01/2022|        NaN|        2022/01|    01/03/2022|Masculino|07/06/1976|              NaN|        NaN|   NaN|                 NaN|Trabalhador Avulso|       Pa|                NaN|       Típico|Passarela ou Plat...|             Luxacao|Articulacao do To...|  Não|  S93.4|Entorse e Distens...|    NaN|                 NaN|  9412.0|Atividades de Org...|               NaN|\n",
            "| 25/02/2022|        NaN|        2022/02|    01/03/2022|Masculino|05/08/2002|        São Paulo|   Maranhão|355030|           São Paulo|         Empregado|       Pa|         Empregador|       Típico|Piso de Veiculo  ...|Contusao Esmagame...|            Cotovelo|  Não|  S50.0|Contusao do Cotovelo| 783225|Ajudante de Motor...|  5212.0|    Carga e Descarga|               NaN|\n",
            "| 24/02/2022|        NaN|        2022/02|    01/03/2022|Masculino|10/03/1980|            Bahia|        NaN|291840|            Juazeiro|         Empregado|       Pa|         Empregador|       Típico|Chao   Superficie...|  Lesao Imediata Nic|Partes Multiplas ...|  Não|  S40.0|Contusao do Ombro...| 717020|   Servente de Obras|  1071.0|Fabricacao de Acu...|               NaN|\n",
            "+-----------+-----------+---------------+--------------+---------+----------+-----------------+-----------+------+--------------------+------------------+---------+-------------------+-------------+--------------------+--------------------+--------------------+-----+-------+--------------------+-------+--------------------+--------+--------------------+------------------+\n",
            "only showing top 20 rows\n",
            "\n"
          ]
        }
      ]
    },
    {
      "cell_type": "code",
      "source": [
        "#Removendo linhas duplicadas no df4_spark\n",
        "df4_spark.dropDuplicates()\n",
        "total_linhas = df4_spark.count()\n",
        "total_linhas_distintas = df4_spark.distinct().count()\n",
        "\n",
        "print(f'O total de linhas excluídas foi de: {total_linhas - total_linhas_distintas}')"
      ],
      "metadata": {
        "colab": {
          "base_uri": "https://localhost:8080/"
        },
        "id": "KFzEHWoOHCtV",
        "outputId": "79235430-6f1f-40f5-e811-005221ff2426"
      },
      "execution_count": null,
      "outputs": [
        {
          "output_type": "stream",
          "name": "stdout",
          "text": [
            "O total de linhas excluídas foi de: 89567\n"
          ]
        }
      ]
    },
    {
      "cell_type": "code",
      "source": [
        "#Salvando em formato csv\n",
        "df4_spark.write.format('csv').save('df4_spark_tratado')"
      ],
      "metadata": {
        "id": "5q8jsloQH8b8"
      },
      "execution_count": null,
      "outputs": []
    },
    {
      "cell_type": "markdown",
      "source": [
        "##Window Functions"
      ],
      "metadata": {
        "id": "bu4Ppu1YJHRj"
      }
    },
    {
      "cell_type": "code",
      "source": [
        "#Criando um ranking\n",
        "drank = Window.partitionBy(F.col('uf_acidente')).orderBy(F.col('sexo').desc())\n",
        "df4_spark_ran = df4_spark.withColumn('rank', F.dense_rank().over(drank)).show(10)\n",
        "\n",
        "\n",
        "#Mostrando porcentagem\n",
        "porcentagem = Window.partitionBy(F.col('tipo_acidente')).orderBy(F.col('agt_causador').desc())\n",
        "df4_spark_por = df4_spark.withColumn('%', F.percent_rank().over(porcentagem)).show(10)"
      ],
      "metadata": {
        "colab": {
          "base_uri": "https://localhost:8080/"
        },
        "id": "Iu06KXFBJEHF",
        "outputId": "42762874-c009-4bb8-8e2c-f61e7cfe4a4e"
      },
      "execution_count": null,
      "outputs": [
        {
          "output_type": "stream",
          "name": "stdout",
          "text": [
            "+-----------+-----------+---------------+--------------+----+----------+-------------+-----------+------+---------+-----------------+---------+----------+-------------+--------------------+--------------------+--------------------+-----+-------+--------------------+-------+--------------------+--------+--------------------+----+----+\n",
            "|dt_acidente|dt_despacho|mes_afastamento|dt_emissao_cat|sexo|   dt_nasc|uf_empregador|uf_acidente|cod_uf|municipio|contrato_trabalho|beneficio|       cat|tipo_acidente|        agt_causador|               lesao|         local_lesao|obito|cid_cod|            cid_desc|cbo_cod|            cbo_desc|cnae_cod|           cnae_desc|cnpj|rank|\n",
            "+-----------+-----------+---------------+--------------+----+----------+-------------+-----------+------+---------+-----------------+---------+----------+-------------+--------------------+--------------------+--------------------+-----+-------+--------------------+-------+--------------------+--------+--------------------+----+----+\n",
            "| 29/03/2022|        NaN|        2022/03|    31/03/2022| NaN|08/03/1991|         Pará|       Acre|150420|   Marabá|        Empregado|       Pa|Empregador|       Típico|Queda de Pes. com...|             Luxacao|          Cabeca Nic|  Não|  S03.3|Luxacao de Outr P...|    NaN|                 NaN|  8690.0|Atividades de Ate...| NaN|   1|\n",
            "| 09/06/2022|        NaN|        2022/06|    13/06/2022| NaN|09/08/1989|         Pará|       Acre|150140| Belém Pa|        Empregado|       Pa|Empregador|       Típico|Impacto Sofrido p...|      Lesao Imediata|Pe (Exceto Artelhos)|  Não|  S90.0|Contusao do Torno...| 410105|Superv. Administr...|  4711.0|Comercio Varejist...| NaN|   1|\n",
            "| 24/06/2022|        NaN|        2022/06|    25/06/2022| NaN|19/05/1986|         Pará|       Acre|150140| Belém Pa|        Empregado|       Pa|Empregador|       Típico|Veiculo Rodoviari...|Contusao Esmagame...|Membros Inferiore...|  Não|  S80.0|  Contusao do Joelho| 521135|           Frentista|  4732.0|Comercio Varejist...| NaN|   1|\n",
            "| 11/06/2022|        NaN|        2022/06|    30/06/2022| NaN|       NaN|         Pará|       Acre|150442| Marituba|        Empregado|       Pa|Empregador|       Típico|Agente do Acident...|   Outras Lesoes Nic|Mao (Exceto Punho...|  Não|  Z09.9|Exame Seguim Apos...| 322205|  Tec. de Enfermagem|  8610.0|Atividades de Ate...| NaN|   1|\n",
            "| 29/06/2022|        NaN|        2022/06|    30/06/2022| NaN|       NaN|         Pará|       Acre|150050| Almeirim|        Empregado|       Pa|Empregador|       Típico|Vegetal   Planta ...|             Luxacao|Mao (Exceto Punho...|  Não|  S63.0|    Luxacao do Punho| 632125|Trab. Extração Fl...|   230.0|Atividades de Apo...| NaN|   1|\n",
            "| 06/04/2022|        NaN|        2022/04|    30/06/2022| NaN|       NaN|         Pará|       Acre|150140| Belém Pa|        Empregado|       Pa|Empregador|      Trajeto|Calcada ou Caminh...|    Lesoes Multiplas|Partes Multiplas ...|  Não|  S20.0|    Contusao da Mama| 411010|Assistente Admini...|  4662.0|Comercio Atacadis...| NaN|   1|\n",
            "| 09/06/2022|        NaN|        2022/06|    13/06/2022| NaN|09/08/1989|         Pará|       Acre|150140| Belém Pa|        Empregado|       Pa|Empregador|       Típico|Impacto Sofrido p...|      Lesao Imediata|Pe (Exceto Artelhos)|  Não|  S90.0|Contusao do Torno...| 410105|Superv. Administr...|  4711.0|Comercio Varejist...| NaN|   1|\n",
            "| 24/06/2022|        NaN|        2022/06|    25/06/2022| NaN|19/05/1986|         Pará|       Acre|150140| Belém Pa|        Empregado|       Pa|Empregador|       Típico|Veiculo Rodoviari...|Contusao Esmagame...|Membros Inferiore...|  Não|  S80.0|  Contusao do Joelho| 521135|           Frentista|  4732.0|Comercio Varejist...| NaN|   1|\n",
            "| 11/06/2022|        NaN|        2022/06|    30/06/2022| NaN|       NaN|         Pará|       Acre|150442| Marituba|        Empregado|       Pa|Empregador|       Típico|Agente do Acident...|   Outras Lesoes Nic|Mao (Exceto Punho...|  Não|  Z09.9|Exame Seguim Apos...| 322205|  Tec. de Enfermagem|  8610.0|Atividades de Ate...| NaN|   1|\n",
            "| 29/06/2022|        NaN|        2022/06|    30/06/2022| NaN|       NaN|         Pará|       Acre|150050| Almeirim|        Empregado|       Pa|Empregador|       Típico|Vegetal   Planta ...|             Luxacao|Mao (Exceto Punho...|  Não|  S63.0|    Luxacao do Punho| 632125|Trab. Extração Fl...|   230.0|Atividades de Apo...| NaN|   1|\n",
            "+-----------+-----------+---------------+--------------+----+----------+-------------+-----------+------+---------+-----------------+---------+----------+-------------+--------------------+--------------------+--------------------+-----+-------+--------------------+-------+--------------------+--------+--------------------+----+----+\n",
            "only showing top 10 rows\n",
            "\n",
            "+-----------+-----------+---------------+--------------+---------+----------+----------------+-----------+------+------------+-----------------+---------+-------------------+-------------+--------------------+--------------------+--------------------+-----+-------+--------------------+-------+--------------------+--------+--------------------+------------------+--------------------+\n",
            "|dt_acidente|dt_despacho|mes_afastamento|dt_emissao_cat|     sexo|   dt_nasc|   uf_empregador|uf_acidente|cod_uf|   municipio|contrato_trabalho|beneficio|                cat|tipo_acidente|        agt_causador|               lesao|         local_lesao|obito|cid_cod|            cid_desc|cbo_cod|            cbo_desc|cnae_cod|           cnae_desc|              cnpj|                   %|\n",
            "+-----------+-----------+---------------+--------------+---------+----------+----------------+-----------+------+------------+-----------------+---------+-------------------+-------------+--------------------+--------------------+--------------------+-----+-------+--------------------+-------+--------------------+--------+--------------------+------------------+--------------------+\n",
            "| 13/06/2022|        NaN|        2022/06|    14/06/2022|Masculino|27/02/1989|  Santa Catarina|        NaN|421320|    Pomerode|        Empregado|       Pa|         Empregador|       Doença|Vidraria Fibra de...|Corte Laceracao F...|                Dedo|  Não|  S61.0|Ferim de Dedos s/...| 752230|Lapidador de Vidr...|  2319.0|Fabricacao de Art...|               NaN|                 0.0|\n",
            "| 13/06/2022|        NaN|        2022/06|    14/06/2022|Masculino|27/02/1989|  Santa Catarina|        NaN|421320|    Pomerode|        Empregado|       Pa|         Empregador|       Doença|Vidraria Fibra de...|Corte Laceracao F...|                Dedo|  Não|  S61.0|Ferim de Dedos s/...| 752230|Lapidador de Vidr...|  2319.0|Fabricacao de Art...|               NaN|                 0.0|\n",
            "| 04/10/2022|        NaN|        2022/10|    04/10/2022|Masculino|09/01/1991|Distrito Federal|      Ceará|530010|    Brasília|        Empregado|       Pa|         Empregador|       Doença|Vidraria Fibra de...|Corte Laceracao F...|Membros Inferiore...|  Não|    NaN|                 NaN| 324205|324205 Tec. em Pa...|  8660.0|Atividades de Apo...|               NaN|                 0.0|\n",
            "| 20/01/2022|        NaN|        2022/01|    16/03/2022|Masculino|11/01/1985|           Bahia|        NaN|292740|    Salvador|        Empregado|       Pa| Autoridade Pública|       Doença|Vibracao Exposicao A|    Lesoes Multiplas|Sistema Musculo E...|  Não|  M50.1|Transt do Disco C...| 782405|Motorista de ônib...|  4922.0|Transporte Rodovi...|08.374.919.000.157|3.878474466709760...|\n",
            "| 12/03/2022|        NaN|        2022/03|    21/03/2022|Masculino|27/08/1983|           Bahia|        NaN|293070|Simões Filho|        Empregado|       Pa| Autoridade Pública|       Doença|Vibracao Exposicao A|Hernia de Qualque...|Sistema Musculo E...|  Não|  M51.1|Transt Disco Lomb...| 782220|Oper. de Empilhad...|  4646.0|Comercio Atacadis...|56.991.441.000.408|3.878474466709760...|\n",
            "| 11/01/2022|        NaN|        2022/01|    07/06/2022|Masculino|25/08/1969|           Bahia|        NaN|292740|    Salvador|        Empregado|       Pa| Autoridade Pública|       Doença|Vibracao Exposicao A|Hernia de Qualque...|Sistema Musculo E...|  Não|  M54.1|       Radiculopatia| 517330|           Vigilante|  8012.0|Atividades de Tra...|11.179.264.000.251|3.878474466709760...|\n",
            "| 11/01/2022|        NaN|        2022/01|    07/06/2022|Masculino|25/08/1969|           Bahia|        NaN|292740|    Salvador|        Empregado|       Pa| Autoridade Pública|       Doença|Vibracao Exposicao A|Hernia de Qualque...|Sistema Musculo E...|  Não|  M54.1|       Radiculopatia| 517330|           Vigilante|  8012.0|Atividades de Tra...|11.179.264.000.251|3.878474466709760...|\n",
            "| 17/02/2022|        NaN|        2022/02|    14/03/2022|Masculino|26/09/1977|       São Paulo|   Maranhão|355030|   São Paulo|        Empregado|       Pa|Segurado/Dependente|       Doença|Veiculo Sobre Trilho|          Doenca Nic|Sistemas e Aparel...|  Não|  R45.5|         Hostilidade| 782615|Maquinista de Tre...|  4912.0|Transporte Metrof...|71.832.679.000.123|9.049773755656109E-4|\n",
            "| 09/03/2022|        NaN|        2022/03|    15/03/2022| Feminino|02/01/2003|       São Paulo|   Maranhão|355030|   São Paulo|        Empregado|       Pa|         Empregador|       Doença|Veiculo Sobre Trilho|Contusao Esmagame...|                Coxa|  Não|  M79.6|       Dor em Membro| 411005|Auxiliar de Escri...|  8610.0|Atividades de Ate...|               NaN|9.049773755656109E-4|\n",
            "| 13/03/2022|        NaN|        2022/03|    17/03/2022|Masculino|01/07/1972|      Pernambuco|       Pará|261160|      Recife|        Empregado|       Pa|         Empregador|       Doença|Veiculo Sobre Trilho|          Doenca Nic|          Cabeca Nic|  Não|  Z56.6|Outr Dific Fisica...| 782615|Maquinista de Tre...|  4912.0|Transporte Metrof...|               NaN|9.049773755656109E-4|\n",
            "+-----------+-----------+---------------+--------------+---------+----------+----------------+-----------+------+------------+-----------------+---------+-------------------+-------------+--------------------+--------------------+--------------------+-----+-------+--------------------+-------+--------------------+--------+--------------------+------------------+--------------------+\n",
            "only showing top 10 rows\n",
            "\n"
          ]
        }
      ]
    },
    {
      "cell_type": "markdown",
      "source": [
        "##Funções, groupby e filtros"
      ],
      "metadata": {
        "id": "hJ2RHJ69JiqD"
      }
    },
    {
      "cell_type": "code",
      "source": [
        "#Busca pelo agente causador com a palavra 'Motocicleta'\n",
        "df5_spark = df4_spark.filter(F.col('agt_causador').contains('Motocicleta')).show(truncate=False)\n",
        "\n",
        "#Verifica quais as lesões que aparecem no dataframe\n",
        "df6_spark = df4_spark.select('lesao').distinct().show(truncate=False)\n",
        "\n",
        "#Retornar Somente a Data do acidente, sexo, municipio, lesao e local_lesao\n",
        "df7_spark = df4_spark.select(F.col('dt_acidente'), F.col('sexo'), F.col('municipio'), F.col('lesao'), F.col('local_lesao'), F.col('agt_causador')).show(truncate=False)\n",
        "\n",
        "#Retornar a quantidade de pessoas da coluna sexo\n",
        "df8_spark = df4_spark.groupBy('sexo').count().show()\n",
        "\n",
        "#Ordenar a coluna data nascimento como por ordem ascendente\n",
        "df9_spark = df4_spark.sort(F.col('dt_nasc').asc()).show(truncate=False)"
      ],
      "metadata": {
        "id": "rRrnKIbbpmjl",
        "colab": {
          "base_uri": "https://localhost:8080/"
        },
        "outputId": "e06602e0-c1d7-40b4-a692-60ef37c68482"
      },
      "execution_count": null,
      "outputs": [
        {
          "output_type": "stream",
          "name": "stdout",
          "text": [
            "+-----------+-----------+---------------+--------------+---------+----------+-----------------+----------------+------+-----------------------+-----------------+---------+-------------------+-------------+--------------------+------------------------------------------+---------------------------------------------+-----+-------+---------------------------------------+-------+--------------------------------------+--------+---------------------------------------------+------------------+\n",
            "|dt_acidente|dt_despacho|mes_afastamento|dt_emissao_cat|sexo     |dt_nasc   |uf_empregador    |uf_acidente     |cod_uf|municipio              |contrato_trabalho|beneficio|cat                |tipo_acidente|agt_causador        |lesao                                     |local_lesao                                  |obito|cid_cod|cid_desc                               |cbo_cod|cbo_desc                              |cnae_cod|cnae_desc                                    |cnpj              |\n",
            "+-----------+-----------+---------------+--------------+---------+----------+-----------------+----------------+------+-----------------------+-----------------+---------+-------------------+-------------+--------------------+------------------------------------------+---------------------------------------------+-----+-------+---------------------------------------+-------+--------------------------------------+--------+---------------------------------------------+------------------+\n",
            "|25/02/2022 |NaN        |2022/02        |01/03/2022    |Masculino|16/12/1990|São Paulo        |Maranhão        |355030|São Paulo              |Empregado        |Pa       |Segurado/Dependente|Trajeto      |Motocicleta Motoneta|Fratura                                   |Braco (Entre O Punho a O Ombro)              |Não  |S52.5  |Frat da Extremidade Distal do Radio    |519110 |Motociclista no Transporte de Document|4930.0  |Transporte Rodoviario de Carga               |19.578.086.000.162|\n",
            "|22/02/2022 |NaN        |2022/02        |01/03/2022    |Masculino|24/08/1999|Santa Catarina   |NaN             |421660|São José               |Empregado        |Pa       |Empregador         |Trajeto      |Motocicleta Motoneta|Corte Laceracao Ferida Contusa Punctura   |Mao (Exceto Punho ou Dedos)                  |Não  |S61.0  |Ferim de Dedos s/Lesao da Unha         |414110 |Armazenista                           |4744.0  |Comercio Varejista de Ferragens Madeira e Ma |NaN               |\n",
            "|23/02/2022 |NaN        |2022/02        |01/03/2022    |Masculino|04/10/1995|São Paulo        |Maranhão        |350210|Andradina              |Empregado        |Pa       |Empregador         |Trajeto      |Motocicleta Motoneta|Escoriacao Abrasao (Ferimento Superficial)|Membros Superiores Partes Multiplas (Qualque |Não  |S61.0  |Ferim de Dedos s/Lesao da Unha         |848525 |Retalhador de Carne                   |1013.0  |Fabricacao de Produtos de Carne              |NaN               |\n",
            "|16/02/2022 |NaN        |2022/02        |01/03/2022    |Feminino |25/11/2003|Paraná           |Roraima         |410840|Francisco Beltrão      |Empregado        |Pa       |Empregador         |Trajeto      |Motocicleta Motoneta|Contusao Esmagamento (Superficie Cutanea I|Face Partes Multiplas (Qualquer Combinacao D |Não  |NaN    |NaN                                    |724510 |Oper. de Máquina de Dobrar Chapas     |4679.0  |Comercio Atacadista Especializado de Materiai|NaN               |\n",
            "|28/02/2022 |NaN        |2022/02        |01/03/2022    |Masculino|07/10/1992|Santa Catarina   |NaN             |420750|Indaial                |Empregado        |Pa       |Empregador         |Trajeto      |Motocicleta Motoneta|Escoriacao Abrasao (Ferimento Superficial)|Membros Inferiores Partes Multiplas (Qualque |Não  |T01.1  |Ferim Envolv Torax Abd Part Inf Dorso P|784205 |Alimentador de Linha de Prod.         |4687.0  |Comercio Atacadista de Residuos e Sucatas    |NaN               |\n",
            "|20/02/2022 |NaN        |2022/02        |01/03/2022    |Masculino|17/07/2002|Pernambuco       |Pará            |260410|Caruaru                |Empregado        |Pa       |Empregador         |Trajeto      |Motocicleta Motoneta|Escoriacao Abrasao (Ferimento Superficial)|Perna (Do Tornozelo Exclusive ao Joelho Ex   |Não  |L08.8  |Outr Infecc Local Espec Pele Tec Subcut|521125 |Repositor de Mercadorias              |4744.0  |Comercio Varejista de Ferragens Madeira e Ma |NaN               |\n",
            "|23/02/2022 |NaN        |2022/02        |01/03/2022    |Masculino|02/01/1985|São Paulo        |Maranhão        |354640|Santa Cruz do Rio Pardo|Empregado        |Pa       |Empregador         |Trajeto      |Motocicleta Motoneta|Fratura                                   |Braco (Entre O Punho a O Ombro)              |Não  |S52.2  |Frat da Diafise do Cubito              |521135 |Frentista                             |4731.0  |Comercio Varejista de Combustiveis para Veicu|NaN               |\n",
            "|13/02/2022 |NaN        |2022/02        |01/03/2022    |Masculino|15/12/1994|Pernambuco       |Pará            |260410|Caruaru                |Empregado        |Pa       |Empregador         |Trajeto      |Motocicleta Motoneta|Corte Laceracao Ferida Contusa Punctura   |Articulacao do Tornozelo                     |Não  |S90.7  |Traum Superf Mult do Tornozelo e do Pe |521125 |Repositor de Mercadorias              |4744.0  |Comercio Varejista de Ferragens Madeira e Ma |NaN               |\n",
            "|16/02/2022 |NaN        |2022/02        |01/03/2022    |Masculino|08/10/1985|Acre             |Rio Grande Norte|120040|Rio Branco Ac          |Empregado        |Pa       |Empregador         |Trajeto      |Motocicleta Motoneta|Escoriacao Abrasao (Ferimento Superficial)|Pe (Exceto Artelhos)                         |Não  |NaN    |NaN                                    |848510 |Açougueiro                            |4711.0  |Comercio Varejista de Mercadorias em Geral c |NaN               |\n",
            "|16/02/2022 |NaN        |2022/02        |01/03/2022    |Masculino|08/06/1983|São Paulo        |Maranhão        |354340|Ribeirão Preto         |Empregado        |Pa       |Empregador         |Trajeto      |Motocicleta Motoneta|Contusao Esmagamento (Superficie Cutanea I|Antebraco (Entre O Punho e O Cotovelo)       |Não  |S80.0  |Contusao do Joelho                     |142705 |Ger. Projetos e Serv. de Manut.       |1099.0  |Fabricacao de Produtos Alimenticios nao Espec|NaN               |\n",
            "|11/02/2022 |NaN        |2022/02        |01/03/2022    |Masculino|23/10/2000|São Paulo        |Maranhão        |354780|Santo André Sp         |Empregado        |Pa       |Segurado/Dependente|Típico       |Motocicleta Motoneta|Amputacao ou Enucleacao                   |Dedo                                         |Não  |Y81.3  |Instrumentos Materiais Aparelhos Cirurg|517330 |Vigilante                             |8011.0  |Atividades de Vigilancia e Seguranca Privada |23.722.195.000.189|\n",
            "|18/02/2022 |NaN        |2022/02        |01/03/2022    |Masculino|16/01/1997|Rio Grande do Sul|NaN             |430480|Carlos Barbosa         |Empregado        |Pa       |Empregador         |Trajeto      |Motocicleta Motoneta|Corte Laceracao Ferida Contusa Punctura   |Boca (Inclusive Labios Dentes Lingua Garga   |Não  |M79.6  |Dor em Membro                          |784105 |Embalador a Mão                       |2541.0  |Fabricacao de Artigos de Cutelaria           |NaN               |\n",
            "|12/02/2022 |NaN        |2022/02        |01/03/2022    |Masculino|21/10/1988|Pernambuco       |Pará            |260005|Abreu e Lima           |Empregado        |Pa       |Empregador         |Trajeto      |Motocicleta Motoneta|Fratura                                   |Braco (Entre O Punho a O Ombro)              |Não  |S52.1  |Frat da Extremidade Super do Radio     |782410 |Motorista de ônibus Urbano            |4921.0  |Transporte Rodoviario Coletivo de Passageiros|NaN               |\n",
            "|15/01/2022 |NaN        |2022/01        |01/03/2022    |Feminino |04/09/1998|Mato Grosso      |NaN             |510787|Sapezal                |Empregado        |Pa       |Empregador         |Trajeto      |Motocicleta Motoneta|Escoriacao Abrasao (Ferimento Superficial)|Partes Multiplas   Aplica Se Quando Mais de U|Não  |V29.9  |Motociclista Acid Trans Ne             |513205 |Cozinheiro Geral                      |115.0   |Cultivo de Soja                              |NaN               |\n",
            "|26/02/2022 |NaN        |2022/02        |01/03/2022    |Feminino |20/07/1977|Minas Gerais     |Rondônia        |317120|Vespasiano             |Empregado        |Pa       |Empregador         |Trajeto      |Motocicleta Motoneta|Lesoes Multiplas                          |Face Partes Multiplas (Qualquer Combinacao D |Não  |NaN    |NaN                                    |516505 |Agente Funerário                      |9603.0  |Atividades Funerarias e Servicos Relacionados|27.630.446.016.826|\n",
            "|01/02/2022 |NaN        |2022/02        |01/03/2022    |Feminino |28/06/1997|Minas Gerais     |Rondônia        |317020|Uberlândia             |Empregado        |Pa       |Empregador         |Trajeto      |Motocicleta Motoneta|Fratura                                   |Braco (Entre O Punho a O Ombro)              |Não  |S52.5  |Frat da Extremidade Distal do Radio    |311105 |Tec. Químico                          |7120.0  |Testes e Analises Tecnicas                   |NaN               |\n",
            "|26/02/2022 |NaN        |2022/02        |01/03/2022    |Masculino|27/04/2002|São Paulo        |Maranhão        |351340|Cruzeiro               |Empregado        |Pa       |Empregador         |Trajeto      |Motocicleta Motoneta|Lesao Imediata                            |Olho (Inclusive Nervo Otico e Visao)         |Não  |H04.2  |Epifora                                |784205 |Alimentador de Linha de Prod.         |2949.0  |Fabricacao de Pecas e Acessorios para Veiculo|NaN               |\n",
            "|19/01/2022 |NaN        |2022/01        |01/03/2022    |Masculino|13/07/1994|São Paulo        |Maranhão        |355240|Sumaré                 |Empregado        |Pa       |Empregador         |Trajeto      |Motocicleta Motoneta|Contusao Esmagamento (Superficie Cutanea I|Punho                                        |Não  |S60.2  |Contusao de Outr Partes do Punho e da M|722235 |Preparador de Panelas (Lingotamento)  |2423.0  |Producao de Laminados Longos de Aco          |NaN               |\n",
            "|26/02/2022 |NaN        |2022/02        |01/03/2022    |Masculino|30/01/2000|Pernambuco       |Pará            |261160|Recife                 |Empregado        |Pa       |Empregador         |Trajeto      |Motocicleta Motoneta|Escoriacao Abrasao (Ferimento Superficial)|Membros Superiores Partes Multiplas (Qualque |Não  |M25.5  |Dor Articular                          |517330 |Vigilante                             |8011.0  |Atividades de Vigilancia e Seguranca Privada |NaN               |\n",
            "|22/02/2022 |NaN        |2022/02        |01/03/2022    |Masculino|13/12/1964|Santa Catarina   |NaN             |420240|Blumenau               |Empregado        |Pa       |Empregador         |Trajeto      |Motocicleta Motoneta|Lesao Imediata                            |Pe (Exceto Artelhos)                         |Não  |S99.7  |Traum Mult do Tornozelo e do Pe        |521125 |Repositor de Mercadorias              |4669.0  |Comercio Atacadista de Maquinas Aparelhos e  |NaN               |\n",
            "+-----------+-----------+---------------+--------------+---------+----------+-----------------+----------------+------+-----------------------+-----------------+---------+-------------------+-------------+--------------------+------------------------------------------+---------------------------------------------+-----+-------+---------------------------------------+-------+--------------------------------------+--------+---------------------------------------------+------------------+\n",
            "only showing top 20 rows\n",
            "\n",
            "+-------------------------------------------+\n",
            "|lesao                                      |\n",
            "+-------------------------------------------+\n",
            "|Perda ou Diminuicao de Sentido (Audicao Vi |\n",
            "|Queimadura Quimica (Lesao de Tecido Provoca|\n",
            "|Congelamento Geladura e Outros Efeitos Da  |\n",
            "|Perda ou Diminuicao Mediatas de Sentido (Au|\n",
            "|Amputacao ou Enucleacao                    |\n",
            "|Escoriacao Abrasao (Ferimento Superficial) |\n",
            "|Contusao Esmagamento (Superficie Cutanea I |\n",
            "|Envenenamento Sistemico   Condicao Morbida |\n",
            "|Concussao Cerebral                         |\n",
            "|Intermacao Insolacao Caibra Exaustao e O   |\n",
            "|Asfixia Estrangulamento Afogamento         |\n",
            "|Efeito de Radiacao (Mediato)   Queimadura D|\n",
            "|Efeito de Radiacao (Imediato)   Queimadura |\n",
            "|Pneumoconiose (Silicose Asbestose Etc.)    |\n",
            "|Outras Lesoes Nic                          |\n",
            "|Doenca Contagiosa ou Infecciosa (Tuberculos|\n",
            "|NaN                                        |\n",
            "|Distensao Torcao                           |\n",
            "|Corte Laceracao Ferida Contusa Punctura    |\n",
            "|Choque Eletrico e Eletroplessao (Eletrocuss|\n",
            "+-------------------------------------------+\n",
            "only showing top 20 rows\n",
            "\n",
            "+-----------+---------+---------------------+-------------------------------------------+---------------------------------------------+---------------------------------------------+\n",
            "|dt_acidente|sexo     |municipio            |lesao                                      |local_lesao                                  |agt_causador                                 |\n",
            "+-----------+---------+---------------------+-------------------------------------------+---------------------------------------------+---------------------------------------------+\n",
            "|20/01/2022 |Feminino |Santo André Sp       |Doenca Contagiosa ou Infecciosa (Tuberculos|Aparelho Respiratorio                        |NaN                                          |\n",
            "|25/02/2022 |Masculino|São Paulo            |Fratura                                    |Braco (Entre O Punho a O Ombro)              |Motocicleta Motoneta                         |\n",
            "|24/02/2022 |Masculino|Anápolis             |Luxacao                                    |Punho                                        |Aprision. Em Sobre ou Entre Dois ou Mai      |\n",
            "|28/01/2022 |Masculino|Campos dos Goytacazes|Luxacao                                    |Perna (Entre O Tornozelo e a Pelvis)         |Impacto de Pes. Contra Objeto em Movimento   |\n",
            "|25/02/2022 |Masculino|Vitória da Conquista |Queimadura ou Escaldadura   Efeito de Tempe|Perna (Entre O Tornozelo e a Pelvis)         |Temperatura Muito Alta Contato com Objeto Ou |\n",
            "|28/02/2022 |Masculino|Petrolina            |Fratura                                    |Perna (Do Tornozelo Exclusive ao Joelho Ex   |Piso de Veiculo   Superficie Utilizada para S|\n",
            "|18/01/2022 |Feminino |Santo André Sp       |Doenca Contagiosa ou Infecciosa (Tuberculos|Aparelho Respiratorio                        |NaN                                          |\n",
            "|01/03/2022 |Feminino |Curitiba             |Contusao Esmagamento (Superficie Cutanea I |Membros Inferiores Partes Multiplas (Qualque |Frasco Garrafa   Embalagem Recipiente Vazi   |\n",
            "|23/02/2022 |Masculino|Maracanaú            |Distensao Torcao                           |Articulacao do Tornozelo                     |Piso de Andaime e Plataforma Desmontavel   Su|\n",
            "|27/02/2022 |Feminino |Curitiba             |Outras Lesoes Nic                          |Face Partes Multiplas (Qualquer Combinacao D |Produto Biologico (Soro Toxina Antitoxina    |\n",
            "|28/01/2022 |Masculino|Rio Negrinho         |Fratura                                    |Dorso (Inclusive Musculos Dorsais Coluna e M |Passarela ou Plataforma Permanentes   Superfi|\n",
            "|24/02/2022 |Masculino|Curitiba             |Corte Laceracao Ferida Contusa Punctura    |Antebraco (Entre O Punho e O Cotovelo)       |Esmeril  Ferramenta Portatil com Forca Motriz|\n",
            "|26/02/2022 |Masculino|Curitiba             |Luxacao                                    |Pe (Exceto Artelhos)                         |Caixa Engradado Caixote   Embalagem Recipi   |\n",
            "|20/01/2022 |Feminino |Santo André Sp       |Doenca Contagiosa ou Infecciosa (Tuberculos|Aparelho Respiratorio                        |NaN                                          |\n",
            "|26/02/2022 |Masculino|Botucatu             |Lesao Imediata                             |Dedo                                         |Atrito ou Abrasao por Manusear Objeto        |\n",
            "|27/02/2022 |Masculino|Santa Bárbara D'Oeste|Choque Eletrico e Eletroplessao (Eletrocuss|Braco (Entre O Punho a O Ombro)              |Talha   Equip. de Guindar                    |\n",
            "|25/02/2022 |Feminino |Santa Rosa           |Distensao Torcao                           |Articulacao do Tornozelo                     |Rampa   Superficie Utilizada para Sustentar P|\n",
            "|24/01/2022 |Masculino|NaN                  |Luxacao                                    |Articulacao do Tornozelo                     |Passarela ou Plataforma Permanentes   Superfi|\n",
            "|25/02/2022 |Masculino|São Paulo            |Contusao Esmagamento (Superficie Cutanea I |Cotovelo                                     |Piso de Veiculo   Superficie Utilizada para S|\n",
            "|24/02/2022 |Masculino|Juazeiro             |Lesao Imediata Nic                         |Partes Multiplas   Aplica Se Quando Mais de U|Chao   Superficie Utilizada para Sustentar Pe|\n",
            "+-----------+---------+---------------------+-------------------------------------------+---------------------------------------------+---------------------------------------------+\n",
            "only showing top 20 rows\n",
            "\n",
            "+-------------+------+\n",
            "|         sexo| count|\n",
            "+-------------+------+\n",
            "|Indeterminado|     3|\n",
            "|     Feminino| 83634|\n",
            "|          NaN|   819|\n",
            "|    Masculino|161860|\n",
            "+-------------+------+\n",
            "\n",
            "+-----------+-----------+---------------+--------------+---------+----------+--------------+-----------+------+---------------------+-----------------+---------------------------------------+-------------------+-------------+---------------------------------------------+---------------------------------------+---------------------------------------------+-----+-------+---------------------------------------+-------+---------------------------------------------+--------+---------------------------------------------+------------------+\n",
            "|dt_acidente|dt_despacho|mes_afastamento|dt_emissao_cat|sexo     |dt_nasc   |uf_empregador |uf_acidente|cod_uf|municipio            |contrato_trabalho|beneficio                              |cat                |tipo_acidente|agt_causador                                 |lesao                                  |local_lesao                                  |obito|cid_cod|cid_desc                               |cbo_cod|cbo_desc                                     |cnae_cod|cnae_desc                                    |cnpj              |\n",
            "+-----------+-----------+---------------+--------------+---------+----------+--------------+-----------+------+---------------------+-----------------+---------------------------------------+-------------------+-------------+---------------------------------------------+---------------------------------------+---------------------------------------------+-----+-------+---------------------------------------+-------+---------------------------------------------+--------+---------------------------------------------+------------------+\n",
            "|21/06/2022 |NaN        |2022/06        |22/06/2022    |Masculino|01/01/1952|Paraná        |Roraima    |411990|Ponta Grossa         |Empregado        |Pa                                     |Empregador         |Típico       |Chao   Superficie Utilizada para Sustentar Pe|Corte Laceracao Ferida Contusa Punctura|Mao (Exceto Punho ou Dedos)                  |Não  |Z04.2  |Exame e Observacao Apos Acid de Trabalh|514225 |Trab. de Serv. de Manut. de Edifícios        |8411.0  |Administracao Publica em Geral               |76.175.884.000.187|\n",
            "|21/06/2022 |NaN        |2022/06        |22/06/2022    |Masculino|01/01/1952|Paraná        |Roraima    |411990|Ponta Grossa         |Empregado        |Pa                                     |Empregador         |Típico       |Chao   Superficie Utilizada para Sustentar Pe|Corte Laceracao Ferida Contusa Punctura|Mao (Exceto Punho ou Dedos)                  |Não  |Z04.2  |Exame e Observacao Apos Acid de Trabalh|514225 |Trab. de Serv. de Manut. de Edifícios        |8411.0  |Administracao Publica em Geral               |76.175.884.000.187|\n",
            "|21/02/2022 |NaN        |2022/02        |02/03/2022    |Feminino |01/01/1956|Paraná        |Roraima    |411990|Ponta Grossa         |Empregado        |Pa                                     |Empregador         |Típico       |Cadeira Banco   Mobiliario e Acessorios      |Lesao Imediata                         |Dorso (Inclusive Musculos Dorsais Coluna e M |Não  |M54.5  |Dor Lombar Baixa                       |411005 |Auxiliar de Escritório em Geral              |8411.0  |Administracao Publica em Geral               |76.175.884.000.187|\n",
            "|22/09/2022 |NaN        |2022/09        |18/10/2022    |Feminino |01/01/1956|São Paulo     |Maranhão   |NaN   |NaN                  |Empregado        |Pa                                     |Empregador         |Típico       |Veiculo Nic                                  |Fratura                                |Pe (Exceto Artelhos)                         |Não  |S92.3  |Frat de Ossos do Metatarso             |NaN    |NaN                                          |8610.0  |Atividades de Atendimento Hospitalar         |NaN               |\n",
            "|17/03/2022 |NaN        |2022/03        |22/03/2022    |Masculino|01/01/1957|NaN           |NaN        |NaN   |NaN                  |Empregado        |Pa                                     |Empregador         |Típico       |Animal Vivo                                  |Doenca Nic                             |Membros Superiores Partes Multiplas (Qualque |Não  |T78.2  |Choque Anafilatico Ne                  |710205 |Mestre (Construção Civil)                    |4211.0  |Construcao de Rodovias e Ferrovias           |NaN               |\n",
            "|24/05/2022 |NaN        |2022/05        |28/06/2022    |Feminino |01/01/1958|Bahia         |NaN        |290540|Cairu                |Empregado        |Pa                                     |Segurado/Dependente|Trajeto      |Rampa   Superficie Utilizada para Sustentar P|Fratura                                |Braco (Entre O Punho a O Ombro)              |Não  |S42.4  |Frat da Extremidade Infer do Umero     |NaN    |NaN                                          |8411.0  |Administracao Publica em Geral               |14.235.907.000.144|\n",
            "|24/05/2022 |NaN        |2022/05        |28/06/2022    |Feminino |01/01/1958|Bahia         |NaN        |290540|Cairu                |Empregado        |Pa                                     |Segurado/Dependente|Trajeto      |Rampa   Superficie Utilizada para Sustentar P|Fratura                                |Braco (Entre O Punho a O Ombro)              |Não  |S42.4  |Frat da Extremidade Infer do Umero     |NaN    |NaN                                          |8411.0  |Administracao Publica em Geral               |14.235.907.000.144|\n",
            "|01/10/2022 |NaN        |2022/10        |04/10/2022    |Masculino|01/01/1958|São Paulo     |Maranhão   |355385|Taquarivaí           |Empregado        |Pa                                     |Empregador         |Típico       |Queda de Pes. em Mesmo Nivel Sobre ou Contr  |Corte Laceracao Ferida Contusa Punctura|Cabeca Nic                                   |Não  |S01.1  |Ferim da Palpebra e da Regiao Periocula|782510 |782510 Motorista de Caminhão (Rotas Regionais|163.0   |Atividades de Pos Colheita                   |NaN               |\n",
            "|03/03/2022 |NaN        |2022/03        |22/03/2022    |Masculino|01/01/1959|Paraná        |Roraima    |412380|Santa Izabel do Oeste|Empregado        |Pa                                     |Empregador         |Típico       |Queda de Pes. em Mesmo Nivel Nic             |Fratura                                |Membros Inferiores Nic                       |Não  |S99.7  |Traum Mult do Tornozelo e do Pe        |414105 |Almoxarife                                   |4744.0  |Comercio Varejista de Ferragens Madeira e Ma |77.295.715.000.143|\n",
            "|07/06/2022 |NaN        |2022/06        |08/06/2022    |Feminino |01/01/1960|Rio de Janeiro|Tocantins  |330455|Rio de Janeiro       |Empregado        |Pa                                     |Empregador         |Trajeto      |Calcada ou Caminho para Pedestre   Superficie|Distensao Torcao                       |Partes Multiplas   Aplica Se Quando Mais de U|Não  |S90.0  |Contusao do Tornozelo                  |241010 |Advogado de Empresa                          |1921.0  |Fabricacao de Produtos do Refino de Petroleo |NaN               |\n",
            "|07/06/2022 |NaN        |2022/06        |08/06/2022    |Feminino |01/01/1960|Rio de Janeiro|Tocantins  |330455|Rio de Janeiro       |Empregado        |Pa                                     |Empregador         |Trajeto      |Calcada ou Caminho para Pedestre   Superficie|Distensao Torcao                       |Partes Multiplas   Aplica Se Quando Mais de U|Não  |S90.0  |Contusao do Tornozelo                  |241010 |Advogado de Empresa                          |1921.0  |Fabricacao de Produtos do Refino de Petroleo |NaN               |\n",
            "|05/03/2022 |NaN        |2022/03        |07/03/2022    |Masculino|01/01/1960|Paraná        |Roraima    |412710|Telêmaco Borba       |Empregado        |Pa                                     |Empregador         |Típico       |Veiculo Rodoviario Motorizado                |Outras Lesoes Nic                      |Localizacao da Lesao Nic                     |Não  |V89.0  |Acid Veic Mot Ne N Trans               |782510 |Motorista de Caminhão (Rotas Regionais       |4930.0  |Transporte Rodoviario de Carga               |NaN               |\n",
            "|10/02/2022 |NaN        |2022/02        |10/03/2022    |Masculino|01/01/1961|São Paulo     |Maranhão   |351840|Guaratinguetá        |Empregado        |Pa                                     |Empregador         |Típico       |Martelo Malho Marreta  Ferramenta Manual Se  |Corte Laceracao Ferida Contusa Punctura|Dedo                                         |Não  |S60.1  |Contusao de Dedos c/Lesao da Unha      |784205 |Alimentador de Linha de Prod.                |2599.0  |Fabricacao de Produtos de Metal nao Especific|NaN               |\n",
            "|09/03/2022 |NaN        |2022/03        |17/03/2022    |Masculino|01/01/1961|São Paulo     |Maranhão   |354870|São Bernardo do Campo|Empregado        |Pa                                     |Empregador         |Típico       |Veiculo Rodoviario Motorizado                |Lesoes Multiplas                       |Coxa                                         |Não  |V03.1  |Acid Trans                             |782510 |Motorista de Caminhão (Rotas Regionais       |3600.0  |Captacao Tratamento e Distribuicao de Agua   |NaN               |\n",
            "|01/06/2022 |NaN        |2022/06        |02/06/2022    |Masculino|01/01/1961|Santa Catarina|NaN        |420540|Florianópolis        |Empregado        |Pa                                     |Empregador         |Típico       |Aprision. Em Sobre ou Entre Objetos Em       |Lesao Imediata                         |Mao (Exceto Punho ou Dedos)                  |Não  |S62.2  |Frat do Primeiro Metacarpiano          |NaN    |NaN                                          |5611.0  |Restaurantes e Outros Estabelecimentos de Ser|NaN               |\n",
            "|03/01/2022 |2022/03    |2022/01        |NaN           |Masculino|01/01/1961|NaN           |NaN        |NaN   |NaN                  |NaN              |Auxílio Doenca por Acidente do Trabalho|NaN                |Ignorado     |NaN                                          |NaN                                    |NaN                                          |NaN  |S62.6  |Frat de Outr Dedos                     |NaN    |NaN                                          |NaN     |NaN                                          |NaN               |\n",
            "|01/06/2022 |NaN        |2022/06        |02/06/2022    |Masculino|01/01/1961|Santa Catarina|NaN        |420540|Florianópolis        |Empregado        |Pa                                     |Empregador         |Típico       |Aprision. Em Sobre ou Entre Objetos Em       |Lesao Imediata                         |Mao (Exceto Punho ou Dedos)                  |Não  |S62.2  |Frat do Primeiro Metacarpiano          |NaN    |NaN                                          |5611.0  |Restaurantes e Outros Estabelecimentos de Ser|NaN               |\n",
            "|16/03/2022 |NaN        |2022/03        |28/03/2022    |Feminino |01/01/1961|NaN           |NaN        |NaN   |NaN                  |NaN              |Pa                                     |NaN                |Típico       |Animal Vivo                                  |Corte Laceracao Ferida Contusa Punctura|Braco (Entre O Punho a O Ombro)              |Não  |W54.4  |Rua e Estrada                          |512105 |Empregado Doméstico  nos Serv. Gerais        |NaN     |NaN                                          |NaN               |\n",
            "|03/01/2022 |2022/03    |2022/01        |NaN           |Masculino|01/01/1961|NaN           |NaN        |NaN   |NaN                  |NaN              |Auxílio Doenca por Acidente do Trabalho|NaN                |Ignorado     |NaN                                          |NaN                                    |NaN                                          |NaN  |S62.6  |Frat de Outr Dedos                     |NaN    |NaN                                          |NaN     |NaN                                          |NaN               |\n",
            "|02/06/2022 |NaN        |2022/06        |21/06/2022    |Masculino|01/01/1962|Bahia         |NaN        |352900|Marília              |Empregado        |Pa                                     |Empregador         |Típico       |Reacao do Corpo a Movimento Involuntario     |Distensao Torcao                       |Perna (Do Tornozelo Exclusive ao Joelho Ex   |Não  |S93.4  |Entorse e Distensao do Tornozelo       |313410 |Tec. em Instrumentação                       |2014.0  |Fabricacao de Gases Industriais              |NaN               |\n",
            "+-----------+-----------+---------------+--------------+---------+----------+--------------+-----------+------+---------------------+-----------------+---------------------------------------+-------------------+-------------+---------------------------------------------+---------------------------------------+---------------------------------------------+-----+-------+---------------------------------------+-------+---------------------------------------------+--------+---------------------------------------------+------------------+\n",
            "only showing top 20 rows\n",
            "\n"
          ]
        }
      ]
    },
    {
      "cell_type": "markdown",
      "source": [
        "##Insights"
      ],
      "metadata": {
        "id": "DyQAz2GiJrDe"
      }
    },
    {
      "cell_type": "code",
      "source": [
        "#1 - verificamos o agt_causador correlacionando com o sexo do acidentado\n",
        "df10_spark = df4_spark.groupBy('agt_causador', 'sexo').count().show(truncate=False)\n",
        "\n",
        "#2 - verificamos a quantidade de acidentes por região\n",
        "df11_spark = df4_spark.groupBy('uf_acidente').count().show(truncate=False)\n",
        "\n",
        "#3 - vericamos a faixa etaria para ver qual a média de idade que mais sofreu acidentes \n",
        "df12_spark = df4_spark.groupBy('dt_nasc').count().show(truncate=False)"
      ],
      "metadata": {
        "colab": {
          "base_uri": "https://localhost:8080/"
        },
        "id": "TJrCahNJJyp6",
        "outputId": "3c3f2698-e5d6-444c-d8a4-c84430df1f07"
      },
      "execution_count": null,
      "outputs": [
        {
          "output_type": "stream",
          "name": "stdout",
          "text": [
            "+---------------------------------------------+---------+-----+\n",
            "|agt_causador                                 |sexo     |count|\n",
            "+---------------------------------------------+---------+-----+\n",
            "|Luminaria Globo Iampada   Mobiliario e Aces  |Feminino |7    |\n",
            "|Substancia Quimica Material Produto Nic      |Masculino|277  |\n",
            "|Ponte Viaduto   Edificio ou Estrutura        |Masculino|43   |\n",
            "|Escada Permanente Cujos Degraus Permitem Apoi|NaN      |26   |\n",
            "|Britador Moinho   Maquina                    |Feminino |6    |\n",
            "|Escada Permanente Cujos Degraus Permitem Apoi|Feminino |2055 |\n",
            "|Impacto Sofrido por Pes. de Objeto Projetad  |Masculino|1883 |\n",
            "|Reacao do Corpo a Movimento Voluntario       |Feminino |510  |\n",
            "|Motor Bomba Turbina Nic                      |Masculino|132  |\n",
            "|Tunel                                        |Feminino |6    |\n",
            "|Equip. Emissor de Radiacao não Ionizante     |Feminino |1    |\n",
            "|Tesoura Guilhotina Maquina de Cortar   Maqu  |Masculino|283  |\n",
            "|Texteis   Inclui Fibras Animais Apos O Primei|Masculino|30   |\n",
            "|Queda de Pes. em Mesmo Nivel em Passagem Ou  |NaN      |5    |\n",
            "|Area ou Ambiente de Trabalho   O Agente do Ac|Masculino|26   |\n",
            "|Queda de Pes. com Dif. de Nivel Nic          |NaN      |13   |\n",
            "|Martelete Socador  Ferramenta Portatil com F |Feminino |2    |\n",
            "|Queda de Pes. em Mesmo Nivel Sobre ou Contr  |Feminino |658  |\n",
            "|Condutor   Equip. Eletrico                   |Masculino|60   |\n",
            "|Atrito ou Abrasao por Compressao Repetitiva  |Feminino |32   |\n",
            "+---------------------------------------------+---------+-----+\n",
            "only showing top 20 rows\n",
            "\n",
            "+----------------+-----+\n",
            "|uf_acidente     |count|\n",
            "+----------------+-----+\n",
            "|Ceará           |3234 |\n",
            "|Piauí           |579  |\n",
            "|Alagoas         |377  |\n",
            "|Roraima         |16886|\n",
            "|Pernambuco      |1016 |\n",
            "|Amazonas        |1708 |\n",
            "|Acre            |3281 |\n",
            "|Sergipe         |753  |\n",
            "|NaN             |85278|\n",
            "|Rio Grande Norte|375  |\n",
            "|Rondônia        |27305|\n",
            "|Maranhão        |83353|\n",
            "|Tocantins       |15713|\n",
            "|Paraíba         |240  |\n",
            "|Pará            |5358 |\n",
            "|Amapá           |860  |\n",
            "+----------------+-----+\n",
            "\n",
            "+----------+-----+\n",
            "|dt_nasc   |count|\n",
            "+----------+-----+\n",
            "|29/06/1973|8    |\n",
            "|20/08/1979|14   |\n",
            "|16/01/1997|26   |\n",
            "|03/05/1980|12   |\n",
            "|17/01/1994|24   |\n",
            "|04/05/1996|11   |\n",
            "|07/06/1980|23   |\n",
            "|06/06/1968|9    |\n",
            "|15/01/1978|8    |\n",
            "|24/02/1990|14   |\n",
            "|13/05/1994|23   |\n",
            "|22/07/1994|21   |\n",
            "|01/11/2000|16   |\n",
            "|11/08/1973|18   |\n",
            "|16/08/1979|17   |\n",
            "|01/01/1966|16   |\n",
            "|11/06/1971|14   |\n",
            "|19/07/1986|17   |\n",
            "|29/04/2002|29   |\n",
            "|26/06/1999|21   |\n",
            "+----------+-----+\n",
            "only showing top 20 rows\n",
            "\n"
          ]
        }
      ]
    },
    {
      "cell_type": "markdown",
      "source": [
        "#🚀 MySQL"
      ],
      "metadata": {
        "id": "yIK2XMVFNZK1"
      }
    },
    {
      "cell_type": "code",
      "source": [
        "#Instalando o mysql\n",
        "!pip install mysql-connector-python"
      ],
      "metadata": {
        "colab": {
          "base_uri": "https://localhost:8080/"
        },
        "id": "0DRkR4vvAZuC",
        "outputId": "dcb4d090-5225-4c98-91d7-a3a234e8e80b"
      },
      "execution_count": null,
      "outputs": [
        {
          "output_type": "stream",
          "name": "stdout",
          "text": [
            "Looking in indexes: https://pypi.org/simple, https://us-python.pkg.dev/colab-wheels/public/simple/\n",
            "Collecting mysql-connector-python\n",
            "  Downloading mysql_connector_python-8.0.31-cp38-cp38-manylinux1_x86_64.whl (23.5 MB)\n",
            "\u001b[K     |████████████████████████████████| 23.5 MB 1.3 MB/s \n",
            "\u001b[?25hRequirement already satisfied: protobuf<=3.20.1,>=3.11.0 in /usr/local/lib/python3.8/dist-packages (from mysql-connector-python) (3.19.6)\n",
            "Installing collected packages: mysql-connector-python\n",
            "Successfully installed mysql-connector-python-8.0.31\n"
          ]
        }
      ]
    },
    {
      "cell_type": "code",
      "source": [
        "import mysql.connector"
      ],
      "metadata": {
        "id": "zP_hIAJdArW9"
      },
      "execution_count": null,
      "outputs": []
    },
    {
      "cell_type": "code",
      "source": [
        "#Criando os novos df's m SQL\n",
        "\n",
        "df_sql = df.to_sql\n",
        "df2_sql = df2.to_sql\n",
        "df3_sql = df3.to_sql"
      ],
      "metadata": {
        "id": "vrrR8NwIpOhd"
      },
      "execution_count": null,
      "outputs": []
    },
    {
      "cell_type": "code",
      "source": [
        "spark.sql('show tables').show()"
      ],
      "metadata": {
        "colab": {
          "base_uri": "https://localhost:8080/"
        },
        "id": "hCrcf_L8C3Uk",
        "outputId": "5710bcef-bc74-48fc-9c94-e82b8790f4fa"
      },
      "execution_count": null,
      "outputs": [
        {
          "output_type": "stream",
          "name": "stdout",
          "text": [
            "+---------+---------+-----------+\n",
            "|namespace|tableName|isTemporary|\n",
            "+---------+---------+-----------+\n",
            "+---------+---------+-----------+\n",
            "\n"
          ]
        }
      ]
    },
    {
      "cell_type": "code",
      "source": [
        "spark.sql('create database projeto_aquecimento').show()"
      ],
      "metadata": {
        "colab": {
          "base_uri": "https://localhost:8080/"
        },
        "id": "22tAH10YC9yh",
        "outputId": "a1fee12f-3d7e-4305-ab68-f4d5f2fbd1d4"
      },
      "execution_count": null,
      "outputs": [
        {
          "output_type": "stream",
          "name": "stdout",
          "text": [
            "++\n",
            "||\n",
            "++\n",
            "++\n",
            "\n"
          ]
        }
      ]
    },
    {
      "cell_type": "code",
      "source": [
        "spark.sql('use projeto_aquecimento')"
      ],
      "metadata": {
        "colab": {
          "base_uri": "https://localhost:8080/"
        },
        "id": "5RWZRixwDDEo",
        "outputId": "b7452093-8cf3-42fd-ace6-487f9dbaf371"
      },
      "execution_count": null,
      "outputs": [
        {
          "output_type": "execute_result",
          "data": {
            "text/plain": [
              "DataFrame[]"
            ]
          },
          "metadata": {},
          "execution_count": 256
        }
      ]
    },
    {
      "cell_type": "code",
      "source": [
        "df4_spark.write.saveAsTable('projeto_aquecimento')"
      ],
      "metadata": {
        "id": "7Ts6nVsyDJm-"
      },
      "execution_count": null,
      "outputs": []
    },
    {
      "cell_type": "code",
      "source": [
        "spark.sql('select * from projeto_aquecimento').show(2)"
      ],
      "metadata": {
        "colab": {
          "base_uri": "https://localhost:8080/"
        },
        "id": "vOZl-wbLDND0",
        "outputId": "587c244e-cb77-4172-e631-59dff0b7224e"
      },
      "execution_count": null,
      "outputs": [
        {
          "output_type": "stream",
          "name": "stdout",
          "text": [
            "+-----------+-----------+---------------+--------------+---------+----------+-------------+-----------+------+--------------+-----------------+---------+-------------------+-------------+--------------------+--------------------+--------------------+-----+-------+--------------------+-------+--------------------+--------+--------------------+------------------+\n",
            "|dt_acidente|dt_despacho|mes_afastamento|dt_emissao_cat|     sexo|   dt_nasc|uf_empregador|uf_acidente|cod_uf|     municipio|contrato_trabalho|beneficio|                cat|tipo_acidente|        agt_causador|               lesao|         local_lesao|obito|cid_cod|            cid_desc|cbo_cod|            cbo_desc|cnae_cod|           cnae_desc|              cnpj|\n",
            "+-----------+-----------+---------------+--------------+---------+----------+-------------+-----------+------+--------------+-----------------+---------+-------------------+-------------+--------------------+--------------------+--------------------+-----+-------+--------------------+-------+--------------------+--------+--------------------+------------------+\n",
            "| 20/01/2022|        NaN|        2022/01|    01/03/2022| Feminino|02/08/1970|    São Paulo|   Maranhão|354780|Santo André Sp|        Empregado|       Pa|         Empregador|       Doença|                 NaN|Doenca Contagiosa...|Aparelho Respirat...|  Não|  B34.2|Infecc p/Coronavi...| 515105|Agente Comunitári...|  8630.0|Atividades de Ate...|57.571.275.002.570|\n",
            "| 25/02/2022|        NaN|        2022/02|    01/03/2022|Masculino|16/12/1990|    São Paulo|   Maranhão|355030|     São Paulo|        Empregado|       Pa|Segurado/Dependente|      Trajeto|Motocicleta Motoneta|             Fratura|Braco (Entre O Pu...|  Não|  S52.5|Frat da Extremida...| 519110|Motociclista no T...|  4930.0|Transporte Rodovi...|19.578.086.000.162|\n",
            "+-----------+-----------+---------------+--------------+---------+----------+-------------+-----------+------+--------------+-----------------+---------+-------------------+-------------+--------------------+--------------------+--------------------+-----+-------+--------------------+-------+--------------------+--------+--------------------+------------------+\n",
            "only showing top 2 rows\n",
            "\n"
          ]
        }
      ]
    }
  ]
}